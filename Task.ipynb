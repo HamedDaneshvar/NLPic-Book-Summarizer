{
  "cells": [
    {
      "cell_type": "markdown",
      "id": "2afc563e-f9c6-43ba-ae29-7ced5a3592db",
      "metadata": {
        "id": "2afc563e-f9c6-43ba-ae29-7ced5a3592db"
      },
      "source": [
        "# DataCoLab Task Assignment"
      ]
    },
    {
      "cell_type": "markdown",
      "id": "6b22deea-4b31-4c54-9df5-5e32da028007",
      "metadata": {
        "id": "6b22deea-4b31-4c54-9df5-5e32da028007"
      },
      "source": [
        "## Step 1: Data Preprocessing"
      ]
    },
    {
      "cell_type": "code",
      "source": [
        "# import google drive to use gpu for this section\n",
        "from google.colab import drive\n",
        "drive.mount('/content/drive')"
      ],
      "metadata": {
        "colab": {
          "base_uri": "https://localhost:8080/"
        },
        "id": "OgCY7TaidEJt",
        "outputId": "152e27bc-995c-41e4-e9e4-a6ed63517b03"
      },
      "id": "OgCY7TaidEJt",
      "execution_count": null,
      "outputs": [
        {
          "output_type": "stream",
          "name": "stdout",
          "text": [
            "Mounted at /content/drive\n"
          ]
        }
      ]
    },
    {
      "cell_type": "code",
      "source": [
        "!pip install -q python-dotenv"
      ],
      "metadata": {
        "id": "9zySXXBJTAQz"
      },
      "id": "9zySXXBJTAQz",
      "execution_count": null,
      "outputs": []
    },
    {
      "cell_type": "code",
      "execution_count": null,
      "id": "1b8fe963-07d9-4f12-bba0-e3bb9d7504f6",
      "metadata": {
        "id": "1b8fe963-07d9-4f12-bba0-e3bb9d7504f6"
      },
      "outputs": [],
      "source": [
        "# Import libraries\n",
        "import os\n",
        "import re\n",
        "import json\n",
        "import time\n",
        "import string\n",
        "from tqdm import tqdm\n",
        "from collections import Counter\n",
        "import requests\n",
        "from urllib.parse import urlencode\n",
        "import pandas as pd\n",
        "import numpy as np\n",
        "import matplotlib.pyplot as plt\n",
        "from dotenv import load_dotenv, find_dotenv\n",
        "import torch\n",
        "from transformers import AutoTokenizer, AutoModelForSequenceClassification"
      ]
    },
    {
      "cell_type": "code",
      "execution_count": null,
      "id": "c4149b63-8eb5-4d8b-a057-2d02b9073513",
      "metadata": {
        "id": "c4149b63-8eb5-4d8b-a057-2d02b9073513"
      },
      "outputs": [],
      "source": [
        "# CONSTANTS\n",
        "UNKNOWN_AUTHOR = 'Unknown'\n",
        "UNKNOWN_PUBLICATION_DATE = 'Unknown'"
      ]
    },
    {
      "cell_type": "markdown",
      "source": [
        "#### load env variable"
      ],
      "metadata": {
        "id": "Jgs7g0qNTiED"
      },
      "id": "Jgs7g0qNTiED"
    },
    {
      "cell_type": "code",
      "source": [
        "_ = load_dotenv(find_dotenv())"
      ],
      "metadata": {
        "id": "nOLTWMfUThqJ"
      },
      "id": "nOLTWMfUThqJ",
      "execution_count": null,
      "outputs": []
    },
    {
      "cell_type": "markdown",
      "id": "d6d5e8df-6a83-49ee-b0d7-4c3717ccb78d",
      "metadata": {
        "id": "d6d5e8df-6a83-49ee-b0d7-4c3717ccb78d"
      },
      "source": [
        "### Load dataset from google drive"
      ]
    },
    {
      "cell_type": "code",
      "source": [
        "# header for dataset\n",
        "header = ['Wikipedia_Article_ID', 'Freebase_ID', 'Book_Title', 'Author',\n",
        "          'Publication_Date', 'Book_Genres_(Freebase_ID:name_tuples)',\n",
        "          'Plot_Summary']\n",
        "\n",
        "# Load dataset from text file in google drive\n",
        "file_path = 'drive/MyDrive/booksummaries.txt'\n",
        "data = pd.read_csv(file_path, sep='\\t', header=None,\n",
        "                   names=header, encoding='utf-8')"
      ],
      "metadata": {
        "id": "bE4ce3EZcbMF"
      },
      "id": "bE4ce3EZcbMF",
      "execution_count": null,
      "outputs": []
    },
    {
      "cell_type": "markdown",
      "source": [
        "### Load dataset from local system"
      ],
      "metadata": {
        "id": "fioCeTGu8OsX"
      },
      "id": "fioCeTGu8OsX"
    },
    {
      "cell_type": "code",
      "execution_count": null,
      "id": "47a010e4-8a9c-4b47-a4a9-aea5dcbb0624",
      "metadata": {
        "id": "47a010e4-8a9c-4b47-a4a9-aea5dcbb0624"
      },
      "outputs": [],
      "source": [
        "# # header for dataset\n",
        "# header = ['Wikipedia_Article_ID', 'Freebase_ID', 'Book_Title', 'Author',\n",
        "#           'Publication_date', 'Book_Genres_(Freebase_ID:name_tuples)',\n",
        "#           'Plot_Summary']\n",
        "\n",
        "# # Load dataset from text file in local system\n",
        "# data = pd.read_csv('booksummaries.txt', sep='\\t', header=None,\n",
        "#                    names=header, encoding='utf-8')"
      ]
    },
    {
      "cell_type": "code",
      "execution_count": null,
      "id": "9743faea-f696-427c-93e8-700c17ea30cc",
      "metadata": {
        "id": "9743faea-f696-427c-93e8-700c17ea30cc",
        "outputId": "b36d8e65-c281-4326-b06a-acbf7f62684f",
        "colab": {
          "base_uri": "https://localhost:8080/",
          "height": 487
        }
      },
      "outputs": [
        {
          "output_type": "execute_result",
          "data": {
            "text/plain": [
              "   Wikipedia_Article_ID Freebase_ID  \\\n",
              "0                   620     /m/0hhy   \n",
              "1                   843     /m/0k36   \n",
              "2                   986     /m/0ldx   \n",
              "3                  1756     /m/0sww   \n",
              "4                  2080     /m/0wkt   \n",
              "\n",
              "                                  Book_Title           Author  \\\n",
              "0                                Animal Farm    George Orwell   \n",
              "1                         A Clockwork Orange  Anthony Burgess   \n",
              "2                                 The Plague     Albert Camus   \n",
              "3  An Enquiry Concerning Human Understanding       David Hume   \n",
              "4                       A Fire Upon the Deep     Vernor Vinge   \n",
              "\n",
              "  Publication_Date              Book_Genres_(Freebase_ID:name_tuples)  \\\n",
              "0       1945-08-17  {\"/m/016lj8\": \"Roman \\u00e0 clef\", \"/m/06nbt\":...   \n",
              "1             1962  {\"/m/06n90\": \"Science Fiction\", \"/m/0l67h\": \"N...   \n",
              "2             1947  {\"/m/02m4t\": \"Existentialism\", \"/m/02xlf\": \"Fi...   \n",
              "3              NaN                                                NaN   \n",
              "4              NaN  {\"/m/03lrw\": \"Hard science fiction\", \"/m/06n90...   \n",
              "\n",
              "                                        Plot_Summary  \n",
              "0   Old Major, the old boar on the Manor Farm, ca...  \n",
              "1   Alex, a teenager living in near-future Englan...  \n",
              "2   The text of The Plague is divided into five p...  \n",
              "3   The argument of the Enquiry proceeds by a ser...  \n",
              "4   The novel posits that space around the Milky ...  "
            ],
            "text/html": [
              "\n",
              "  <div id=\"df-a2256b2e-7f83-464a-8b5c-0449140a2b56\" class=\"colab-df-container\">\n",
              "    <div>\n",
              "<style scoped>\n",
              "    .dataframe tbody tr th:only-of-type {\n",
              "        vertical-align: middle;\n",
              "    }\n",
              "\n",
              "    .dataframe tbody tr th {\n",
              "        vertical-align: top;\n",
              "    }\n",
              "\n",
              "    .dataframe thead th {\n",
              "        text-align: right;\n",
              "    }\n",
              "</style>\n",
              "<table border=\"1\" class=\"dataframe\">\n",
              "  <thead>\n",
              "    <tr style=\"text-align: right;\">\n",
              "      <th></th>\n",
              "      <th>Wikipedia_Article_ID</th>\n",
              "      <th>Freebase_ID</th>\n",
              "      <th>Book_Title</th>\n",
              "      <th>Author</th>\n",
              "      <th>Publication_Date</th>\n",
              "      <th>Book_Genres_(Freebase_ID:name_tuples)</th>\n",
              "      <th>Plot_Summary</th>\n",
              "    </tr>\n",
              "  </thead>\n",
              "  <tbody>\n",
              "    <tr>\n",
              "      <th>0</th>\n",
              "      <td>620</td>\n",
              "      <td>/m/0hhy</td>\n",
              "      <td>Animal Farm</td>\n",
              "      <td>George Orwell</td>\n",
              "      <td>1945-08-17</td>\n",
              "      <td>{\"/m/016lj8\": \"Roman \\u00e0 clef\", \"/m/06nbt\":...</td>\n",
              "      <td>Old Major, the old boar on the Manor Farm, ca...</td>\n",
              "    </tr>\n",
              "    <tr>\n",
              "      <th>1</th>\n",
              "      <td>843</td>\n",
              "      <td>/m/0k36</td>\n",
              "      <td>A Clockwork Orange</td>\n",
              "      <td>Anthony Burgess</td>\n",
              "      <td>1962</td>\n",
              "      <td>{\"/m/06n90\": \"Science Fiction\", \"/m/0l67h\": \"N...</td>\n",
              "      <td>Alex, a teenager living in near-future Englan...</td>\n",
              "    </tr>\n",
              "    <tr>\n",
              "      <th>2</th>\n",
              "      <td>986</td>\n",
              "      <td>/m/0ldx</td>\n",
              "      <td>The Plague</td>\n",
              "      <td>Albert Camus</td>\n",
              "      <td>1947</td>\n",
              "      <td>{\"/m/02m4t\": \"Existentialism\", \"/m/02xlf\": \"Fi...</td>\n",
              "      <td>The text of The Plague is divided into five p...</td>\n",
              "    </tr>\n",
              "    <tr>\n",
              "      <th>3</th>\n",
              "      <td>1756</td>\n",
              "      <td>/m/0sww</td>\n",
              "      <td>An Enquiry Concerning Human Understanding</td>\n",
              "      <td>David Hume</td>\n",
              "      <td>NaN</td>\n",
              "      <td>NaN</td>\n",
              "      <td>The argument of the Enquiry proceeds by a ser...</td>\n",
              "    </tr>\n",
              "    <tr>\n",
              "      <th>4</th>\n",
              "      <td>2080</td>\n",
              "      <td>/m/0wkt</td>\n",
              "      <td>A Fire Upon the Deep</td>\n",
              "      <td>Vernor Vinge</td>\n",
              "      <td>NaN</td>\n",
              "      <td>{\"/m/03lrw\": \"Hard science fiction\", \"/m/06n90...</td>\n",
              "      <td>The novel posits that space around the Milky ...</td>\n",
              "    </tr>\n",
              "  </tbody>\n",
              "</table>\n",
              "</div>\n",
              "    <div class=\"colab-df-buttons\">\n",
              "\n",
              "  <div class=\"colab-df-container\">\n",
              "    <button class=\"colab-df-convert\" onclick=\"convertToInteractive('df-a2256b2e-7f83-464a-8b5c-0449140a2b56')\"\n",
              "            title=\"Convert this dataframe to an interactive table.\"\n",
              "            style=\"display:none;\">\n",
              "\n",
              "  <svg xmlns=\"http://www.w3.org/2000/svg\" height=\"24px\" viewBox=\"0 -960 960 960\">\n",
              "    <path d=\"M120-120v-720h720v720H120Zm60-500h600v-160H180v160Zm220 220h160v-160H400v160Zm0 220h160v-160H400v160ZM180-400h160v-160H180v160Zm440 0h160v-160H620v160ZM180-180h160v-160H180v160Zm440 0h160v-160H620v160Z\"/>\n",
              "  </svg>\n",
              "    </button>\n",
              "\n",
              "  <style>\n",
              "    .colab-df-container {\n",
              "      display:flex;\n",
              "      gap: 12px;\n",
              "    }\n",
              "\n",
              "    .colab-df-convert {\n",
              "      background-color: #E8F0FE;\n",
              "      border: none;\n",
              "      border-radius: 50%;\n",
              "      cursor: pointer;\n",
              "      display: none;\n",
              "      fill: #1967D2;\n",
              "      height: 32px;\n",
              "      padding: 0 0 0 0;\n",
              "      width: 32px;\n",
              "    }\n",
              "\n",
              "    .colab-df-convert:hover {\n",
              "      background-color: #E2EBFA;\n",
              "      box-shadow: 0px 1px 2px rgba(60, 64, 67, 0.3), 0px 1px 3px 1px rgba(60, 64, 67, 0.15);\n",
              "      fill: #174EA6;\n",
              "    }\n",
              "\n",
              "    .colab-df-buttons div {\n",
              "      margin-bottom: 4px;\n",
              "    }\n",
              "\n",
              "    [theme=dark] .colab-df-convert {\n",
              "      background-color: #3B4455;\n",
              "      fill: #D2E3FC;\n",
              "    }\n",
              "\n",
              "    [theme=dark] .colab-df-convert:hover {\n",
              "      background-color: #434B5C;\n",
              "      box-shadow: 0px 1px 3px 1px rgba(0, 0, 0, 0.15);\n",
              "      filter: drop-shadow(0px 1px 2px rgba(0, 0, 0, 0.3));\n",
              "      fill: #FFFFFF;\n",
              "    }\n",
              "  </style>\n",
              "\n",
              "    <script>\n",
              "      const buttonEl =\n",
              "        document.querySelector('#df-a2256b2e-7f83-464a-8b5c-0449140a2b56 button.colab-df-convert');\n",
              "      buttonEl.style.display =\n",
              "        google.colab.kernel.accessAllowed ? 'block' : 'none';\n",
              "\n",
              "      async function convertToInteractive(key) {\n",
              "        const element = document.querySelector('#df-a2256b2e-7f83-464a-8b5c-0449140a2b56');\n",
              "        const dataTable =\n",
              "          await google.colab.kernel.invokeFunction('convertToInteractive',\n",
              "                                                    [key], {});\n",
              "        if (!dataTable) return;\n",
              "\n",
              "        const docLinkHtml = 'Like what you see? Visit the ' +\n",
              "          '<a target=\"_blank\" href=https://colab.research.google.com/notebooks/data_table.ipynb>data table notebook</a>'\n",
              "          + ' to learn more about interactive tables.';\n",
              "        element.innerHTML = '';\n",
              "        dataTable['output_type'] = 'display_data';\n",
              "        await google.colab.output.renderOutput(dataTable, element);\n",
              "        const docLink = document.createElement('div');\n",
              "        docLink.innerHTML = docLinkHtml;\n",
              "        element.appendChild(docLink);\n",
              "      }\n",
              "    </script>\n",
              "  </div>\n",
              "\n",
              "\n",
              "<div id=\"df-c4c599c3-b2b1-412e-b1ce-cfdd164ef815\">\n",
              "  <button class=\"colab-df-quickchart\" onclick=\"quickchart('df-c4c599c3-b2b1-412e-b1ce-cfdd164ef815')\"\n",
              "            title=\"Suggest charts\"\n",
              "            style=\"display:none;\">\n",
              "\n",
              "<svg xmlns=\"http://www.w3.org/2000/svg\" height=\"24px\"viewBox=\"0 0 24 24\"\n",
              "     width=\"24px\">\n",
              "    <g>\n",
              "        <path d=\"M19 3H5c-1.1 0-2 .9-2 2v14c0 1.1.9 2 2 2h14c1.1 0 2-.9 2-2V5c0-1.1-.9-2-2-2zM9 17H7v-7h2v7zm4 0h-2V7h2v10zm4 0h-2v-4h2v4z\"/>\n",
              "    </g>\n",
              "</svg>\n",
              "  </button>\n",
              "\n",
              "<style>\n",
              "  .colab-df-quickchart {\n",
              "      --bg-color: #E8F0FE;\n",
              "      --fill-color: #1967D2;\n",
              "      --hover-bg-color: #E2EBFA;\n",
              "      --hover-fill-color: #174EA6;\n",
              "      --disabled-fill-color: #AAA;\n",
              "      --disabled-bg-color: #DDD;\n",
              "  }\n",
              "\n",
              "  [theme=dark] .colab-df-quickchart {\n",
              "      --bg-color: #3B4455;\n",
              "      --fill-color: #D2E3FC;\n",
              "      --hover-bg-color: #434B5C;\n",
              "      --hover-fill-color: #FFFFFF;\n",
              "      --disabled-bg-color: #3B4455;\n",
              "      --disabled-fill-color: #666;\n",
              "  }\n",
              "\n",
              "  .colab-df-quickchart {\n",
              "    background-color: var(--bg-color);\n",
              "    border: none;\n",
              "    border-radius: 50%;\n",
              "    cursor: pointer;\n",
              "    display: none;\n",
              "    fill: var(--fill-color);\n",
              "    height: 32px;\n",
              "    padding: 0;\n",
              "    width: 32px;\n",
              "  }\n",
              "\n",
              "  .colab-df-quickchart:hover {\n",
              "    background-color: var(--hover-bg-color);\n",
              "    box-shadow: 0 1px 2px rgba(60, 64, 67, 0.3), 0 1px 3px 1px rgba(60, 64, 67, 0.15);\n",
              "    fill: var(--button-hover-fill-color);\n",
              "  }\n",
              "\n",
              "  .colab-df-quickchart-complete:disabled,\n",
              "  .colab-df-quickchart-complete:disabled:hover {\n",
              "    background-color: var(--disabled-bg-color);\n",
              "    fill: var(--disabled-fill-color);\n",
              "    box-shadow: none;\n",
              "  }\n",
              "\n",
              "  .colab-df-spinner {\n",
              "    border: 2px solid var(--fill-color);\n",
              "    border-color: transparent;\n",
              "    border-bottom-color: var(--fill-color);\n",
              "    animation:\n",
              "      spin 1s steps(1) infinite;\n",
              "  }\n",
              "\n",
              "  @keyframes spin {\n",
              "    0% {\n",
              "      border-color: transparent;\n",
              "      border-bottom-color: var(--fill-color);\n",
              "      border-left-color: var(--fill-color);\n",
              "    }\n",
              "    20% {\n",
              "      border-color: transparent;\n",
              "      border-left-color: var(--fill-color);\n",
              "      border-top-color: var(--fill-color);\n",
              "    }\n",
              "    30% {\n",
              "      border-color: transparent;\n",
              "      border-left-color: var(--fill-color);\n",
              "      border-top-color: var(--fill-color);\n",
              "      border-right-color: var(--fill-color);\n",
              "    }\n",
              "    40% {\n",
              "      border-color: transparent;\n",
              "      border-right-color: var(--fill-color);\n",
              "      border-top-color: var(--fill-color);\n",
              "    }\n",
              "    60% {\n",
              "      border-color: transparent;\n",
              "      border-right-color: var(--fill-color);\n",
              "    }\n",
              "    80% {\n",
              "      border-color: transparent;\n",
              "      border-right-color: var(--fill-color);\n",
              "      border-bottom-color: var(--fill-color);\n",
              "    }\n",
              "    90% {\n",
              "      border-color: transparent;\n",
              "      border-bottom-color: var(--fill-color);\n",
              "    }\n",
              "  }\n",
              "</style>\n",
              "\n",
              "  <script>\n",
              "    async function quickchart(key) {\n",
              "      const quickchartButtonEl =\n",
              "        document.querySelector('#' + key + ' button');\n",
              "      quickchartButtonEl.disabled = true;  // To prevent multiple clicks.\n",
              "      quickchartButtonEl.classList.add('colab-df-spinner');\n",
              "      try {\n",
              "        const charts = await google.colab.kernel.invokeFunction(\n",
              "            'suggestCharts', [key], {});\n",
              "      } catch (error) {\n",
              "        console.error('Error during call to suggestCharts:', error);\n",
              "      }\n",
              "      quickchartButtonEl.classList.remove('colab-df-spinner');\n",
              "      quickchartButtonEl.classList.add('colab-df-quickchart-complete');\n",
              "    }\n",
              "    (() => {\n",
              "      let quickchartButtonEl =\n",
              "        document.querySelector('#df-c4c599c3-b2b1-412e-b1ce-cfdd164ef815 button');\n",
              "      quickchartButtonEl.style.display =\n",
              "        google.colab.kernel.accessAllowed ? 'block' : 'none';\n",
              "    })();\n",
              "  </script>\n",
              "</div>\n",
              "    </div>\n",
              "  </div>\n"
            ],
            "application/vnd.google.colaboratory.intrinsic+json": {
              "type": "dataframe",
              "variable_name": "data",
              "summary": "{\n  \"name\": \"data\",\n  \"rows\": 16559,\n  \"fields\": [\n    {\n      \"column\": \"Wikipedia_Article_ID\",\n      \"properties\": {\n        \"dtype\": \"number\",\n        \"std\": 9537336,\n        \"min\": 620,\n        \"max\": 37159503,\n        \"num_unique_values\": 16559,\n        \"samples\": [\n          2011865,\n          3056014,\n          2903698\n        ],\n        \"semantic_type\": \"\",\n        \"description\": \"\"\n      }\n    },\n    {\n      \"column\": \"Freebase_ID\",\n      \"properties\": {\n        \"dtype\": \"string\",\n        \"num_unique_values\": 16559,\n        \"samples\": [\n          \"/m/06dymp\",\n          \"/m/08nl1p\",\n          \"/m/08bhlr\"\n        ],\n        \"semantic_type\": \"\",\n        \"description\": \"\"\n      }\n    },\n    {\n      \"column\": \"Book_Title\",\n      \"properties\": {\n        \"dtype\": \"string\",\n        \"num_unique_values\": 16277,\n        \"samples\": [\n          \"Science and Health with Key to the Scriptures\",\n          \"My Life as a Traitor\",\n          \"The Dungeons of Torgar\"\n        ],\n        \"semantic_type\": \"\",\n        \"description\": \"\"\n      }\n    },\n    {\n      \"column\": \"Author\",\n      \"properties\": {\n        \"dtype\": \"category\",\n        \"num_unique_values\": 4714,\n        \"samples\": [\n          \"Quentin Fiore\",\n          \"Richard Baker\",\n          \"Kerry Greenwood\"\n        ],\n        \"semantic_type\": \"\",\n        \"description\": \"\"\n      }\n    },\n    {\n      \"column\": \"Publication_Date\",\n      \"properties\": {\n        \"dtype\": \"category\",\n        \"num_unique_values\": 2639,\n        \"samples\": [\n          \"1969-08-12\",\n          \"2006-01-03\",\n          \"2007-02-05\"\n        ],\n        \"semantic_type\": \"\",\n        \"description\": \"\"\n      }\n    },\n    {\n      \"column\": \"Book_Genres_(Freebase_ID:name_tuples)\",\n      \"properties\": {\n        \"dtype\": \"category\",\n        \"num_unique_values\": 2154,\n        \"samples\": [\n          \"{\\\"/m/01jfsb\\\": \\\"Thriller\\\", \\\"/m/05hgj\\\": \\\"Novel\\\", \\\"/m/0dwly\\\": \\\"Children's literature\\\", \\\"/m/02xlf\\\": \\\"Fiction\\\", \\\"/m/0c3351\\\": \\\"Suspense\\\"}\",\n          \"{\\\"/m/05h0n\\\": \\\"Nature\\\", \\\"/m/06n90\\\": \\\"Science Fiction\\\", \\\"/m/014dfn\\\": \\\"Speculative fiction\\\", \\\"/m/02xlf\\\": \\\"Fiction\\\"}\",\n          \"{\\\"/m/02n4kr\\\": \\\"Mystery\\\", \\\"/m/06n90\\\": \\\"Science Fiction\\\", \\\"/m/014dfn\\\": \\\"Speculative fiction\\\", \\\"/m/05hgj\\\": \\\"Novel\\\"}\"\n        ],\n        \"semantic_type\": \"\",\n        \"description\": \"\"\n      }\n    },\n    {\n      \"column\": \"Plot_Summary\",\n      \"properties\": {\n        \"dtype\": \"string\",\n        \"num_unique_values\": 16532,\n        \"samples\": [\n          \" The book focuses on the adult lives of two onetime teenage lovers, Ken and Sylvia, who were from different social strata. Ken was self-supporting, working as a lifeguard at a Maine island resort, while Sylvia's family stayed as guests of the owners, one summer between years at college. After their summer love affair, they married other people, but rediscover each other later in life. At that time, Sylvia has a son, Johnny, and Ken a daughter, Molly. While Ken and Sylvia renew their love affair, their children begin a romance. Ken becomes a millionaire through his work as a research chemist as his wife Helen spurns him at home, while Sylvia's husband Bart turns to alcohol as his family fortune disappears, and he turns their island home into an inn. After twenty years away, Ken decides to visit the island again, writing Bart to ask for lodging. Ken brings Molly and Helen to the island, and everyone tries to be cordial. But soon old feelings, and tensions, and longings arise in the adults, while the young Johnny and Molly in turn become enamored of each other. Ken and Sylvia fall in love once again. The couple are noticed by Todd Hasper, the steward of the island, who decides to inform Sylvia's husband Bart. Ken, aware of Sylvia's plight, invites her and her family to take over a motel job in Florida for Bart has asked for a divorce and the custody of their son John. The affair between Ken and Sylvia is again noticed, this time by a friend of Helen's. The two divorce, and their daughter Molly, like John, is sent to boarding school. During their tenure at their respective schools, John and Molly begin an avid correspondence. Helen and her mother Margaret are not pleased, as they find it inappropriate for a girl her age to be so attached to a boy. Their correspondence continues, with rendezvous during school breaks. Their romance culminates when they see each other again at Ken and Sylvia's beach house. The two acknowledge that they are in love with one another, and they consummate it shortly thereafter. Back at school, Molly learns from a doctor that she is pregnant, and John hitchhikes across the country to be with and support her. Ken and Sylvia give their guarded approval, feeling hypocritical to deny them their love. Bart, whose alcoholism has landed him in a veterans hospital, cannot attend the wedding, and while he disapproves, he urges John to take over the inn. Helen attends the wedding under sedation. The book ends with John and Molly spending their honeymoon on Pine Island, John's \\\"one good inheritance\\\", as Bart terms it in a letter.\",\n          \" The story begins on Pluto in the distant future. Its inhabitants, former collaborators of the Qax, humanity's erstwhile conquerors, are under attack from the new-formed Coalition, seeking revenge for humanity's enslavement. As such, the inhabitants send five generation ships out of the solar system in the hopes that they will be able to form colonies of their own that can survive the Coalition. Rusel, the protagonist, is admitted onto Mayflower II, one of the ships, at the last minute. Shortly after takeoff, it is revealed that the ship's intended destination is outside the galaxy, requiring a flight time of 50,000 subjective years, even with the effects of time dilation. The ship's captain selects a few individuals to receive medical treatment granting them immortality, allowing them to guide the ship through its millennia-long voyage. Over time, however, these individuals die through malfunctions or boredom, leaving Rusel as the only immortal on board, but he becomes increasingly dependent on life-support and gradually merges with the ship. Over time, the other inhabitants of the ship form several different societies, gradually becoming detached from their original humanity. Eventually, they form an almost unrecongisable tribal civilisation. Having forgotten that they are on a spaceship at all, they only maintain it through religious tradition. After 25,000 years have passed, the Mayflower is contacted by Pirius and Torec (protagonists of Exultant), former soldiers of the Coalition, which is revealed to have fallen. They offer to remove the inhabitants from the ship and care for them elsewhere. Rusel, now completely merged with the ship's systems, allows them to do so. Pirius and Torec then leave Rusel to continue into space without the burden of the crew, which he gladly accepts.\",\n          \" Like the sixth collection, Fables and Reflections, and the eighth, Worlds' End, Dream Country consists of short stories that do not have a common storyline running through them, though it has been argued that most Sandman stories are not entirely self-contained and are part of a larger story arc that encompasses the entire series. Dream Country is the shortest of the eleven Sandman collections, featuring just four issues (\\\"Calliope\\\", #17, and \\\"A Dream of a Thousand Cats\\\", #18, both pencilled by Kelley Jones and inked by Malcolm Jones III; \\\"A Midsummer Night's Dream\\\", #19, drawn by Charles Vess and coloured for the first time by computer colouring pioneer Steve Oliff; and \\\"Fa\\u00e7ade\\\", #20, penciled by Colleen Doran and inked by Malcolm Jones III). This is the story of a frustrated author, Richard Madoc, whose first book has been released to critical acclaim but who simply cannot write a page of the promised follow-up. He strikes a deal with an elder writer, Erasmus Fry, for Calliope, one of the Muses of Greek mythology, whom Fry had captured earlier in his life, in exchange for a bezoar. Fry kept her imprisoned and regularly raped her, and her presence provided the inspiration for his successful novels. Madoc also takes her captive and has great success in writing, but Calliope calls upon the triad of witches known by many names, such as the Furies, the Kindly Ones or the Gracious Ladies, for help. They direct her to Morpheus, who we are told was once her lover (this relationship is elaborated on later in the series), and who is currently similarly imprisoned. Upon his release, he comes to rescue Calliope, and visits a terrible punishment upon Madoc. He complains that without her, he will have no ideas, so Morpheus causes him to never stop having them, which drives him to madness. Though the story of \\\"Calliope\\\" was not criticized for unoriginality at the time of its release, its concept has apparently become a very popular one since; a list of overused story ideas at Strange Horizons included \\\"Creative person meets a muse (either one of the nine classical Muses or a more individual muse) and interacts with them, usually by keeping them captive.\\\" (See Neil Gaiman's post about Strange Horizon's list). Madoc's Book \\\"Her Wings\\\" appears in a few other stories by Neil Gaiman including The Last Temptation as a sort of inside joke. Rose Walker is later seen reading Fry's book \\\"Here Comes a Candle\\\". In the library of Dream, an unfinished book by Erasmus Fry, \\\"The Hand of Glory\\\" is seen in Season of Mists. One of Madoc's works, \\\"The Spirit Who Had Half Of Everything\\\", takes its name from an unused chapter title in an early draft of James Branch Cabell's Figures of Earth. This tale begins with a small, white cat being called by another cat to sneak away from her house one night. They speak of an event in a graveyard that they don't want to miss. When they arrive, they see that many cats are already there. A Siamese cat comes to tell her story. A long time ago, the Siamese cat relates, she met a Tom-cat, who became her lover. Eventually, she gave birth to several kittens. Her human owners were not pleased, and the male owner put the kittens in a bag bound to a rock, and threw them into pond. Traumatized by the callous murder of her kittens, the Siamese becomes disillusioned in human beings and ultimately rejects the life of a pampered pet. Her cause is strengthened when she has a dream that she has entered a boneyard in the Dreaming. In the dream a raven with no skin on its head informs her where she can find out exactly why the humans killed her offspring: a cave inhabited by the Dream Lord. At the entrance to the cave that the raven told her of, many fearsome animals tell her to leave. She responds by saying that she will only state her business to Dream. Inside, she finds Dream in the form of a cat. Dream presents her with a vision of an alternate reality where cats are huge and humans are merely their playthings, tiny servants which groom their bodies and which the cats can kill at their leisure. A man ruined that world by informing the humans that their dreams will shape the world. Enough humans listened to make the vision a reality. Upon waking, the cat undertakes a spiritual quest for justice. She preaches her vision to motley assortments of housecats around the world, hoping that if she can make enough believe in and dream of this reality, the world will change to conform to their dreams. The cat from the beginning of the story heads home. Her friends were slightly disappointed, though they admitted that what they heard was interesting. The white cat, however, was fully taken by the tale. She returns home and heads to sleep. Over breakfast, her owners remark on what a cute stance she's in: it looks as if she's hunting something, or someone. Although seemingly a complete diversion from the basic story of the Sandman, it in fact illustrates some of the core themes of the series: the idea that reality is shaped in the most literal sense by the dreams, beliefs, and expectations of humans (and, in this case, of other animals as well). The story also portrays the theme of change and its relation to an individual's nature. The humans found that they were unhappy with their role and were able to harness the power of dream to instigate a change of the nature of reality, whereas when cats found themselves in a similar situation their apathetic, independent, and fickle nature kept them from changing. This idea of the capacity for change reemerges throughout the book, most notably in the conclusion of The Kindly Ones. !-- This section is linked from Characters of The Sandman --> This is a core issue of the Sandman series, sometimes cited as the best in the series. It concerns the premiere of William Shakespeare's A Midsummer Night's Dream, which we are told was commissioned by Morpheus as part of a bargain in which Morpheus granted Shakespeare his extraordinary skill with writing. Performed on a hillside before an audience of bizarre creatures from Faerie - including the very characters who appear in the play, Titania, Auberon, and the hobgoblin Robin Goodfellow (Puck) amongst them - the Sandman's version of reality and Shakespeare's play are merged and interact with one another. Puck greatly enjoys the play and repeats the theme of the story that while the play does not directly reflect history or even some of the personalities of the characters it is still considered a true reflection of \\\"reality\\\". (In reality Puck is described as being a psychotic murderer and not a merry wanderer of the night.) Titania takes an interest in Shakespeare's son Hamnet, who plays a small role in the play. The issue received a World Fantasy Award for short fiction in 1991. Dream first meets Shakespeare in Sandman #13, &#34;Men of Good Fortune,&#34; and the final issue, #75, &#34;The Tempest,&#34; focuses on the second of the two plays commissioned by Morpheus. This is another odd issue, featuring one of the methods Gaiman played with in the first, and to a lesser extent in the second, collection: it takes one of the neglected characters from the DC Universe, this time Element Girl (Urania Blackwell, a female version of Metamorpho), and shows her in a completely unexpected situation. A reluctant superhero at best, she has now retired, and lives a meagre existence, rarely leaving her flat due to her self-loathing of her &#34;freakish&#34; appearance. She goes by her nickname &#34;Rainie&#34;. The plot revolves around a phone call she receives: an invitation to have dinner with an old friend, Della. She concocts a fake face to wear so her friend doesn&#39;t know of her &#34;skin disease&#34;. As Della explains a problem she&#39;s having, Rainie&#39;s &#34;face&#34; falls into the plate of spaghetti bolognese that she ordered, revealing her true face. She runs away, and to her apartment, where she wonders how she can kill herself, despite being invulnerable. Fortunately, Death, who was dealing with a woman who&#39;d slipped on a stepladder, enters her room, explaining that the door was open, and she had heard her crying. She tells her how she can talk to the sun god, Ra, and beg for a merciful death. An extraordinarily poignant piece dealing with identity and, subtly, the gap between the world portrayed in the more na\\u00efve of DC Comics&#39; superhero comics and the true reality of everyday life, it ends on a curiously happy note, with Death answering Rainie&#39;s telephone and informing the caller that &#34;she&#39;s gone away, I&#39;m afraid.&#34;\"\n        ],\n        \"semantic_type\": \"\",\n        \"description\": \"\"\n      }\n    }\n  ]\n}"
            }
          },
          "metadata": {},
          "execution_count": 7
        }
      ],
      "source": [
        "# Display sample of data\n",
        "data.head()"
      ]
    },
    {
      "cell_type": "code",
      "execution_count": null,
      "id": "167af01c-2597-4df3-9d58-937cd1fea5cb",
      "metadata": {
        "id": "167af01c-2597-4df3-9d58-937cd1fea5cb",
        "outputId": "9bc95ca0-7671-40f4-da3c-962bf6768673",
        "colab": {
          "base_uri": "https://localhost:8080/"
        }
      },
      "outputs": [
        {
          "output_type": "stream",
          "name": "stdout",
          "text": [
            "Shape of dataset: (16559, 7)\n"
          ]
        }
      ],
      "source": [
        "# Display shape of data\n",
        "print(f\"Shape of dataset: {data.shape}\")"
      ]
    },
    {
      "cell_type": "markdown",
      "id": "0704074c",
      "metadata": {
        "id": "0704074c"
      },
      "source": [
        "### Preprocess Section"
      ]
    },
    {
      "cell_type": "code",
      "execution_count": null,
      "id": "406eea7d-def3-4ff8-8b9d-19bce70594b2",
      "metadata": {
        "id": "406eea7d-def3-4ff8-8b9d-19bce70594b2"
      },
      "outputs": [],
      "source": [
        "# # Drop \"Wikipedia article ID\", \"Freebase_ID\" column cause that values are\n",
        "# # unique and useless\n",
        "# data = data.drop(\"Wikipedia_Article_ID\", axis=1)\n",
        "# data = data.drop(\"Freebase_ID\", axis=1)\n",
        "\n",
        "# Add \"Index\" column by reset it\n",
        "data = data.reset_index()\n",
        "data.rename(columns={'index': 'Index'}, inplace=True)"
      ]
    },
    {
      "cell_type": "code",
      "execution_count": null,
      "id": "9b85b5e0-293f-439d-9c66-e729f963e2b8",
      "metadata": {
        "id": "9b85b5e0-293f-439d-9c66-e729f963e2b8",
        "outputId": "d4613538-3263-423b-b9fc-d6e6a13a70e8",
        "colab": {
          "base_uri": "https://localhost:8080/"
        }
      },
      "outputs": [
        {
          "output_type": "stream",
          "name": "stderr",
          "text": [
            "100%|██████████| 16559/16559 [00:01<00:00, 14719.71it/s]\n"
          ]
        }
      ],
      "source": [
        "# convert all genres values into tuple and remove Freebase_ID\n",
        "for i in tqdm(range(len(data))):\n",
        "    try:\n",
        "        genres_dict = json.loads(\n",
        "            data.loc[i, 'Book_Genres_(Freebase_ID:name_tuples)'])\n",
        "        if isinstance(genres_dict, dict):\n",
        "            data.at[i, 'Book_Genres_(Freebase_ID:name_tuples)'] = tuple(\n",
        "                genres_dict.values())\n",
        "        else:\n",
        "            data.at[i, 'Book_Genres_(Freebase_ID:name_tuples)'] = np.nan\n",
        "    # Handle NaN values and JSON decoding errors\n",
        "    except (TypeError, json.JSONDecodeError):\n",
        "        continue\n",
        "\n",
        "data.rename(columns={'Book_Genres_(Freebase_ID:name_tuples)': 'Book_Genres'},\n",
        "            inplace=True)"
      ]
    },
    {
      "cell_type": "code",
      "source": [
        "# Check the Nan value of all columns\n",
        "print(data.isna().sum())"
      ],
      "metadata": {
        "colab": {
          "base_uri": "https://localhost:8080/"
        },
        "id": "3jcc2EVU-jDh",
        "outputId": "dd638b11-d1e1-459c-e6bd-102f20848df8"
      },
      "id": "3jcc2EVU-jDh",
      "execution_count": null,
      "outputs": [
        {
          "output_type": "stream",
          "name": "stdout",
          "text": [
            "Index                      0\n",
            "Wikipedia_Article_ID       0\n",
            "Freebase_ID                0\n",
            "Book_Title                 0\n",
            "Author                   131\n",
            "Publication_Date          50\n",
            "Book_Genres             3718\n",
            "Plot_Summary               0\n",
            "dtype: int64\n"
          ]
        }
      ]
    },
    {
      "cell_type": "markdown",
      "source": [
        "### Fill Author and Publication date missing values with Google Book API"
      ],
      "metadata": {
        "id": "TfRx3htLj6Bx"
      },
      "id": "TfRx3htLj6Bx"
    },
    {
      "cell_type": "code",
      "source": [
        "def clean_title(title):\n",
        "    \"\"\"\n",
        "    Clean and sanitize a title for encoding in a URL query parameter.\n",
        "\n",
        "    Parameters:\n",
        "    title (str): The title to be cleaned and formatted.\n",
        "\n",
        "    Returns:\n",
        "    str: The cleaned and formatted title ready for encoding.\n",
        "\n",
        "    The function performs the following steps to clean the title:\n",
        "    1. Removes leading and trailing whitespaces.\n",
        "    2. Removes special characters except for letters, digits, spaces, and specified punctuation signs.\n",
        "    3. Removes extra whitespaces.\n",
        "\n",
        "    Example:\n",
        "    >>> title = \"The //!@#Great Gatsby's   \"\n",
        "    >>> cleaned_title = clean_title(title)\n",
        "    >>> print(cleaned_title)\n",
        "    'The Great Gatsby's'\n",
        "    \"\"\"\n",
        "    title = title.strip()\n",
        "    title = ''.join(char if char.isalnum() or char.isspace() or char in\n",
        "        [\"'\", \"-\", \",\", \":\", \";\"] else ' ' for char in title)\n",
        "    title = ' '.join(title.split())\n",
        "\n",
        "    return title"
      ],
      "metadata": {
        "id": "yHxvY6E_FLsR"
      },
      "id": "yHxvY6E_FLsR",
      "execution_count": null,
      "outputs": []
    },
    {
      "cell_type": "code",
      "source": [
        "def get_book_info(title, author=None):\n",
        "    \"\"\"Fetches book information from the Google Books API for a given title and author.\n",
        "\n",
        "    Args:\n",
        "        title (str): The title of the book to search for.\n",
        "        author (str, optional): The author of the book. If provided, the search query will be refined.\n",
        "\n",
        "    Returns:\n",
        "        dict: A dictionary containing book information (title, author, publication date)\n",
        "            if found. Returns None if no results are found.\n",
        "\n",
        "    Raises:\n",
        "        Exception: Raises an exception if there's an error fetching data from the API.\n",
        "    \"\"\"\n",
        "\n",
        "    api_key = os.getenv(\"GOOGLE_BOOKS_API_KEY\")\n",
        "    if not api_key:\n",
        "      raise ValueError(\"Missing environment variable: GOOGLE_BOOKS_API_KEY\")\n",
        "\n",
        "    title = clean_title(title)\n",
        "\n",
        "    query_params = {\"q\": title}\n",
        "    if author:\n",
        "      query_params[\"author\"] = author\n",
        "\n",
        "    url = f\"https://www.googleapis.com/books/v1/volumes?{urlencode(query_params)}&maxResults=1&key={api_key}\"\n",
        "\n",
        "    try:\n",
        "      response = requests.get(url)\n",
        "      response.raise_for_status()  # Raise an exception for non-200 status codes\n",
        "    except requests.exceptions.RequestException as e:\n",
        "      raise Exception(f\"Error fetching book information: {e}\") from e\n",
        "\n",
        "    data = response.json()\n",
        "    if 'items' in data:\n",
        "      book_data = data['items'][0]['volumeInfo']\n",
        "      return {\n",
        "        'title': book_data['title'],\n",
        "        'author': book_data['authors'][0] if 'authors' in book_data else np.nan,\n",
        "        'publication_date': book_data['publishedDate'] if 'publishedDate' in book_data else np.nan,\n",
        "      }\n",
        "    else:\n",
        "      return None"
      ],
      "metadata": {
        "id": "YKN5oXBKkFpE"
      },
      "id": "YKN5oXBKkFpE",
      "execution_count": null,
      "outputs": []
    },
    {
      "cell_type": "code",
      "source": [
        "# Fill Author and Publication date missing values with Google Book API\n",
        "for index, row in tqdm(data.iterrows()):\n",
        "    # Check if either Author or Publication date is missing\n",
        "    if pd.isnull(row['Author']) or pd.isnull(row['Publication_Date']):\n",
        "        # Use the existing author if available, otherwise send None\n",
        "        author = row['Author'] if not pd.isnull(row['Author']) else None\n",
        "        book_info = get_book_info(row['Book_Title'], author)\n",
        "        if book_info:\n",
        "            data.at[index, 'Author'] = book_info['author']\n",
        "            data.at[index, 'Publication_Date'] = book_info['publication_date']\n",
        "        time.sleep(1)"
      ],
      "metadata": {
        "id": "CKJRcu81kKIO",
        "colab": {
          "base_uri": "https://localhost:8080/"
        },
        "outputId": "51ea09b7-1749-4689-cee4-49187997876e"
      },
      "id": "CKJRcu81kKIO",
      "execution_count": null,
      "outputs": [
        {
          "output_type": "stream",
          "name": "stderr",
          "text": [
            "16559it [03:48, 72.35it/s]\n"
          ]
        }
      ]
    },
    {
      "cell_type": "code",
      "source": [
        "# Check the Nan value of 'Author' and 'Publication_Date' columns\n",
        "print(data.isna().sum())"
      ],
      "metadata": {
        "colab": {
          "base_uri": "https://localhost:8080/"
        },
        "id": "Gy4hWeCPZ-Mi",
        "outputId": "d1e2eb13-74bd-4a9e-b4c5-46e2c36fb1f5"
      },
      "id": "Gy4hWeCPZ-Mi",
      "execution_count": null,
      "outputs": [
        {
          "output_type": "stream",
          "name": "stdout",
          "text": [
            "Index                      0\n",
            "Wikipedia_Article_ID       0\n",
            "Freebase_ID                0\n",
            "Book_Title                 0\n",
            "Author                   131\n",
            "Publication_Date          50\n",
            "Book_Genres             3718\n",
            "Plot_Summary               0\n",
            "dtype: int64\n"
          ]
        }
      ]
    },
    {
      "cell_type": "code",
      "source": [
        "# Checkpoint 1 for to save data into drive\n",
        "file_path = 'drive/MyDrive/checkpoint1_book_summaries.csv'\n",
        "data.to_csv(file_path, sep='\\t', index=False, encoding='utf-8')"
      ],
      "metadata": {
        "id": "XUlJToDZIMD8"
      },
      "id": "XUlJToDZIMD8",
      "execution_count": null,
      "outputs": []
    },
    {
      "cell_type": "code",
      "source": [
        "file_path = 'drive/MyDrive/checkpoint1_book_summaries.csv'\n",
        "data = pd.read_csv(file_path, sep='\\t', encoding='utf-8')"
      ],
      "metadata": {
        "id": "9WfLPsrAV5NJ"
      },
      "id": "9WfLPsrAV5NJ",
      "execution_count": null,
      "outputs": []
    },
    {
      "cell_type": "code",
      "execution_count": null,
      "id": "9bd2aef2-83a1-4561-85ef-1b9119a66d51",
      "metadata": {
        "id": "9bd2aef2-83a1-4561-85ef-1b9119a66d51"
      },
      "outputs": [],
      "source": [
        "def extract_year(pub_date):\n",
        "    \"\"\"\n",
        "    Convert publication date to just the year\n",
        "    (if it's in YYYY-MM-DD format)\n",
        "    \"\"\"\n",
        "    if isinstance(pub_date, str) and '-' in pub_date:\n",
        "        return pd.to_datetime(pub_date, errors='coerce').year\n",
        "    elif isinstance(pub_date, str) and not pub_date.isdigit():\n",
        "        if year_match := re.search(r'\\d{4}', pub_date):\n",
        "            return int(year_match.group())\n",
        "        else:\n",
        "            return np.nan\n",
        "    return int(pub_date) if isinstance(pub_date, str) and pub_date.isdigit()\\\n",
        "        else np.nan\n",
        "\n",
        "data['Publication_Year'] = data['Publication_Date'].apply(extract_year)"
      ]
    },
    {
      "cell_type": "code",
      "execution_count": null,
      "id": "91db9148-70be-4e04-b09b-69cd2b76661a",
      "metadata": {
        "id": "91db9148-70be-4e04-b09b-69cd2b76661a",
        "outputId": "08f18eb3-d4d3-4c44-c5fd-45e95b1bd047",
        "colab": {
          "base_uri": "https://localhost:8080/"
        }
      },
      "outputs": [
        {
          "output_type": "stream",
          "name": "stdout",
          "text": [
            "Number of duplicate rows: 55\n"
          ]
        }
      ],
      "source": [
        "# Remove duplicate rows\n",
        "# Check for duplicates based on a unique identifier or key columns\n",
        "duplicates = data.duplicated(subset=['Book_Title', 'Author'], keep='first')\n",
        "print(f\"Number of duplicate rows: {duplicates.sum()}\")\n",
        "\n",
        "# # Drop duplicates\n",
        "# data = data.drop_duplicates(subset=['Book_Title', 'Author'], keep='first')"
      ]
    },
    {
      "cell_type": "code",
      "execution_count": null,
      "id": "438fa69a-60cf-4f6e-8438-3f80ffb63050",
      "metadata": {
        "id": "438fa69a-60cf-4f6e-8438-3f80ffb63050"
      },
      "outputs": [],
      "source": [
        "# text cleaning\n",
        "# if get an error for this line, you must use `nltk.download()`\n",
        "# command and download stopwords\n",
        "# stop_words = set(stopwords.words('english'))\n",
        "\n",
        "\n",
        "def clean_text(text):\n",
        "    # Convert to lowercase\n",
        "    text = text.lower()\n",
        "    # Remove punctuation\n",
        "    text = text.translate(str.maketrans('', '', string.punctuation))\n",
        "    # Remove numbers\n",
        "    text = re.sub(r'\\d+', '', text)\n",
        "    # Remove extra whitespace\n",
        "    text = re.sub(r'\\s+', ' ', text)\n",
        "    # Remove special characters\n",
        "    text = re.sub(r'[^\\w\\s]', '', text)\n",
        "\n",
        "    # Remove stop words\n",
        "    # we don't remove stop words to get more accurate text in step 2\n",
        "    # text = ' '.join([word for word in text.split()\n",
        "    #                  if word not in stop_words])\n",
        "    # Remove extra  before and after whitespace\n",
        "\n",
        "    text = text.strip()\n",
        "    # check if text is none\n",
        "    text = text if text else np.nan\n",
        "\n",
        "    return text\n",
        "\n",
        "\n",
        "data['Cleaned_Summary'] = data['Plot_Summary'].apply(clean_text)"
      ]
    },
    {
      "cell_type": "code",
      "execution_count": null,
      "id": "2dcc8acb-b0d4-408f-a5f2-b0b119a9ef2b",
      "metadata": {
        "id": "2dcc8acb-b0d4-408f-a5f2-b0b119a9ef2b",
        "colab": {
          "base_uri": "https://localhost:8080/"
        },
        "outputId": "19570b26-c0ec-4259-d0f3-d1759c9d9f17"
      },
      "outputs": [
        {
          "output_type": "stream",
          "name": "stdout",
          "text": [
            "Number of null Cleaned Summary rows: 5\n"
          ]
        }
      ],
      "source": [
        "print(f\"Number of null Cleaned Summary rows:\",\n",
        "      len(data[data['Cleaned_Summary'].isnull()]))\n",
        "\n",
        "# Drop rows where 'Cleaned_Summary' is NaN\n",
        "data = data.dropna(subset=['Cleaned_Summary'])"
      ]
    },
    {
      "cell_type": "code",
      "execution_count": null,
      "id": "c00c405c-beca-4349-9d38-50fae7d05067",
      "metadata": {
        "id": "c00c405c-beca-4349-9d38-50fae7d05067",
        "outputId": "cb77020d-f4b3-42b0-8654-5a38158b78c1",
        "colab": {
          "base_uri": "https://localhost:8080/"
        }
      },
      "outputs": [
        {
          "output_type": "stream",
          "name": "stdout",
          "text": [
            "Number of outliers in Summary Length: 958\n"
          ]
        }
      ],
      "source": [
        "# summary length\n",
        "data['Summary_Length'] = data['Cleaned_Summary']\\\n",
        "    .apply(lambda x: len(x.split()))\n",
        "\n",
        "# Detect outliers in Summary_Length\n",
        "Q1 = data['Summary_Length'].quantile(0.25)\n",
        "Q3 = data['Summary_Length'].quantile(0.75)\n",
        "IQR = Q3 - Q1\n",
        "lower_bound = Q1 - 1.5 * IQR\n",
        "upper_bound = Q3 + 1.5 * IQR\n",
        "\n",
        "outliers = data[(data['Summary_Length'] < lower_bound) |\n",
        "                (data['Summary_Length'] > upper_bound)]\n",
        "print(f\"Number of outliers in Summary Length: {outliers.shape[0]}\")\n",
        "\n",
        "# # Remove outliers\n",
        "# data = data[(data['Summary Length'] >= lower_bound) &\n",
        "#             (data['Summary Length'] <= upper_bound)]"
      ]
    },
    {
      "cell_type": "code",
      "execution_count": null,
      "id": "b727b28a-e270-4f60-b269-84acb2f60e30",
      "metadata": {
        "id": "b727b28a-e270-4f60-b269-84acb2f60e30"
      },
      "outputs": [],
      "source": [
        "# Fill Author missing values with UNKNOWN_AUTHOR variable because\n",
        "# We cannot put anyone's book under the name of another author\n",
        "data['Author'].fillna(UNKNOWN_AUTHOR, inplace=True)"
      ]
    },
    {
      "cell_type": "code",
      "execution_count": null,
      "id": "da9756b6-261f-4b57-ac36-f89b0926ea97",
      "metadata": {
        "id": "da9756b6-261f-4b57-ac36-f89b0926ea97",
        "outputId": "8f6bc33f-ca38-404b-9778-4f30563cf402",
        "colab": {
          "base_uri": "https://localhost:8080/"
        }
      },
      "outputs": [
        {
          "output_type": "stream",
          "name": "stderr",
          "text": [
            "100%|██████████| 7062/7062 [00:00<00:00, 12017.33it/s]\n"
          ]
        }
      ],
      "source": [
        "# Fill missing values book generes based of other author's book\n",
        "# this section of code is not good and fix just 2 rows:)))\n",
        "\n",
        "\n",
        "def fill_missing_genres(df, num_modes):\n",
        "    for author, group in tqdm(df.groupby('Author')):\n",
        "        if author != UNKNOWN_AUTHOR:\n",
        "            genres = [genre for genres in group['Book_Genres'] if\n",
        "                      isinstance(genres, tuple) for genre in genres]\n",
        "            if genres:\n",
        "                mode_genres = [genre for genre, _ in Counter(genres)\n",
        "                               .most_common(num_modes)]\n",
        "                # We do this because normally can't assign tuple\n",
        "                # and we get an error\n",
        "                if len(df.loc[(df['Author'] == author) &\n",
        "                       (df['Book_Genres'].isnull()), 'Book_Genres']) > 0:\n",
        "                    for i in data.loc[(data['Author'] == author) &\n",
        "                                      (data['Book_Genres'].isnull()),\n",
        "                                      'Index'].values:\n",
        "                        df.at[i, 'Book_Genres'] = tuple(mode_genres)\n",
        "\n",
        "    return df\n",
        "\n",
        "\n",
        "# Fill missing genres based on author with the 5 most common genres\n",
        "data = fill_missing_genres(data, 5)"
      ]
    },
    {
      "cell_type": "code",
      "source": [
        "# Check the Nan value of 'Author' and 'Publication_Date' columns\n",
        "print(data.isna().sum())"
      ],
      "metadata": {
        "colab": {
          "base_uri": "https://localhost:8080/"
        },
        "id": "OcZ5ieKOZ2gw",
        "outputId": "434c5b8c-73fe-42b3-94fb-440e4f218932"
      },
      "id": "OcZ5ieKOZ2gw",
      "execution_count": null,
      "outputs": [
        {
          "output_type": "stream",
          "name": "stdout",
          "text": [
            "Index                      0\n",
            "Wikipedia_Article_ID       0\n",
            "Freebase_ID                0\n",
            "Book_Title                 0\n",
            "Author                     0\n",
            "Publication_Date          50\n",
            "Book_Genres             3718\n",
            "Plot_Summary               0\n",
            "Publication_Year          57\n",
            "Cleaned_Summary            0\n",
            "Summary_Length             0\n",
            "dtype: int64\n"
          ]
        }
      ]
    },
    {
      "cell_type": "code",
      "execution_count": null,
      "id": "c498202d-13ec-4930-bb8b-434c134769c3",
      "metadata": {
        "id": "c498202d-13ec-4930-bb8b-434c134769c3",
        "outputId": "5ca24e04-7638-4576-d827-26ad5a8b2d11",
        "colab": {
          "base_uri": "https://localhost:8080/",
          "height": 472
        }
      },
      "outputs": [
        {
          "output_type": "display_data",
          "data": {
            "text/plain": [
              "<Figure size 640x480 with 1 Axes>"
            ],
            "image/png": "[encoded data removed]"
          },
          "metadata": {}
        }
      ],
      "source": [
        "# Plot a histogram to find out median is better for 'Publication_Year' or mode\n",
        "median = data['Publication_Year'].median()\n",
        "mode = data['Publication_Year'].mode()[0]\n",
        "mean = int(data['Publication_Year'].mean())\n",
        "\n",
        "plt.hist(data['Publication_Year'], bins=10, color='skyblue', edgecolor='black')\n",
        "plt.xlabel('Values')\n",
        "plt.ylabel('Frequency')\n",
        "plt.title('Histogram of Data')\n",
        "\n",
        "# Add markers for median and mode\n",
        "plt.axvline(median, color='r', linestyle='dashed',\n",
        "            linewidth=1, label=f'Median: {median}')\n",
        "plt.axvline(mode, color='g', linestyle='dashed',\n",
        "            linewidth=1, label=f'Mode: {mode}')\n",
        "plt.axhline(mean, color='b', linestyle='dashed',\n",
        "            linewidth=1, label=f'Mean: {mean}')\n",
        "plt.xlim(1800, data['Publication_Year'].max())\n",
        "\n",
        "plt.legend()\n",
        "plt.show()"
      ]
    },
    {
      "cell_type": "code",
      "execution_count": null,
      "id": "698387fc-3789-43d9-8c54-abb71cacd716",
      "metadata": {
        "id": "698387fc-3789-43d9-8c54-abb71cacd716",
        "outputId": "3afbdba1-b9a2-4174-d481-a757e8b9d6f0",
        "colab": {
          "base_uri": "https://localhost:8080/",
          "height": 594
        }
      },
      "outputs": [
        {
          "output_type": "display_data",
          "data": {
            "text/plain": [
              "<Figure size 1000x600 with 1 Axes>"
            ],
            "image/png": "[encoded data removed]"
          },
          "metadata": {}
        }
      ],
      "source": [
        "# Calculate the frequency of each value\n",
        "value_counts = data['Publication_Year'].value_counts()\n",
        "\n",
        "# Get the top 10 most frequent values\n",
        "top_values = value_counts.head(10)\n",
        "\n",
        "# Plot a bar plot for the top 10 most frequent values\n",
        "plt.figure(figsize=(10, 6))\n",
        "top_values.plot(kind='bar', color='skyblue')\n",
        "plt.xlabel('Values')\n",
        "plt.ylabel('Frequency')\n",
        "plt.title('Top 10 Most Frequent Values')\n",
        "plt.xticks(rotation=45)\n",
        "plt.show()"
      ]
    },
    {
      "cell_type": "code",
      "execution_count": null,
      "id": "b52ebd20-b685-4e68-92e5-26bbe602f744",
      "metadata": {
        "id": "b52ebd20-b685-4e68-92e5-26bbe602f744"
      },
      "outputs": [],
      "source": [
        "# fill Publication Year and Publication date missing value\n",
        "# with mode of data based on Top 10 values plot\n",
        "mean_year = int(data['Publication_Year'].mode()[0])\n",
        "data['Publication_Year'].fillna(mean_year, inplace=True)\n",
        "data['Publication_Date'].fillna(mean_year, inplace=True)"
      ]
    },
    {
      "cell_type": "code",
      "execution_count": 45,
      "id": "33383136-9ef5-4c32-8dae-4f1cace6d271",
      "metadata": {
        "id": "33383136-9ef5-4c32-8dae-4f1cace6d271",
        "outputId": "2f9d80ce-c2b3-418f-a8de-efcd57cd710f",
        "colab": {
          "base_uri": "https://localhost:8080/"
        }
      },
      "outputs": [
        {
          "output_type": "stream",
          "name": "stdout",
          "text": [
            "Index                      0\n",
            "Wikipedia_Article_ID       0\n",
            "Freebase_ID                0\n",
            "Book_Title                 0\n",
            "Author                     0\n",
            "Publication_Date           0\n",
            "Book_Genres             3718\n",
            "Plot_Summary               0\n",
            "Publication_Year           0\n",
            "Cleaned_Summary            0\n",
            "Summary_Length             0\n",
            "dtype: int64\n"
          ]
        }
      ],
      "source": [
        "# Check the Nan value of all columns\n",
        "print(data.isna().sum())"
      ]
    },
    {
      "cell_type": "code",
      "execution_count": 47,
      "id": "0eba2798-797a-4a80-87a7-b3bed03c7019",
      "metadata": {
        "id": "0eba2798-797a-4a80-87a7-b3bed03c7019"
      },
      "outputs": [],
      "source": [
        "# Save cleaned data after preprocessing\n",
        "file_path = 'drive/MyDrive/cleaned_book_summaries.csv'\n",
        "data.to_csv(file_path, sep='\\t', index=False, encoding='utf-8')"
      ]
    },
    {
      "cell_type": "markdown",
      "id": "515de1d9-d7a8-4d4a-9d91-4eedc8eb7e16",
      "metadata": {
        "id": "515de1d9-d7a8-4d4a-9d91-4eedc8eb7e16"
      },
      "source": [
        "## Step 2: NLP Component"
      ]
    },
    {
      "cell_type": "code",
      "execution_count": null,
      "id": "hlMR_c9zWQa4",
      "metadata": {
        "colab": {
          "base_uri": "https://localhost:8080/"
        },
        "id": "hlMR_c9zWQa4",
        "outputId": "7c1adb69-38fc-4358-def4-0c777ffb871f"
      },
      "outputs": [
        {
          "output_type": "stream",
          "name": "stdout",
          "text": [
            "Mounted at /content/drive\n"
          ]
        }
      ],
      "source": [
        "# import google drive to use gpu for this section\n",
        "from google.colab import drive\n",
        "drive.mount('/content/drive')"
      ]
    },
    {
      "cell_type": "code",
      "execution_count": null,
      "id": "2242d01d-3fbe-4b5b-866c-187fbf996dc1",
      "metadata": {
        "colab": {
          "base_uri": "https://localhost:8080/"
        },
        "id": "2242d01d-3fbe-4b5b-866c-187fbf996dc1",
        "outputId": "d3c16ba5-2827-4f1e-8aae-a5d75c1a6d49"
      },
      "outputs": [
        {
          "output_type": "stream",
          "name": "stdout",
          "text": [
            "  Preparing metadata (setup.py) ... \u001b[?25l\u001b[?25hdone\n",
            "  Building wheel for rouge-score (setup.py) ... \u001b[?25l\u001b[?25hdone\n"
          ]
        }
      ],
      "source": [
        "!pip install -q transformers torch rouge-score"
      ]
    },
    {
      "cell_type": "code",
      "execution_count": null,
      "id": "1ccfd9c7-6c1f-4d07-a718-f7b5fbedd099",
      "metadata": {
        "id": "1ccfd9c7-6c1f-4d07-a718-f7b5fbedd099"
      },
      "outputs": [],
      "source": [
        "from tqdm import tqdm\n",
        "import pandas as pd\n",
        "import torch\n",
        "from transformers import BartTokenizer, BartForConditionalGeneration\n",
        "from rouge_score import rouge_scorer"
      ]
    },
    {
      "cell_type": "code",
      "execution_count": null,
      "id": "07c28a59-de5d-486a-bea3-56c6fe5694b7",
      "metadata": {
        "colab": {
          "base_uri": "https://localhost:8080/",
          "height": 333,
          "referenced_widgets": [
            "c94856678ca244609aeda84e8679b037",
            "1e74ec3d72b64a1b9225104b0ef2da14",
            "84aae0caf4d94de89741563c8efd18b5",
            "4be530bcb2be48edb0fb3619be026f8b",
            "24e7d924dba643d6bf8966b478789020",
            "8818b6cc3329456e9a0de4dfe21aa383",
            "51090c0bcede446980459efb62be4a47",
            "63403e8ac1424960889a949e9887ab7b",
            "79466c5e85754de4a50cafc3af3625f1",
            "91dd8bd6e5b343019a9f804bead8316f",
            "7696c7d129f742cfb1881533ef4149ee",
            "336161d5b84a4f988244a65601964b06",
            "b9dcbbf46ddd4affb43803d25dc68afa",
            "f297821e74294f0bb31b5d46575838cf",
            "e2004006c2e044c7b28fc49a962d7600",
            "a0887fce22964e6583ed5e28eb804fbc",
            "a9fc6579bfa94b8a9bb6886f010b0321",
            "a319e76fcb874d5f8c515f11c92efd1c",
            "08446390a33f4a5d94b38bd59a89c267",
            "9494764b170a4cb9923321720bf8a1a2",
            "62f8ab60cf5d458697f8bd5414e9053e",
            "cfc974b68e1e4403b7508d374444e494",
            "8f14744553e64f08bf5c5d443167701a",
            "1a26bba2bc174173b667f5d643382e75",
            "f8f8ec8541ea4636bb5e7848f29239c0",
            "f7d6fd7acf8e4136bee0abf53bf298be",
            "2a608c4ee2944562b9bff85cdfa7d2d2",
            "a7d7b1711bc94345aed648deef5496b5",
            "56341c051a9245f9a443549cceb0d2e1",
            "0b868de21c464544af46c6603de654b8",
            "a9429ec27c984ebe83eeb6955426783b",
            "88b0c73d014f4fd4909ee43cad27bc41",
            "b990fdc1c7554d428166e0c2d15f6d80",
            "2aead3a1da59415180760f3ea74fdcae",
            "375d8ea0cd4f46ad94f4e5d90c908713",
            "c725c383fc9548e2a497c4eb5c83663a",
            "a98ef1946c4d46a89bf53a62081fded1",
            "733afc24ec8c4afb94db2db17c7be26b",
            "69f8e47c31e549fca3d90a8b42db3661",
            "e5a8d54732814873977f63883a4f4c0d",
            "5c057e90907d47f8ae61af39552acae9",
            "96b05462c37b4d5dad40cb7941981b60",
            "86c2235238fb4cde81cfc5bb9c110da6",
            "ba4ce7f21f4b4d2eb22708b64197f930",
            "c06a49ea92af4cbfaa4bb79814657bcf",
            "4c9741b9c6c5406bba683ebcc290248a",
            "38dcba1e5d034eedb7c34165be4cd695",
            "4789d8ed73084983b5ffad52669f5c8d",
            "18527971c09047c88761e2f5b06c0ee5",
            "54bec4381a78456799482a6881b9ee09",
            "91e0aa3ed7a64cd6b296d931c16994f5",
            "7b62636b6d51417d9ddbe322863eb81e",
            "c37a955f6faf4b77b69a20e99da093b2",
            "00eedcc884164240807e6872eabd47c5",
            "ae4c27bf0d6a41ceba70f0dea558f9b5",
            "bf621d57d5824abcacf218d135d80db7",
            "90dfdd7e215f4a39aa96222d2900dbb3",
            "10e59e87b1c14b7883b60b0b0a1642a6",
            "e17422cbe302427daabc0417220c5a8a",
            "ba0cb1f71af540b4a4f20686d743336f",
            "de6a5c57d9d045dd9a033b46e37cfb90",
            "0eb235ca1d714323967696ccfac54d2b",
            "6acf52db08e44456a75d0b2299bcbf1d",
            "a34ca88196b649f39f12fd35e7140ed5",
            "b622ab6df4ae426c9e6fa2bf2878ceec",
            "618aee1f06b14a05bc2a43cc275d6517"
          ]
        },
        "id": "07c28a59-de5d-486a-bea3-56c6fe5694b7",
        "outputId": "b2fcd074-29b4-4985-e128-29b8829e24f5"
      },
      "outputs": [
        {
          "output_type": "stream",
          "name": "stderr",
          "text": [
            "/usr/local/lib/python3.10/dist-packages/huggingface_hub/utils/_token.py:89: UserWarning: \n",
            "The secret `HF_TOKEN` does not exist in your Colab secrets.\n",
            "To authenticate with the Hugging Face Hub, create a token in your settings tab (https://huggingface.co/settings/tokens), set it as secret in your Google Colab and restart your session.\n",
            "You will be able to reuse this secret in all of your notebooks.\n",
            "Please note that authentication is recommended but still optional to access public models or datasets.\n",
            "  warnings.warn(\n"
          ]
        },
        {
          "output_type": "display_data",
          "data": {
            "text/plain": [
              "vocab.json:   0%|          | 0.00/899k [00:00<?, ?B/s]"
            ],
            "application/vnd.jupyter.widget-view+json": {
              "version_major": 2,
              "version_minor": 0,
              "model_id": "c94856678ca244609aeda84e8679b037"
            }
          },
          "metadata": {}
        },
        {
          "output_type": "display_data",
          "data": {
            "text/plain": [
              "merges.txt:   0%|          | 0.00/456k [00:00<?, ?B/s]"
            ],
            "application/vnd.jupyter.widget-view+json": {
              "version_major": 2,
              "version_minor": 0,
              "model_id": "336161d5b84a4f988244a65601964b06"
            }
          },
          "metadata": {}
        },
        {
          "output_type": "display_data",
          "data": {
            "text/plain": [
              "tokenizer.json:   0%|          | 0.00/1.36M [00:00<?, ?B/s]"
            ],
            "application/vnd.jupyter.widget-view+json": {
              "version_major": 2,
              "version_minor": 0,
              "model_id": "8f14744553e64f08bf5c5d443167701a"
            }
          },
          "metadata": {}
        },
        {
          "output_type": "display_data",
          "data": {
            "text/plain": [
              "config.json:   0%|          | 0.00/1.58k [00:00<?, ?B/s]"
            ],
            "application/vnd.jupyter.widget-view+json": {
              "version_major": 2,
              "version_minor": 0,
              "model_id": "2aead3a1da59415180760f3ea74fdcae"
            }
          },
          "metadata": {}
        },
        {
          "output_type": "display_data",
          "data": {
            "text/plain": [
              "model.safetensors:   0%|          | 0.00/1.63G [00:00<?, ?B/s]"
            ],
            "application/vnd.jupyter.widget-view+json": {
              "version_major": 2,
              "version_minor": 0,
              "model_id": "c06a49ea92af4cbfaa4bb79814657bcf"
            }
          },
          "metadata": {}
        },
        {
          "output_type": "display_data",
          "data": {
            "text/plain": [
              "generation_config.json:   0%|          | 0.00/363 [00:00<?, ?B/s]"
            ],
            "application/vnd.jupyter.widget-view+json": {
              "version_major": 2,
              "version_minor": 0,
              "model_id": "bf621d57d5824abcacf218d135d80db7"
            }
          },
          "metadata": {}
        }
      ],
      "source": [
        "# Load pre-trained BART model and tokenizer, move model to GPU if available\n",
        "device = 'cuda' if torch.cuda.is_available() else 'cpu'\n",
        "\n",
        "# Load pre-trained BART model and tokenizer\n",
        "tokenizer = BartTokenizer.from_pretrained('facebook/bart-large-cnn',\n",
        "                                          clean_up_tokenization_spaces=True)\n",
        "model = BartForConditionalGeneration.from_pretrained(\n",
        "    'facebook/bart-large-cnn').to(device)"
      ]
    },
    {
      "cell_type": "code",
      "execution_count": null,
      "id": "db5843e0-f8b3-4e4a-98f3-b51db1c2dbf1",
      "metadata": {
        "id": "db5843e0-f8b3-4e4a-98f3-b51db1c2dbf1"
      },
      "outputs": [],
      "source": [
        "# Load dataset from csv file from drive for google colab\n",
        "file_path = 'drive/MyDrive/cleaned_book_summaries.csv'\n",
        "data = pd.read_csv(file_path, sep='\\t', encoding='utf-8')"
      ]
    },
    {
      "cell_type": "code",
      "execution_count": null,
      "id": "ef9f3cad-a661-4fba-a44d-9c9b3c88589f",
      "metadata": {
        "id": "ef9f3cad-a661-4fba-a44d-9c9b3c88589f"
      },
      "outputs": [],
      "source": [
        "# # Load dataset from local csv file\n",
        "# data = pd.read_csv('cleaned_book_summaries.csv', sep='\\t', encoding='utf-8')"
      ]
    },
    {
      "cell_type": "code",
      "execution_count": null,
      "id": "b855d984-bea8-430f-bf59-65e3fe65ebb2",
      "metadata": {
        "id": "b855d984-bea8-430f-bf59-65e3fe65ebb2"
      },
      "outputs": [],
      "source": [
        "def summarize_batch(texts, max_input_length=1024, max_output_length=75, num_beams=2, device='cpu'):\n",
        "    \"\"\"\n",
        "    Summarizes a batch of input texts using the BART model.\n",
        "\n",
        "    Args:\n",
        "    texts (list of str): List of original texts to be summarized.\n",
        "    max_input_length (int): Maximum number of tokens in the input text.\n",
        "    max_output_length (int): Maximum number of tokens in the summarized text.\n",
        "    num_beams (int): Number of beams for beam search.\n",
        "    device (str): Device to run the model on ('cpu' or 'cuda').\n",
        "\n",
        "    Returns:\n",
        "    list of str: List of summarized texts.\n",
        "    \"\"\"\n",
        "    # Tokenize and truncate the input to the max input length (batch processing)\n",
        "    inputs = tokenizer(texts, return_tensors=\"pt\", max_length=max_input_length, truncation=True, padding=True).to(device)\n",
        "\n",
        "    # Generate the summary for the batch\n",
        "    summary_ids = model.generate(\n",
        "        inputs[\"input_ids\"],\n",
        "        num_beams=num_beams,  # Beam search for diversity\n",
        "        max_length=max_output_length,  # Limit the length of the output summary\n",
        "        early_stopping=True  # Stop when the model is confident in its answer\n",
        "    )\n",
        "\n",
        "    # Decode the generated tokens into a string (summary)\n",
        "    return [tokenizer.decode(g, skip_special_tokens=True, clean_up_tokenization_spaces=True) for g in summary_ids]\n"
      ]
    },
    {
      "cell_type": "code",
      "source": [
        "# Initialize ROUGE scorer\n",
        "scorer = rouge_scorer.RougeScorer(['rouge1', 'rouge2', 'rougeL'], use_stemmer=True)"
      ],
      "metadata": {
        "id": "trP-y1CM9Loh"
      },
      "id": "trP-y1CM9Loh",
      "execution_count": null,
      "outputs": []
    },
    {
      "cell_type": "code",
      "source": [
        "# Example usage on a single text summary\n",
        "sample_text = data.loc[12390, 'Cleaned_Summary']  # longest text in dataset\n",
        "short_summary = summarize_batch([sample_text], device=device)[0]\n",
        "print(\"Cleaned Summary lenght:\", len(sample_text.split()))\n",
        "print(\"Summarized Text lenght:\", len(short_summary.split()))\n",
        "print(\"Summarized Text:\", short_summary)"
      ],
      "metadata": {
        "colab": {
          "base_uri": "https://localhost:8080/"
        },
        "id": "iqdpAuwMm8hg",
        "outputId": "8e9053f5-386c-41f8-bc5f-40d45713c6c9"
      },
      "id": "iqdpAuwMm8hg",
      "execution_count": null,
      "outputs": [
        {
          "output_type": "stream",
          "name": "stdout",
          "text": [
            "Cleaned Summary lenght: 10317\n",
            "Summarized Text lenght: 51\n",
            "Summarized Text: Imriel and sidonie are on their way to the city of elua to confront queen ysandre about their relationship. They are met by a group of priests who declare their love to be genuine. The queen decides to treat their love like it does not exist and decides to disinherit them.\n"
          ]
        }
      ]
    },
    {
      "cell_type": "code",
      "execution_count": null,
      "id": "e0ae138b-5a4b-4120-8ab4-500bb81beac3",
      "metadata": {
        "colab": {
          "base_uri": "https://localhost:8080/"
        },
        "id": "e0ae138b-5a4b-4120-8ab4-500bb81beac3",
        "outputId": "f0f7556c-fbe4-4b5c-921f-96d4f848241d"
      },
      "outputs": [
        {
          "output_type": "stream",
          "name": "stdout",
          "text": [
            "ROUGE-1:  Score(precision=1.0, recall=0.004935165473195278, fmeasure=0.009821858449687049)\n",
            "ROUGE-2:  Score(precision=0.62, recall=0.0030000967773153972, fmeasure=0.0059712992391409035)\n",
            "ROUGE-L:  Score(precision=0.8235294117647058, recall=0.004064253919101994, fmeasure=0.008088589311506982)\n"
          ]
        }
      ],
      "source": [
        "# Compute ROUGE scores\n",
        "scores = scorer.score(sample_text, short_summary)\n",
        "\n",
        "# Print ROUGE scores\n",
        "print(\"ROUGE-1: \", scores['rouge1'])\n",
        "print(\"ROUGE-2: \", scores['rouge2'])\n",
        "print(\"ROUGE-L: \", scores['rougeL'])\n"
      ]
    },
    {
      "cell_type": "markdown",
      "source": [
        "The ROUGE scores obtained for the longest text in the dataset provide us with valuable insights into the performance of summarization model. Below is an analysis of these results:\n",
        "\n",
        "### **ROUGE-1:**\n",
        "- **Precision = 1.0**: This indicates that 100% of the unigrams (individual words) in the summary are present in the original text. The summary is exclusively composed of words from the original.\n",
        "- **Recall = 0.0049**: Only about 0.49% of the unigrams from the original text are included in the summary. This very low recall suggests the summary is extremely condensed.\n",
        "- **F1-Score = 0.0098**: The harmonic mean between precision and recall is low due to the significant gap between the two. While the model captures every word it chooses with perfect precision, it includes very few words from the original.\n",
        "\n",
        "### **ROUGE-2:**\n",
        "- **Precision = 0.62**: This means 62% of the bigrams (pairs of consecutive words) in the summary are present in the original text. However, this isn't as high as the unigram precision, indicating that while individual words are captured well, their order might not be as well preserved.\n",
        "- **Recall = 0.0030**: About 0.3% of the bigrams from the original text are present in the summary, which suggests that only a very tiny fraction of the original bigram content is captured.\n",
        "- **F1-Score = 0.0060**: The F1 score is quite low due to the large gap between precision and recall, indicating that the summary may be missing important contextual sequences of words.\n",
        "\n",
        "### **ROUGE-L:**\n",
        "- **Precision = 0.824**: Around 82.4% of the longest common subsequences (LCS) between the summary and original text are preserved, which suggests the model does a reasonable job of maintaining word order for the parts of the original text it includes.\n",
        "- **Recall = 0.0041**: Only 0.41% of the sequences from the original text appear in the summary, indicating that while the word order is preserved, a very small amount of content is actually included.\n",
        "- **F1-Score = 0.0081**: The low F1 score again reflects the tension between high precision and low recall, meaning the model extracts sequences faithfully but covers only a tiny portion of the original text.\n",
        "\n",
        "### **Interpretation:**\n",
        "- **High precision, low recall**: Across all the ROUGE scores, precision is relatively high (especially for ROUGE-1), but recall is extremely low. This suggests that the model creates **very short summaries**, where most of the content is omitted, but what is included is perfectly selected.\n",
        "- **Condensed summary**: Given the very low recall (~0.49% for ROUGE-1 and ~0.3% for ROUGE-2), it seems the summary is heavily reduced in length and content compared to the original text.\n",
        "- **Bigram and sequence preservation**: While bigram precision and LCS precision are somewhat decent, the low recall shows that the summary may not be capturing much of the original context or detail.\n",
        "\n",
        "### **Summary of Findings:**\n",
        "- Your summarization model is **highly precise** in choosing words and maintaining word order from the original text, but it summarizes the text in a very condensed form, leading to a **low recall**.\n",
        "- If you're aiming for **concise summaries**, this may be acceptable, but the summaries may be missing a lot of important content.\n",
        "- If our goal is to generate **short, accurate summaries**, this level of compression may be ideal, aligning with our objective. On the other hand, if we aim to preserve more content from the original material, we might need to **increase the summary length** (adjusting `max_output_length`) or adjust the model parameters."
      ],
      "metadata": {
        "id": "--WOYHOoTBoK"
      },
      "id": "--WOYHOoTBoK"
    },
    {
      "cell_type": "code",
      "execution_count": null,
      "id": "SqrtxPgzc8K3",
      "metadata": {
        "id": "SqrtxPgzc8K3",
        "colab": {
          "base_uri": "https://localhost:8080/"
        },
        "outputId": "2de13733-e054-49b6-96d2-97b9b5c4b550"
      },
      "outputs": [
        {
          "output_type": "stream",
          "name": "stdout",
          "text": [
            "Cleaned Summary lenght: 944\n",
            "Summarized Text lenght: 65\n",
            "Summarized Text: Old major the old boar on the manor farm calls the animals on the farm for a meeting where he compares the humans to parasites and teaches the animals a revolutionary song beasts of england when major dies two young pigs snowball and napoleon assume command and turn his dream into a philosophy. The animals revolt and drive the drunken and irresponsible mr jones from\n"
          ]
        }
      ],
      "source": [
        "# Example usage on a single text summary\n",
        "sample_text = data.loc[0, 'Cleaned_Summary']\n",
        "short_summary = summarize_batch([sample_text], device=device)[0]\n",
        "print(\"Cleaned Summary lenght:\", len(sample_text.split()))\n",
        "print(\"Summarized Text lenght:\", len(short_summary.split()))\n",
        "print(\"Summarized Text:\", short_summary)"
      ]
    },
    {
      "cell_type": "code",
      "source": [
        "# Compute ROUGE scores\n",
        "scores = scorer.score(sample_text, short_summary)\n",
        "\n",
        "# Print ROUGE scores\n",
        "print(\"ROUGE-1: \", scores['rouge1'])\n",
        "print(\"ROUGE-2: \", scores['rouge2'])\n",
        "print(\"ROUGE-L: \", scores['rougeL'])"
      ],
      "metadata": {
        "colab": {
          "base_uri": "https://localhost:8080/"
        },
        "id": "tFVmMAs72jzg",
        "outputId": "633726a2-53bf-4285-d42f-993b85af3717"
      },
      "id": "tFVmMAs72jzg",
      "execution_count": null,
      "outputs": [
        {
          "output_type": "stream",
          "name": "stdout",
          "text": [
            "ROUGE-1:  Score(precision=1.0, recall=0.06885593220338983, fmeasure=0.12884043607532208)\n",
            "ROUGE-2:  Score(precision=1.0, recall=0.06786850477200425, fmeasure=0.12711022840119168)\n",
            "ROUGE-L:  Score(precision=1.0, recall=0.06885593220338983, fmeasure=0.12884043607532208)\n"
          ]
        }
      ]
    },
    {
      "cell_type": "markdown",
      "id": "16ab9ffa-f6a0-428f-833a-8c71b00aae04",
      "metadata": {
        "id": "16ab9ffa-f6a0-428f-833a-8c71b00aae04"
      },
      "source": [
        "The obtained ROUGE scores provide some useful insights into the performance of the summarization model. Below is an analysis based on the provided scores:\n",
        "\n",
        "### **ROUGE-1:**\n",
        "- **Precision = 1.0**: This means 100% of the unigrams (individual words) in the summary are found in the original text. The summary doesn’t introduce any new words, only using words from the original.\n",
        "- **Recall = 0.0689**: About 6.89% of the unigrams from the original text are present in the summary. This indicates that only a small portion of the original content is captured in the summary.\n",
        "- **F1-Score = 0.1288**: The F1 score, which is the harmonic mean between precision and recall, reflects a balance between the two. While the precision is perfect, the low recall keeps the F1 score down.\n",
        "\n",
        "### **ROUGE-2:**\n",
        "- **Precision = 1.0**: All of the bigrams (pairs of consecutive words) in the summary are directly taken from the original text, so there is no deviation from the word order or word choice.\n",
        "- **Recall = 0.0679**: Only about 6.79% of the bigrams from the original text are captured in the summary, meaning that very few sequences of two consecutive words are included.\n",
        "- **F1-Score = 0.1271**: This score reflects the balance between the perfect precision and the low recall, showing that while the summary is accurate in terms of bigram usage, it captures only a small part of the original.\n",
        "\n",
        "### **ROUGE-L:**\n",
        "- **Precision = 1.0**: The longest common subsequences (LCS) in the summary are perfectly matched to those in the original text, so word order is faithfully preserved.\n",
        "- **Recall = 0.0689**: Similar to ROUGE-1, only 6.89% of the sequences from the original text are included in the summary, highlighting how much of the original content is omitted.\n",
        "- **F1-Score = 0.1288**: The F1 score indicates a decent balance between precision and recall, where precision is perfect but recall is quite low.\n",
        "\n",
        "### **Interpretation:**\n",
        "- **Perfect precision (1.0)**: The summary is highly faithful to the original text, as every word, bigram, and sequence in the summary appears in the original. There is no extraneous or erroneous content.\n",
        "- **Low recall (~6.9%)**: The summary is very condensed, including less than 7% of the original content. This suggests that while the summary is accurate, it covers only a small portion of the original text.\n",
        "- **F1-scores (~0.128)**: The F1-scores reflect the model’s high precision but low recall, meaning it does a good job of capturing the words and phrases it chooses but doesn’t include much of the original content.\n",
        "\n",
        "### **Summary of Findings:**\n",
        "- The model generates summaries that are **extremely precise**, ensuring that all words and sequences in the summary are drawn from the original text.\n",
        "- However, the **low recall** indicates that the summaries omit a significant portion of the original content, making them highly condensed.\n",
        "- If our goal is to generate **short, accurate summaries**, this level of compression may be ideal, aligning with our objective. On the other hand, if we aim to preserve more content from the original material, we might need to **increase the summary length** (adjusting `max_output_length`) or adjust the model parameters."
      ]
    },
    {
      "cell_type": "code",
      "execution_count": null,
      "id": "dc26990a-13c3-4226-8fc5-9332890de0c5",
      "metadata": {
        "id": "dc26990a-13c3-4226-8fc5-9332890de0c5"
      },
      "outputs": [],
      "source": [
        "def batch_summarization(df, batch_size=32, num_beams=2, device='cpu'):\n",
        "    \"\"\"\n",
        "    Summarizes the text in batches to manage memory and computation, leveraging GPU and batching.\n",
        "\n",
        "    Args:\n",
        "    df (DataFrame): The input DataFrame containing the 'Cleaned Summary' column.\n",
        "    batch_size (int): Number of rows to process in each batch.\n",
        "    num_beams (int): Number of beams for beam search.\n",
        "    device (str): Device to run the model on ('cpu' or 'cuda').\n",
        "\n",
        "    Returns:\n",
        "    DataFrame: The DataFrame with a new column 'Summarized_Text'.\n",
        "    \"\"\"\n",
        "    # Ensure the new column exists\n",
        "    df['Summarized_Text'] = \"\"\n",
        "\n",
        "    for i in tqdm(range(0, len(df), batch_size)):\n",
        "        batch_df = df.iloc[i:i+batch_size]\n",
        "        texts = batch_df['Cleaned_Summary'].tolist()  # Extract the batch of texts\n",
        "        summaries = summarize_batch(texts, num_beams=num_beams, device=device)  # Summarize the batch\n",
        "        df.loc[batch_df.index, 'Summarized_Text'] = summaries  # Update the DataFrame with the summarized text\n",
        "\n",
        "        print(f\"Processed batch {i} to {i+batch_size}\")\n",
        "\n",
        "    return df"
      ]
    },
    {
      "cell_type": "code",
      "execution_count": null,
      "id": "62b2e1dc-397e-4b35-a9f2-cc1a605917e9",
      "metadata": {
        "colab": {
          "base_uri": "https://localhost:8080/"
        },
        "id": "62b2e1dc-397e-4b35-a9f2-cc1a605917e9",
        "outputId": "ac998812-38c3-48d5-e4a9-a328a836f21a"
      },
      "outputs": [
        {
          "metadata": {
            "tags": null
          },
          "name": "stderr",
          "output_type": "stream",
          "text": [
            "  0%|          | 1/518 [00:12<1:49:31, 12.71s/it]"
          ]
        },
        {
          "metadata": {
            "tags": null
          },
          "name": "stdout",
          "output_type": "stream",
          "text": [
            "Processed batch 0 to 32\n"
          ]
        },
        {
          "metadata": {
            "tags": null
          },
          "name": "stderr",
          "output_type": "stream",
          "text": [
            "\r  0%|          | 2/518 [00:25<1:50:12, 12.82s/it]"
          ]
        },
        {
          "metadata": {
            "tags": null
          },
          "name": "stdout",
          "output_type": "stream",
          "text": [
            "Processed batch 32 to 64\n"
          ]
        },
        {
          "metadata": {
            "tags": null
          },
          "name": "stderr",
          "output_type": "stream",
          "text": [
            "\r  1%|          | 3/518 [00:38<1:49:44, 12.79s/it]"
          ]
        },
        {
          "metadata": {
            "tags": null
          },
          "name": "stdout",
          "output_type": "stream",
          "text": [
            "Processed batch 64 to 96\n"
          ]
        },
        {
          "metadata": {
            "tags": null
          },
          "name": "stderr",
          "output_type": "stream",
          "text": [
            "\r  1%|          | 4/518 [00:50<1:48:23, 12.65s/it]"
          ]
        },
        {
          "metadata": {
            "tags": null
          },
          "name": "stdout",
          "output_type": "stream",
          "text": [
            "Processed batch 96 to 128\n"
          ]
        },
        {
          "metadata": {
            "tags": null
          },
          "name": "stderr",
          "output_type": "stream",
          "text": [
            "\r  1%|          | 5/518 [01:03<1:47:42, 12.60s/it]"
          ]
        },
        {
          "metadata": {
            "tags": null
          },
          "name": "stdout",
          "output_type": "stream",
          "text": [
            "Processed batch 128 to 160\n"
          ]
        },
        {
          "metadata": {
            "tags": null
          },
          "name": "stderr",
          "output_type": "stream",
          "text": [
            "\r  1%|          | 6/518 [01:15<1:46:46, 12.51s/it]"
          ]
        },
        {
          "metadata": {
            "tags": null
          },
          "name": "stdout",
          "output_type": "stream",
          "text": [
            "Processed batch 160 to 192\n"
          ]
        },
        {
          "metadata": {
            "tags": null
          },
          "name": "stderr",
          "output_type": "stream",
          "text": [
            "\r  1%|▏         | 7/518 [01:28<1:46:50, 12.54s/it]"
          ]
        },
        {
          "metadata": {
            "tags": null
          },
          "name": "stdout",
          "output_type": "stream",
          "text": [
            "Processed batch 192 to 224\n"
          ]
        },
        {
          "metadata": {
            "tags": null
          },
          "name": "stderr",
          "output_type": "stream",
          "text": [
            "\r  2%|▏         | 8/518 [01:40<1:46:42, 12.55s/it]"
          ]
        },
        {
          "metadata": {
            "tags": null
          },
          "name": "stdout",
          "output_type": "stream",
          "text": [
            "Processed batch 224 to 256\n"
          ]
        },
        {
          "metadata": {
            "tags": null
          },
          "name": "stderr",
          "output_type": "stream",
          "text": [
            "\r  2%|▏         | 9/518 [01:53<1:47:03, 12.62s/it]"
          ]
        },
        {
          "metadata": {
            "tags": null
          },
          "name": "stdout",
          "output_type": "stream",
          "text": [
            "Processed batch 256 to 288\n"
          ]
        },
        {
          "metadata": {
            "tags": null
          },
          "name": "stderr",
          "output_type": "stream",
          "text": [
            "\r  2%|▏         | 10/518 [02:06<1:46:28, 12.58s/it]"
          ]
        },
        {
          "metadata": {
            "tags": null
          },
          "name": "stdout",
          "output_type": "stream",
          "text": [
            "Processed batch 288 to 320\n"
          ]
        },
        {
          "metadata": {
            "tags": null
          },
          "name": "stderr",
          "output_type": "stream",
          "text": [
            "\r  2%|▏         | 11/518 [02:18<1:46:36, 12.62s/it]"
          ]
        },
        {
          "metadata": {
            "tags": null
          },
          "name": "stdout",
          "output_type": "stream",
          "text": [
            "Processed batch 320 to 352\n"
          ]
        },
        {
          "metadata": {
            "tags": null
          },
          "name": "stderr",
          "output_type": "stream",
          "text": [
            "\r  2%|▏         | 12/518 [02:31<1:45:56, 12.56s/it]"
          ]
        },
        {
          "metadata": {
            "tags": null
          },
          "name": "stdout",
          "output_type": "stream",
          "text": [
            "Processed batch 352 to 384\n"
          ]
        },
        {
          "metadata": {
            "tags": null
          },
          "name": "stderr",
          "output_type": "stream",
          "text": [
            "\r  3%|▎         | 13/518 [02:43<1:45:56, 12.59s/it]"
          ]
        },
        {
          "metadata": {
            "tags": null
          },
          "name": "stdout",
          "output_type": "stream",
          "text": [
            "Processed batch 384 to 416\n"
          ]
        },
        {
          "metadata": {
            "tags": null
          },
          "name": "stderr",
          "output_type": "stream",
          "text": [
            "\r  3%|▎         | 14/518 [02:56<1:45:24, 12.55s/it]"
          ]
        },
        {
          "metadata": {
            "tags": null
          },
          "name": "stdout",
          "output_type": "stream",
          "text": [
            "Processed batch 416 to 448\n"
          ]
        },
        {
          "metadata": {
            "tags": null
          },
          "name": "stderr",
          "output_type": "stream",
          "text": [
            "\r  3%|▎         | 15/518 [03:08<1:44:58, 12.52s/it]"
          ]
        },
        {
          "metadata": {
            "tags": null
          },
          "name": "stdout",
          "output_type": "stream",
          "text": [
            "Processed batch 448 to 480\n"
          ]
        },
        {
          "metadata": {
            "tags": null
          },
          "name": "stderr",
          "output_type": "stream",
          "text": [
            "\r  3%|▎         | 16/518 [03:21<1:44:27, 12.49s/it]"
          ]
        },
        {
          "metadata": {
            "tags": null
          },
          "name": "stdout",
          "output_type": "stream",
          "text": [
            "Processed batch 480 to 512\n"
          ]
        },
        {
          "metadata": {
            "tags": null
          },
          "name": "stderr",
          "output_type": "stream",
          "text": [
            "\r  3%|▎         | 17/518 [03:33<1:43:52, 12.44s/it]"
          ]
        },
        {
          "metadata": {
            "tags": null
          },
          "name": "stdout",
          "output_type": "stream",
          "text": [
            "Processed batch 512 to 544\n"
          ]
        },
        {
          "metadata": {
            "tags": null
          },
          "name": "stderr",
          "output_type": "stream",
          "text": [
            "\r  3%|▎         | 18/518 [03:46<1:43:50, 12.46s/it]"
          ]
        },
        {
          "metadata": {
            "tags": null
          },
          "name": "stdout",
          "output_type": "stream",
          "text": [
            "Processed batch 544 to 576\n"
          ]
        },
        {
          "metadata": {
            "tags": null
          },
          "name": "stderr",
          "output_type": "stream",
          "text": [
            "\r  4%|▎         | 19/518 [03:58<1:43:29, 12.44s/it]"
          ]
        },
        {
          "metadata": {
            "tags": null
          },
          "name": "stdout",
          "output_type": "stream",
          "text": [
            "Processed batch 576 to 608\n"
          ]
        },
        {
          "metadata": {
            "tags": null
          },
          "name": "stderr",
          "output_type": "stream",
          "text": [
            "\r  4%|▍         | 20/518 [04:11<1:44:38, 12.61s/it]"
          ]
        },
        {
          "metadata": {
            "tags": null
          },
          "name": "stdout",
          "output_type": "stream",
          "text": [
            "Processed batch 608 to 640\n"
          ]
        },
        {
          "metadata": {
            "tags": null
          },
          "name": "stderr",
          "output_type": "stream",
          "text": [
            "\r  4%|▍         | 21/518 [04:23<1:44:12, 12.58s/it]"
          ]
        },
        {
          "metadata": {
            "tags": null
          },
          "name": "stdout",
          "output_type": "stream",
          "text": [
            "Processed batch 640 to 672\n"
          ]
        },
        {
          "metadata": {
            "tags": null
          },
          "name": "stderr",
          "output_type": "stream",
          "text": [
            "\r  4%|▍         | 22/518 [04:36<1:44:03, 12.59s/it]"
          ]
        },
        {
          "metadata": {
            "tags": null
          },
          "name": "stdout",
          "output_type": "stream",
          "text": [
            "Processed batch 672 to 704\n"
          ]
        },
        {
          "metadata": {
            "tags": null
          },
          "name": "stderr",
          "output_type": "stream",
          "text": [
            "\r  4%|▍         | 23/518 [04:49<1:43:42, 12.57s/it]"
          ]
        },
        {
          "metadata": {
            "tags": null
          },
          "name": "stdout",
          "output_type": "stream",
          "text": [
            "Processed batch 704 to 736\n"
          ]
        },
        {
          "metadata": {
            "tags": null
          },
          "name": "stderr",
          "output_type": "stream",
          "text": [
            "\r  5%|▍         | 24/518 [05:01<1:43:48, 12.61s/it]"
          ]
        },
        {
          "metadata": {
            "tags": null
          },
          "name": "stdout",
          "output_type": "stream",
          "text": [
            "Processed batch 736 to 768\n"
          ]
        },
        {
          "metadata": {
            "tags": null
          },
          "name": "stderr",
          "output_type": "stream",
          "text": [
            "\r  5%|▍         | 25/518 [05:14<1:43:28, 12.59s/it]"
          ]
        },
        {
          "metadata": {
            "tags": null
          },
          "name": "stdout",
          "output_type": "stream",
          "text": [
            "Processed batch 768 to 800\n"
          ]
        },
        {
          "metadata": {
            "tags": null
          },
          "name": "stderr",
          "output_type": "stream",
          "text": [
            "\r  5%|▌         | 26/518 [05:27<1:43:41, 12.64s/it]"
          ]
        },
        {
          "metadata": {
            "tags": null
          },
          "name": "stdout",
          "output_type": "stream",
          "text": [
            "Processed batch 800 to 832\n"
          ]
        },
        {
          "metadata": {
            "tags": null
          },
          "name": "stderr",
          "output_type": "stream",
          "text": [
            "\r  5%|▌         | 27/518 [05:39<1:43:08, 12.60s/it]"
          ]
        },
        {
          "metadata": {
            "tags": null
          },
          "name": "stdout",
          "output_type": "stream",
          "text": [
            "Processed batch 832 to 864\n"
          ]
        },
        {
          "metadata": {
            "tags": null
          },
          "name": "stderr",
          "output_type": "stream",
          "text": [
            "\r  5%|▌         | 28/518 [05:52<1:43:03, 12.62s/it]"
          ]
        },
        {
          "metadata": {
            "tags": null
          },
          "name": "stdout",
          "output_type": "stream",
          "text": [
            "Processed batch 864 to 896\n"
          ]
        },
        {
          "metadata": {
            "tags": null
          },
          "name": "stderr",
          "output_type": "stream",
          "text": [
            "\r  6%|▌         | 29/518 [06:04<1:42:16, 12.55s/it]"
          ]
        },
        {
          "metadata": {
            "tags": null
          },
          "name": "stdout",
          "output_type": "stream",
          "text": [
            "Processed batch 896 to 928\n"
          ]
        },
        {
          "metadata": {
            "tags": null
          },
          "name": "stderr",
          "output_type": "stream",
          "text": [
            "\r  6%|▌         | 30/518 [06:17<1:41:44, 12.51s/it]"
          ]
        },
        {
          "metadata": {
            "tags": null
          },
          "name": "stdout",
          "output_type": "stream",
          "text": [
            "Processed batch 928 to 960\n"
          ]
        },
        {
          "metadata": {
            "tags": null
          },
          "name": "stderr",
          "output_type": "stream",
          "text": [
            "\r  6%|▌         | 31/518 [06:29<1:40:56, 12.44s/it]"
          ]
        },
        {
          "metadata": {
            "tags": null
          },
          "name": "stdout",
          "output_type": "stream",
          "text": [
            "Processed batch 960 to 992\n"
          ]
        },
        {
          "metadata": {
            "tags": null
          },
          "name": "stderr",
          "output_type": "stream",
          "text": [
            "\r  6%|▌         | 32/518 [06:41<1:40:35, 12.42s/it]"
          ]
        },
        {
          "metadata": {
            "tags": null
          },
          "name": "stdout",
          "output_type": "stream",
          "text": [
            "Processed batch 992 to 1024\n"
          ]
        },
        {
          "metadata": {
            "tags": null
          },
          "name": "stderr",
          "output_type": "stream",
          "text": [
            "\r  6%|▋         | 33/518 [06:54<1:41:01, 12.50s/it]"
          ]
        },
        {
          "metadata": {
            "tags": null
          },
          "name": "stdout",
          "output_type": "stream",
          "text": [
            "Processed batch 1024 to 1056\n"
          ]
        },
        {
          "metadata": {
            "tags": null
          },
          "name": "stderr",
          "output_type": "stream",
          "text": [
            "\r  7%|▋         | 34/518 [07:06<1:40:34, 12.47s/it]"
          ]
        },
        {
          "metadata": {
            "tags": null
          },
          "name": "stdout",
          "output_type": "stream",
          "text": [
            "Processed batch 1056 to 1088\n"
          ]
        },
        {
          "metadata": {
            "tags": null
          },
          "name": "stderr",
          "output_type": "stream",
          "text": [
            "\r  7%|▋         | 35/518 [07:19<1:40:30, 12.49s/it]"
          ]
        },
        {
          "metadata": {
            "tags": null
          },
          "name": "stdout",
          "output_type": "stream",
          "text": [
            "Processed batch 1088 to 1120\n"
          ]
        },
        {
          "metadata": {
            "tags": null
          },
          "name": "stderr",
          "output_type": "stream",
          "text": [
            "\r  7%|▋         | 36/518 [07:31<1:40:12, 12.47s/it]"
          ]
        },
        {
          "metadata": {
            "tags": null
          },
          "name": "stdout",
          "output_type": "stream",
          "text": [
            "Processed batch 1120 to 1152\n"
          ]
        },
        {
          "metadata": {
            "tags": null
          },
          "name": "stderr",
          "output_type": "stream",
          "text": [
            "\r  7%|▋         | 37/518 [07:44<1:40:17, 12.51s/it]"
          ]
        },
        {
          "metadata": {
            "tags": null
          },
          "name": "stdout",
          "output_type": "stream",
          "text": [
            "Processed batch 1152 to 1184\n"
          ]
        },
        {
          "metadata": {
            "tags": null
          },
          "name": "stderr",
          "output_type": "stream",
          "text": [
            "\r  7%|▋         | 38/518 [07:56<1:39:48, 12.48s/it]"
          ]
        },
        {
          "metadata": {
            "tags": null
          },
          "name": "stdout",
          "output_type": "stream",
          "text": [
            "Processed batch 1184 to 1216\n"
          ]
        },
        {
          "metadata": {
            "tags": null
          },
          "name": "stderr",
          "output_type": "stream",
          "text": [
            "\r  8%|▊         | 39/518 [08:09<1:40:01, 12.53s/it]"
          ]
        },
        {
          "metadata": {
            "tags": null
          },
          "name": "stdout",
          "output_type": "stream",
          "text": [
            "Processed batch 1216 to 1248\n"
          ]
        },
        {
          "metadata": {
            "tags": null
          },
          "name": "stderr",
          "output_type": "stream",
          "text": [
            "\r  8%|▊         | 40/518 [08:21<1:39:39, 12.51s/it]"
          ]
        },
        {
          "metadata": {
            "tags": null
          },
          "name": "stdout",
          "output_type": "stream",
          "text": [
            "Processed batch 1248 to 1280\n"
          ]
        },
        {
          "metadata": {
            "tags": null
          },
          "name": "stderr",
          "output_type": "stream",
          "text": [
            "\r  8%|▊         | 41/518 [08:34<1:40:18, 12.62s/it]"
          ]
        },
        {
          "metadata": {
            "tags": null
          },
          "name": "stdout",
          "output_type": "stream",
          "text": [
            "Processed batch 1280 to 1312\n"
          ]
        },
        {
          "metadata": {
            "tags": null
          },
          "name": "stderr",
          "output_type": "stream",
          "text": [
            "\r  8%|▊         | 42/518 [08:47<1:39:44, 12.57s/it]"
          ]
        },
        {
          "metadata": {
            "tags": null
          },
          "name": "stdout",
          "output_type": "stream",
          "text": [
            "Processed batch 1312 to 1344\n"
          ]
        },
        {
          "metadata": {
            "tags": null
          },
          "name": "stderr",
          "output_type": "stream",
          "text": [
            "\r  8%|▊         | 43/518 [08:59<1:39:44, 12.60s/it]"
          ]
        },
        {
          "metadata": {
            "tags": null
          },
          "name": "stdout",
          "output_type": "stream",
          "text": [
            "Processed batch 1344 to 1376\n"
          ]
        },
        {
          "metadata": {
            "tags": null
          },
          "name": "stderr",
          "output_type": "stream",
          "text": [
            "\r  8%|▊         | 44/518 [09:12<1:38:50, 12.51s/it]"
          ]
        },
        {
          "metadata": {
            "tags": null
          },
          "name": "stdout",
          "output_type": "stream",
          "text": [
            "Processed batch 1376 to 1408\n"
          ]
        },
        {
          "metadata": {
            "tags": null
          },
          "name": "stderr",
          "output_type": "stream",
          "text": [
            "\r  9%|▊         | 45/518 [09:24<1:38:24, 12.48s/it]"
          ]
        },
        {
          "metadata": {
            "tags": null
          },
          "name": "stdout",
          "output_type": "stream",
          "text": [
            "Processed batch 1408 to 1440\n"
          ]
        },
        {
          "metadata": {
            "tags": null
          },
          "name": "stderr",
          "output_type": "stream",
          "text": [
            "\r  9%|▉         | 46/518 [09:36<1:37:45, 12.43s/it]"
          ]
        },
        {
          "metadata": {
            "tags": null
          },
          "name": "stdout",
          "output_type": "stream",
          "text": [
            "Processed batch 1440 to 1472\n"
          ]
        },
        {
          "metadata": {
            "tags": null
          },
          "name": "stderr",
          "output_type": "stream",
          "text": [
            "\r  9%|▉         | 47/518 [09:49<1:37:33, 12.43s/it]"
          ]
        },
        {
          "metadata": {
            "tags": null
          },
          "name": "stdout",
          "output_type": "stream",
          "text": [
            "Processed batch 1472 to 1504\n"
          ]
        },
        {
          "metadata": {
            "tags": null
          },
          "name": "stderr",
          "output_type": "stream",
          "text": [
            "\r  9%|▉         | 48/518 [10:01<1:37:07, 12.40s/it]"
          ]
        },
        {
          "metadata": {
            "tags": null
          },
          "name": "stdout",
          "output_type": "stream",
          "text": [
            "Processed batch 1504 to 1536\n"
          ]
        },
        {
          "metadata": {
            "tags": null
          },
          "name": "stderr",
          "output_type": "stream",
          "text": [
            "\r  9%|▉         | 49/518 [10:14<1:37:14, 12.44s/it]"
          ]
        },
        {
          "metadata": {
            "tags": null
          },
          "name": "stdout",
          "output_type": "stream",
          "text": [
            "Processed batch 1536 to 1568\n"
          ]
        },
        {
          "metadata": {
            "tags": null
          },
          "name": "stderr",
          "output_type": "stream",
          "text": [
            "\r 10%|▉         | 50/518 [10:26<1:36:50, 12.42s/it]"
          ]
        },
        {
          "metadata": {
            "tags": null
          },
          "name": "stdout",
          "output_type": "stream",
          "text": [
            "Processed batch 1568 to 1600\n"
          ]
        },
        {
          "metadata": {
            "tags": null
          },
          "name": "stderr",
          "output_type": "stream",
          "text": [
            "\r 10%|▉         | 51/518 [10:39<1:36:54, 12.45s/it]"
          ]
        },
        {
          "metadata": {
            "tags": null
          },
          "name": "stdout",
          "output_type": "stream",
          "text": [
            "Processed batch 1600 to 1632\n"
          ]
        },
        {
          "metadata": {
            "tags": null
          },
          "name": "stderr",
          "output_type": "stream",
          "text": [
            "\r 10%|█         | 52/518 [10:51<1:36:37, 12.44s/it]"
          ]
        },
        {
          "metadata": {
            "tags": null
          },
          "name": "stdout",
          "output_type": "stream",
          "text": [
            "Processed batch 1632 to 1664\n"
          ]
        },
        {
          "metadata": {
            "tags": null
          },
          "name": "stderr",
          "output_type": "stream",
          "text": [
            "\r 10%|█         | 53/518 [11:03<1:36:23, 12.44s/it]"
          ]
        },
        {
          "metadata": {
            "tags": null
          },
          "name": "stdout",
          "output_type": "stream",
          "text": [
            "Processed batch 1664 to 1696\n"
          ]
        },
        {
          "metadata": {
            "tags": null
          },
          "name": "stderr",
          "output_type": "stream",
          "text": [
            "\r 10%|█         | 54/518 [11:16<1:36:38, 12.50s/it]"
          ]
        },
        {
          "metadata": {
            "tags": null
          },
          "name": "stdout",
          "output_type": "stream",
          "text": [
            "Processed batch 1696 to 1728\n"
          ]
        },
        {
          "metadata": {
            "tags": null
          },
          "name": "stderr",
          "output_type": "stream",
          "text": [
            "\r 11%|█         | 55/518 [11:28<1:36:13, 12.47s/it]"
          ]
        },
        {
          "metadata": {
            "tags": null
          },
          "name": "stdout",
          "output_type": "stream",
          "text": [
            "Processed batch 1728 to 1760\n"
          ]
        },
        {
          "metadata": {
            "tags": null
          },
          "name": "stderr",
          "output_type": "stream",
          "text": [
            "\r 11%|█         | 56/518 [11:41<1:36:12, 12.49s/it]"
          ]
        },
        {
          "metadata": {
            "tags": null
          },
          "name": "stdout",
          "output_type": "stream",
          "text": [
            "Processed batch 1760 to 1792\n"
          ]
        },
        {
          "metadata": {
            "tags": null
          },
          "name": "stderr",
          "output_type": "stream",
          "text": [
            "\r 11%|█         | 57/518 [11:53<1:35:50, 12.47s/it]"
          ]
        },
        {
          "metadata": {
            "tags": null
          },
          "name": "stdout",
          "output_type": "stream",
          "text": [
            "Processed batch 1792 to 1824\n"
          ]
        },
        {
          "metadata": {
            "tags": null
          },
          "name": "stderr",
          "output_type": "stream",
          "text": [
            "\r 11%|█         | 58/518 [12:06<1:35:47, 12.49s/it]"
          ]
        },
        {
          "metadata": {
            "tags": null
          },
          "name": "stdout",
          "output_type": "stream",
          "text": [
            "Processed batch 1824 to 1856\n"
          ]
        },
        {
          "metadata": {
            "tags": null
          },
          "name": "stderr",
          "output_type": "stream",
          "text": [
            "\r 11%|█▏        | 59/518 [12:18<1:35:11, 12.44s/it]"
          ]
        },
        {
          "metadata": {
            "tags": null
          },
          "name": "stdout",
          "output_type": "stream",
          "text": [
            "Processed batch 1856 to 1888\n"
          ]
        },
        {
          "metadata": {
            "tags": null
          },
          "name": "stderr",
          "output_type": "stream",
          "text": [
            "\r 12%|█▏        | 60/518 [12:31<1:35:10, 12.47s/it]"
          ]
        },
        {
          "metadata": {
            "tags": null
          },
          "name": "stdout",
          "output_type": "stream",
          "text": [
            "Processed batch 1888 to 1920\n"
          ]
        },
        {
          "metadata": {
            "tags": null
          },
          "name": "stderr",
          "output_type": "stream",
          "text": [
            "\r 12%|█▏        | 61/518 [12:43<1:34:22, 12.39s/it]"
          ]
        },
        {
          "metadata": {
            "tags": null
          },
          "name": "stdout",
          "output_type": "stream",
          "text": [
            "Processed batch 1920 to 1952\n"
          ]
        },
        {
          "metadata": {
            "tags": null
          },
          "name": "stderr",
          "output_type": "stream",
          "text": [
            "\r 12%|█▏        | 62/518 [12:56<1:34:38, 12.45s/it]"
          ]
        },
        {
          "metadata": {
            "tags": null
          },
          "name": "stdout",
          "output_type": "stream",
          "text": [
            "Processed batch 1952 to 1984\n"
          ]
        },
        {
          "metadata": {
            "tags": null
          },
          "name": "stderr",
          "output_type": "stream",
          "text": [
            "\r 12%|█▏        | 63/518 [13:08<1:33:58, 12.39s/it]"
          ]
        },
        {
          "metadata": {
            "tags": null
          },
          "name": "stdout",
          "output_type": "stream",
          "text": [
            "Processed batch 1984 to 2016\n"
          ]
        },
        {
          "metadata": {
            "tags": null
          },
          "name": "stderr",
          "output_type": "stream",
          "text": [
            "\r 12%|█▏        | 64/518 [13:20<1:34:01, 12.43s/it]"
          ]
        },
        {
          "metadata": {
            "tags": null
          },
          "name": "stdout",
          "output_type": "stream",
          "text": [
            "Processed batch 2016 to 2048\n"
          ]
        },
        {
          "metadata": {
            "tags": null
          },
          "name": "stderr",
          "output_type": "stream",
          "text": [
            "\r 13%|█▎        | 65/518 [13:33<1:33:38, 12.40s/it]"
          ]
        },
        {
          "metadata": {
            "tags": null
          },
          "name": "stdout",
          "output_type": "stream",
          "text": [
            "Processed batch 2048 to 2080\n"
          ]
        },
        {
          "metadata": {
            "tags": null
          },
          "name": "stderr",
          "output_type": "stream",
          "text": [
            "\r 13%|█▎        | 66/518 [13:45<1:33:44, 12.44s/it]"
          ]
        },
        {
          "metadata": {
            "tags": null
          },
          "name": "stdout",
          "output_type": "stream",
          "text": [
            "Processed batch 2080 to 2112\n"
          ]
        },
        {
          "metadata": {
            "tags": null
          },
          "name": "stderr",
          "output_type": "stream",
          "text": [
            "\r 13%|█▎        | 67/518 [13:58<1:33:29, 12.44s/it]"
          ]
        },
        {
          "metadata": {
            "tags": null
          },
          "name": "stdout",
          "output_type": "stream",
          "text": [
            "Processed batch 2112 to 2144\n"
          ]
        },
        {
          "metadata": {
            "tags": null
          },
          "name": "stderr",
          "output_type": "stream",
          "text": [
            "\r 13%|█▎        | 68/518 [14:10<1:33:35, 12.48s/it]"
          ]
        },
        {
          "metadata": {
            "tags": null
          },
          "name": "stdout",
          "output_type": "stream",
          "text": [
            "Processed batch 2144 to 2176\n"
          ]
        },
        {
          "metadata": {
            "tags": null
          },
          "name": "stderr",
          "output_type": "stream",
          "text": [
            "\r 13%|█▎        | 69/518 [14:23<1:33:19, 12.47s/it]"
          ]
        },
        {
          "metadata": {
            "tags": null
          },
          "name": "stdout",
          "output_type": "stream",
          "text": [
            "Processed batch 2176 to 2208\n"
          ]
        },
        {
          "metadata": {
            "tags": null
          },
          "name": "stderr",
          "output_type": "stream",
          "text": [
            "\r 14%|█▎        | 70/518 [14:35<1:33:00, 12.46s/it]"
          ]
        },
        {
          "metadata": {
            "tags": null
          },
          "name": "stdout",
          "output_type": "stream",
          "text": [
            "Processed batch 2208 to 2240\n"
          ]
        },
        {
          "metadata": {
            "tags": null
          },
          "name": "stderr",
          "output_type": "stream",
          "text": [
            "\r 14%|█▎        | 71/518 [14:48<1:33:06, 12.50s/it]"
          ]
        },
        {
          "metadata": {
            "tags": null
          },
          "name": "stdout",
          "output_type": "stream",
          "text": [
            "Processed batch 2240 to 2272\n"
          ]
        },
        {
          "metadata": {
            "tags": null
          },
          "name": "stderr",
          "output_type": "stream",
          "text": [
            "\r 14%|█▍        | 72/518 [15:00<1:32:42, 12.47s/it]"
          ]
        },
        {
          "metadata": {
            "tags": null
          },
          "name": "stdout",
          "output_type": "stream",
          "text": [
            "Processed batch 2272 to 2304\n"
          ]
        },
        {
          "metadata": {
            "tags": null
          },
          "name": "stderr",
          "output_type": "stream",
          "text": [
            "\r 14%|█▍        | 73/518 [15:13<1:32:46, 12.51s/it]"
          ]
        },
        {
          "metadata": {
            "tags": null
          },
          "name": "stdout",
          "output_type": "stream",
          "text": [
            "Processed batch 2304 to 2336\n"
          ]
        },
        {
          "metadata": {
            "tags": null
          },
          "name": "stderr",
          "output_type": "stream",
          "text": [
            "\r 14%|█▍        | 74/518 [15:25<1:32:24, 12.49s/it]"
          ]
        },
        {
          "metadata": {
            "tags": null
          },
          "name": "stdout",
          "output_type": "stream",
          "text": [
            "Processed batch 2336 to 2368\n"
          ]
        },
        {
          "metadata": {
            "tags": null
          },
          "name": "stderr",
          "output_type": "stream",
          "text": [
            "\r 14%|█▍        | 75/518 [15:38<1:32:18, 12.50s/it]"
          ]
        },
        {
          "metadata": {
            "tags": null
          },
          "name": "stdout",
          "output_type": "stream",
          "text": [
            "Processed batch 2368 to 2400\n"
          ]
        },
        {
          "metadata": {
            "tags": null
          },
          "name": "stderr",
          "output_type": "stream",
          "text": [
            "\r 15%|█▍        | 76/518 [15:50<1:31:40, 12.45s/it]"
          ]
        },
        {
          "metadata": {
            "tags": null
          },
          "name": "stdout",
          "output_type": "stream",
          "text": [
            "Processed batch 2400 to 2432\n"
          ]
        },
        {
          "metadata": {
            "tags": null
          },
          "name": "stderr",
          "output_type": "stream",
          "text": [
            "\r 15%|█▍        | 77/518 [16:02<1:31:17, 12.42s/it]"
          ]
        },
        {
          "metadata": {
            "tags": null
          },
          "name": "stdout",
          "output_type": "stream",
          "text": [
            "Processed batch 2432 to 2464\n"
          ]
        },
        {
          "metadata": {
            "tags": null
          },
          "name": "stderr",
          "output_type": "stream",
          "text": [
            "\r 15%|█▌        | 78/518 [16:15<1:30:40, 12.37s/it]"
          ]
        },
        {
          "metadata": {
            "tags": null
          },
          "name": "stdout",
          "output_type": "stream",
          "text": [
            "Processed batch 2464 to 2496\n"
          ]
        },
        {
          "metadata": {
            "tags": null
          },
          "name": "stderr",
          "output_type": "stream",
          "text": [
            "\r 15%|█▌        | 79/518 [16:27<1:30:32, 12.38s/it]"
          ]
        },
        {
          "metadata": {
            "tags": null
          },
          "name": "stdout",
          "output_type": "stream",
          "text": [
            "Processed batch 2496 to 2528\n"
          ]
        },
        {
          "metadata": {
            "tags": null
          },
          "name": "stderr",
          "output_type": "stream",
          "text": [
            "\r 15%|█▌        | 80/518 [16:39<1:30:14, 12.36s/it]"
          ]
        },
        {
          "metadata": {
            "tags": null
          },
          "name": "stdout",
          "output_type": "stream",
          "text": [
            "Processed batch 2528 to 2560\n"
          ]
        },
        {
          "metadata": {
            "tags": null
          },
          "name": "stderr",
          "output_type": "stream",
          "text": [
            "\r 16%|█▌        | 81/518 [16:52<1:30:19, 12.40s/it]"
          ]
        },
        {
          "metadata": {
            "tags": null
          },
          "name": "stdout",
          "output_type": "stream",
          "text": [
            "Processed batch 2560 to 2592\n"
          ]
        },
        {
          "metadata": {
            "tags": null
          },
          "name": "stderr",
          "output_type": "stream",
          "text": [
            "\r 16%|█▌        | 82/518 [17:04<1:29:58, 12.38s/it]"
          ]
        },
        {
          "metadata": {
            "tags": null
          },
          "name": "stdout",
          "output_type": "stream",
          "text": [
            "Processed batch 2592 to 2624\n"
          ]
        },
        {
          "metadata": {
            "tags": null
          },
          "name": "stderr",
          "output_type": "stream",
          "text": [
            "\r 16%|█▌        | 83/518 [17:17<1:30:07, 12.43s/it]"
          ]
        },
        {
          "metadata": {
            "tags": null
          },
          "name": "stdout",
          "output_type": "stream",
          "text": [
            "Processed batch 2624 to 2656\n"
          ]
        },
        {
          "metadata": {
            "tags": null
          },
          "name": "stderr",
          "output_type": "stream",
          "text": [
            "\r 16%|█▌        | 84/518 [17:29<1:30:03, 12.45s/it]"
          ]
        },
        {
          "metadata": {
            "tags": null
          },
          "name": "stdout",
          "output_type": "stream",
          "text": [
            "Processed batch 2656 to 2688\n"
          ]
        },
        {
          "metadata": {
            "tags": null
          },
          "name": "stderr",
          "output_type": "stream",
          "text": [
            "\r 16%|█▋        | 85/518 [17:42<1:29:38, 12.42s/it]"
          ]
        },
        {
          "metadata": {
            "tags": null
          },
          "name": "stdout",
          "output_type": "stream",
          "text": [
            "Processed batch 2688 to 2720\n"
          ]
        },
        {
          "metadata": {
            "tags": null
          },
          "name": "stderr",
          "output_type": "stream",
          "text": [
            "\r 17%|█▋        | 86/518 [17:54<1:29:45, 12.47s/it]"
          ]
        },
        {
          "metadata": {
            "tags": null
          },
          "name": "stdout",
          "output_type": "stream",
          "text": [
            "Processed batch 2720 to 2752\n"
          ]
        },
        {
          "metadata": {
            "tags": null
          },
          "name": "stderr",
          "output_type": "stream",
          "text": [
            "\r 17%|█▋        | 87/518 [18:07<1:29:26, 12.45s/it]"
          ]
        },
        {
          "metadata": {
            "tags": null
          },
          "name": "stdout",
          "output_type": "stream",
          "text": [
            "Processed batch 2752 to 2784\n"
          ]
        },
        {
          "metadata": {
            "tags": null
          },
          "name": "stderr",
          "output_type": "stream",
          "text": [
            "\r 17%|█▋        | 88/518 [18:19<1:29:43, 12.52s/it]"
          ]
        },
        {
          "metadata": {
            "tags": null
          },
          "name": "stdout",
          "output_type": "stream",
          "text": [
            "Processed batch 2784 to 2816\n"
          ]
        },
        {
          "metadata": {
            "tags": null
          },
          "name": "stderr",
          "output_type": "stream",
          "text": [
            "\r 17%|█▋        | 89/518 [18:32<1:29:22, 12.50s/it]"
          ]
        },
        {
          "metadata": {
            "tags": null
          },
          "name": "stdout",
          "output_type": "stream",
          "text": [
            "Processed batch 2816 to 2848\n"
          ]
        },
        {
          "metadata": {
            "tags": null
          },
          "name": "stderr",
          "output_type": "stream",
          "text": [
            "\r 17%|█▋        | 90/518 [18:44<1:29:00, 12.48s/it]"
          ]
        },
        {
          "metadata": {
            "tags": null
          },
          "name": "stdout",
          "output_type": "stream",
          "text": [
            "Processed batch 2848 to 2880\n"
          ]
        },
        {
          "metadata": {
            "tags": null
          },
          "name": "stderr",
          "output_type": "stream",
          "text": [
            "\r 18%|█▊        | 91/518 [18:56<1:28:19, 12.41s/it]"
          ]
        },
        {
          "metadata": {
            "tags": null
          },
          "name": "stdout",
          "output_type": "stream",
          "text": [
            "Processed batch 2880 to 2912\n"
          ]
        },
        {
          "output_type": "stream",
          "name": "stderr",
          "text": [
            "\r 18%|█▊        | 92/518 [19:09<1:28:00, 12.39s/it]"
          ]
        },
        {
          "output_type": "stream",
          "name": "stdout",
          "text": [
            "Processed batch 2912 to 2944\n"
          ]
        },
        {
          "output_type": "stream",
          "name": "stderr",
          "text": [
            "\r 18%|█▊        | 93/518 [19:21<1:27:30, 12.35s/it]"
          ]
        },
        {
          "output_type": "stream",
          "name": "stdout",
          "text": [
            "Processed batch 2944 to 2976\n"
          ]
        },
        {
          "output_type": "stream",
          "name": "stderr",
          "text": [
            "\r 18%|█▊        | 94/518 [19:33<1:27:32, 12.39s/it]"
          ]
        },
        {
          "output_type": "stream",
          "name": "stdout",
          "text": [
            "Processed batch 2976 to 3008\n"
          ]
        },
        {
          "output_type": "stream",
          "name": "stderr",
          "text": [
            "\r 18%|█▊        | 95/518 [19:46<1:27:14, 12.38s/it]"
          ]
        },
        {
          "output_type": "stream",
          "name": "stdout",
          "text": [
            "Processed batch 3008 to 3040\n"
          ]
        },
        {
          "output_type": "stream",
          "name": "stderr",
          "text": [
            "\r 19%|█▊        | 96/518 [19:58<1:27:14, 12.40s/it]"
          ]
        },
        {
          "output_type": "stream",
          "name": "stdout",
          "text": [
            "Processed batch 3040 to 3072\n"
          ]
        },
        {
          "output_type": "stream",
          "name": "stderr",
          "text": [
            "\r 19%|█▊        | 97/518 [20:11<1:26:58, 12.40s/it]"
          ]
        },
        {
          "output_type": "stream",
          "name": "stdout",
          "text": [
            "Processed batch 3072 to 3104\n"
          ]
        },
        {
          "output_type": "stream",
          "name": "stderr",
          "text": [
            "\r 19%|█▉        | 98/518 [20:23<1:27:09, 12.45s/it]"
          ]
        },
        {
          "output_type": "stream",
          "name": "stdout",
          "text": [
            "Processed batch 3104 to 3136\n"
          ]
        },
        {
          "output_type": "stream",
          "name": "stderr",
          "text": [
            "\r 19%|█▉        | 99/518 [20:36<1:26:55, 12.45s/it]"
          ]
        },
        {
          "output_type": "stream",
          "name": "stdout",
          "text": [
            "Processed batch 3136 to 3168\n"
          ]
        },
        {
          "output_type": "stream",
          "name": "stderr",
          "text": [
            "\r 19%|█▉        | 100/518 [20:48<1:27:10, 12.51s/it]"
          ]
        },
        {
          "output_type": "stream",
          "name": "stdout",
          "text": [
            "Processed batch 3168 to 3200\n"
          ]
        },
        {
          "output_type": "stream",
          "name": "stderr",
          "text": [
            "\r 19%|█▉        | 101/518 [21:01<1:26:45, 12.48s/it]"
          ]
        },
        {
          "output_type": "stream",
          "name": "stdout",
          "text": [
            "Processed batch 3200 to 3232\n"
          ]
        },
        {
          "output_type": "stream",
          "name": "stderr",
          "text": [
            "\r 20%|█▉        | 102/518 [21:09<1:18:11, 11.28s/it]"
          ]
        },
        {
          "output_type": "stream",
          "name": "stdout",
          "text": [
            "Processed batch 3232 to 3264\n"
          ]
        },
        {
          "output_type": "stream",
          "name": "stderr",
          "text": [
            "\r 20%|█▉        | 103/518 [21:22<1:20:02, 11.57s/it]"
          ]
        },
        {
          "output_type": "stream",
          "name": "stdout",
          "text": [
            "Processed batch 3264 to 3296\n"
          ]
        },
        {
          "output_type": "stream",
          "name": "stderr",
          "text": [
            "\r 20%|██        | 104/518 [21:34<1:22:18, 11.93s/it]"
          ]
        },
        {
          "output_type": "stream",
          "name": "stdout",
          "text": [
            "Processed batch 3296 to 3328\n"
          ]
        },
        {
          "output_type": "stream",
          "name": "stderr",
          "text": [
            "\r 20%|██        | 105/518 [21:47<1:23:00, 12.06s/it]"
          ]
        },
        {
          "output_type": "stream",
          "name": "stdout",
          "text": [
            "Processed batch 3328 to 3360\n"
          ]
        },
        {
          "output_type": "stream",
          "name": "stderr",
          "text": [
            "\r 20%|██        | 106/518 [21:59<1:23:53, 12.22s/it]"
          ]
        },
        {
          "output_type": "stream",
          "name": "stdout",
          "text": [
            "Processed batch 3360 to 3392\n"
          ]
        },
        {
          "output_type": "stream",
          "name": "stderr",
          "text": [
            "\r 21%|██        | 107/518 [22:12<1:24:07, 12.28s/it]"
          ]
        },
        {
          "output_type": "stream",
          "name": "stdout",
          "text": [
            "Processed batch 3392 to 3424\n"
          ]
        },
        {
          "output_type": "stream",
          "name": "stderr",
          "text": [
            "\r 21%|██        | 108/518 [22:24<1:24:11, 12.32s/it]"
          ]
        },
        {
          "output_type": "stream",
          "name": "stdout",
          "text": [
            "Processed batch 3424 to 3456\n"
          ]
        },
        {
          "output_type": "stream",
          "name": "stderr",
          "text": [
            "\r 21%|██        | 109/518 [22:37<1:24:30, 12.40s/it]"
          ]
        },
        {
          "output_type": "stream",
          "name": "stdout",
          "text": [
            "Processed batch 3456 to 3488\n"
          ]
        },
        {
          "output_type": "stream",
          "name": "stderr",
          "text": [
            "\r 21%|██        | 110/518 [22:49<1:24:16, 12.39s/it]"
          ]
        },
        {
          "output_type": "stream",
          "name": "stdout",
          "text": [
            "Processed batch 3488 to 3520\n"
          ]
        },
        {
          "output_type": "stream",
          "name": "stderr",
          "text": [
            "\r 21%|██▏       | 111/518 [23:01<1:22:31, 12.17s/it]"
          ]
        },
        {
          "output_type": "stream",
          "name": "stdout",
          "text": [
            "Processed batch 3520 to 3552\n"
          ]
        },
        {
          "output_type": "stream",
          "name": "stderr",
          "text": [
            "\r 22%|██▏       | 112/518 [23:13<1:22:39, 12.21s/it]"
          ]
        },
        {
          "output_type": "stream",
          "name": "stdout",
          "text": [
            "Processed batch 3552 to 3584\n"
          ]
        },
        {
          "output_type": "stream",
          "name": "stderr",
          "text": [
            "\r 22%|██▏       | 113/518 [23:25<1:23:02, 12.30s/it]"
          ]
        },
        {
          "output_type": "stream",
          "name": "stdout",
          "text": [
            "Processed batch 3584 to 3616\n"
          ]
        },
        {
          "output_type": "stream",
          "name": "stderr",
          "text": [
            "\r 22%|██▏       | 114/518 [23:38<1:22:43, 12.29s/it]"
          ]
        },
        {
          "output_type": "stream",
          "name": "stdout",
          "text": [
            "Processed batch 3616 to 3648\n"
          ]
        },
        {
          "output_type": "stream",
          "name": "stderr",
          "text": [
            "\r 22%|██▏       | 115/518 [23:50<1:22:54, 12.34s/it]"
          ]
        },
        {
          "output_type": "stream",
          "name": "stdout",
          "text": [
            "Processed batch 3648 to 3680\n"
          ]
        },
        {
          "output_type": "stream",
          "name": "stderr",
          "text": [
            "\r 22%|██▏       | 116/518 [24:03<1:22:47, 12.36s/it]"
          ]
        },
        {
          "output_type": "stream",
          "name": "stdout",
          "text": [
            "Processed batch 3680 to 3712\n"
          ]
        },
        {
          "output_type": "stream",
          "name": "stderr",
          "text": [
            "\r 23%|██▎       | 117/518 [24:15<1:23:05, 12.43s/it]"
          ]
        },
        {
          "output_type": "stream",
          "name": "stdout",
          "text": [
            "Processed batch 3712 to 3744\n"
          ]
        },
        {
          "output_type": "stream",
          "name": "stderr",
          "text": [
            "\r 23%|██▎       | 118/518 [24:28<1:22:50, 12.43s/it]"
          ]
        },
        {
          "output_type": "stream",
          "name": "stdout",
          "text": [
            "Processed batch 3744 to 3776\n"
          ]
        },
        {
          "output_type": "stream",
          "name": "stderr",
          "text": [
            "\r 23%|██▎       | 119/518 [24:40<1:22:59, 12.48s/it]"
          ]
        },
        {
          "output_type": "stream",
          "name": "stdout",
          "text": [
            "Processed batch 3776 to 3808\n"
          ]
        },
        {
          "output_type": "stream",
          "name": "stderr",
          "text": [
            "\r 23%|██▎       | 120/518 [24:53<1:22:47, 12.48s/it]"
          ]
        },
        {
          "output_type": "stream",
          "name": "stdout",
          "text": [
            "Processed batch 3808 to 3840\n"
          ]
        },
        {
          "output_type": "stream",
          "name": "stderr",
          "text": [
            "\r 23%|██▎       | 121/518 [25:05<1:22:47, 12.51s/it]"
          ]
        },
        {
          "output_type": "stream",
          "name": "stdout",
          "text": [
            "Processed batch 3840 to 3872\n"
          ]
        },
        {
          "output_type": "stream",
          "name": "stderr",
          "text": [
            "\r 24%|██▎       | 122/518 [25:18<1:22:31, 12.50s/it]"
          ]
        },
        {
          "output_type": "stream",
          "name": "stdout",
          "text": [
            "Processed batch 3872 to 3904\n"
          ]
        },
        {
          "output_type": "stream",
          "name": "stderr",
          "text": [
            "\r 24%|██▎       | 123/518 [25:30<1:22:34, 12.54s/it]"
          ]
        },
        {
          "output_type": "stream",
          "name": "stdout",
          "text": [
            "Processed batch 3904 to 3936\n"
          ]
        },
        {
          "output_type": "stream",
          "name": "stderr",
          "text": [
            "\r 24%|██▍       | 124/518 [25:43<1:22:11, 12.52s/it]"
          ]
        },
        {
          "output_type": "stream",
          "name": "stdout",
          "text": [
            "Processed batch 3936 to 3968\n"
          ]
        },
        {
          "output_type": "stream",
          "name": "stderr",
          "text": [
            "\r 24%|██▍       | 125/518 [25:56<1:22:39, 12.62s/it]"
          ]
        },
        {
          "output_type": "stream",
          "name": "stdout",
          "text": [
            "Processed batch 3968 to 4000\n"
          ]
        },
        {
          "output_type": "stream",
          "name": "stderr",
          "text": [
            "\r 24%|██▍       | 126/518 [26:08<1:21:46, 12.52s/it]"
          ]
        },
        {
          "output_type": "stream",
          "name": "stdout",
          "text": [
            "Processed batch 4000 to 4032\n"
          ]
        },
        {
          "output_type": "stream",
          "name": "stderr",
          "text": [
            "\r 25%|██▍       | 127/518 [26:20<1:21:09, 12.45s/it]"
          ]
        },
        {
          "output_type": "stream",
          "name": "stdout",
          "text": [
            "Processed batch 4032 to 4064\n"
          ]
        },
        {
          "output_type": "stream",
          "name": "stderr",
          "text": [
            "\r 25%|██▍       | 128/518 [26:33<1:20:55, 12.45s/it]"
          ]
        },
        {
          "output_type": "stream",
          "name": "stdout",
          "text": [
            "Processed batch 4064 to 4096\n"
          ]
        },
        {
          "output_type": "stream",
          "name": "stderr",
          "text": [
            "\r 25%|██▍       | 129/518 [26:45<1:20:21, 12.40s/it]"
          ]
        },
        {
          "output_type": "stream",
          "name": "stdout",
          "text": [
            "Processed batch 4096 to 4128\n"
          ]
        },
        {
          "output_type": "stream",
          "name": "stderr",
          "text": [
            "\r 25%|██▌       | 130/518 [26:58<1:20:24, 12.43s/it]"
          ]
        },
        {
          "output_type": "stream",
          "name": "stdout",
          "text": [
            "Processed batch 4128 to 4160\n"
          ]
        },
        {
          "output_type": "stream",
          "name": "stderr",
          "text": [
            "\r 25%|██▌       | 131/518 [27:10<1:20:04, 12.42s/it]"
          ]
        },
        {
          "output_type": "stream",
          "name": "stdout",
          "text": [
            "Processed batch 4160 to 4192\n"
          ]
        },
        {
          "output_type": "stream",
          "name": "stderr",
          "text": [
            "\r 25%|██▌       | 132/518 [27:22<1:20:06, 12.45s/it]"
          ]
        },
        {
          "output_type": "stream",
          "name": "stdout",
          "text": [
            "Processed batch 4192 to 4224\n"
          ]
        },
        {
          "output_type": "stream",
          "name": "stderr",
          "text": [
            "\r 26%|██▌       | 133/518 [27:35<1:19:49, 12.44s/it]"
          ]
        },
        {
          "output_type": "stream",
          "name": "stdout",
          "text": [
            "Processed batch 4224 to 4256\n"
          ]
        },
        {
          "output_type": "stream",
          "name": "stderr",
          "text": [
            "\r 26%|██▌       | 134/518 [27:47<1:19:44, 12.46s/it]"
          ]
        },
        {
          "output_type": "stream",
          "name": "stdout",
          "text": [
            "Processed batch 4256 to 4288\n"
          ]
        },
        {
          "output_type": "stream",
          "name": "stderr",
          "text": [
            "\r 26%|██▌       | 135/518 [28:00<1:19:22, 12.43s/it]"
          ]
        },
        {
          "output_type": "stream",
          "name": "stdout",
          "text": [
            "Processed batch 4288 to 4320\n"
          ]
        },
        {
          "output_type": "stream",
          "name": "stderr",
          "text": [
            "\r 26%|██▋       | 136/518 [28:12<1:19:37, 12.51s/it]"
          ]
        },
        {
          "output_type": "stream",
          "name": "stdout",
          "text": [
            "Processed batch 4320 to 4352\n"
          ]
        },
        {
          "output_type": "stream",
          "name": "stderr",
          "text": [
            "\r 26%|██▋       | 137/518 [28:25<1:19:13, 12.48s/it]"
          ]
        },
        {
          "output_type": "stream",
          "name": "stdout",
          "text": [
            "Processed batch 4352 to 4384\n"
          ]
        },
        {
          "output_type": "stream",
          "name": "stderr",
          "text": [
            "\r 27%|██▋       | 138/518 [28:37<1:19:11, 12.50s/it]"
          ]
        },
        {
          "output_type": "stream",
          "name": "stdout",
          "text": [
            "Processed batch 4384 to 4416\n"
          ]
        },
        {
          "output_type": "stream",
          "name": "stderr",
          "text": [
            "\r 27%|██▋       | 139/518 [28:50<1:18:40, 12.45s/it]"
          ]
        },
        {
          "output_type": "stream",
          "name": "stdout",
          "text": [
            "Processed batch 4416 to 4448\n"
          ]
        },
        {
          "output_type": "stream",
          "name": "stderr",
          "text": [
            "\r 27%|██▋       | 140/518 [29:02<1:18:26, 12.45s/it]"
          ]
        },
        {
          "output_type": "stream",
          "name": "stdout",
          "text": [
            "Processed batch 4448 to 4480\n"
          ]
        },
        {
          "output_type": "stream",
          "name": "stderr",
          "text": [
            "\r 27%|██▋       | 141/518 [29:14<1:17:46, 12.38s/it]"
          ]
        },
        {
          "output_type": "stream",
          "name": "stdout",
          "text": [
            "Processed batch 4480 to 4512\n"
          ]
        },
        {
          "output_type": "stream",
          "name": "stderr",
          "text": [
            "\r 27%|██▋       | 142/518 [29:27<1:17:37, 12.39s/it]"
          ]
        },
        {
          "output_type": "stream",
          "name": "stdout",
          "text": [
            "Processed batch 4512 to 4544\n"
          ]
        },
        {
          "output_type": "stream",
          "name": "stderr",
          "text": [
            "\r 28%|██▊       | 143/518 [29:39<1:17:14, 12.36s/it]"
          ]
        },
        {
          "output_type": "stream",
          "name": "stdout",
          "text": [
            "Processed batch 4544 to 4576\n"
          ]
        },
        {
          "output_type": "stream",
          "name": "stderr",
          "text": [
            "\r 28%|██▊       | 144/518 [29:52<1:17:22, 12.41s/it]"
          ]
        },
        {
          "output_type": "stream",
          "name": "stdout",
          "text": [
            "Processed batch 4576 to 4608\n"
          ]
        },
        {
          "output_type": "stream",
          "name": "stderr",
          "text": [
            "\r 28%|██▊       | 145/518 [30:04<1:16:59, 12.39s/it]"
          ]
        },
        {
          "output_type": "stream",
          "name": "stdout",
          "text": [
            "Processed batch 4608 to 4640\n"
          ]
        },
        {
          "output_type": "stream",
          "name": "stderr",
          "text": [
            "\r 28%|██▊       | 146/518 [30:17<1:17:36, 12.52s/it]"
          ]
        },
        {
          "output_type": "stream",
          "name": "stdout",
          "text": [
            "Processed batch 4640 to 4672\n"
          ]
        },
        {
          "output_type": "stream",
          "name": "stderr",
          "text": [
            "\r 28%|██▊       | 147/518 [30:29<1:17:26, 12.52s/it]"
          ]
        },
        {
          "output_type": "stream",
          "name": "stdout",
          "text": [
            "Processed batch 4672 to 4704\n"
          ]
        },
        {
          "output_type": "stream",
          "name": "stderr",
          "text": [
            "\r 29%|██▊       | 148/518 [30:42<1:17:05, 12.50s/it]"
          ]
        },
        {
          "output_type": "stream",
          "name": "stdout",
          "text": [
            "Processed batch 4704 to 4736\n"
          ]
        },
        {
          "output_type": "stream",
          "name": "stderr",
          "text": [
            "\r 29%|██▉       | 149/518 [30:54<1:16:42, 12.47s/it]"
          ]
        },
        {
          "output_type": "stream",
          "name": "stdout",
          "text": [
            "Processed batch 4736 to 4768\n"
          ]
        },
        {
          "output_type": "stream",
          "name": "stderr",
          "text": [
            "\r 29%|██▉       | 150/518 [31:06<1:15:59, 12.39s/it]"
          ]
        },
        {
          "output_type": "stream",
          "name": "stdout",
          "text": [
            "Processed batch 4768 to 4800\n"
          ]
        },
        {
          "output_type": "stream",
          "name": "stderr",
          "text": [
            "\r 29%|██▉       | 151/518 [31:16<1:10:46, 11.57s/it]"
          ]
        },
        {
          "output_type": "stream",
          "name": "stdout",
          "text": [
            "Processed batch 4800 to 4832\n"
          ]
        },
        {
          "output_type": "stream",
          "name": "stderr",
          "text": [
            "\r 29%|██▉       | 152/518 [31:28<1:11:56, 11.79s/it]"
          ]
        },
        {
          "output_type": "stream",
          "name": "stdout",
          "text": [
            "Processed batch 4832 to 4864\n"
          ]
        },
        {
          "output_type": "stream",
          "name": "stderr",
          "text": [
            "\r 30%|██▉       | 153/518 [31:41<1:13:04, 12.01s/it]"
          ]
        },
        {
          "output_type": "stream",
          "name": "stdout",
          "text": [
            "Processed batch 4864 to 4896\n"
          ]
        },
        {
          "output_type": "stream",
          "name": "stderr",
          "text": [
            "\r 30%|██▉       | 154/518 [31:53<1:13:34, 12.13s/it]"
          ]
        },
        {
          "output_type": "stream",
          "name": "stdout",
          "text": [
            "Processed batch 4896 to 4928\n"
          ]
        },
        {
          "output_type": "stream",
          "name": "stderr",
          "text": [
            "\r 30%|██▉       | 155/518 [32:06<1:14:05, 12.25s/it]"
          ]
        },
        {
          "output_type": "stream",
          "name": "stdout",
          "text": [
            "Processed batch 4928 to 4960\n"
          ]
        },
        {
          "output_type": "stream",
          "name": "stderr",
          "text": [
            "\r 30%|███       | 156/518 [32:18<1:14:07, 12.29s/it]"
          ]
        },
        {
          "output_type": "stream",
          "name": "stdout",
          "text": [
            "Processed batch 4960 to 4992\n"
          ]
        },
        {
          "output_type": "stream",
          "name": "stderr",
          "text": [
            "\r 30%|███       | 157/518 [32:31<1:14:22, 12.36s/it]"
          ]
        },
        {
          "output_type": "stream",
          "name": "stdout",
          "text": [
            "Processed batch 4992 to 5024\n"
          ]
        },
        {
          "output_type": "stream",
          "name": "stderr",
          "text": [
            "\r 31%|███       | 158/518 [32:43<1:14:12, 12.37s/it]"
          ]
        },
        {
          "output_type": "stream",
          "name": "stdout",
          "text": [
            "Processed batch 5024 to 5056\n"
          ]
        },
        {
          "output_type": "stream",
          "name": "stderr",
          "text": [
            "\r 31%|███       | 159/518 [32:55<1:14:03, 12.38s/it]"
          ]
        },
        {
          "output_type": "stream",
          "name": "stdout",
          "text": [
            "Processed batch 5056 to 5088\n"
          ]
        },
        {
          "output_type": "stream",
          "name": "stderr",
          "text": [
            "\r 31%|███       | 160/518 [33:08<1:14:11, 12.43s/it]"
          ]
        },
        {
          "output_type": "stream",
          "name": "stdout",
          "text": [
            "Processed batch 5088 to 5120\n"
          ]
        },
        {
          "output_type": "stream",
          "name": "stderr",
          "text": [
            "\r 31%|███       | 161/518 [33:20<1:13:28, 12.35s/it]"
          ]
        },
        {
          "output_type": "stream",
          "name": "stdout",
          "text": [
            "Processed batch 5120 to 5152\n"
          ]
        },
        {
          "output_type": "stream",
          "name": "stderr",
          "text": [
            "\r 31%|███▏      | 162/518 [33:33<1:13:19, 12.36s/it]"
          ]
        },
        {
          "output_type": "stream",
          "name": "stdout",
          "text": [
            "Processed batch 5152 to 5184\n"
          ]
        },
        {
          "output_type": "stream",
          "name": "stderr",
          "text": [
            "\r 31%|███▏      | 163/518 [33:45<1:12:51, 12.32s/it]"
          ]
        },
        {
          "output_type": "stream",
          "name": "stdout",
          "text": [
            "Processed batch 5184 to 5216\n"
          ]
        },
        {
          "output_type": "stream",
          "name": "stderr",
          "text": [
            "\r 32%|███▏      | 164/518 [33:57<1:12:53, 12.35s/it]"
          ]
        },
        {
          "output_type": "stream",
          "name": "stdout",
          "text": [
            "Processed batch 5216 to 5248\n"
          ]
        },
        {
          "output_type": "stream",
          "name": "stderr",
          "text": [
            "\r 32%|███▏      | 165/518 [34:10<1:12:38, 12.35s/it]"
          ]
        },
        {
          "output_type": "stream",
          "name": "stdout",
          "text": [
            "Processed batch 5248 to 5280\n"
          ]
        },
        {
          "output_type": "stream",
          "name": "stderr",
          "text": [
            "\r 32%|███▏      | 166/518 [34:22<1:12:49, 12.41s/it]"
          ]
        },
        {
          "output_type": "stream",
          "name": "stdout",
          "text": [
            "Processed batch 5280 to 5312\n"
          ]
        },
        {
          "output_type": "stream",
          "name": "stderr",
          "text": [
            "\r 32%|███▏      | 167/518 [34:35<1:13:09, 12.51s/it]"
          ]
        },
        {
          "output_type": "stream",
          "name": "stdout",
          "text": [
            "Processed batch 5312 to 5344\n"
          ]
        },
        {
          "output_type": "stream",
          "name": "stderr",
          "text": [
            "\r 32%|███▏      | 168/518 [34:47<1:13:00, 12.52s/it]"
          ]
        },
        {
          "output_type": "stream",
          "name": "stdout",
          "text": [
            "Processed batch 5344 to 5376\n"
          ]
        },
        {
          "output_type": "stream",
          "name": "stderr",
          "text": [
            "\r 33%|███▎      | 169/518 [35:00<1:12:35, 12.48s/it]"
          ]
        },
        {
          "output_type": "stream",
          "name": "stdout",
          "text": [
            "Processed batch 5376 to 5408\n"
          ]
        },
        {
          "output_type": "stream",
          "name": "stderr",
          "text": [
            "\r 33%|███▎      | 170/518 [35:12<1:12:16, 12.46s/it]"
          ]
        },
        {
          "output_type": "stream",
          "name": "stdout",
          "text": [
            "Processed batch 5408 to 5440\n"
          ]
        },
        {
          "output_type": "stream",
          "name": "stderr",
          "text": [
            "\r 33%|███▎      | 171/518 [35:25<1:12:04, 12.46s/it]"
          ]
        },
        {
          "output_type": "stream",
          "name": "stdout",
          "text": [
            "Processed batch 5440 to 5472\n"
          ]
        },
        {
          "output_type": "stream",
          "name": "stderr",
          "text": [
            "\r 33%|███▎      | 172/518 [35:37<1:11:42, 12.43s/it]"
          ]
        },
        {
          "output_type": "stream",
          "name": "stdout",
          "text": [
            "Processed batch 5472 to 5504\n"
          ]
        },
        {
          "output_type": "stream",
          "name": "stderr",
          "text": [
            "\r 33%|███▎      | 173/518 [35:50<1:11:43, 12.47s/it]"
          ]
        },
        {
          "output_type": "stream",
          "name": "stdout",
          "text": [
            "Processed batch 5504 to 5536\n"
          ]
        },
        {
          "output_type": "stream",
          "name": "stderr",
          "text": [
            "\r 34%|███▎      | 174/518 [36:00<1:07:43, 11.81s/it]"
          ]
        },
        {
          "output_type": "stream",
          "name": "stdout",
          "text": [
            "Processed batch 5536 to 5568\n"
          ]
        },
        {
          "output_type": "stream",
          "name": "stderr",
          "text": [
            "\r 34%|███▍      | 175/518 [36:12<1:08:22, 11.96s/it]"
          ]
        },
        {
          "output_type": "stream",
          "name": "stdout",
          "text": [
            "Processed batch 5568 to 5600\n"
          ]
        },
        {
          "output_type": "stream",
          "name": "stderr",
          "text": [
            "\r 34%|███▍      | 176/518 [36:24<1:08:39, 12.05s/it]"
          ]
        },
        {
          "output_type": "stream",
          "name": "stdout",
          "text": [
            "Processed batch 5600 to 5632\n"
          ]
        },
        {
          "output_type": "stream",
          "name": "stderr",
          "text": [
            "\r 34%|███▍      | 177/518 [36:37<1:09:02, 12.15s/it]"
          ]
        },
        {
          "output_type": "stream",
          "name": "stdout",
          "text": [
            "Processed batch 5632 to 5664\n"
          ]
        },
        {
          "output_type": "stream",
          "name": "stderr",
          "text": [
            "\r 34%|███▍      | 178/518 [36:49<1:09:10, 12.21s/it]"
          ]
        },
        {
          "output_type": "stream",
          "name": "stdout",
          "text": [
            "Processed batch 5664 to 5696\n"
          ]
        },
        {
          "output_type": "stream",
          "name": "stderr",
          "text": [
            "\r 35%|███▍      | 179/518 [37:02<1:09:32, 12.31s/it]"
          ]
        },
        {
          "output_type": "stream",
          "name": "stdout",
          "text": [
            "Processed batch 5696 to 5728\n"
          ]
        },
        {
          "output_type": "stream",
          "name": "stderr",
          "text": [
            "\r 35%|███▍      | 180/518 [37:14<1:09:28, 12.33s/it]"
          ]
        },
        {
          "output_type": "stream",
          "name": "stdout",
          "text": [
            "Processed batch 5728 to 5760\n"
          ]
        },
        {
          "output_type": "stream",
          "name": "stderr",
          "text": [
            "\r 35%|███▍      | 181/518 [37:26<1:09:21, 12.35s/it]"
          ]
        },
        {
          "output_type": "stream",
          "name": "stdout",
          "text": [
            "Processed batch 5760 to 5792\n"
          ]
        },
        {
          "output_type": "stream",
          "name": "stderr",
          "text": [
            "\r 35%|███▌      | 182/518 [37:39<1:09:22, 12.39s/it]"
          ]
        },
        {
          "output_type": "stream",
          "name": "stdout",
          "text": [
            "Processed batch 5792 to 5824\n"
          ]
        },
        {
          "output_type": "stream",
          "name": "stderr",
          "text": [
            "\r 35%|███▌      | 183/518 [37:51<1:09:10, 12.39s/it]"
          ]
        },
        {
          "output_type": "stream",
          "name": "stdout",
          "text": [
            "Processed batch 5824 to 5856\n"
          ]
        },
        {
          "output_type": "stream",
          "name": "stderr",
          "text": [
            "\r 36%|███▌      | 184/518 [38:04<1:09:15, 12.44s/it]"
          ]
        },
        {
          "output_type": "stream",
          "name": "stdout",
          "text": [
            "Processed batch 5856 to 5888\n"
          ]
        },
        {
          "output_type": "stream",
          "name": "stderr",
          "text": [
            "\r 36%|███▌      | 185/518 [38:16<1:09:00, 12.43s/it]"
          ]
        },
        {
          "output_type": "stream",
          "name": "stdout",
          "text": [
            "Processed batch 5888 to 5920\n"
          ]
        },
        {
          "output_type": "stream",
          "name": "stderr",
          "text": [
            "\r 36%|███▌      | 186/518 [38:29<1:08:56, 12.46s/it]"
          ]
        },
        {
          "output_type": "stream",
          "name": "stdout",
          "text": [
            "Processed batch 5920 to 5952\n"
          ]
        },
        {
          "output_type": "stream",
          "name": "stderr",
          "text": [
            "\r 36%|███▌      | 187/518 [38:41<1:08:16, 12.38s/it]"
          ]
        },
        {
          "output_type": "stream",
          "name": "stdout",
          "text": [
            "Processed batch 5952 to 5984\n"
          ]
        },
        {
          "output_type": "stream",
          "name": "stderr",
          "text": [
            "\r 36%|███▋      | 188/518 [38:53<1:08:00, 12.37s/it]"
          ]
        },
        {
          "output_type": "stream",
          "name": "stdout",
          "text": [
            "Processed batch 5984 to 6016\n"
          ]
        },
        {
          "output_type": "stream",
          "name": "stderr",
          "text": [
            "\r 36%|███▋      | 189/518 [39:06<1:07:52, 12.38s/it]"
          ]
        },
        {
          "output_type": "stream",
          "name": "stdout",
          "text": [
            "Processed batch 6016 to 6048\n"
          ]
        },
        {
          "output_type": "stream",
          "name": "stderr",
          "text": [
            "\r 37%|███▋      | 190/518 [39:18<1:07:24, 12.33s/it]"
          ]
        },
        {
          "output_type": "stream",
          "name": "stdout",
          "text": [
            "Processed batch 6048 to 6080\n"
          ]
        },
        {
          "output_type": "stream",
          "name": "stderr",
          "text": [
            "\r 37%|███▋      | 191/518 [39:30<1:07:23, 12.36s/it]"
          ]
        },
        {
          "output_type": "stream",
          "name": "stdout",
          "text": [
            "Processed batch 6080 to 6112\n"
          ]
        },
        {
          "output_type": "stream",
          "name": "stderr",
          "text": [
            "\r 37%|███▋      | 192/518 [39:43<1:07:03, 12.34s/it]"
          ]
        },
        {
          "output_type": "stream",
          "name": "stdout",
          "text": [
            "Processed batch 6112 to 6144\n"
          ]
        },
        {
          "output_type": "stream",
          "name": "stderr",
          "text": [
            "\r 37%|███▋      | 193/518 [39:55<1:07:00, 12.37s/it]"
          ]
        },
        {
          "output_type": "stream",
          "name": "stdout",
          "text": [
            "Processed batch 6144 to 6176\n"
          ]
        },
        {
          "output_type": "stream",
          "name": "stderr",
          "text": [
            "\r 37%|███▋      | 194/518 [40:07<1:06:41, 12.35s/it]"
          ]
        },
        {
          "output_type": "stream",
          "name": "stdout",
          "text": [
            "Processed batch 6176 to 6208\n"
          ]
        },
        {
          "output_type": "stream",
          "name": "stderr",
          "text": [
            "\r 38%|███▊      | 195/518 [40:19<1:05:28, 12.16s/it]"
          ]
        },
        {
          "output_type": "stream",
          "name": "stdout",
          "text": [
            "Processed batch 6208 to 6240\n"
          ]
        },
        {
          "output_type": "stream",
          "name": "stderr",
          "text": [
            "\r 38%|███▊      | 196/518 [40:32<1:05:34, 12.22s/it]"
          ]
        },
        {
          "output_type": "stream",
          "name": "stdout",
          "text": [
            "Processed batch 6240 to 6272\n"
          ]
        },
        {
          "output_type": "stream",
          "name": "stderr",
          "text": [
            "\r 38%|███▊      | 197/518 [40:44<1:05:55, 12.32s/it]"
          ]
        },
        {
          "output_type": "stream",
          "name": "stdout",
          "text": [
            "Processed batch 6272 to 6304\n"
          ]
        },
        {
          "output_type": "stream",
          "name": "stderr",
          "text": [
            "\r 38%|███▊      | 198/518 [40:56<1:05:46, 12.33s/it]"
          ]
        },
        {
          "output_type": "stream",
          "name": "stdout",
          "text": [
            "Processed batch 6304 to 6336\n"
          ]
        },
        {
          "output_type": "stream",
          "name": "stderr",
          "text": [
            "\r 38%|███▊      | 199/518 [41:09<1:05:47, 12.37s/it]"
          ]
        },
        {
          "output_type": "stream",
          "name": "stdout",
          "text": [
            "Processed batch 6336 to 6368\n"
          ]
        },
        {
          "output_type": "stream",
          "name": "stderr",
          "text": [
            "\r 39%|███▊      | 200/518 [41:21<1:05:18, 12.32s/it]"
          ]
        },
        {
          "output_type": "stream",
          "name": "stdout",
          "text": [
            "Processed batch 6368 to 6400\n"
          ]
        },
        {
          "output_type": "stream",
          "name": "stderr",
          "text": [
            "\r 39%|███▉      | 201/518 [41:33<1:04:49, 12.27s/it]"
          ]
        },
        {
          "output_type": "stream",
          "name": "stdout",
          "text": [
            "Processed batch 6400 to 6432\n"
          ]
        },
        {
          "output_type": "stream",
          "name": "stderr",
          "text": [
            "\r 39%|███▉      | 202/518 [41:46<1:04:55, 12.33s/it]"
          ]
        },
        {
          "output_type": "stream",
          "name": "stdout",
          "text": [
            "Processed batch 6432 to 6464\n"
          ]
        },
        {
          "output_type": "stream",
          "name": "stderr",
          "text": [
            "\r 39%|███▉      | 203/518 [41:58<1:04:30, 12.29s/it]"
          ]
        },
        {
          "output_type": "stream",
          "name": "stdout",
          "text": [
            "Processed batch 6464 to 6496\n"
          ]
        },
        {
          "output_type": "stream",
          "name": "stderr",
          "text": [
            "\r 39%|███▉      | 204/518 [42:10<1:04:37, 12.35s/it]"
          ]
        },
        {
          "output_type": "stream",
          "name": "stdout",
          "text": [
            "Processed batch 6496 to 6528\n"
          ]
        },
        {
          "output_type": "stream",
          "name": "stderr",
          "text": [
            "\r 40%|███▉      | 205/518 [42:23<1:04:24, 12.35s/it]"
          ]
        },
        {
          "output_type": "stream",
          "name": "stdout",
          "text": [
            "Processed batch 6528 to 6560\n"
          ]
        },
        {
          "output_type": "stream",
          "name": "stderr",
          "text": [
            "\r 40%|███▉      | 206/518 [42:35<1:04:23, 12.38s/it]"
          ]
        },
        {
          "output_type": "stream",
          "name": "stdout",
          "text": [
            "Processed batch 6560 to 6592\n"
          ]
        },
        {
          "output_type": "stream",
          "name": "stderr",
          "text": [
            "\r 40%|███▉      | 207/518 [42:48<1:04:06, 12.37s/it]"
          ]
        },
        {
          "output_type": "stream",
          "name": "stdout",
          "text": [
            "Processed batch 6592 to 6624\n"
          ]
        },
        {
          "output_type": "stream",
          "name": "stderr",
          "text": [
            "\r 40%|████      | 208/518 [43:00<1:04:12, 12.43s/it]"
          ]
        },
        {
          "output_type": "stream",
          "name": "stdout",
          "text": [
            "Processed batch 6624 to 6656\n"
          ]
        },
        {
          "output_type": "stream",
          "name": "stderr",
          "text": [
            "\r 40%|████      | 209/518 [43:13<1:03:54, 12.41s/it]"
          ]
        },
        {
          "output_type": "stream",
          "name": "stdout",
          "text": [
            "Processed batch 6656 to 6688\n"
          ]
        },
        {
          "output_type": "stream",
          "name": "stderr",
          "text": [
            "\r 41%|████      | 210/518 [43:25<1:04:04, 12.48s/it]"
          ]
        },
        {
          "output_type": "stream",
          "name": "stdout",
          "text": [
            "Processed batch 6688 to 6720\n"
          ]
        },
        {
          "output_type": "stream",
          "name": "stderr",
          "text": [
            "\r 41%|████      | 211/518 [43:38<1:03:39, 12.44s/it]"
          ]
        },
        {
          "output_type": "stream",
          "name": "stdout",
          "text": [
            "Processed batch 6720 to 6752\n"
          ]
        },
        {
          "output_type": "stream",
          "name": "stderr",
          "text": [
            "\r 41%|████      | 212/518 [43:50<1:03:37, 12.48s/it]"
          ]
        },
        {
          "output_type": "stream",
          "name": "stdout",
          "text": [
            "Processed batch 6752 to 6784\n"
          ]
        },
        {
          "output_type": "stream",
          "name": "stderr",
          "text": [
            "\r 41%|████      | 213/518 [44:02<1:03:09, 12.42s/it]"
          ]
        },
        {
          "output_type": "stream",
          "name": "stdout",
          "text": [
            "Processed batch 6784 to 6816\n"
          ]
        },
        {
          "output_type": "stream",
          "name": "stderr",
          "text": [
            "\r 41%|████▏     | 214/518 [44:15<1:02:49, 12.40s/it]"
          ]
        },
        {
          "output_type": "stream",
          "name": "stdout",
          "text": [
            "Processed batch 6816 to 6848\n"
          ]
        },
        {
          "output_type": "stream",
          "name": "stderr",
          "text": [
            "\r 42%|████▏     | 215/518 [44:27<1:02:15, 12.33s/it]"
          ]
        },
        {
          "output_type": "stream",
          "name": "stdout",
          "text": [
            "Processed batch 6848 to 6880\n"
          ]
        },
        {
          "output_type": "stream",
          "name": "stderr",
          "text": [
            "\r 42%|████▏     | 216/518 [44:39<1:02:11, 12.35s/it]"
          ]
        },
        {
          "output_type": "stream",
          "name": "stdout",
          "text": [
            "Processed batch 6880 to 6912\n"
          ]
        },
        {
          "output_type": "stream",
          "name": "stderr",
          "text": [
            "\r 42%|████▏     | 217/518 [44:52<1:01:53, 12.34s/it]"
          ]
        },
        {
          "output_type": "stream",
          "name": "stdout",
          "text": [
            "Processed batch 6912 to 6944\n"
          ]
        },
        {
          "output_type": "stream",
          "name": "stderr",
          "text": [
            "\r 42%|████▏     | 218/518 [45:04<1:01:39, 12.33s/it]"
          ]
        },
        {
          "output_type": "stream",
          "name": "stdout",
          "text": [
            "Processed batch 6944 to 6976\n"
          ]
        },
        {
          "output_type": "stream",
          "name": "stderr",
          "text": [
            "\r 42%|████▏     | 219/518 [45:16<1:01:45, 12.39s/it]"
          ]
        },
        {
          "output_type": "stream",
          "name": "stdout",
          "text": [
            "Processed batch 6976 to 7008\n"
          ]
        },
        {
          "output_type": "stream",
          "name": "stderr",
          "text": [
            "\r 42%|████▏     | 220/518 [45:29<1:01:26, 12.37s/it]"
          ]
        },
        {
          "output_type": "stream",
          "name": "stdout",
          "text": [
            "Processed batch 7008 to 7040\n"
          ]
        },
        {
          "output_type": "stream",
          "name": "stderr",
          "text": [
            "\r 43%|████▎     | 221/518 [45:41<1:01:26, 12.41s/it]"
          ]
        },
        {
          "output_type": "stream",
          "name": "stdout",
          "text": [
            "Processed batch 7040 to 7072\n"
          ]
        },
        {
          "output_type": "stream",
          "name": "stderr",
          "text": [
            "\r 43%|████▎     | 222/518 [45:54<1:01:06, 12.39s/it]"
          ]
        },
        {
          "output_type": "stream",
          "name": "stdout",
          "text": [
            "Processed batch 7072 to 7104\n"
          ]
        },
        {
          "output_type": "stream",
          "name": "stderr",
          "text": [
            "\r 43%|████▎     | 223/518 [46:06<1:01:07, 12.43s/it]"
          ]
        },
        {
          "output_type": "stream",
          "name": "stdout",
          "text": [
            "Processed batch 7104 to 7136\n"
          ]
        },
        {
          "output_type": "stream",
          "name": "stderr",
          "text": [
            "\r 43%|████▎     | 224/518 [46:19<1:00:49, 12.41s/it]"
          ]
        },
        {
          "output_type": "stream",
          "name": "stdout",
          "text": [
            "Processed batch 7136 to 7168\n"
          ]
        },
        {
          "output_type": "stream",
          "name": "stderr",
          "text": [
            "\r 43%|████▎     | 225/518 [46:31<1:00:50, 12.46s/it]"
          ]
        },
        {
          "output_type": "stream",
          "name": "stdout",
          "text": [
            "Processed batch 7168 to 7200\n"
          ]
        },
        {
          "output_type": "stream",
          "name": "stderr",
          "text": [
            "\r 44%|████▎     | 226/518 [46:43<1:00:28, 12.43s/it]"
          ]
        },
        {
          "output_type": "stream",
          "name": "stdout",
          "text": [
            "Processed batch 7200 to 7232\n"
          ]
        },
        {
          "output_type": "stream",
          "name": "stderr",
          "text": [
            "\r 44%|████▍     | 227/518 [46:56<1:00:20, 12.44s/it]"
          ]
        },
        {
          "output_type": "stream",
          "name": "stdout",
          "text": [
            "Processed batch 7232 to 7264\n"
          ]
        },
        {
          "output_type": "stream",
          "name": "stderr",
          "text": [
            "\r 44%|████▍     | 228/518 [47:08<59:49, 12.38s/it]  "
          ]
        },
        {
          "output_type": "stream",
          "name": "stdout",
          "text": [
            "Processed batch 7264 to 7296\n"
          ]
        },
        {
          "output_type": "stream",
          "name": "stderr",
          "text": [
            "\r 44%|████▍     | 229/518 [47:20<59:13, 12.29s/it]"
          ]
        },
        {
          "output_type": "stream",
          "name": "stdout",
          "text": [
            "Processed batch 7296 to 7328\n"
          ]
        },
        {
          "output_type": "stream",
          "name": "stderr",
          "text": [
            "\r 44%|████▍     | 230/518 [47:32<58:36, 12.21s/it]"
          ]
        },
        {
          "output_type": "stream",
          "name": "stdout",
          "text": [
            "Processed batch 7328 to 7360\n"
          ]
        },
        {
          "output_type": "stream",
          "name": "stderr",
          "text": [
            "\r 45%|████▍     | 231/518 [47:45<58:56, 12.32s/it]"
          ]
        },
        {
          "output_type": "stream",
          "name": "stdout",
          "text": [
            "Processed batch 7360 to 7392\n"
          ]
        },
        {
          "output_type": "stream",
          "name": "stderr",
          "text": [
            "\r 45%|████▍     | 232/518 [47:57<59:01, 12.38s/it]"
          ]
        },
        {
          "output_type": "stream",
          "name": "stdout",
          "text": [
            "Processed batch 7392 to 7424\n"
          ]
        },
        {
          "output_type": "stream",
          "name": "stderr",
          "text": [
            "\r 45%|████▍     | 233/518 [48:10<58:48, 12.38s/it]"
          ]
        },
        {
          "output_type": "stream",
          "name": "stdout",
          "text": [
            "Processed batch 7424 to 7456\n"
          ]
        },
        {
          "output_type": "stream",
          "name": "stderr",
          "text": [
            "\r 45%|████▌     | 234/518 [48:22<58:48, 12.42s/it]"
          ]
        },
        {
          "output_type": "stream",
          "name": "stdout",
          "text": [
            "Processed batch 7456 to 7488\n"
          ]
        },
        {
          "output_type": "stream",
          "name": "stderr",
          "text": [
            "\r 45%|████▌     | 235/518 [48:35<58:28, 12.40s/it]"
          ]
        },
        {
          "output_type": "stream",
          "name": "stdout",
          "text": [
            "Processed batch 7488 to 7520\n"
          ]
        },
        {
          "output_type": "stream",
          "name": "stderr",
          "text": [
            "\r 46%|████▌     | 236/518 [48:47<58:33, 12.46s/it]"
          ]
        },
        {
          "output_type": "stream",
          "name": "stdout",
          "text": [
            "Processed batch 7520 to 7552\n"
          ]
        },
        {
          "output_type": "stream",
          "name": "stderr",
          "text": [
            "\r 46%|████▌     | 237/518 [49:00<58:09, 12.42s/it]"
          ]
        },
        {
          "output_type": "stream",
          "name": "stdout",
          "text": [
            "Processed batch 7552 to 7584\n"
          ]
        },
        {
          "output_type": "stream",
          "name": "stderr",
          "text": [
            "\r 46%|████▌     | 238/518 [49:12<57:54, 12.41s/it]"
          ]
        },
        {
          "output_type": "stream",
          "name": "stdout",
          "text": [
            "Processed batch 7584 to 7616\n"
          ]
        },
        {
          "output_type": "stream",
          "name": "stderr",
          "text": [
            "\r 46%|████▌     | 239/518 [49:24<57:23, 12.34s/it]"
          ]
        },
        {
          "output_type": "stream",
          "name": "stdout",
          "text": [
            "Processed batch 7616 to 7648\n"
          ]
        },
        {
          "output_type": "stream",
          "name": "stderr",
          "text": [
            "\r 46%|████▋     | 240/518 [49:36<57:05, 12.32s/it]"
          ]
        },
        {
          "output_type": "stream",
          "name": "stdout",
          "text": [
            "Processed batch 7648 to 7680\n"
          ]
        },
        {
          "output_type": "stream",
          "name": "stderr",
          "text": [
            "\r 47%|████▋     | 241/518 [49:49<56:44, 12.29s/it]"
          ]
        },
        {
          "output_type": "stream",
          "name": "stdout",
          "text": [
            "Processed batch 7680 to 7712\n"
          ]
        },
        {
          "output_type": "stream",
          "name": "stderr",
          "text": [
            "\r 47%|████▋     | 242/518 [50:01<56:28, 12.28s/it]"
          ]
        },
        {
          "output_type": "stream",
          "name": "stdout",
          "text": [
            "Processed batch 7712 to 7744\n"
          ]
        },
        {
          "output_type": "stream",
          "name": "stderr",
          "text": [
            "\r 47%|████▋     | 243/518 [50:13<56:30, 12.33s/it]"
          ]
        },
        {
          "output_type": "stream",
          "name": "stdout",
          "text": [
            "Processed batch 7744 to 7776\n"
          ]
        },
        {
          "output_type": "stream",
          "name": "stderr",
          "text": [
            "\r 47%|████▋     | 244/518 [50:26<56:19, 12.34s/it]"
          ]
        },
        {
          "output_type": "stream",
          "name": "stdout",
          "text": [
            "Processed batch 7776 to 7808\n"
          ]
        },
        {
          "output_type": "stream",
          "name": "stderr",
          "text": [
            "\r 47%|████▋     | 245/518 [50:38<56:21, 12.39s/it]"
          ]
        },
        {
          "output_type": "stream",
          "name": "stdout",
          "text": [
            "Processed batch 7808 to 7840\n"
          ]
        },
        {
          "output_type": "stream",
          "name": "stderr",
          "text": [
            "\r 47%|████▋     | 246/518 [50:50<56:00, 12.36s/it]"
          ]
        },
        {
          "output_type": "stream",
          "name": "stdout",
          "text": [
            "Processed batch 7840 to 7872\n"
          ]
        },
        {
          "output_type": "stream",
          "name": "stderr",
          "text": [
            "\r 48%|████▊     | 247/518 [51:03<56:02, 12.41s/it]"
          ]
        },
        {
          "output_type": "stream",
          "name": "stdout",
          "text": [
            "Processed batch 7872 to 7904\n"
          ]
        },
        {
          "output_type": "stream",
          "name": "stderr",
          "text": [
            "\r 48%|████▊     | 248/518 [51:15<55:44, 12.39s/it]"
          ]
        },
        {
          "output_type": "stream",
          "name": "stdout",
          "text": [
            "Processed batch 7904 to 7936\n"
          ]
        },
        {
          "output_type": "stream",
          "name": "stderr",
          "text": [
            "\r 48%|████▊     | 249/518 [51:28<55:28, 12.37s/it]"
          ]
        },
        {
          "output_type": "stream",
          "name": "stdout",
          "text": [
            "Processed batch 7936 to 7968\n"
          ]
        },
        {
          "output_type": "stream",
          "name": "stderr",
          "text": [
            "\r 48%|████▊     | 250/518 [51:40<55:31, 12.43s/it]"
          ]
        },
        {
          "output_type": "stream",
          "name": "stdout",
          "text": [
            "Processed batch 7968 to 8000\n"
          ]
        },
        {
          "output_type": "stream",
          "name": "stderr",
          "text": [
            "\r 48%|████▊     | 251/518 [51:53<55:15, 12.42s/it]"
          ]
        },
        {
          "output_type": "stream",
          "name": "stdout",
          "text": [
            "Processed batch 8000 to 8032\n"
          ]
        },
        {
          "output_type": "stream",
          "name": "stderr",
          "text": [
            "\r 49%|████▊     | 252/518 [52:05<55:08, 12.44s/it]"
          ]
        },
        {
          "output_type": "stream",
          "name": "stdout",
          "text": [
            "Processed batch 8032 to 8064\n"
          ]
        },
        {
          "output_type": "stream",
          "name": "stderr",
          "text": [
            "\r 49%|████▉     | 253/518 [52:17<54:42, 12.39s/it]"
          ]
        },
        {
          "output_type": "stream",
          "name": "stdout",
          "text": [
            "Processed batch 8064 to 8096\n"
          ]
        },
        {
          "output_type": "stream",
          "name": "stderr",
          "text": [
            "\r 49%|████▉     | 254/518 [52:30<54:38, 12.42s/it]"
          ]
        },
        {
          "output_type": "stream",
          "name": "stdout",
          "text": [
            "Processed batch 8096 to 8128\n"
          ]
        },
        {
          "output_type": "stream",
          "name": "stderr",
          "text": [
            "\r 49%|████▉     | 255/518 [52:42<54:10, 12.36s/it]"
          ]
        },
        {
          "output_type": "stream",
          "name": "stdout",
          "text": [
            "Processed batch 8128 to 8160\n"
          ]
        },
        {
          "output_type": "stream",
          "name": "stderr",
          "text": [
            "\r 49%|████▉     | 256/518 [52:51<49:07, 11.25s/it]"
          ]
        },
        {
          "output_type": "stream",
          "name": "stdout",
          "text": [
            "Processed batch 8160 to 8192\n"
          ]
        },
        {
          "output_type": "stream",
          "name": "stderr",
          "text": [
            "\r 50%|████▉     | 257/518 [53:03<49:51, 11.46s/it]"
          ]
        },
        {
          "output_type": "stream",
          "name": "stdout",
          "text": [
            "Processed batch 8192 to 8224\n"
          ]
        },
        {
          "output_type": "stream",
          "name": "stderr",
          "text": [
            "\r 50%|████▉     | 258/518 [53:15<51:03, 11.78s/it]"
          ]
        },
        {
          "output_type": "stream",
          "name": "stdout",
          "text": [
            "Processed batch 8224 to 8256\n"
          ]
        },
        {
          "output_type": "stream",
          "name": "stderr",
          "text": [
            "\r 50%|█████     | 259/518 [53:28<51:34, 11.95s/it]"
          ]
        },
        {
          "output_type": "stream",
          "name": "stdout",
          "text": [
            "Processed batch 8256 to 8288\n"
          ]
        },
        {
          "output_type": "stream",
          "name": "stderr",
          "text": [
            "\r 50%|█████     | 260/518 [53:40<51:52, 12.06s/it]"
          ]
        },
        {
          "output_type": "stream",
          "name": "stdout",
          "text": [
            "Processed batch 8288 to 8320\n"
          ]
        },
        {
          "output_type": "stream",
          "name": "stderr",
          "text": [
            "\r 50%|█████     | 261/518 [53:52<52:05, 12.16s/it]"
          ]
        },
        {
          "output_type": "stream",
          "name": "stdout",
          "text": [
            "Processed batch 8320 to 8352\n"
          ]
        },
        {
          "output_type": "stream",
          "name": "stderr",
          "text": [
            "\r 51%|█████     | 262/518 [54:04<51:54, 12.17s/it]"
          ]
        },
        {
          "output_type": "stream",
          "name": "stdout",
          "text": [
            "Processed batch 8352 to 8384\n"
          ]
        },
        {
          "output_type": "stream",
          "name": "stderr",
          "text": [
            "\r 51%|█████     | 263/518 [54:17<51:53, 12.21s/it]"
          ]
        },
        {
          "output_type": "stream",
          "name": "stdout",
          "text": [
            "Processed batch 8384 to 8416\n"
          ]
        },
        {
          "output_type": "stream",
          "name": "stderr",
          "text": [
            "\r 51%|█████     | 264/518 [54:29<51:43, 12.22s/it]"
          ]
        },
        {
          "output_type": "stream",
          "name": "stdout",
          "text": [
            "Processed batch 8416 to 8448\n"
          ]
        },
        {
          "output_type": "stream",
          "name": "stderr",
          "text": [
            "\r 51%|█████     | 265/518 [54:41<51:45, 12.27s/it]"
          ]
        },
        {
          "output_type": "stream",
          "name": "stdout",
          "text": [
            "Processed batch 8448 to 8480\n"
          ]
        },
        {
          "output_type": "stream",
          "name": "stderr",
          "text": [
            "\r 51%|█████▏    | 266/518 [54:54<51:30, 12.26s/it]"
          ]
        },
        {
          "output_type": "stream",
          "name": "stdout",
          "text": [
            "Processed batch 8480 to 8512\n"
          ]
        },
        {
          "output_type": "stream",
          "name": "stderr",
          "text": [
            "\r 52%|█████▏    | 267/518 [55:06<51:37, 12.34s/it]"
          ]
        },
        {
          "output_type": "stream",
          "name": "stdout",
          "text": [
            "Processed batch 8512 to 8544\n"
          ]
        },
        {
          "output_type": "stream",
          "name": "stderr",
          "text": [
            "\r 52%|█████▏    | 268/518 [55:18<51:24, 12.34s/it]"
          ]
        },
        {
          "output_type": "stream",
          "name": "stdout",
          "text": [
            "Processed batch 8544 to 8576\n"
          ]
        },
        {
          "output_type": "stream",
          "name": "stderr",
          "text": [
            "\r 52%|█████▏    | 269/518 [55:31<51:23, 12.38s/it]"
          ]
        },
        {
          "output_type": "stream",
          "name": "stdout",
          "text": [
            "Processed batch 8576 to 8608\n"
          ]
        },
        {
          "output_type": "stream",
          "name": "stderr",
          "text": [
            "\r 52%|█████▏    | 270/518 [55:43<51:03, 12.35s/it]"
          ]
        },
        {
          "output_type": "stream",
          "name": "stdout",
          "text": [
            "Processed batch 8608 to 8640\n"
          ]
        },
        {
          "output_type": "stream",
          "name": "stderr",
          "text": [
            "\r 52%|█████▏    | 271/518 [55:56<50:50, 12.35s/it]"
          ]
        },
        {
          "output_type": "stream",
          "name": "stdout",
          "text": [
            "Processed batch 8640 to 8672\n"
          ]
        },
        {
          "output_type": "stream",
          "name": "stderr",
          "text": [
            "\r 53%|█████▎    | 272/518 [56:08<50:46, 12.38s/it]"
          ]
        },
        {
          "output_type": "stream",
          "name": "stdout",
          "text": [
            "Processed batch 8672 to 8704\n"
          ]
        },
        {
          "output_type": "stream",
          "name": "stderr",
          "text": [
            "\r 53%|█████▎    | 273/518 [56:20<50:29, 12.37s/it]"
          ]
        },
        {
          "output_type": "stream",
          "name": "stdout",
          "text": [
            "Processed batch 8704 to 8736\n"
          ]
        },
        {
          "output_type": "stream",
          "name": "stderr",
          "text": [
            "\r 53%|█████▎    | 274/518 [56:33<50:19, 12.37s/it]"
          ]
        },
        {
          "output_type": "stream",
          "name": "stdout",
          "text": [
            "Processed batch 8736 to 8768\n"
          ]
        },
        {
          "output_type": "stream",
          "name": "stderr",
          "text": [
            "\r 53%|█████▎    | 275/518 [56:45<50:12, 12.40s/it]"
          ]
        },
        {
          "output_type": "stream",
          "name": "stdout",
          "text": [
            "Processed batch 8768 to 8800\n"
          ]
        },
        {
          "output_type": "stream",
          "name": "stderr",
          "text": [
            "\r 53%|█████▎    | 276/518 [56:57<49:52, 12.37s/it]"
          ]
        },
        {
          "output_type": "stream",
          "name": "stdout",
          "text": [
            "Processed batch 8800 to 8832\n"
          ]
        },
        {
          "output_type": "stream",
          "name": "stderr",
          "text": [
            "\r 53%|█████▎    | 277/518 [57:10<49:23, 12.30s/it]"
          ]
        },
        {
          "output_type": "stream",
          "name": "stdout",
          "text": [
            "Processed batch 8832 to 8864\n"
          ]
        },
        {
          "output_type": "stream",
          "name": "stderr",
          "text": [
            "\r 54%|█████▎    | 278/518 [57:22<49:17, 12.32s/it]"
          ]
        },
        {
          "output_type": "stream",
          "name": "stdout",
          "text": [
            "Processed batch 8864 to 8896\n"
          ]
        },
        {
          "output_type": "stream",
          "name": "stderr",
          "text": [
            "\r 54%|█████▍    | 279/518 [57:34<48:57, 12.29s/it]"
          ]
        },
        {
          "output_type": "stream",
          "name": "stdout",
          "text": [
            "Processed batch 8896 to 8928\n"
          ]
        },
        {
          "output_type": "stream",
          "name": "stderr",
          "text": [
            "\r 54%|█████▍    | 280/518 [57:47<48:57, 12.34s/it]"
          ]
        },
        {
          "output_type": "stream",
          "name": "stdout",
          "text": [
            "Processed batch 8928 to 8960\n"
          ]
        },
        {
          "output_type": "stream",
          "name": "stderr",
          "text": [
            "\r 54%|█████▍    | 281/518 [57:59<48:39, 12.32s/it]"
          ]
        },
        {
          "output_type": "stream",
          "name": "stdout",
          "text": [
            "Processed batch 8960 to 8992\n"
          ]
        },
        {
          "output_type": "stream",
          "name": "stderr",
          "text": [
            "\r 54%|█████▍    | 282/518 [58:11<48:36, 12.36s/it]"
          ]
        },
        {
          "output_type": "stream",
          "name": "stdout",
          "text": [
            "Processed batch 8992 to 9024\n"
          ]
        },
        {
          "output_type": "stream",
          "name": "stderr",
          "text": [
            "\r 55%|█████▍    | 283/518 [58:24<48:20, 12.34s/it]"
          ]
        },
        {
          "output_type": "stream",
          "name": "stdout",
          "text": [
            "Processed batch 9024 to 9056\n"
          ]
        },
        {
          "output_type": "stream",
          "name": "stderr",
          "text": [
            "\r 55%|█████▍    | 284/518 [58:36<48:11, 12.36s/it]"
          ]
        },
        {
          "output_type": "stream",
          "name": "stdout",
          "text": [
            "Processed batch 9056 to 9088\n"
          ]
        },
        {
          "output_type": "stream",
          "name": "stderr",
          "text": [
            "\r 55%|█████▌    | 285/518 [58:49<48:10, 12.40s/it]"
          ]
        },
        {
          "output_type": "stream",
          "name": "stdout",
          "text": [
            "Processed batch 9088 to 9120\n"
          ]
        },
        {
          "output_type": "stream",
          "name": "stderr",
          "text": [
            "\r 55%|█████▌    | 286/518 [59:01<47:55, 12.40s/it]"
          ]
        },
        {
          "output_type": "stream",
          "name": "stdout",
          "text": [
            "Processed batch 9120 to 9152\n"
          ]
        },
        {
          "output_type": "stream",
          "name": "stderr",
          "text": [
            "\r 55%|█████▌    | 287/518 [59:13<47:48, 12.42s/it]"
          ]
        },
        {
          "output_type": "stream",
          "name": "stdout",
          "text": [
            "Processed batch 9152 to 9184\n"
          ]
        },
        {
          "output_type": "stream",
          "name": "stderr",
          "text": [
            "\r 56%|█████▌    | 288/518 [59:26<47:29, 12.39s/it]"
          ]
        },
        {
          "output_type": "stream",
          "name": "stdout",
          "text": [
            "Processed batch 9184 to 9216\n"
          ]
        },
        {
          "output_type": "stream",
          "name": "stderr",
          "text": [
            "\r 56%|█████▌    | 289/518 [59:38<47:15, 12.38s/it]"
          ]
        },
        {
          "output_type": "stream",
          "name": "stdout",
          "text": [
            "Processed batch 9216 to 9248\n"
          ]
        },
        {
          "output_type": "stream",
          "name": "stderr",
          "text": [
            "\r 56%|█████▌    | 290/518 [59:50<46:42, 12.29s/it]"
          ]
        },
        {
          "output_type": "stream",
          "name": "stdout",
          "text": [
            "Processed batch 9248 to 9280\n"
          ]
        },
        {
          "output_type": "stream",
          "name": "stderr",
          "text": [
            "\r 56%|█████▌    | 291/518 [1:00:03<46:31, 12.30s/it]"
          ]
        },
        {
          "output_type": "stream",
          "name": "stdout",
          "text": [
            "Processed batch 9280 to 9312\n"
          ]
        },
        {
          "output_type": "stream",
          "name": "stderr",
          "text": [
            "\r 56%|█████▋    | 292/518 [1:00:15<46:15, 12.28s/it]"
          ]
        },
        {
          "output_type": "stream",
          "name": "stdout",
          "text": [
            "Processed batch 9312 to 9344\n"
          ]
        },
        {
          "output_type": "stream",
          "name": "stderr",
          "text": [
            "\r 57%|█████▋    | 293/518 [1:00:27<46:14, 12.33s/it]"
          ]
        },
        {
          "output_type": "stream",
          "name": "stdout",
          "text": [
            "Processed batch 9344 to 9376\n"
          ]
        },
        {
          "output_type": "stream",
          "name": "stderr",
          "text": [
            "\r 57%|█████▋    | 294/518 [1:00:40<45:58, 12.31s/it]"
          ]
        },
        {
          "output_type": "stream",
          "name": "stdout",
          "text": [
            "Processed batch 9376 to 9408\n"
          ]
        },
        {
          "output_type": "stream",
          "name": "stderr",
          "text": [
            "\r 57%|█████▋    | 295/518 [1:00:52<45:59, 12.37s/it]"
          ]
        },
        {
          "output_type": "stream",
          "name": "stdout",
          "text": [
            "Processed batch 9408 to 9440\n"
          ]
        },
        {
          "output_type": "stream",
          "name": "stderr",
          "text": [
            "\r 57%|█████▋    | 296/518 [1:01:04<45:43, 12.36s/it]"
          ]
        },
        {
          "output_type": "stream",
          "name": "stdout",
          "text": [
            "Processed batch 9440 to 9472\n"
          ]
        },
        {
          "output_type": "stream",
          "name": "stderr",
          "text": [
            "\r 57%|█████▋    | 297/518 [1:01:17<45:58, 12.48s/it]"
          ]
        },
        {
          "output_type": "stream",
          "name": "stdout",
          "text": [
            "Processed batch 9472 to 9504\n"
          ]
        },
        {
          "output_type": "stream",
          "name": "stderr",
          "text": [
            "\r 58%|█████▊    | 298/518 [1:01:29<45:39, 12.45s/it]"
          ]
        },
        {
          "output_type": "stream",
          "name": "stdout",
          "text": [
            "Processed batch 9504 to 9536\n"
          ]
        },
        {
          "output_type": "stream",
          "name": "stderr",
          "text": [
            "\r 58%|█████▊    | 299/518 [1:01:42<45:29, 12.46s/it]"
          ]
        },
        {
          "output_type": "stream",
          "name": "stdout",
          "text": [
            "Processed batch 9536 to 9568\n"
          ]
        },
        {
          "output_type": "stream",
          "name": "stderr",
          "text": [
            "\r 58%|█████▊    | 300/518 [1:01:54<45:10, 12.43s/it]"
          ]
        },
        {
          "output_type": "stream",
          "name": "stdout",
          "text": [
            "Processed batch 9568 to 9600\n"
          ]
        },
        {
          "output_type": "stream",
          "name": "stderr",
          "text": [
            "\r 58%|█████▊    | 301/518 [1:02:07<44:47, 12.39s/it]"
          ]
        },
        {
          "output_type": "stream",
          "name": "stdout",
          "text": [
            "Processed batch 9600 to 9632\n"
          ]
        },
        {
          "output_type": "stream",
          "name": "stderr",
          "text": [
            "\r 58%|█████▊    | 302/518 [1:02:19<44:32, 12.37s/it]"
          ]
        },
        {
          "output_type": "stream",
          "name": "stdout",
          "text": [
            "Processed batch 9632 to 9664\n"
          ]
        },
        {
          "output_type": "stream",
          "name": "stderr",
          "text": [
            "\r 58%|█████▊    | 303/518 [1:02:31<44:05, 12.30s/it]"
          ]
        },
        {
          "output_type": "stream",
          "name": "stdout",
          "text": [
            "Processed batch 9664 to 9696\n"
          ]
        },
        {
          "output_type": "stream",
          "name": "stderr",
          "text": [
            "\r 59%|█████▊    | 304/518 [1:02:43<43:51, 12.30s/it]"
          ]
        },
        {
          "output_type": "stream",
          "name": "stdout",
          "text": [
            "Processed batch 9696 to 9728\n"
          ]
        },
        {
          "output_type": "stream",
          "name": "stderr",
          "text": [
            "\r 59%|█████▉    | 305/518 [1:02:56<43:34, 12.27s/it]"
          ]
        },
        {
          "output_type": "stream",
          "name": "stdout",
          "text": [
            "Processed batch 9728 to 9760\n"
          ]
        },
        {
          "output_type": "stream",
          "name": "stderr",
          "text": [
            "\r 59%|█████▉    | 306/518 [1:03:08<43:30, 12.31s/it]"
          ]
        },
        {
          "output_type": "stream",
          "name": "stdout",
          "text": [
            "Processed batch 9760 to 9792\n"
          ]
        },
        {
          "output_type": "stream",
          "name": "stderr",
          "text": [
            "\r 59%|█████▉    | 307/518 [1:03:20<43:18, 12.32s/it]"
          ]
        },
        {
          "output_type": "stream",
          "name": "stdout",
          "text": [
            "Processed batch 9792 to 9824\n"
          ]
        },
        {
          "output_type": "stream",
          "name": "stderr",
          "text": [
            "\r 59%|█████▉    | 308/518 [1:03:33<43:15, 12.36s/it]"
          ]
        },
        {
          "output_type": "stream",
          "name": "stdout",
          "text": [
            "Processed batch 9824 to 9856\n"
          ]
        },
        {
          "output_type": "stream",
          "name": "stderr",
          "text": [
            "\r 60%|█████▉    | 309/518 [1:03:45<42:58, 12.34s/it]"
          ]
        },
        {
          "output_type": "stream",
          "name": "stdout",
          "text": [
            "Processed batch 9856 to 9888\n"
          ]
        },
        {
          "output_type": "stream",
          "name": "stderr",
          "text": [
            "\r 60%|█████▉    | 310/518 [1:03:58<42:55, 12.38s/it]"
          ]
        },
        {
          "output_type": "stream",
          "name": "stdout",
          "text": [
            "Processed batch 9888 to 9920\n"
          ]
        },
        {
          "output_type": "stream",
          "name": "stderr",
          "text": [
            "\r 60%|██████    | 311/518 [1:04:10<42:40, 12.37s/it]"
          ]
        },
        {
          "output_type": "stream",
          "name": "stdout",
          "text": [
            "Processed batch 9920 to 9952\n"
          ]
        },
        {
          "output_type": "stream",
          "name": "stderr",
          "text": [
            "\r 60%|██████    | 312/518 [1:04:22<42:40, 12.43s/it]"
          ]
        },
        {
          "output_type": "stream",
          "name": "stdout",
          "text": [
            "Processed batch 9952 to 9984\n"
          ]
        },
        {
          "output_type": "stream",
          "name": "stderr",
          "text": [
            "\r 60%|██████    | 313/518 [1:04:35<42:18, 12.38s/it]"
          ]
        },
        {
          "output_type": "stream",
          "name": "stdout",
          "text": [
            "Processed batch 9984 to 10016\n"
          ]
        },
        {
          "output_type": "stream",
          "name": "stderr",
          "text": [
            "\r 61%|██████    | 314/518 [1:04:47<41:58, 12.35s/it]"
          ]
        },
        {
          "output_type": "stream",
          "name": "stdout",
          "text": [
            "Processed batch 10016 to 10048\n"
          ]
        },
        {
          "output_type": "stream",
          "name": "stderr",
          "text": [
            "\r 61%|██████    | 315/518 [1:04:59<41:42, 12.33s/it]"
          ]
        },
        {
          "output_type": "stream",
          "name": "stdout",
          "text": [
            "Processed batch 10048 to 10080\n"
          ]
        },
        {
          "output_type": "stream",
          "name": "stderr",
          "text": [
            "\r 61%|██████    | 316/518 [1:05:11<41:19, 12.27s/it]"
          ]
        },
        {
          "output_type": "stream",
          "name": "stdout",
          "text": [
            "Processed batch 10080 to 10112\n"
          ]
        },
        {
          "output_type": "stream",
          "name": "stderr",
          "text": [
            "\r 61%|██████    | 317/518 [1:05:24<41:05, 12.27s/it]"
          ]
        },
        {
          "output_type": "stream",
          "name": "stdout",
          "text": [
            "Processed batch 10112 to 10144\n"
          ]
        },
        {
          "output_type": "stream",
          "name": "stderr",
          "text": [
            "\r 61%|██████▏   | 318/518 [1:05:36<41:04, 12.32s/it]"
          ]
        },
        {
          "output_type": "stream",
          "name": "stdout",
          "text": [
            "Processed batch 10144 to 10176\n"
          ]
        },
        {
          "output_type": "stream",
          "name": "stderr",
          "text": [
            "\r 62%|██████▏   | 319/518 [1:05:49<41:00, 12.36s/it]"
          ]
        },
        {
          "output_type": "stream",
          "name": "stdout",
          "text": [
            "Processed batch 10176 to 10208\n"
          ]
        },
        {
          "output_type": "stream",
          "name": "stderr",
          "text": [
            "\r 62%|██████▏   | 320/518 [1:06:01<40:44, 12.34s/it]"
          ]
        },
        {
          "output_type": "stream",
          "name": "stdout",
          "text": [
            "Processed batch 10208 to 10240\n"
          ]
        },
        {
          "output_type": "stream",
          "name": "stderr",
          "text": [
            "\r 62%|██████▏   | 321/518 [1:06:13<40:40, 12.39s/it]"
          ]
        },
        {
          "output_type": "stream",
          "name": "stdout",
          "text": [
            "Processed batch 10240 to 10272\n"
          ]
        },
        {
          "output_type": "stream",
          "name": "stderr",
          "text": [
            "\r 62%|██████▏   | 322/518 [1:06:26<40:27, 12.38s/it]"
          ]
        },
        {
          "output_type": "stream",
          "name": "stdout",
          "text": [
            "Processed batch 10272 to 10304\n"
          ]
        },
        {
          "output_type": "stream",
          "name": "stderr",
          "text": [
            "\r 62%|██████▏   | 323/518 [1:06:38<40:21, 12.42s/it]"
          ]
        },
        {
          "output_type": "stream",
          "name": "stdout",
          "text": [
            "Processed batch 10304 to 10336\n"
          ]
        },
        {
          "output_type": "stream",
          "name": "stderr",
          "text": [
            "\r 63%|██████▎   | 324/518 [1:06:51<40:01, 12.38s/it]"
          ]
        },
        {
          "output_type": "stream",
          "name": "stdout",
          "text": [
            "Processed batch 10336 to 10368\n"
          ]
        },
        {
          "output_type": "stream",
          "name": "stderr",
          "text": [
            "\r 63%|██████▎   | 325/518 [1:07:03<39:43, 12.35s/it]"
          ]
        },
        {
          "output_type": "stream",
          "name": "stdout",
          "text": [
            "Processed batch 10368 to 10400\n"
          ]
        },
        {
          "output_type": "stream",
          "name": "stderr",
          "text": [
            "\r 63%|██████▎   | 326/518 [1:07:15<39:36, 12.38s/it]"
          ]
        },
        {
          "output_type": "stream",
          "name": "stdout",
          "text": [
            "Processed batch 10400 to 10432\n"
          ]
        },
        {
          "output_type": "stream",
          "name": "stderr",
          "text": [
            "\r 63%|██████▎   | 327/518 [1:07:28<39:18, 12.35s/it]"
          ]
        },
        {
          "output_type": "stream",
          "name": "stdout",
          "text": [
            "Processed batch 10432 to 10464\n"
          ]
        },
        {
          "output_type": "stream",
          "name": "stderr",
          "text": [
            "\r 63%|██████▎   | 328/518 [1:07:40<39:01, 12.32s/it]"
          ]
        },
        {
          "output_type": "stream",
          "name": "stdout",
          "text": [
            "Processed batch 10464 to 10496\n"
          ]
        },
        {
          "output_type": "stream",
          "name": "stderr",
          "text": [
            "\r 64%|██████▎   | 329/518 [1:07:52<38:36, 12.26s/it]"
          ]
        },
        {
          "output_type": "stream",
          "name": "stdout",
          "text": [
            "Processed batch 10496 to 10528\n"
          ]
        },
        {
          "output_type": "stream",
          "name": "stderr",
          "text": [
            "\r 64%|██████▎   | 330/518 [1:08:04<38:25, 12.26s/it]"
          ]
        },
        {
          "output_type": "stream",
          "name": "stdout",
          "text": [
            "Processed batch 10528 to 10560\n"
          ]
        },
        {
          "output_type": "stream",
          "name": "stderr",
          "text": [
            "\r 64%|██████▍   | 331/518 [1:08:16<38:08, 12.24s/it]"
          ]
        },
        {
          "output_type": "stream",
          "name": "stdout",
          "text": [
            "Processed batch 10560 to 10592\n"
          ]
        },
        {
          "output_type": "stream",
          "name": "stderr",
          "text": [
            "\r 64%|██████▍   | 332/518 [1:08:29<38:04, 12.28s/it]"
          ]
        },
        {
          "output_type": "stream",
          "name": "stdout",
          "text": [
            "Processed batch 10592 to 10624\n"
          ]
        },
        {
          "output_type": "stream",
          "name": "stderr",
          "text": [
            "\r 64%|██████▍   | 333/518 [1:08:41<37:53, 12.29s/it]"
          ]
        },
        {
          "output_type": "stream",
          "name": "stdout",
          "text": [
            "Processed batch 10624 to 10656\n"
          ]
        },
        {
          "output_type": "stream",
          "name": "stderr",
          "text": [
            "\r 64%|██████▍   | 334/518 [1:08:54<37:50, 12.34s/it]"
          ]
        },
        {
          "output_type": "stream",
          "name": "stdout",
          "text": [
            "Processed batch 10656 to 10688\n"
          ]
        },
        {
          "output_type": "stream",
          "name": "stderr",
          "text": [
            "\r 65%|██████▍   | 335/518 [1:09:06<37:37, 12.34s/it]"
          ]
        },
        {
          "output_type": "stream",
          "name": "stdout",
          "text": [
            "Processed batch 10688 to 10720\n"
          ]
        },
        {
          "output_type": "stream",
          "name": "stderr",
          "text": [
            "\r 65%|██████▍   | 336/518 [1:09:18<37:32, 12.38s/it]"
          ]
        },
        {
          "output_type": "stream",
          "name": "stdout",
          "text": [
            "Processed batch 10720 to 10752\n"
          ]
        },
        {
          "output_type": "stream",
          "name": "stderr",
          "text": [
            "\r 65%|██████▌   | 337/518 [1:09:31<37:20, 12.38s/it]"
          ]
        },
        {
          "output_type": "stream",
          "name": "stdout",
          "text": [
            "Processed batch 10752 to 10784\n"
          ]
        },
        {
          "output_type": "stream",
          "name": "stderr",
          "text": [
            "\r 65%|██████▌   | 338/518 [1:09:43<37:08, 12.38s/it]"
          ]
        },
        {
          "output_type": "stream",
          "name": "stdout",
          "text": [
            "Processed batch 10784 to 10816\n"
          ]
        },
        {
          "output_type": "stream",
          "name": "stderr",
          "text": [
            "\r 65%|██████▌   | 339/518 [1:09:56<37:01, 12.41s/it]"
          ]
        },
        {
          "output_type": "stream",
          "name": "stdout",
          "text": [
            "Processed batch 10816 to 10848\n"
          ]
        },
        {
          "output_type": "stream",
          "name": "stderr",
          "text": [
            "\r 66%|██████▌   | 340/518 [1:10:08<36:55, 12.45s/it]"
          ]
        },
        {
          "output_type": "stream",
          "name": "stdout",
          "text": [
            "Processed batch 10848 to 10880\n"
          ]
        },
        {
          "output_type": "stream",
          "name": "stderr",
          "text": [
            "\r 66%|██████▌   | 341/518 [1:10:20<36:29, 12.37s/it]"
          ]
        },
        {
          "output_type": "stream",
          "name": "stdout",
          "text": [
            "Processed batch 10880 to 10912\n"
          ]
        },
        {
          "output_type": "stream",
          "name": "stderr",
          "text": [
            "\r 66%|██████▌   | 342/518 [1:10:32<36:07, 12.31s/it]"
          ]
        },
        {
          "output_type": "stream",
          "name": "stdout",
          "text": [
            "Processed batch 10912 to 10944\n"
          ]
        },
        {
          "output_type": "stream",
          "name": "stderr",
          "text": [
            "\r 66%|██████▌   | 343/518 [1:10:45<35:53, 12.31s/it]"
          ]
        },
        {
          "output_type": "stream",
          "name": "stdout",
          "text": [
            "Processed batch 10944 to 10976\n"
          ]
        },
        {
          "output_type": "stream",
          "name": "stderr",
          "text": [
            "\r 66%|██████▋   | 344/518 [1:10:57<35:32, 12.26s/it]"
          ]
        },
        {
          "output_type": "stream",
          "name": "stdout",
          "text": [
            "Processed batch 10976 to 11008\n"
          ]
        },
        {
          "output_type": "stream",
          "name": "stderr",
          "text": [
            "\r 67%|██████▋   | 345/518 [1:11:09<35:29, 12.31s/it]"
          ]
        },
        {
          "output_type": "stream",
          "name": "stdout",
          "text": [
            "Processed batch 11008 to 11040\n"
          ]
        },
        {
          "output_type": "stream",
          "name": "stderr",
          "text": [
            "\r 67%|██████▋   | 346/518 [1:11:22<35:16, 12.30s/it]"
          ]
        },
        {
          "output_type": "stream",
          "name": "stdout",
          "text": [
            "Processed batch 11040 to 11072\n"
          ]
        },
        {
          "output_type": "stream",
          "name": "stderr",
          "text": [
            "\r 67%|██████▋   | 347/518 [1:11:34<35:10, 12.34s/it]"
          ]
        },
        {
          "output_type": "stream",
          "name": "stdout",
          "text": [
            "Processed batch 11072 to 11104\n"
          ]
        },
        {
          "output_type": "stream",
          "name": "stderr",
          "text": [
            "\r 67%|██████▋   | 348/518 [1:11:46<34:58, 12.34s/it]"
          ]
        },
        {
          "output_type": "stream",
          "name": "stdout",
          "text": [
            "Processed batch 11104 to 11136\n"
          ]
        },
        {
          "output_type": "stream",
          "name": "stderr",
          "text": [
            "\r 67%|██████▋   | 349/518 [1:11:59<34:43, 12.33s/it]"
          ]
        },
        {
          "output_type": "stream",
          "name": "stdout",
          "text": [
            "Processed batch 11136 to 11168\n"
          ]
        },
        {
          "output_type": "stream",
          "name": "stderr",
          "text": [
            "\r 68%|██████▊   | 350/518 [1:12:11<34:39, 12.38s/it]"
          ]
        },
        {
          "output_type": "stream",
          "name": "stdout",
          "text": [
            "Processed batch 11168 to 11200\n"
          ]
        },
        {
          "output_type": "stream",
          "name": "stderr",
          "text": [
            "\r 68%|██████▊   | 351/518 [1:12:24<34:24, 12.36s/it]"
          ]
        },
        {
          "output_type": "stream",
          "name": "stdout",
          "text": [
            "Processed batch 11200 to 11232\n"
          ]
        },
        {
          "output_type": "stream",
          "name": "stderr",
          "text": [
            "\r 68%|██████▊   | 352/518 [1:12:36<34:19, 12.41s/it]"
          ]
        },
        {
          "output_type": "stream",
          "name": "stdout",
          "text": [
            "Processed batch 11232 to 11264\n"
          ]
        },
        {
          "output_type": "stream",
          "name": "stderr",
          "text": [
            "\r 68%|██████▊   | 353/518 [1:12:48<34:01, 12.37s/it]"
          ]
        },
        {
          "output_type": "stream",
          "name": "stdout",
          "text": [
            "Processed batch 11264 to 11296\n"
          ]
        },
        {
          "output_type": "stream",
          "name": "stderr",
          "text": [
            "\r 68%|██████▊   | 354/518 [1:13:01<33:51, 12.39s/it]"
          ]
        },
        {
          "output_type": "stream",
          "name": "stdout",
          "text": [
            "Processed batch 11296 to 11328\n"
          ]
        },
        {
          "output_type": "stream",
          "name": "stderr",
          "text": [
            "\r 69%|██████▊   | 355/518 [1:13:13<33:31, 12.34s/it]"
          ]
        },
        {
          "output_type": "stream",
          "name": "stdout",
          "text": [
            "Processed batch 11328 to 11360\n"
          ]
        },
        {
          "output_type": "stream",
          "name": "stderr",
          "text": [
            "\r 69%|██████▊   | 356/518 [1:13:25<33:18, 12.34s/it]"
          ]
        },
        {
          "output_type": "stream",
          "name": "stdout",
          "text": [
            "Processed batch 11360 to 11392\n"
          ]
        },
        {
          "output_type": "stream",
          "name": "stderr",
          "text": [
            "\r 69%|██████▉   | 357/518 [1:13:37<32:54, 12.26s/it]"
          ]
        },
        {
          "output_type": "stream",
          "name": "stdout",
          "text": [
            "Processed batch 11392 to 11424\n"
          ]
        },
        {
          "output_type": "stream",
          "name": "stderr",
          "text": [
            "\r 69%|██████▉   | 358/518 [1:13:50<32:44, 12.28s/it]"
          ]
        },
        {
          "output_type": "stream",
          "name": "stdout",
          "text": [
            "Processed batch 11424 to 11456\n"
          ]
        },
        {
          "output_type": "stream",
          "name": "stderr",
          "text": [
            "\r 69%|██████▉   | 359/518 [1:14:02<32:30, 12.27s/it]"
          ]
        },
        {
          "output_type": "stream",
          "name": "stdout",
          "text": [
            "Processed batch 11456 to 11488\n"
          ]
        },
        {
          "output_type": "stream",
          "name": "stderr",
          "text": [
            "\r 69%|██████▉   | 360/518 [1:14:14<32:27, 12.32s/it]"
          ]
        },
        {
          "output_type": "stream",
          "name": "stdout",
          "text": [
            "Processed batch 11488 to 11520\n"
          ]
        },
        {
          "output_type": "stream",
          "name": "stderr",
          "text": [
            "\r 70%|██████▉   | 361/518 [1:14:24<30:17, 11.58s/it]"
          ]
        },
        {
          "output_type": "stream",
          "name": "stdout",
          "text": [
            "Processed batch 11520 to 11552\n"
          ]
        },
        {
          "output_type": "stream",
          "name": "stderr",
          "text": [
            "\r 70%|██████▉   | 362/518 [1:14:37<30:49, 11.86s/it]"
          ]
        },
        {
          "output_type": "stream",
          "name": "stdout",
          "text": [
            "Processed batch 11552 to 11584\n"
          ]
        },
        {
          "output_type": "stream",
          "name": "stderr",
          "text": [
            "\r 70%|███████   | 363/518 [1:14:49<30:57, 11.98s/it]"
          ]
        },
        {
          "output_type": "stream",
          "name": "stdout",
          "text": [
            "Processed batch 11584 to 11616\n"
          ]
        },
        {
          "output_type": "stream",
          "name": "stderr",
          "text": [
            "\r 70%|███████   | 364/518 [1:15:01<31:01, 12.09s/it]"
          ]
        },
        {
          "output_type": "stream",
          "name": "stdout",
          "text": [
            "Processed batch 11616 to 11648\n"
          ]
        },
        {
          "output_type": "stream",
          "name": "stderr",
          "text": [
            "\r 70%|███████   | 365/518 [1:15:14<31:05, 12.19s/it]"
          ]
        },
        {
          "output_type": "stream",
          "name": "stdout",
          "text": [
            "Processed batch 11648 to 11680\n"
          ]
        },
        {
          "output_type": "stream",
          "name": "stderr",
          "text": [
            "\r 71%|███████   | 366/518 [1:15:26<30:50, 12.17s/it]"
          ]
        },
        {
          "output_type": "stream",
          "name": "stdout",
          "text": [
            "Processed batch 11680 to 11712\n"
          ]
        },
        {
          "output_type": "stream",
          "name": "stderr",
          "text": [
            "\r 71%|███████   | 367/518 [1:15:38<30:40, 12.19s/it]"
          ]
        },
        {
          "output_type": "stream",
          "name": "stdout",
          "text": [
            "Processed batch 11712 to 11744\n"
          ]
        },
        {
          "output_type": "stream",
          "name": "stderr",
          "text": [
            "\r 71%|███████   | 368/518 [1:15:50<30:27, 12.18s/it]"
          ]
        },
        {
          "output_type": "stream",
          "name": "stdout",
          "text": [
            "Processed batch 11744 to 11776\n"
          ]
        },
        {
          "output_type": "stream",
          "name": "stderr",
          "text": [
            "\r 71%|███████   | 369/518 [1:16:03<30:17, 12.20s/it]"
          ]
        },
        {
          "output_type": "stream",
          "name": "stdout",
          "text": [
            "Processed batch 11776 to 11808\n"
          ]
        },
        {
          "output_type": "stream",
          "name": "stderr",
          "text": [
            "\r 71%|███████▏  | 370/518 [1:16:15<30:08, 12.22s/it]"
          ]
        },
        {
          "output_type": "stream",
          "name": "stdout",
          "text": [
            "Processed batch 11808 to 11840\n"
          ]
        },
        {
          "output_type": "stream",
          "name": "stderr",
          "text": [
            "\r 72%|███████▏  | 371/518 [1:16:27<30:04, 12.28s/it]"
          ]
        },
        {
          "output_type": "stream",
          "name": "stdout",
          "text": [
            "Processed batch 11840 to 11872\n"
          ]
        },
        {
          "output_type": "stream",
          "name": "stderr",
          "text": [
            "\r 72%|███████▏  | 372/518 [1:16:40<29:55, 12.29s/it]"
          ]
        },
        {
          "output_type": "stream",
          "name": "stdout",
          "text": [
            "Processed batch 11872 to 11904\n"
          ]
        },
        {
          "output_type": "stream",
          "name": "stderr",
          "text": [
            "\r 72%|███████▏  | 373/518 [1:16:52<29:43, 12.30s/it]"
          ]
        },
        {
          "output_type": "stream",
          "name": "stdout",
          "text": [
            "Processed batch 11904 to 11936\n"
          ]
        },
        {
          "output_type": "stream",
          "name": "stderr",
          "text": [
            "\r 72%|███████▏  | 374/518 [1:17:04<29:35, 12.33s/it]"
          ]
        },
        {
          "output_type": "stream",
          "name": "stdout",
          "text": [
            "Processed batch 11936 to 11968\n"
          ]
        },
        {
          "output_type": "stream",
          "name": "stderr",
          "text": [
            "\r 72%|███████▏  | 375/518 [1:17:14<27:43, 11.63s/it]"
          ]
        },
        {
          "output_type": "stream",
          "name": "stdout",
          "text": [
            "Processed batch 11968 to 12000\n"
          ]
        },
        {
          "output_type": "stream",
          "name": "stderr",
          "text": [
            "\r 73%|███████▎  | 376/518 [1:17:27<27:58, 11.82s/it]"
          ]
        },
        {
          "output_type": "stream",
          "name": "stdout",
          "text": [
            "Processed batch 12000 to 12032\n"
          ]
        },
        {
          "output_type": "stream",
          "name": "stderr",
          "text": [
            "\r 73%|███████▎  | 377/518 [1:17:39<27:57, 11.90s/it]"
          ]
        },
        {
          "output_type": "stream",
          "name": "stdout",
          "text": [
            "Processed batch 12032 to 12064\n"
          ]
        },
        {
          "output_type": "stream",
          "name": "stderr",
          "text": [
            "\r 73%|███████▎  | 378/518 [1:17:51<28:02, 12.01s/it]"
          ]
        },
        {
          "output_type": "stream",
          "name": "stdout",
          "text": [
            "Processed batch 12064 to 12096\n"
          ]
        },
        {
          "output_type": "stream",
          "name": "stderr",
          "text": [
            "\r 73%|███████▎  | 379/518 [1:18:03<27:57, 12.07s/it]"
          ]
        },
        {
          "output_type": "stream",
          "name": "stdout",
          "text": [
            "Processed batch 12096 to 12128\n"
          ]
        },
        {
          "output_type": "stream",
          "name": "stderr",
          "text": [
            "\r 73%|███████▎  | 380/518 [1:18:16<27:59, 12.17s/it]"
          ]
        },
        {
          "output_type": "stream",
          "name": "stdout",
          "text": [
            "Processed batch 12128 to 12160\n"
          ]
        },
        {
          "output_type": "stream",
          "name": "stderr",
          "text": [
            "\r 74%|███████▎  | 381/518 [1:18:28<27:51, 12.20s/it]"
          ]
        },
        {
          "output_type": "stream",
          "name": "stdout",
          "text": [
            "Processed batch 12160 to 12192\n"
          ]
        },
        {
          "output_type": "stream",
          "name": "stderr",
          "text": [
            "\r 74%|███████▎  | 382/518 [1:18:40<27:42, 12.23s/it]"
          ]
        },
        {
          "output_type": "stream",
          "name": "stdout",
          "text": [
            "Processed batch 12192 to 12224\n"
          ]
        },
        {
          "output_type": "stream",
          "name": "stderr",
          "text": [
            "\r 74%|███████▍  | 383/518 [1:18:53<27:56, 12.42s/it]"
          ]
        },
        {
          "output_type": "stream",
          "name": "stdout",
          "text": [
            "Processed batch 12224 to 12256\n"
          ]
        },
        {
          "output_type": "stream",
          "name": "stderr",
          "text": [
            "\r 74%|███████▍  | 384/518 [1:19:05<27:41, 12.40s/it]"
          ]
        },
        {
          "output_type": "stream",
          "name": "stdout",
          "text": [
            "Processed batch 12256 to 12288\n"
          ]
        },
        {
          "output_type": "stream",
          "name": "stderr",
          "text": [
            "\r 74%|███████▍  | 385/518 [1:19:18<27:33, 12.44s/it]"
          ]
        },
        {
          "output_type": "stream",
          "name": "stdout",
          "text": [
            "Processed batch 12288 to 12320\n"
          ]
        },
        {
          "output_type": "stream",
          "name": "stderr",
          "text": [
            "\r 75%|███████▍  | 386/518 [1:19:30<27:17, 12.41s/it]"
          ]
        },
        {
          "output_type": "stream",
          "name": "stdout",
          "text": [
            "Processed batch 12320 to 12352\n"
          ]
        },
        {
          "output_type": "stream",
          "name": "stderr",
          "text": [
            "\r 75%|███████▍  | 387/518 [1:19:43<27:07, 12.42s/it]"
          ]
        },
        {
          "output_type": "stream",
          "name": "stdout",
          "text": [
            "Processed batch 12352 to 12384\n"
          ]
        },
        {
          "output_type": "stream",
          "name": "stderr",
          "text": [
            "\r 75%|███████▍  | 388/518 [1:19:55<26:49, 12.38s/it]"
          ]
        },
        {
          "output_type": "stream",
          "name": "stdout",
          "text": [
            "Processed batch 12384 to 12416\n"
          ]
        },
        {
          "output_type": "stream",
          "name": "stderr",
          "text": [
            "\r 75%|███████▌  | 389/518 [1:20:07<26:34, 12.36s/it]"
          ]
        },
        {
          "output_type": "stream",
          "name": "stdout",
          "text": [
            "Processed batch 12416 to 12448\n"
          ]
        },
        {
          "output_type": "stream",
          "name": "stderr",
          "text": [
            "\r 75%|███████▌  | 390/518 [1:20:19<26:12, 12.28s/it]"
          ]
        },
        {
          "output_type": "stream",
          "name": "stdout",
          "text": [
            "Processed batch 12448 to 12480\n"
          ]
        },
        {
          "output_type": "stream",
          "name": "stderr",
          "text": [
            "\r 75%|███████▌  | 391/518 [1:20:32<26:03, 12.31s/it]"
          ]
        },
        {
          "output_type": "stream",
          "name": "stdout",
          "text": [
            "Processed batch 12480 to 12512\n"
          ]
        },
        {
          "output_type": "stream",
          "name": "stderr",
          "text": [
            "\r 76%|███████▌  | 392/518 [1:20:44<25:47, 12.28s/it]"
          ]
        },
        {
          "output_type": "stream",
          "name": "stdout",
          "text": [
            "Processed batch 12512 to 12544\n"
          ]
        },
        {
          "output_type": "stream",
          "name": "stderr",
          "text": [
            "\r 76%|███████▌  | 393/518 [1:20:56<25:42, 12.34s/it]"
          ]
        },
        {
          "output_type": "stream",
          "name": "stdout",
          "text": [
            "Processed batch 12544 to 12576\n"
          ]
        },
        {
          "output_type": "stream",
          "name": "stderr",
          "text": [
            "\r 76%|███████▌  | 394/518 [1:21:09<25:28, 12.32s/it]"
          ]
        },
        {
          "output_type": "stream",
          "name": "stdout",
          "text": [
            "Processed batch 12576 to 12608\n"
          ]
        },
        {
          "output_type": "stream",
          "name": "stderr",
          "text": [
            "\r 76%|███████▋  | 395/518 [1:21:21<25:18, 12.35s/it]"
          ]
        },
        {
          "output_type": "stream",
          "name": "stdout",
          "text": [
            "Processed batch 12608 to 12640\n"
          ]
        },
        {
          "output_type": "stream",
          "name": "stderr",
          "text": [
            "\r 76%|███████▋  | 396/518 [1:21:32<24:28, 12.04s/it]"
          ]
        },
        {
          "output_type": "stream",
          "name": "stdout",
          "text": [
            "Processed batch 12640 to 12672\n"
          ]
        },
        {
          "output_type": "stream",
          "name": "stderr",
          "text": [
            "\r 77%|███████▋  | 397/518 [1:21:45<24:34, 12.19s/it]"
          ]
        },
        {
          "output_type": "stream",
          "name": "stdout",
          "text": [
            "Processed batch 12672 to 12704\n"
          ]
        },
        {
          "output_type": "stream",
          "name": "stderr",
          "text": [
            "\r 77%|███████▋  | 398/518 [1:21:57<24:25, 12.21s/it]"
          ]
        },
        {
          "output_type": "stream",
          "name": "stdout",
          "text": [
            "Processed batch 12704 to 12736\n"
          ]
        },
        {
          "output_type": "stream",
          "name": "stderr",
          "text": [
            "\r 77%|███████▋  | 399/518 [1:22:10<24:21, 12.28s/it]"
          ]
        },
        {
          "output_type": "stream",
          "name": "stdout",
          "text": [
            "Processed batch 12736 to 12768\n"
          ]
        },
        {
          "output_type": "stream",
          "name": "stderr",
          "text": [
            "\r 77%|███████▋  | 400/518 [1:22:22<24:06, 12.26s/it]"
          ]
        },
        {
          "output_type": "stream",
          "name": "stdout",
          "text": [
            "Processed batch 12768 to 12800\n"
          ]
        },
        {
          "output_type": "stream",
          "name": "stderr",
          "text": [
            "\r 77%|███████▋  | 401/518 [1:22:34<23:50, 12.23s/it]"
          ]
        },
        {
          "output_type": "stream",
          "name": "stdout",
          "text": [
            "Processed batch 12800 to 12832\n"
          ]
        },
        {
          "output_type": "stream",
          "name": "stderr",
          "text": [
            "\r 78%|███████▊  | 402/518 [1:22:46<23:37, 12.22s/it]"
          ]
        },
        {
          "output_type": "stream",
          "name": "stdout",
          "text": [
            "Processed batch 12832 to 12864\n"
          ]
        },
        {
          "output_type": "stream",
          "name": "stderr",
          "text": [
            "\r 78%|███████▊  | 403/518 [1:22:58<23:23, 12.20s/it]"
          ]
        },
        {
          "output_type": "stream",
          "name": "stdout",
          "text": [
            "Processed batch 12864 to 12896\n"
          ]
        },
        {
          "output_type": "stream",
          "name": "stderr",
          "text": [
            "\r 78%|███████▊  | 404/518 [1:23:11<23:17, 12.26s/it]"
          ]
        },
        {
          "output_type": "stream",
          "name": "stdout",
          "text": [
            "Processed batch 12896 to 12928\n"
          ]
        },
        {
          "output_type": "stream",
          "name": "stderr",
          "text": [
            "\r 78%|███████▊  | 405/518 [1:23:23<23:06, 12.27s/it]"
          ]
        },
        {
          "output_type": "stream",
          "name": "stdout",
          "text": [
            "Processed batch 12928 to 12960\n"
          ]
        },
        {
          "output_type": "stream",
          "name": "stderr",
          "text": [
            "\r 78%|███████▊  | 406/518 [1:23:36<23:00, 12.33s/it]"
          ]
        },
        {
          "output_type": "stream",
          "name": "stdout",
          "text": [
            "Processed batch 12960 to 12992\n"
          ]
        },
        {
          "output_type": "stream",
          "name": "stderr",
          "text": [
            "\r 79%|███████▊  | 407/518 [1:23:48<22:45, 12.30s/it]"
          ]
        },
        {
          "output_type": "stream",
          "name": "stdout",
          "text": [
            "Processed batch 12992 to 13024\n"
          ]
        },
        {
          "output_type": "stream",
          "name": "stderr",
          "text": [
            "\r 79%|███████▉  | 408/518 [1:24:00<22:36, 12.33s/it]"
          ]
        },
        {
          "output_type": "stream",
          "name": "stdout",
          "text": [
            "Processed batch 13024 to 13056\n"
          ]
        },
        {
          "output_type": "stream",
          "name": "stderr",
          "text": [
            "\r 79%|███████▉  | 409/518 [1:24:12<22:22, 12.31s/it]"
          ]
        },
        {
          "output_type": "stream",
          "name": "stdout",
          "text": [
            "Processed batch 13056 to 13088\n"
          ]
        },
        {
          "output_type": "stream",
          "name": "stderr",
          "text": [
            "\r 79%|███████▉  | 410/518 [1:24:25<22:16, 12.38s/it]"
          ]
        },
        {
          "output_type": "stream",
          "name": "stdout",
          "text": [
            "Processed batch 13088 to 13120\n"
          ]
        },
        {
          "output_type": "stream",
          "name": "stderr",
          "text": [
            "\r 79%|███████▉  | 411/518 [1:24:37<21:59, 12.33s/it]"
          ]
        },
        {
          "output_type": "stream",
          "name": "stdout",
          "text": [
            "Processed batch 13120 to 13152\n"
          ]
        },
        {
          "output_type": "stream",
          "name": "stderr",
          "text": [
            "\r 80%|███████▉  | 412/518 [1:24:49<21:46, 12.32s/it]"
          ]
        },
        {
          "output_type": "stream",
          "name": "stdout",
          "text": [
            "Processed batch 13152 to 13184\n"
          ]
        },
        {
          "output_type": "stream",
          "name": "stderr",
          "text": [
            "\r 80%|███████▉  | 413/518 [1:25:02<21:36, 12.34s/it]"
          ]
        },
        {
          "output_type": "stream",
          "name": "stdout",
          "text": [
            "Processed batch 13184 to 13216\n"
          ]
        },
        {
          "output_type": "stream",
          "name": "stderr",
          "text": [
            "\r 80%|███████▉  | 414/518 [1:25:14<21:17, 12.29s/it]"
          ]
        },
        {
          "output_type": "stream",
          "name": "stdout",
          "text": [
            "Processed batch 13216 to 13248\n"
          ]
        },
        {
          "output_type": "stream",
          "name": "stderr",
          "text": [
            "\r 80%|████████  | 415/518 [1:25:26<21:05, 12.29s/it]"
          ]
        },
        {
          "output_type": "stream",
          "name": "stdout",
          "text": [
            "Processed batch 13248 to 13280\n"
          ]
        },
        {
          "output_type": "stream",
          "name": "stderr",
          "text": [
            "\r 80%|████████  | 416/518 [1:25:38<20:49, 12.25s/it]"
          ]
        },
        {
          "output_type": "stream",
          "name": "stdout",
          "text": [
            "Processed batch 13280 to 13312\n"
          ]
        },
        {
          "output_type": "stream",
          "name": "stderr",
          "text": [
            "\r 81%|████████  | 417/518 [1:25:51<20:41, 12.29s/it]"
          ]
        },
        {
          "output_type": "stream",
          "name": "stdout",
          "text": [
            "Processed batch 13312 to 13344\n"
          ]
        },
        {
          "output_type": "stream",
          "name": "stderr",
          "text": [
            "\r 81%|████████  | 418/518 [1:26:03<20:14, 12.15s/it]"
          ]
        },
        {
          "output_type": "stream",
          "name": "stdout",
          "text": [
            "Processed batch 13344 to 13376\n"
          ]
        },
        {
          "output_type": "stream",
          "name": "stderr",
          "text": [
            "\r 81%|████████  | 419/518 [1:26:15<20:10, 12.22s/it]"
          ]
        },
        {
          "output_type": "stream",
          "name": "stdout",
          "text": [
            "Processed batch 13376 to 13408\n"
          ]
        },
        {
          "output_type": "stream",
          "name": "stderr",
          "text": [
            "\r 81%|████████  | 420/518 [1:26:27<20:01, 12.27s/it]"
          ]
        },
        {
          "output_type": "stream",
          "name": "stdout",
          "text": [
            "Processed batch 13408 to 13440\n"
          ]
        },
        {
          "output_type": "stream",
          "name": "stderr",
          "text": [
            "\r 81%|████████▏ | 421/518 [1:26:40<19:56, 12.34s/it]"
          ]
        },
        {
          "output_type": "stream",
          "name": "stdout",
          "text": [
            "Processed batch 13440 to 13472\n"
          ]
        },
        {
          "output_type": "stream",
          "name": "stderr",
          "text": [
            "\r 81%|████████▏ | 422/518 [1:26:52<19:43, 12.32s/it]"
          ]
        },
        {
          "output_type": "stream",
          "name": "stdout",
          "text": [
            "Processed batch 13472 to 13504\n"
          ]
        },
        {
          "output_type": "stream",
          "name": "stderr",
          "text": [
            "\r 82%|████████▏ | 423/518 [1:27:05<19:35, 12.38s/it]"
          ]
        },
        {
          "output_type": "stream",
          "name": "stdout",
          "text": [
            "Processed batch 13504 to 13536\n"
          ]
        },
        {
          "output_type": "stream",
          "name": "stderr",
          "text": [
            "\r 82%|████████▏ | 424/518 [1:27:17<19:21, 12.36s/it]"
          ]
        },
        {
          "output_type": "stream",
          "name": "stdout",
          "text": [
            "Processed batch 13536 to 13568\n"
          ]
        },
        {
          "output_type": "stream",
          "name": "stderr",
          "text": [
            "\r 82%|████████▏ | 425/518 [1:27:30<19:15, 12.43s/it]"
          ]
        },
        {
          "output_type": "stream",
          "name": "stdout",
          "text": [
            "Processed batch 13568 to 13600\n"
          ]
        },
        {
          "output_type": "stream",
          "name": "stderr",
          "text": [
            "\r 82%|████████▏ | 426/518 [1:27:42<18:58, 12.38s/it]"
          ]
        },
        {
          "output_type": "stream",
          "name": "stdout",
          "text": [
            "Processed batch 13600 to 13632\n"
          ]
        },
        {
          "output_type": "stream",
          "name": "stderr",
          "text": [
            "\r 82%|████████▏ | 427/518 [1:27:54<18:44, 12.36s/it]"
          ]
        },
        {
          "output_type": "stream",
          "name": "stdout",
          "text": [
            "Processed batch 13632 to 13664\n"
          ]
        },
        {
          "output_type": "stream",
          "name": "stderr",
          "text": [
            "\r 83%|████████▎ | 428/518 [1:28:06<18:26, 12.30s/it]"
          ]
        },
        {
          "output_type": "stream",
          "name": "stdout",
          "text": [
            "Processed batch 13664 to 13696\n"
          ]
        },
        {
          "output_type": "stream",
          "name": "stderr",
          "text": [
            "\r 83%|████████▎ | 429/518 [1:28:19<18:11, 12.26s/it]"
          ]
        },
        {
          "output_type": "stream",
          "name": "stdout",
          "text": [
            "Processed batch 13696 to 13728\n"
          ]
        },
        {
          "output_type": "stream",
          "name": "stderr",
          "text": [
            "\r 83%|████████▎ | 430/518 [1:28:31<18:02, 12.30s/it]"
          ]
        },
        {
          "output_type": "stream",
          "name": "stdout",
          "text": [
            "Processed batch 13728 to 13760\n"
          ]
        },
        {
          "output_type": "stream",
          "name": "stderr",
          "text": [
            "\r 83%|████████▎ | 431/518 [1:28:43<17:49, 12.30s/it]"
          ]
        },
        {
          "output_type": "stream",
          "name": "stdout",
          "text": [
            "Processed batch 13760 to 13792\n"
          ]
        },
        {
          "output_type": "stream",
          "name": "stderr",
          "text": [
            "\r 83%|████████▎ | 432/518 [1:28:56<17:41, 12.35s/it]"
          ]
        },
        {
          "output_type": "stream",
          "name": "stdout",
          "text": [
            "Processed batch 13792 to 13824\n"
          ]
        },
        {
          "output_type": "stream",
          "name": "stderr",
          "text": [
            "\r 84%|████████▎ | 433/518 [1:29:08<17:28, 12.34s/it]"
          ]
        },
        {
          "output_type": "stream",
          "name": "stdout",
          "text": [
            "Processed batch 13824 to 13856\n"
          ]
        },
        {
          "output_type": "stream",
          "name": "stderr",
          "text": [
            "\r 84%|████████▍ | 434/518 [1:29:20<17:19, 12.37s/it]"
          ]
        },
        {
          "output_type": "stream",
          "name": "stdout",
          "text": [
            "Processed batch 13856 to 13888\n"
          ]
        },
        {
          "output_type": "stream",
          "name": "stderr",
          "text": [
            "\r 84%|████████▍ | 435/518 [1:29:33<17:06, 12.36s/it]"
          ]
        },
        {
          "output_type": "stream",
          "name": "stdout",
          "text": [
            "Processed batch 13888 to 13920\n"
          ]
        },
        {
          "output_type": "stream",
          "name": "stderr",
          "text": [
            "\r 84%|████████▍ | 436/518 [1:29:45<16:56, 12.40s/it]"
          ]
        },
        {
          "output_type": "stream",
          "name": "stdout",
          "text": [
            "Processed batch 13920 to 13952\n"
          ]
        },
        {
          "output_type": "stream",
          "name": "stderr",
          "text": [
            "\r 84%|████████▍ | 437/518 [1:29:58<16:42, 12.37s/it]"
          ]
        },
        {
          "output_type": "stream",
          "name": "stdout",
          "text": [
            "Processed batch 13952 to 13984\n"
          ]
        },
        {
          "output_type": "stream",
          "name": "stderr",
          "text": [
            "\r 85%|████████▍ | 438/518 [1:30:10<16:27, 12.34s/it]"
          ]
        },
        {
          "output_type": "stream",
          "name": "stdout",
          "text": [
            "Processed batch 13984 to 14016\n"
          ]
        },
        {
          "output_type": "stream",
          "name": "stderr",
          "text": [
            "\r 85%|████████▍ | 439/518 [1:30:22<16:19, 12.40s/it]"
          ]
        },
        {
          "output_type": "stream",
          "name": "stdout",
          "text": [
            "Processed batch 14016 to 14048\n"
          ]
        },
        {
          "output_type": "stream",
          "name": "stderr",
          "text": [
            "\r 85%|████████▍ | 440/518 [1:30:35<16:03, 12.35s/it]"
          ]
        },
        {
          "output_type": "stream",
          "name": "stdout",
          "text": [
            "Processed batch 14048 to 14080\n"
          ]
        },
        {
          "output_type": "stream",
          "name": "stderr",
          "text": [
            "\r 85%|████████▌ | 441/518 [1:30:47<15:43, 12.26s/it]"
          ]
        },
        {
          "output_type": "stream",
          "name": "stdout",
          "text": [
            "Processed batch 14080 to 14112\n"
          ]
        },
        {
          "output_type": "stream",
          "name": "stderr",
          "text": [
            "\r 85%|████████▌ | 442/518 [1:30:59<15:28, 12.22s/it]"
          ]
        },
        {
          "output_type": "stream",
          "name": "stdout",
          "text": [
            "Processed batch 14112 to 14144\n"
          ]
        },
        {
          "output_type": "stream",
          "name": "stderr",
          "text": [
            "\r 86%|████████▌ | 443/518 [1:31:11<15:19, 12.26s/it]"
          ]
        },
        {
          "output_type": "stream",
          "name": "stdout",
          "text": [
            "Processed batch 14144 to 14176\n"
          ]
        },
        {
          "output_type": "stream",
          "name": "stderr",
          "text": [
            "\r 86%|████████▌ | 444/518 [1:31:23<15:07, 12.26s/it]"
          ]
        },
        {
          "output_type": "stream",
          "name": "stdout",
          "text": [
            "Processed batch 14176 to 14208\n"
          ]
        },
        {
          "output_type": "stream",
          "name": "stderr",
          "text": [
            "\r 86%|████████▌ | 445/518 [1:31:36<14:59, 12.33s/it]"
          ]
        },
        {
          "output_type": "stream",
          "name": "stdout",
          "text": [
            "Processed batch 14208 to 14240\n"
          ]
        },
        {
          "output_type": "stream",
          "name": "stderr",
          "text": [
            "\r 86%|████████▌ | 446/518 [1:31:48<14:46, 12.31s/it]"
          ]
        },
        {
          "output_type": "stream",
          "name": "stdout",
          "text": [
            "Processed batch 14240 to 14272\n"
          ]
        },
        {
          "output_type": "stream",
          "name": "stderr",
          "text": [
            "\r 86%|████████▋ | 447/518 [1:32:01<14:43, 12.45s/it]"
          ]
        },
        {
          "output_type": "stream",
          "name": "stdout",
          "text": [
            "Processed batch 14272 to 14304\n"
          ]
        },
        {
          "output_type": "stream",
          "name": "stderr",
          "text": [
            "\r 86%|████████▋ | 448/518 [1:32:13<14:29, 12.42s/it]"
          ]
        },
        {
          "output_type": "stream",
          "name": "stdout",
          "text": [
            "Processed batch 14304 to 14336\n"
          ]
        },
        {
          "output_type": "stream",
          "name": "stderr",
          "text": [
            "\r 87%|████████▋ | 449/518 [1:32:26<14:16, 12.41s/it]"
          ]
        },
        {
          "output_type": "stream",
          "name": "stdout",
          "text": [
            "Processed batch 14336 to 14368\n"
          ]
        },
        {
          "output_type": "stream",
          "name": "stderr",
          "text": [
            "\r 87%|████████▋ | 450/518 [1:32:38<14:04, 12.42s/it]"
          ]
        },
        {
          "output_type": "stream",
          "name": "stdout",
          "text": [
            "Processed batch 14368 to 14400\n"
          ]
        },
        {
          "output_type": "stream",
          "name": "stderr",
          "text": [
            "\r 87%|████████▋ | 451/518 [1:32:50<13:50, 12.39s/it]"
          ]
        },
        {
          "output_type": "stream",
          "name": "stdout",
          "text": [
            "Processed batch 14400 to 14432\n"
          ]
        },
        {
          "output_type": "stream",
          "name": "stderr",
          "text": [
            "\r 87%|████████▋ | 452/518 [1:33:03<13:37, 12.39s/it]"
          ]
        },
        {
          "output_type": "stream",
          "name": "stdout",
          "text": [
            "Processed batch 14432 to 14464\n"
          ]
        },
        {
          "output_type": "stream",
          "name": "stderr",
          "text": [
            "\r 87%|████████▋ | 453/518 [1:33:15<13:21, 12.33s/it]"
          ]
        },
        {
          "output_type": "stream",
          "name": "stdout",
          "text": [
            "Processed batch 14464 to 14496\n"
          ]
        },
        {
          "output_type": "stream",
          "name": "stderr",
          "text": [
            "\r 88%|████████▊ | 454/518 [1:33:27<13:09, 12.33s/it]"
          ]
        },
        {
          "output_type": "stream",
          "name": "stdout",
          "text": [
            "Processed batch 14496 to 14528\n"
          ]
        },
        {
          "output_type": "stream",
          "name": "stderr",
          "text": [
            "\r 88%|████████▊ | 455/518 [1:33:40<12:53, 12.28s/it]"
          ]
        },
        {
          "output_type": "stream",
          "name": "stdout",
          "text": [
            "Processed batch 14528 to 14560\n"
          ]
        },
        {
          "output_type": "stream",
          "name": "stderr",
          "text": [
            "\r 88%|████████▊ | 456/518 [1:33:52<12:43, 12.32s/it]"
          ]
        },
        {
          "output_type": "stream",
          "name": "stdout",
          "text": [
            "Processed batch 14560 to 14592\n"
          ]
        },
        {
          "output_type": "stream",
          "name": "stderr",
          "text": [
            "\r 88%|████████▊ | 457/518 [1:34:04<12:31, 12.32s/it]"
          ]
        },
        {
          "output_type": "stream",
          "name": "stdout",
          "text": [
            "Processed batch 14592 to 14624\n"
          ]
        },
        {
          "output_type": "stream",
          "name": "stderr",
          "text": [
            "\r 88%|████████▊ | 458/518 [1:34:17<12:20, 12.35s/it]"
          ]
        },
        {
          "output_type": "stream",
          "name": "stdout",
          "text": [
            "Processed batch 14624 to 14656\n"
          ]
        },
        {
          "output_type": "stream",
          "name": "stderr",
          "text": [
            "\r 89%|████████▊ | 459/518 [1:34:29<12:08, 12.35s/it]"
          ]
        },
        {
          "output_type": "stream",
          "name": "stdout",
          "text": [
            "Processed batch 14656 to 14688\n"
          ]
        },
        {
          "output_type": "stream",
          "name": "stderr",
          "text": [
            "\r 89%|████████▉ | 460/518 [1:34:42<11:58, 12.38s/it]"
          ]
        },
        {
          "output_type": "stream",
          "name": "stdout",
          "text": [
            "Processed batch 14688 to 14720\n"
          ]
        },
        {
          "output_type": "stream",
          "name": "stderr",
          "text": [
            "\r 89%|████████▉ | 461/518 [1:34:54<11:44, 12.36s/it]"
          ]
        },
        {
          "output_type": "stream",
          "name": "stdout",
          "text": [
            "Processed batch 14720 to 14752\n"
          ]
        },
        {
          "output_type": "stream",
          "name": "stderr",
          "text": [
            "\r 89%|████████▉ | 462/518 [1:35:06<11:33, 12.38s/it]"
          ]
        },
        {
          "output_type": "stream",
          "name": "stdout",
          "text": [
            "Processed batch 14752 to 14784\n"
          ]
        },
        {
          "output_type": "stream",
          "name": "stderr",
          "text": [
            "\r 89%|████████▉ | 463/518 [1:35:19<11:20, 12.37s/it]"
          ]
        },
        {
          "output_type": "stream",
          "name": "stdout",
          "text": [
            "Processed batch 14784 to 14816\n"
          ]
        },
        {
          "output_type": "stream",
          "name": "stderr",
          "text": [
            "\r 90%|████████▉ | 464/518 [1:35:29<10:37, 11.81s/it]"
          ]
        },
        {
          "output_type": "stream",
          "name": "stdout",
          "text": [
            "Processed batch 14816 to 14848\n"
          ]
        },
        {
          "output_type": "stream",
          "name": "stderr",
          "text": [
            "\r 90%|████████▉ | 465/518 [1:35:41<10:33, 11.96s/it]"
          ]
        },
        {
          "output_type": "stream",
          "name": "stdout",
          "text": [
            "Processed batch 14848 to 14880\n"
          ]
        },
        {
          "output_type": "stream",
          "name": "stderr",
          "text": [
            "\r 90%|████████▉ | 466/518 [1:35:54<10:24, 12.01s/it]"
          ]
        },
        {
          "output_type": "stream",
          "name": "stdout",
          "text": [
            "Processed batch 14880 to 14912\n"
          ]
        },
        {
          "output_type": "stream",
          "name": "stderr",
          "text": [
            "\r 90%|█████████ | 467/518 [1:36:06<10:17, 12.11s/it]"
          ]
        },
        {
          "output_type": "stream",
          "name": "stdout",
          "text": [
            "Processed batch 14912 to 14944\n"
          ]
        },
        {
          "output_type": "stream",
          "name": "stderr",
          "text": [
            "\r 90%|█████████ | 468/518 [1:36:18<10:07, 12.15s/it]"
          ]
        },
        {
          "output_type": "stream",
          "name": "stdout",
          "text": [
            "Processed batch 14944 to 14976\n"
          ]
        },
        {
          "output_type": "stream",
          "name": "stderr",
          "text": [
            "\r 91%|█████████ | 469/518 [1:36:31<10:01, 12.28s/it]"
          ]
        },
        {
          "output_type": "stream",
          "name": "stdout",
          "text": [
            "Processed batch 14976 to 15008\n"
          ]
        },
        {
          "output_type": "stream",
          "name": "stderr",
          "text": [
            "\r 91%|█████████ | 470/518 [1:36:43<09:50, 12.29s/it]"
          ]
        },
        {
          "output_type": "stream",
          "name": "stdout",
          "text": [
            "Processed batch 15008 to 15040\n"
          ]
        },
        {
          "output_type": "stream",
          "name": "stderr",
          "text": [
            "\r 91%|█████████ | 471/518 [1:36:56<09:40, 12.35s/it]"
          ]
        },
        {
          "output_type": "stream",
          "name": "stdout",
          "text": [
            "Processed batch 15040 to 15072\n"
          ]
        },
        {
          "output_type": "stream",
          "name": "stderr",
          "text": [
            "\r 91%|█████████ | 472/518 [1:37:08<09:27, 12.33s/it]"
          ]
        },
        {
          "output_type": "stream",
          "name": "stdout",
          "text": [
            "Processed batch 15072 to 15104\n"
          ]
        },
        {
          "output_type": "stream",
          "name": "stderr",
          "text": [
            "\r 91%|█████████▏| 473/518 [1:37:20<09:15, 12.34s/it]"
          ]
        },
        {
          "output_type": "stream",
          "name": "stdout",
          "text": [
            "Processed batch 15104 to 15136\n"
          ]
        },
        {
          "output_type": "stream",
          "name": "stderr",
          "text": [
            "\r 92%|█████████▏| 474/518 [1:37:33<09:05, 12.39s/it]"
          ]
        },
        {
          "output_type": "stream",
          "name": "stdout",
          "text": [
            "Processed batch 15136 to 15168\n"
          ]
        },
        {
          "output_type": "stream",
          "name": "stderr",
          "text": [
            "\r 92%|█████████▏| 475/518 [1:37:45<08:52, 12.39s/it]"
          ]
        },
        {
          "output_type": "stream",
          "name": "stdout",
          "text": [
            "Processed batch 15168 to 15200\n"
          ]
        },
        {
          "output_type": "stream",
          "name": "stderr",
          "text": [
            "\r 92%|█████████▏| 476/518 [1:37:57<08:40, 12.40s/it]"
          ]
        },
        {
          "output_type": "stream",
          "name": "stdout",
          "text": [
            "Processed batch 15200 to 15232\n"
          ]
        },
        {
          "output_type": "stream",
          "name": "stderr",
          "text": [
            "\r 92%|█████████▏| 477/518 [1:38:10<08:26, 12.35s/it]"
          ]
        },
        {
          "output_type": "stream",
          "name": "stdout",
          "text": [
            "Processed batch 15232 to 15264\n"
          ]
        },
        {
          "output_type": "stream",
          "name": "stderr",
          "text": [
            "\r 92%|█████████▏| 478/518 [1:38:22<08:13, 12.33s/it]"
          ]
        },
        {
          "output_type": "stream",
          "name": "stdout",
          "text": [
            "Processed batch 15264 to 15296\n"
          ]
        },
        {
          "output_type": "stream",
          "name": "stderr",
          "text": [
            "\r 92%|█████████▏| 479/518 [1:38:34<07:58, 12.27s/it]"
          ]
        },
        {
          "output_type": "stream",
          "name": "stdout",
          "text": [
            "Processed batch 15296 to 15328\n"
          ]
        },
        {
          "output_type": "stream",
          "name": "stderr",
          "text": [
            "\r 93%|█████████▎| 480/518 [1:38:46<07:47, 12.29s/it]"
          ]
        },
        {
          "output_type": "stream",
          "name": "stdout",
          "text": [
            "Processed batch 15328 to 15360\n"
          ]
        },
        {
          "output_type": "stream",
          "name": "stderr",
          "text": [
            "\r 93%|█████████▎| 481/518 [1:38:59<07:34, 12.29s/it]"
          ]
        },
        {
          "output_type": "stream",
          "name": "stdout",
          "text": [
            "Processed batch 15360 to 15392\n"
          ]
        },
        {
          "output_type": "stream",
          "name": "stderr",
          "text": [
            "\r 93%|█████████▎| 482/518 [1:39:11<07:23, 12.33s/it]"
          ]
        },
        {
          "output_type": "stream",
          "name": "stdout",
          "text": [
            "Processed batch 15392 to 15424\n"
          ]
        },
        {
          "output_type": "stream",
          "name": "stderr",
          "text": [
            "\r 93%|█████████▎| 483/518 [1:39:23<07:10, 12.31s/it]"
          ]
        },
        {
          "output_type": "stream",
          "name": "stdout",
          "text": [
            "Processed batch 15424 to 15456\n"
          ]
        },
        {
          "output_type": "stream",
          "name": "stderr",
          "text": [
            "\r 93%|█████████▎| 484/518 [1:39:36<07:00, 12.36s/it]"
          ]
        },
        {
          "output_type": "stream",
          "name": "stdout",
          "text": [
            "Processed batch 15456 to 15488\n"
          ]
        },
        {
          "output_type": "stream",
          "name": "stderr",
          "text": [
            "\r 94%|█████████▎| 485/518 [1:39:48<06:46, 12.33s/it]"
          ]
        },
        {
          "output_type": "stream",
          "name": "stdout",
          "text": [
            "Processed batch 15488 to 15520\n"
          ]
        },
        {
          "output_type": "stream",
          "name": "stderr",
          "text": [
            "\r 94%|█████████▍| 486/518 [1:40:01<06:34, 12.33s/it]"
          ]
        },
        {
          "output_type": "stream",
          "name": "stdout",
          "text": [
            "Processed batch 15520 to 15552\n"
          ]
        },
        {
          "output_type": "stream",
          "name": "stderr",
          "text": [
            "\r 94%|█████████▍| 487/518 [1:40:13<06:24, 12.40s/it]"
          ]
        },
        {
          "output_type": "stream",
          "name": "stdout",
          "text": [
            "Processed batch 15552 to 15584\n"
          ]
        },
        {
          "output_type": "stream",
          "name": "stderr",
          "text": [
            "\r 94%|█████████▍| 488/518 [1:40:25<06:11, 12.39s/it]"
          ]
        },
        {
          "output_type": "stream",
          "name": "stdout",
          "text": [
            "Processed batch 15584 to 15616\n"
          ]
        },
        {
          "output_type": "stream",
          "name": "stderr",
          "text": [
            "\r 94%|█████████▍| 489/518 [1:40:38<06:00, 12.42s/it]"
          ]
        },
        {
          "output_type": "stream",
          "name": "stdout",
          "text": [
            "Processed batch 15616 to 15648\n"
          ]
        },
        {
          "output_type": "stream",
          "name": "stderr",
          "text": [
            "\r 95%|█████████▍| 490/518 [1:40:50<05:47, 12.42s/it]"
          ]
        },
        {
          "output_type": "stream",
          "name": "stdout",
          "text": [
            "Processed batch 15648 to 15680\n"
          ]
        },
        {
          "output_type": "stream",
          "name": "stderr",
          "text": [
            "\r 95%|█████████▍| 491/518 [1:41:03<05:35, 12.42s/it]"
          ]
        },
        {
          "output_type": "stream",
          "name": "stdout",
          "text": [
            "Processed batch 15680 to 15712\n"
          ]
        },
        {
          "output_type": "stream",
          "name": "stderr",
          "text": [
            "\r 95%|█████████▍| 492/518 [1:41:15<05:21, 12.35s/it]"
          ]
        },
        {
          "output_type": "stream",
          "name": "stdout",
          "text": [
            "Processed batch 15712 to 15744\n"
          ]
        },
        {
          "output_type": "stream",
          "name": "stderr",
          "text": [
            "\r 95%|█████████▌| 493/518 [1:41:27<05:08, 12.33s/it]"
          ]
        },
        {
          "output_type": "stream",
          "name": "stdout",
          "text": [
            "Processed batch 15744 to 15776\n"
          ]
        },
        {
          "output_type": "stream",
          "name": "stderr",
          "text": [
            "\r 95%|█████████▌| 494/518 [1:41:37<04:35, 11.50s/it]"
          ]
        },
        {
          "output_type": "stream",
          "name": "stdout",
          "text": [
            "Processed batch 15776 to 15808\n"
          ]
        },
        {
          "output_type": "stream",
          "name": "stderr",
          "text": [
            "\r 96%|█████████▌| 495/518 [1:41:49<04:31, 11.81s/it]"
          ]
        },
        {
          "output_type": "stream",
          "name": "stdout",
          "text": [
            "Processed batch 15808 to 15840\n"
          ]
        },
        {
          "output_type": "stream",
          "name": "stderr",
          "text": [
            "\r 96%|█████████▌| 496/518 [1:42:02<04:23, 11.96s/it]"
          ]
        },
        {
          "output_type": "stream",
          "name": "stdout",
          "text": [
            "Processed batch 15840 to 15872\n"
          ]
        },
        {
          "output_type": "stream",
          "name": "stderr",
          "text": [
            "\r 96%|█████████▌| 497/518 [1:42:14<04:13, 12.08s/it]"
          ]
        },
        {
          "output_type": "stream",
          "name": "stdout",
          "text": [
            "Processed batch 15872 to 15904\n"
          ]
        },
        {
          "output_type": "stream",
          "name": "stderr",
          "text": [
            "\r 96%|█████████▌| 498/518 [1:42:26<04:03, 12.19s/it]"
          ]
        },
        {
          "output_type": "stream",
          "name": "stdout",
          "text": [
            "Processed batch 15904 to 15936\n"
          ]
        },
        {
          "output_type": "stream",
          "name": "stderr",
          "text": [
            "\r 96%|█████████▋| 499/518 [1:42:39<03:52, 12.22s/it]"
          ]
        },
        {
          "output_type": "stream",
          "name": "stdout",
          "text": [
            "Processed batch 15936 to 15968\n"
          ]
        },
        {
          "output_type": "stream",
          "name": "stderr",
          "text": [
            "\r 97%|█████████▋| 500/518 [1:42:51<03:41, 12.29s/it]"
          ]
        },
        {
          "output_type": "stream",
          "name": "stdout",
          "text": [
            "Processed batch 15968 to 16000\n"
          ]
        },
        {
          "output_type": "stream",
          "name": "stderr",
          "text": [
            "\r 97%|█████████▋| 501/518 [1:43:03<03:28, 12.27s/it]"
          ]
        },
        {
          "output_type": "stream",
          "name": "stdout",
          "text": [
            "Processed batch 16000 to 16032\n"
          ]
        },
        {
          "output_type": "stream",
          "name": "stderr",
          "text": [
            "\r 97%|█████████▋| 502/518 [1:43:14<03:10, 11.89s/it]"
          ]
        },
        {
          "output_type": "stream",
          "name": "stdout",
          "text": [
            "Processed batch 16032 to 16064\n"
          ]
        },
        {
          "output_type": "stream",
          "name": "stderr",
          "text": [
            "\r 97%|█████████▋| 503/518 [1:43:27<02:59, 11.97s/it]"
          ]
        },
        {
          "output_type": "stream",
          "name": "stdout",
          "text": [
            "Processed batch 16064 to 16096\n"
          ]
        },
        {
          "output_type": "stream",
          "name": "stderr",
          "text": [
            "\r 97%|█████████▋| 504/518 [1:43:39<02:49, 12.09s/it]"
          ]
        },
        {
          "output_type": "stream",
          "name": "stdout",
          "text": [
            "Processed batch 16096 to 16128\n"
          ]
        },
        {
          "output_type": "stream",
          "name": "stderr",
          "text": [
            "\r 97%|█████████▋| 505/518 [1:43:51<02:38, 12.16s/it]"
          ]
        },
        {
          "output_type": "stream",
          "name": "stdout",
          "text": [
            "Processed batch 16128 to 16160\n"
          ]
        },
        {
          "output_type": "stream",
          "name": "stderr",
          "text": [
            "\r 98%|█████████▊| 506/518 [1:44:04<02:26, 12.24s/it]"
          ]
        },
        {
          "output_type": "stream",
          "name": "stdout",
          "text": [
            "Processed batch 16160 to 16192\n"
          ]
        },
        {
          "output_type": "stream",
          "name": "stderr",
          "text": [
            "\r 98%|█████████▊| 507/518 [1:44:15<02:11, 11.95s/it]"
          ]
        },
        {
          "output_type": "stream",
          "name": "stdout",
          "text": [
            "Processed batch 16192 to 16224\n"
          ]
        },
        {
          "output_type": "stream",
          "name": "stderr",
          "text": [
            "\r 98%|█████████▊| 508/518 [1:44:27<02:01, 12.11s/it]"
          ]
        },
        {
          "output_type": "stream",
          "name": "stdout",
          "text": [
            "Processed batch 16224 to 16256\n"
          ]
        },
        {
          "output_type": "stream",
          "name": "stderr",
          "text": [
            "\r 98%|█████████▊| 509/518 [1:44:40<01:49, 12.17s/it]"
          ]
        },
        {
          "output_type": "stream",
          "name": "stdout",
          "text": [
            "Processed batch 16256 to 16288\n"
          ]
        },
        {
          "output_type": "stream",
          "name": "stderr",
          "text": [
            "\r 98%|█████████▊| 510/518 [1:44:52<01:37, 12.23s/it]"
          ]
        },
        {
          "output_type": "stream",
          "name": "stdout",
          "text": [
            "Processed batch 16288 to 16320\n"
          ]
        },
        {
          "output_type": "stream",
          "name": "stderr",
          "text": [
            "\r 99%|█████████▊| 511/518 [1:45:05<01:26, 12.37s/it]"
          ]
        },
        {
          "output_type": "stream",
          "name": "stdout",
          "text": [
            "Processed batch 16320 to 16352\n"
          ]
        },
        {
          "output_type": "stream",
          "name": "stderr",
          "text": [
            "\r 99%|█████████▉| 512/518 [1:45:17<01:13, 12.30s/it]"
          ]
        },
        {
          "output_type": "stream",
          "name": "stdout",
          "text": [
            "Processed batch 16352 to 16384\n"
          ]
        },
        {
          "output_type": "stream",
          "name": "stderr",
          "text": [
            "\r 99%|█████████▉| 513/518 [1:45:29<01:01, 12.28s/it]"
          ]
        },
        {
          "output_type": "stream",
          "name": "stdout",
          "text": [
            "Processed batch 16384 to 16416\n"
          ]
        },
        {
          "output_type": "stream",
          "name": "stderr",
          "text": [
            "\r 99%|█████████▉| 514/518 [1:45:41<00:48, 12.23s/it]"
          ]
        },
        {
          "output_type": "stream",
          "name": "stdout",
          "text": [
            "Processed batch 16416 to 16448\n"
          ]
        },
        {
          "output_type": "stream",
          "name": "stderr",
          "text": [
            "\r 99%|█████████▉| 515/518 [1:45:54<00:36, 12.29s/it]"
          ]
        },
        {
          "output_type": "stream",
          "name": "stdout",
          "text": [
            "Processed batch 16448 to 16480\n"
          ]
        },
        {
          "output_type": "stream",
          "name": "stderr",
          "text": [
            "\r100%|█████████▉| 516/518 [1:46:06<00:24, 12.29s/it]"
          ]
        },
        {
          "output_type": "stream",
          "name": "stdout",
          "text": [
            "Processed batch 16480 to 16512\n"
          ]
        },
        {
          "output_type": "stream",
          "name": "stderr",
          "text": [
            "\r100%|█████████▉| 517/518 [1:46:19<00:12, 12.35s/it]"
          ]
        },
        {
          "output_type": "stream",
          "name": "stdout",
          "text": [
            "Processed batch 16512 to 16544\n"
          ]
        },
        {
          "output_type": "stream",
          "name": "stderr",
          "text": [
            "100%|██████████| 518/518 [1:46:22<00:00, 12.32s/it]"
          ]
        },
        {
          "output_type": "stream",
          "name": "stdout",
          "text": [
            "Processed batch 16544 to 16576\n"
          ]
        },
        {
          "output_type": "stream",
          "name": "stderr",
          "text": [
            "\n"
          ]
        }
      ],
      "source": [
        "# Summarize the text in batches\n",
        "data = batch_summarization(data, batch_size=32, num_beams=2, device=device)"
      ]
    },
    {
      "cell_type": "code",
      "execution_count": null,
      "id": "6c2505c8-0e09-433c-b37f-3865378968d5",
      "metadata": {
        "colab": {
          "base_uri": "https://localhost:8080/",
          "height": 206
        },
        "id": "6c2505c8-0e09-433c-b37f-3865378968d5",
        "outputId": "afd1b989-4718-4a91-cb27-68f4de42e5e1"
      },
      "outputs": [
        {
          "output_type": "execute_result",
          "data": {
            "text/plain": [
              "                                     Cleaned_Summary  \\\n",
              "0  old major the old boar on the manor farm calls...   \n",
              "1  alex a teenager living in nearfuture england l...   \n",
              "2  the text of the plague is divided into five pa...   \n",
              "3  the argument of the enquiry proceeds by a seri...   \n",
              "4  the novel posits that space around the milky w...   \n",
              "\n",
              "                                     Summarized_Text  \n",
              "0  Old major the old boar on the manor farm calls...  \n",
              "1  alex a teenager living in nearfuture england l...  \n",
              "2  The plague is a novel about the spread of the ...  \n",
              "3  Heme provides a rough introduction to philosop...  \n",
              "4  The novel posits that space around the milky w...  "
            ],
            "text/html": [
              "\n",
              "  <div id=\"df-435140fc-5fd7-4fcb-94eb-b2c115f76e7d\" class=\"colab-df-container\">\n",
              "    <div>\n",
              "<style scoped>\n",
              "    .dataframe tbody tr th:only-of-type {\n",
              "        vertical-align: middle;\n",
              "    }\n",
              "\n",
              "    .dataframe tbody tr th {\n",
              "        vertical-align: top;\n",
              "    }\n",
              "\n",
              "    .dataframe thead th {\n",
              "        text-align: right;\n",
              "    }\n",
              "</style>\n",
              "<table border=\"1\" class=\"dataframe\">\n",
              "  <thead>\n",
              "    <tr style=\"text-align: right;\">\n",
              "      <th></th>\n",
              "      <th>Cleaned_Summary</th>\n",
              "      <th>Summarized_Text</th>\n",
              "    </tr>\n",
              "  </thead>\n",
              "  <tbody>\n",
              "    <tr>\n",
              "      <th>0</th>\n",
              "      <td>old major the old boar on the manor farm calls...</td>\n",
              "      <td>Old major the old boar on the manor farm calls...</td>\n",
              "    </tr>\n",
              "    <tr>\n",
              "      <th>1</th>\n",
              "      <td>alex a teenager living in nearfuture england l...</td>\n",
              "      <td>alex a teenager living in nearfuture england l...</td>\n",
              "    </tr>\n",
              "    <tr>\n",
              "      <th>2</th>\n",
              "      <td>the text of the plague is divided into five pa...</td>\n",
              "      <td>The plague is a novel about the spread of the ...</td>\n",
              "    </tr>\n",
              "    <tr>\n",
              "      <th>3</th>\n",
              "      <td>the argument of the enquiry proceeds by a seri...</td>\n",
              "      <td>Heme provides a rough introduction to philosop...</td>\n",
              "    </tr>\n",
              "    <tr>\n",
              "      <th>4</th>\n",
              "      <td>the novel posits that space around the milky w...</td>\n",
              "      <td>The novel posits that space around the milky w...</td>\n",
              "    </tr>\n",
              "  </tbody>\n",
              "</table>\n",
              "</div>\n",
              "    <div class=\"colab-df-buttons\">\n",
              "\n",
              "  <div class=\"colab-df-container\">\n",
              "    <button class=\"colab-df-convert\" onclick=\"convertToInteractive('df-435140fc-5fd7-4fcb-94eb-b2c115f76e7d')\"\n",
              "            title=\"Convert this dataframe to an interactive table.\"\n",
              "            style=\"display:none;\">\n",
              "\n",
              "  <svg xmlns=\"http://www.w3.org/2000/svg\" height=\"24px\" viewBox=\"0 -960 960 960\">\n",
              "    <path d=\"M120-120v-720h720v720H120Zm60-500h600v-160H180v160Zm220 220h160v-160H400v160Zm0 220h160v-160H400v160ZM180-400h160v-160H180v160Zm440 0h160v-160H620v160ZM180-180h160v-160H180v160Zm440 0h160v-160H620v160Z\"/>\n",
              "  </svg>\n",
              "    </button>\n",
              "\n",
              "  <style>\n",
              "    .colab-df-container {\n",
              "      display:flex;\n",
              "      gap: 12px;\n",
              "    }\n",
              "\n",
              "    .colab-df-convert {\n",
              "      background-color: #E8F0FE;\n",
              "      border: none;\n",
              "      border-radius: 50%;\n",
              "      cursor: pointer;\n",
              "      display: none;\n",
              "      fill: #1967D2;\n",
              "      height: 32px;\n",
              "      padding: 0 0 0 0;\n",
              "      width: 32px;\n",
              "    }\n",
              "\n",
              "    .colab-df-convert:hover {\n",
              "      background-color: #E2EBFA;\n",
              "      box-shadow: 0px 1px 2px rgba(60, 64, 67, 0.3), 0px 1px 3px 1px rgba(60, 64, 67, 0.15);\n",
              "      fill: #174EA6;\n",
              "    }\n",
              "\n",
              "    .colab-df-buttons div {\n",
              "      margin-bottom: 4px;\n",
              "    }\n",
              "\n",
              "    [theme=dark] .colab-df-convert {\n",
              "      background-color: #3B4455;\n",
              "      fill: #D2E3FC;\n",
              "    }\n",
              "\n",
              "    [theme=dark] .colab-df-convert:hover {\n",
              "      background-color: #434B5C;\n",
              "      box-shadow: 0px 1px 3px 1px rgba(0, 0, 0, 0.15);\n",
              "      filter: drop-shadow(0px 1px 2px rgba(0, 0, 0, 0.3));\n",
              "      fill: #FFFFFF;\n",
              "    }\n",
              "  </style>\n",
              "\n",
              "    <script>\n",
              "      const buttonEl =\n",
              "        document.querySelector('#df-435140fc-5fd7-4fcb-94eb-b2c115f76e7d button.colab-df-convert');\n",
              "      buttonEl.style.display =\n",
              "        google.colab.kernel.accessAllowed ? 'block' : 'none';\n",
              "\n",
              "      async function convertToInteractive(key) {\n",
              "        const element = document.querySelector('#df-435140fc-5fd7-4fcb-94eb-b2c115f76e7d');\n",
              "        const dataTable =\n",
              "          await google.colab.kernel.invokeFunction('convertToInteractive',\n",
              "                                                    [key], {});\n",
              "        if (!dataTable) return;\n",
              "\n",
              "        const docLinkHtml = 'Like what you see? Visit the ' +\n",
              "          '<a target=\"_blank\" href=https://colab.research.google.com/notebooks/data_table.ipynb>data table notebook</a>'\n",
              "          + ' to learn more about interactive tables.';\n",
              "        element.innerHTML = '';\n",
              "        dataTable['output_type'] = 'display_data';\n",
              "        await google.colab.output.renderOutput(dataTable, element);\n",
              "        const docLink = document.createElement('div');\n",
              "        docLink.innerHTML = docLinkHtml;\n",
              "        element.appendChild(docLink);\n",
              "      }\n",
              "    </script>\n",
              "  </div>\n",
              "\n",
              "\n",
              "<div id=\"df-24d2787b-638e-4fc4-9a78-9bdbbc5a30bb\">\n",
              "  <button class=\"colab-df-quickchart\" onclick=\"quickchart('df-24d2787b-638e-4fc4-9a78-9bdbbc5a30bb')\"\n",
              "            title=\"Suggest charts\"\n",
              "            style=\"display:none;\">\n",
              "\n",
              "<svg xmlns=\"http://www.w3.org/2000/svg\" height=\"24px\"viewBox=\"0 0 24 24\"\n",
              "     width=\"24px\">\n",
              "    <g>\n",
              "        <path d=\"M19 3H5c-1.1 0-2 .9-2 2v14c0 1.1.9 2 2 2h14c1.1 0 2-.9 2-2V5c0-1.1-.9-2-2-2zM9 17H7v-7h2v7zm4 0h-2V7h2v10zm4 0h-2v-4h2v4z\"/>\n",
              "    </g>\n",
              "</svg>\n",
              "  </button>\n",
              "\n",
              "<style>\n",
              "  .colab-df-quickchart {\n",
              "      --bg-color: #E8F0FE;\n",
              "      --fill-color: #1967D2;\n",
              "      --hover-bg-color: #E2EBFA;\n",
              "      --hover-fill-color: #174EA6;\n",
              "      --disabled-fill-color: #AAA;\n",
              "      --disabled-bg-color: #DDD;\n",
              "  }\n",
              "\n",
              "  [theme=dark] .colab-df-quickchart {\n",
              "      --bg-color: #3B4455;\n",
              "      --fill-color: #D2E3FC;\n",
              "      --hover-bg-color: #434B5C;\n",
              "      --hover-fill-color: #FFFFFF;\n",
              "      --disabled-bg-color: #3B4455;\n",
              "      --disabled-fill-color: #666;\n",
              "  }\n",
              "\n",
              "  .colab-df-quickchart {\n",
              "    background-color: var(--bg-color);\n",
              "    border: none;\n",
              "    border-radius: 50%;\n",
              "    cursor: pointer;\n",
              "    display: none;\n",
              "    fill: var(--fill-color);\n",
              "    height: 32px;\n",
              "    padding: 0;\n",
              "    width: 32px;\n",
              "  }\n",
              "\n",
              "  .colab-df-quickchart:hover {\n",
              "    background-color: var(--hover-bg-color);\n",
              "    box-shadow: 0 1px 2px rgba(60, 64, 67, 0.3), 0 1px 3px 1px rgba(60, 64, 67, 0.15);\n",
              "    fill: var(--button-hover-fill-color);\n",
              "  }\n",
              "\n",
              "  .colab-df-quickchart-complete:disabled,\n",
              "  .colab-df-quickchart-complete:disabled:hover {\n",
              "    background-color: var(--disabled-bg-color);\n",
              "    fill: var(--disabled-fill-color);\n",
              "    box-shadow: none;\n",
              "  }\n",
              "\n",
              "  .colab-df-spinner {\n",
              "    border: 2px solid var(--fill-color);\n",
              "    border-color: transparent;\n",
              "    border-bottom-color: var(--fill-color);\n",
              "    animation:\n",
              "      spin 1s steps(1) infinite;\n",
              "  }\n",
              "\n",
              "  @keyframes spin {\n",
              "    0% {\n",
              "      border-color: transparent;\n",
              "      border-bottom-color: var(--fill-color);\n",
              "      border-left-color: var(--fill-color);\n",
              "    }\n",
              "    20% {\n",
              "      border-color: transparent;\n",
              "      border-left-color: var(--fill-color);\n",
              "      border-top-color: var(--fill-color);\n",
              "    }\n",
              "    30% {\n",
              "      border-color: transparent;\n",
              "      border-left-color: var(--fill-color);\n",
              "      border-top-color: var(--fill-color);\n",
              "      border-right-color: var(--fill-color);\n",
              "    }\n",
              "    40% {\n",
              "      border-color: transparent;\n",
              "      border-right-color: var(--fill-color);\n",
              "      border-top-color: var(--fill-color);\n",
              "    }\n",
              "    60% {\n",
              "      border-color: transparent;\n",
              "      border-right-color: var(--fill-color);\n",
              "    }\n",
              "    80% {\n",
              "      border-color: transparent;\n",
              "      border-right-color: var(--fill-color);\n",
              "      border-bottom-color: var(--fill-color);\n",
              "    }\n",
              "    90% {\n",
              "      border-color: transparent;\n",
              "      border-bottom-color: var(--fill-color);\n",
              "    }\n",
              "  }\n",
              "</style>\n",
              "\n",
              "  <script>\n",
              "    async function quickchart(key) {\n",
              "      const quickchartButtonEl =\n",
              "        document.querySelector('#' + key + ' button');\n",
              "      quickchartButtonEl.disabled = true;  // To prevent multiple clicks.\n",
              "      quickchartButtonEl.classList.add('colab-df-spinner');\n",
              "      try {\n",
              "        const charts = await google.colab.kernel.invokeFunction(\n",
              "            'suggestCharts', [key], {});\n",
              "      } catch (error) {\n",
              "        console.error('Error during call to suggestCharts:', error);\n",
              "      }\n",
              "      quickchartButtonEl.classList.remove('colab-df-spinner');\n",
              "      quickchartButtonEl.classList.add('colab-df-quickchart-complete');\n",
              "    }\n",
              "    (() => {\n",
              "      let quickchartButtonEl =\n",
              "        document.querySelector('#df-24d2787b-638e-4fc4-9a78-9bdbbc5a30bb button');\n",
              "      quickchartButtonEl.style.display =\n",
              "        google.colab.kernel.accessAllowed ? 'block' : 'none';\n",
              "    })();\n",
              "  </script>\n",
              "</div>\n",
              "    </div>\n",
              "  </div>\n"
            ],
            "application/vnd.google.colaboratory.intrinsic+json": {
              "type": "dataframe",
              "summary": "{\n  \"name\": \"data[['Cleaned_Summary', 'Summarized_Text']]\",\n  \"rows\": 5,\n  \"fields\": [\n    {\n      \"column\": \"Cleaned_Summary\",\n      \"properties\": {\n        \"dtype\": \"string\",\n        \"num_unique_values\": 5,\n        \"samples\": [\n          \"alex a teenager living in nearfuture england leads his gang on nightly orgies of opportunistic random ultraviolence alexs friends droogs in the novels anglorussian slang nadsat are dim a slowwitted bruiser who is the gangs muscle georgie an ambitious secondincommand and pete who mostly plays along as the droogs indulge their taste for ultraviolence characterized as a sociopath and a hardened juvenile delinquent alex is also intelligent and quickwitted with sophisticated taste in music being particularly fond of beethoven or lovely ludwig van the novel begins with the droogs sitting in their favorite hangout the korova milkbar drinking milkdrug cocktails called milkplus to hype themselves for the nights mayhem they assault a scholar walking home from the public library rob a store leaving the owner and his wife bloodied and unconscious stomp a panhandling derelict then scuffle with a rival gang joyriding through the countryside in a stolen car they break into an isolated cottage and maul the young couple living there beating the husband and raping his wife in a metafictional touch the husband is a writer working on a manuscript called a clockwork orange and alex contemptuously reads out a paragraph that states the novels main theme before shredding the manuscript back at the milk bar alex punishes dim for some crude behaviour and strains within the gang become apparent at home in his dreary flat alex plays classical music at top volume while fantasizing of even more orgiastic violence alex skips school the next day following an unexpected visit from pr deltoid his postcorrective advisor alex meets a pair of tenyearold girls and takes them back to his parents flat where he administers hard drugs and then rapes them that evening alex finds his droogs in a mutinous mood georgie challenges alex for leadership of the gang demanding that they pull a mansized job alex quells the rebellion by slashing dims hand and fighting with georgie then in a show of generosity takes them to a bar where alex insists on following through on georgies idea to burgle the home of a wealthy old woman the breakin starts as farce and ends in tragic pathos as alexs attack kills the elderly woman his escape is blocked by dim who attacks alex leaving him incapacitated on the front step as the police arrive sentenced to prison for murder alex gets a job at the wing chapel playing religious music on the stereo before and after services as well as during the singing of hymns the prison chaplain mistakes alexs bible studies for stirrings of faith alex is actually reading scripture for the violent passages after alexs fellow cellmates blame him for beating a troublesome cellmate to death he agrees to undergo an experimental behaviourmodification treatment called the ludovico technique the technique is a form of aversion therapy in which alex receives an injection that makes him feel sick while watching graphically violent films eventually conditioning him to suffer crippling bouts of nausea at the mere thought of violence as an unintended consequence the soundtrack to one of the filmsbeethovens fifth symphonyrenders alex unable to listen to his beloved classical music the effectiveness of the technique is demonstrated to a group of vips who watch as alex collapses before a walloping bully and abases himself before a scantilyclad young woman whose presence has aroused his predatory sexual inclinations though the prison chaplain accuses the state of stripping alex of free will the government officials on the scene are pleased with the results and alex is released into society since his parents are now renting his room to a lodger alex wanders the streets and enters a public library where he hopes to learn a painless way to commit suicide there he accidentally encounters the old scholar he assaulted earlier in the book who keen on revenge beats alex with the help of his friends the policemen who come to alexs rescue turn out to be none other than dim and former gang rival billyboy the two policemen take alex outside of town and beat him up dazed and bloodied alex collapses at the door of an isolated cottage realizing too late that it is the house he and his droogs invaded in the first half of the story because the gang wore masks during the assault the writer does not recognize alex the writer whose name is revealed as f alexander shelters alex and questions him about the conditioning during this sequence it is revealed that mrs alexander died from the injuries inflicted during the gangrape and her husband has decided to continue living where her fragrant memory persists despite the horrid memories alexander a critic of the government hopes to use alex as a symbol of state brutality and thereby prevent the incumbent government from being reelected eventually he begins to realize alexs role in the happenings of the night two years ago one of alexanders radical associates manages to extract a confession from alex after removing him from f alexanders home and then locks him in a flatblock near his former home alex is then subjected to a relentless barrage of classical music prompting him to attempt suicide by leaping from a high window alex wakes up in hospital where he is courted by government officials anxious to counter the bad publicity created by his suicide attempt with alexander safely packed off to a mental institution alex is offered a wellpaying job if he agrees to side with the government as photographers snap pictures alex daydreams of orgiastic violence and realizes the ludovico conditioning has been reversed i was cured all right in the final chapter alex has a new trio of droogs but he finds he is beginning to outgrow his taste for violence a chance encounter with pete now married and settled down inspires alex to seek a wife and family of his own he contemplates the likelihood of his future son being a delinquent as he was a prospect alex views fatalistically\",\n          \"the novel posits that space around the milky way is divided into concentric layers called zones each being constrained by different laws of physics and each allowing for different degrees of biological and technological advancement the innermost the unthinking depths surrounds the galactic core and is incapable of supporting advanced life forms at all the next layer the slow zone is roughly equivalent to the real world in behavior and potential further out the zone named the beyond can support futuristic technologies such as ai and ftl travel the outermost zone the transcend contains most of the galactic halo and is populated by incomprehensibly vast and powerful posthuman entities a human expedition investigates a fivebillionyearold data archive that offers the possibility of unimaginable riches for the ambitious young civilization of the straumli realm the expeditions facility called high lab is gradually compromised by a dormant superintelligent entity actually encoded within the archive later known as the blight the blight rapidly learns how to infiltrate and control the computer systems of high lab and even develops the ability to possess and control the living humans the novel starts with an imaginative description of the evolution of this superintelligence through exponentially accelerating developmental stages culminating in a transcendent nighomnipotent power that is unfathomable to mere humans shortly before its final flowering the changes in a single minute of the blights life are said to exceed those of years of human civilization recognizing the danger of what they have awakened the researchers at high lab attempt to flee in two ships suspicious the blight discovers that one of the ships contains a data storage device in its cargo manifest assuming it contains information that could harm it the blight destroys the ship the second ship is allowed to escape unharmed as the blight assumes that it is no threat but later realizes that it actually held a countermeasure one of the few things in the universe that the blight fears the ship lands on a distant planet with a medievallevel civilization of doglike creatures dubbed tines who live in packs as group minds the ship is revealed to be a sleeper ship carrying most of high labs children in coldsleep boxes the boxes are rapidly failing and the surviving adults begin unloading them but are killed when one of two rival forces of tines seize the ship the faction that initially contacts the humans led by a tine known as steel kills the adults and destroys many of the coldsleep boxes they also capture a boy named jefri olsndot whom steel intended on killing but eventually exploits in order to develop advanced technology such as cannon and radio communication jefris older sister johanna is rescued by pilgrim and scriber wandering tines who bring her to the rival faction led by woodcarver she is asked to help develop technology that could gain the upper hand in the impending war a distress signal from the sleeper ship eventually reaches relay a major node in the galactic communications network a benign transcendent entity known as a power named old one contacts relay seeking information about the blight and the humans who released it old one constructs a seemingly human man pham nuwen to act as its agent pham and ravna bergsndot  a human employee of relays owners the wealthy vrinimi organization  trace the sleeper ships signal to the tines world old one designs a vessel the out of band ii to reach the tines world and to investigate what the ship carried with it from the high lab the blight attacks relay and old one old one gives pham the information necessary to activate the blight countermeasure while dying a process known as godshatter and pham and ravna escape relays destruction in the out of band ii after arriving at the tines homeworld and allying with woodcarver to defeat steel pham initiates the countermeasure which extends the slow zone by thousands of lightyears to enclose the blight this ends the threat of the blight at the cost of wrecking thousands of uninvolved civilizations causing trillions of deaths and potentially the extinction of several galactic races the process also kills pham and strands the other humans on the tines world now in the depths of the slow zone where rescue by an advanced civilization is impossible\",\n          \"the text of the plague is divided into five parts in the town of oran thousands of rats initially unnoticed by the populace begin to die in the streets a hysteria develops soon afterward causing the local newspapers to report the incident authorities responding to public pressure order the collection and cremation of the rats unaware that the collection itself was the catalyst for the spread of the bubonic plague the main character dr bernard rieux lives comfortably in an apartment building when strangely the buildings concierge m michel a confidante dies from a fever dr rieux consults his colleague castel about the illness until they come to the conclusion that a plague is sweeping the town they both approach fellow doctors and town authorities about their theory but are eventually dismissed on the basis of one death however as more and more deaths quickly ensue it becomes apparent that there is an epidemic authorities including the prefect m othon are slow to accept that the situation is serious and quibble over the appropriate action to take official notices enacting control measures are posted but the language used is optimistic and downplays the seriousness of the situation a special ward is opened at the hospital but its beds are filled within three days as the death toll begins to rise more desperate measures are taken homes are quarantined corpses and burials are strictly supervised a supply of plague serum finally arrives but there is only enough to treat existing cases and the countrys emergency reserves are depleted when the daily number of deaths jumps to the town is sealed and an outbreak of plague is officially declared the town is sealed off the town gates are shut rail travel is prohibited and all mail service is suspended the use of telephone lines is restricted only to urgent calls leaving short telegrams as the only means of communicating with friends or family outside the town the separation affects daily activity and depresses the spirit of the townspeople who begin to feel isolated and introverted and the plague begins to affect various characters one character raymond rambert devises a plan to escape the city to join his lover in paris after city officials refuse his request to leave he befriends some criminals so that they may smuggle him out of the city another character father paneloux uses the plague as an opportunity to advance his stature in the town by suggesting that the plague was an act of god punishing the citizens sinful nature his diatribe falls on the ears of many citizens of the town who turned to religion in droves but would not have done so under normal circumstances cottard a criminal remorseful enough to attempt suicide yet fearful of being arrested becomes wealthy as a major smuggler meanwhile dr rieux a vacationer jean tarrou and a civil servant joseph grand exhaustively treat patients in their homes and in the hospital rambert informs tarrou of his escape plan but when tarrou tells him that others in the city including dr rieux also have loved ones outside the city whom they are not allowed to see rambert becomes sympathetic and changes his mind he then decides to join tarrou and dr rieux to help fight the epidemic in midaugust the situation continues to worsen people try to escape the town but some are shot by armed sentries violence and looting break out on a small scale and the authorities respond by declaring martial law and imposing a curfew funerals are conducted with more and more speed no ceremony and little concern for the feelings of the families of the deceased the inhabitants passively endure their increasing feelings of exile and separation despondent they waste away emotionally as well as physically in september and october the town remains at the mercy of the plague rieux hears from the sanatorium that his wifes condition is worsening he also hardens his heart regarding the plague victims so that he can continue to do his work cottard on the other hand seems to flourish during the plague because it gives him a sense of being connected to others since everybody faces the same danger cottard and tarrou attend a performance of glucks opera orpheus and eurydice but the actor portraying orpheus collapses with plague symptoms during the performance rambert finally has a chance to escape but he decides to stay saying that he would feel ashamed of himself if he left towards the end of october castels new antiplague serum is tried for the first time but it cannot save the life of othons young son who suffers greatly as paneloux rieux and tarrou look on in horror paneloux who has joined the group of volunteers fighting the plague gives a second sermon he addresses the problem of an innocent childs suffering and says it is a test of a christians faith since it requires him either to deny everything or believe everything he urges the congregation not to give up the struggle but to do everything possible to fight the plague a few days after the sermon paneloux is taken ill his symptoms do not conform to those of the plague but the disease still proves fatal tarrou and rambert visit one of the isolation camps where they meet othon when othons period of quarantine ends he elects to stay in the camp as a volunteer because this will make him feel less separated from his dead son tarrou tells rieux the story of his life and the two men go swimming together in the sea grand catches the plague and instructs rieux to burn all his papers but grand makes an unexpected recovery and deaths from the plague start to decline by late january the plague is in full retreat and the townspeople begin to celebrate the imminent opening of the town gates othon however does not escape death from the disease cottard is distressed by the ending of the epidemic from which he has profited by shady dealings two government employees approach him and he flees despite the epidemics ending tarrou contracts the plague and dies after an heroic struggle rieuxs wife also dies in february the town gates open and people are reunited with their loved ones from other cities rambert is reunited with his wife rieux reveals that he is the narrator of the chronicle and that he tried to present an objective view of the events cottard goes mad and shoots at people from his home he is arrested grand begins working on his sentence again rieux reflects on the epidemic and reaches the conclusion that there is more to admire than to despise in humans\"\n        ],\n        \"semantic_type\": \"\",\n        \"description\": \"\"\n      }\n    },\n    {\n      \"column\": \"Summarized_Text\",\n      \"properties\": {\n        \"dtype\": \"string\",\n        \"num_unique_values\": 5,\n        \"samples\": [\n          \"alex a teenager living in nearfuture england leads his gang on nightly orgies of opportunistic random ultraviolence. The novel begins with the droogs sitting in their favorite hangout the korova milkbar drinking milkdrug cocktails called milkplus to hype themselves for the nights mayhem. The gang assault a scholar walking home from the public library rob\",\n          \"The novel posits that space around the milky way is divided into concentric layers called zones each being constrained by different laws of physics. The outermost zone the transcend contains most of the galactic halo and is populated by incomprehensibly vast and powerful posthuman entities. A human expedition investigates a fivebillionyearold data archive that offers the possibility of unimaginable\",\n          \"The plague is a novel about the spread of the bubonic plague in the town of oran. Thousands of rats begin to die in the streets of the town causing a hysteria. Authorities respond by declaring martial law and imposing a curfew. The plague affects various characters including the main character dr rieux.\"\n        ],\n        \"semantic_type\": \"\",\n        \"description\": \"\"\n      }\n    }\n  ]\n}"
            }
          },
          "metadata": {},
          "execution_count": 28
        }
      ],
      "source": [
        "# Display the first few summarized texts\n",
        "data[['Cleaned_Summary', 'Summarized_Text']].head()"
      ]
    },
    {
      "cell_type": "code",
      "execution_count": null,
      "id": "250af293-69ae-4cfc-ae84-87e1c2d36a41",
      "metadata": {
        "id": "250af293-69ae-4cfc-ae84-87e1c2d36a41"
      },
      "outputs": [],
      "source": [
        "# Save summarized book summary data to drive from google colab\n",
        "file_path = 'drive/MyDrive/summarized_book_summary.csv'\n",
        "data.to_csv(file_path, sep='\\t',\n",
        "            index=False, encoding='utf-8')"
      ]
    },
    {
      "cell_type": "code",
      "execution_count": null,
      "id": "14f39f4b-3a8b-45b1-9626-74b81c14832d",
      "metadata": {
        "id": "14f39f4b-3a8b-45b1-9626-74b81c14832d"
      },
      "outputs": [],
      "source": [
        "# # Save summarized book summary data to local system\n",
        "# data.to_csv('summarized_book_summary.csv', sep='\\t',\n",
        "#             index=False, encoding='utf-8')"
      ]
    },
    {
      "cell_type": "markdown",
      "source": [
        "## Step 3 Predicted Book Genres with Bert NLP model"
      ],
      "metadata": {
        "id": "dHTVTeMJz2ed"
      },
      "id": "dHTVTeMJz2ed"
    },
    {
      "cell_type": "code",
      "source": [
        "# import google drive to use gpu for this section\n",
        "from google.colab import drive\n",
        "drive.mount('/content/drive')"
      ],
      "metadata": {
        "colab": {
          "base_uri": "https://localhost:8080/"
        },
        "id": "AVwUC1YX5xJc",
        "outputId": "8cf8ba4e-c645-454a-dc21-d2cc1ffa9995"
      },
      "id": "AVwUC1YX5xJc",
      "execution_count": 2,
      "outputs": [
        {
          "output_type": "stream",
          "name": "stdout",
          "text": [
            "Mounted at /content/drive\n"
          ]
        }
      ]
    },
    {
      "cell_type": "code",
      "source": [
        "import ast\n",
        "from tqdm import tqdm\n",
        "import pandas as pd\n",
        "import torch\n",
        "from transformers import AutoTokenizer, AutoModelForSequenceClassification"
      ],
      "metadata": {
        "id": "wGTamEk76BdP"
      },
      "id": "wGTamEk76BdP",
      "execution_count": 62,
      "outputs": []
    },
    {
      "cell_type": "code",
      "source": [
        "# Load dataset from csv file from drive for google colab\n",
        "file_path = 'drive/MyDrive/summarized_book_summary.csv'\n",
        "data = pd.read_csv(file_path, sep='\\t', encoding='utf-8')"
      ],
      "metadata": {
        "id": "ZK8ANqJdy0gH"
      },
      "id": "ZK8ANqJdy0gH",
      "execution_count": 63,
      "outputs": []
    },
    {
      "cell_type": "code",
      "source": [
        "# Convert all genres values into tuple\n",
        "for i in tqdm(range(len(data))):\n",
        "    try:\n",
        "        genres_tuple = ast.literal_eval(data.loc[i, 'Book_Genres'])\n",
        "        if isinstance(genres_tuple, tuple):\n",
        "            data.at[i, 'Book_Genres'] = genres_tuple\n",
        "        else:\n",
        "            data.at[i, 'Book_Genres'] = np.nan\n",
        "    except (SyntaxError, ValueError):\n",
        "        continue"
      ],
      "metadata": {
        "colab": {
          "base_uri": "https://localhost:8080/"
        },
        "id": "FiRoxdzY6b7d",
        "outputId": "cf5e45f4-0128-46de-d05e-32f6003c5b0a"
      },
      "id": "FiRoxdzY6b7d",
      "execution_count": 64,
      "outputs": [
        {
          "output_type": "stream",
          "name": "stderr",
          "text": [
            "100%|██████████| 16554/16554 [00:01<00:00, 15583.75it/s]\n"
          ]
        }
      ]
    },
    {
      "cell_type": "code",
      "source": [
        "# Get the distinct book genres\n",
        "unique_genres = dict()\n",
        "for index, row in data.iterrows():\n",
        "    if pd.isnull(row['Book_Genres']):\n",
        "        continue\n",
        "    for genre in row['Book_Genres']:\n",
        "        unique_genres[genre] = unique_genres.get(genre, 0) + 1\n",
        "\n",
        "total_genres = [k for k, v in sorted(unique_genres.items(), key=lambda x: x[1], reverse=True)]"
      ],
      "metadata": {
        "id": "Qym8-FNxz2NW"
      },
      "id": "Qym8-FNxz2NW",
      "execution_count": 65,
      "outputs": []
    },
    {
      "cell_type": "code",
      "source": [
        "# Load pre-trained BERT tokenizer and model\n",
        "tokenizer = AutoTokenizer.from_pretrained(\"bert-large-uncased\")\n",
        "model = AutoModelForSequenceClassification.from_pretrained(\"bert-large-uncased\", num_labels=len(total_genres))"
      ],
      "metadata": {
        "colab": {
          "base_uri": "https://localhost:8080/"
        },
        "id": "xVWi26cG5azO",
        "outputId": "5ba326e7-1d5e-4870-80cf-0c7843691306"
      },
      "id": "xVWi26cG5azO",
      "execution_count": 66,
      "outputs": [
        {
          "output_type": "stream",
          "name": "stderr",
          "text": [
            "/usr/local/lib/python3.10/dist-packages/transformers/tokenization_utils_base.py:1601: FutureWarning: `clean_up_tokenization_spaces` was not set. It will be set to `True` by default. This behavior will be depracted in transformers v4.45, and will be then set to `False` by default. For more details check this issue: https://github.com/huggingface/transformers/issues/31884\n",
            "  warnings.warn(\n",
            "Some weights of BertForSequenceClassification were not initialized from the model checkpoint at bert-large-uncased and are newly initialized: ['classifier.bias', 'classifier.weight']\n",
            "You should probably TRAIN this model on a down-stream task to be able to use it for predictions and inference.\n"
          ]
        }
      ]
    },
    {
      "cell_type": "code",
      "source": [
        "def predict_book_genres(df, model, tokenizer, total_genres, top_n=1, threshold=0.5):\n",
        "    \"\"\"\n",
        "    Predicts book genres for each entry in the DataFrame based on the model predictions.\n",
        "\n",
        "    Args:\n",
        "        df (pd.DataFrame): DataFrame containing book information.\n",
        "        model: Pre-trained model for genre prediction.\n",
        "        tokenizer: Tokenizer for processing text inputs.\n",
        "        total_genres (list): List of all possible genres.\n",
        "        top_n (int): Number of top genres to return if none are predicted above the threshold.\n",
        "        threshold (float): Probability threshold for filtering genres.\n",
        "\n",
        "    Returns:\n",
        "        pd.DataFrame: Updated DataFrame with predicted genres in the 'Book_Genres' column.\n",
        "    \"\"\"\n",
        "    for index, row in tqdm(df[df['Book_Genres'].isnull()].iterrows()):\n",
        "        try:\n",
        "            text = df.loc[index, 'Cleaned_Summary']\n",
        "            inputs = tokenizer(text, return_tensors=\"pt\")\n",
        "            outputs = model(**inputs)\n",
        "        except RuntimeError:\n",
        "            text = df.loc[index, 'Summarized_Text']\n",
        "            inputs = tokenizer(text, return_tensors=\"pt\")\n",
        "            outputs = model(**inputs)\n",
        "\n",
        "        logits = outputs.logits\n",
        "        probabilities = torch.softmax(logits, dim=-1)\n",
        "\n",
        "        predicted_genres_with_scores = [(total_genres[i], probability.item()) for i, probability in enumerate(probabilities[0]) if probability > threshold]\n",
        "\n",
        "        predicted_genres = sorted(predicted_genres_with_scores, key=lambda x: x[1], reverse=True)\n",
        "        predicted_genres = [genre for genre, _ in predicted_genres]\n",
        "\n",
        "        if not predicted_genres:\n",
        "            predicted_genres = [total_genres[i] for i in torch.argsort(logits[0], descending=True)[:top_n]]\n",
        "\n",
        "        df.at[index, 'Book_Genres'] = tuple(predicted_genres)\n",
        "\n",
        "    return df"
      ],
      "metadata": {
        "id": "PTAKU4TV4CKc"
      },
      "id": "PTAKU4TV4CKc",
      "execution_count": 68,
      "outputs": []
    },
    {
      "cell_type": "code",
      "source": [
        "data = predict_book_genres(data, model, tokenizer, total_genres)"
      ],
      "metadata": {
        "colab": {
          "base_uri": "https://localhost:8080/"
        },
        "id": "4J-prgAvM6_0",
        "outputId": "965cf459-7b8b-42bc-8f8c-87c244c2f4f3"
      },
      "id": "4J-prgAvM6_0",
      "execution_count": 69,
      "outputs": [
        {
          "output_type": "stream",
          "name": "stderr",
          "text": [
            "0it [00:00, ?it/s]Token indices sequence length is longer than the specified maximum sequence length for this model (3034 > 512). Running this sequence through the model will result in indexing errors\n",
            "3718it [2:14:14,  2.17s/it]\n"
          ]
        }
      ]
    },
    {
      "cell_type": "code",
      "source": [
        "# Check the Nan value of all columns\n",
        "print(data.isna().sum())"
      ],
      "metadata": {
        "colab": {
          "base_uri": "https://localhost:8080/"
        },
        "id": "H4883XVNW3yo",
        "outputId": "a2389a7f-972b-4bd7-e206-0b7c704cc0cc"
      },
      "id": "H4883XVNW3yo",
      "execution_count": 70,
      "outputs": [
        {
          "output_type": "stream",
          "name": "stdout",
          "text": [
            "Index                   0\n",
            "Wikipedia_Article_ID    0\n",
            "Freebase_ID             0\n",
            "Book_Title              0\n",
            "Author                  0\n",
            "Publication_Date        0\n",
            "Book_Genres             0\n",
            "Plot_Summary            0\n",
            "Publication_Year        0\n",
            "Cleaned_Summary         0\n",
            "Summary_Length          0\n",
            "Summarized_Text         0\n",
            "dtype: int64\n"
          ]
        }
      ]
    },
    {
      "cell_type": "code",
      "source": [
        "# Save filled summarized book summary data to drive from google colab\n",
        "file_path = 'drive/MyDrive/final_book_summaries.csv'\n",
        "data.to_csv(file_path, sep='\\t',\n",
        "            index=False, encoding='utf-8')"
      ],
      "metadata": {
        "id": "rJGgzuedZfwS"
      },
      "id": "rJGgzuedZfwS",
      "execution_count": 71,
      "outputs": []
    },
    {
      "cell_type": "markdown",
      "source": [
        "## Step 4: Computer Vision Component"
      ],
      "metadata": {
        "id": "hL6Isf2ugVvl"
      },
      "id": "hL6Isf2ugVvl"
    },
    {
      "cell_type": "code",
      "source": [
        "# import google drive to use gpu for this section\n",
        "from google.colab import drive\n",
        "drive.mount('/content/drive')"
      ],
      "metadata": {
        "colab": {
          "base_uri": "https://localhost:8080/"
        },
        "id": "Z7yPHgIqgY1A",
        "outputId": "7c740575-503d-4fb7-b5ba-537db64a995d"
      },
      "id": "Z7yPHgIqgY1A",
      "execution_count": null,
      "outputs": [
        {
          "output_type": "stream",
          "name": "stdout",
          "text": [
            "Mounted at /content/drive\n"
          ]
        }
      ]
    },
    {
      "cell_type": "code",
      "source": [
        "# install the necessary libraries\n",
        "!pip install -q diffusers transformers torch"
      ],
      "metadata": {
        "colab": {
          "base_uri": "https://localhost:8080/"
        },
        "id": "gJ4opVUVgeFh",
        "outputId": "84eb55dc-ab75-473c-a423-2f9a188bea59"
      },
      "id": "gJ4opVUVgeFh",
      "execution_count": null,
      "outputs": [
        {
          "output_type": "stream",
          "name": "stdout",
          "text": [
            "\u001b[2K   \u001b[90m━━━━━━━━━━━━━━━━━━━━━━━━━━━━━━━━━━━━━━━━\u001b[0m \u001b[32m2.6/2.6 MB\u001b[0m \u001b[31m10.6 MB/s\u001b[0m eta \u001b[36m0:00:00\u001b[0m\n",
            "\u001b[?25h"
          ]
        }
      ]
    },
    {
      "cell_type": "code",
      "source": [
        "# import libraries\n",
        "import os\n",
        "import shutil\n",
        "import zipfile\n",
        "from tqdm import tqdm\n",
        "from PIL import Image\n",
        "import pandas as pd\n",
        "import matplotlib.pyplot as plt\n",
        "import torch\n",
        "from diffusers import StableDiffusionPipeline"
      ],
      "metadata": {
        "id": "Vs1NWRmEgloH"
      },
      "id": "Vs1NWRmEgloH",
      "execution_count": null,
      "outputs": []
    },
    {
      "cell_type": "code",
      "source": [
        "# Load dataset from csv file from drive for google colab\n",
        "file_path = 'drive/MyDrive/summarized_book_summary.csv'\n",
        "data = pd.read_csv(file_path, sep='\\t', encoding='utf-8')"
      ],
      "metadata": {
        "id": "JDhqwL4kgrqn"
      },
      "id": "JDhqwL4kgrqn",
      "execution_count": null,
      "outputs": []
    },
    {
      "cell_type": "code",
      "source": [
        "# # Load dataset from local csv file\n",
        "# data = pd.read_csv('summarized_book_summary.csv', sep='\\t', encoding='utf-8')"
      ],
      "metadata": {
        "id": "3CiBgnuSg6Sv"
      },
      "id": "3CiBgnuSg6Sv",
      "execution_count": null,
      "outputs": []
    },
    {
      "cell_type": "code",
      "source": [
        "# Check if a GPU is available, otherwise fall back to CPU\n",
        "device = \"cuda\" if torch.cuda.is_available() else \"cpu\"\n",
        "\n",
        "# Load the pre-trained Stable Diffusion model\n",
        "pipe = StableDiffusionPipeline.from_pretrained(\"CompVis/stable-diffusion-v1-4\",\n",
        "                                               torch_dtype=torch.float16)\\\n",
        "                                               .to(device)"
      ],
      "metadata": {
        "colab": {
          "base_uri": "https://localhost:8080/",
          "height": 211
        },
        "id": "O7yUVTFUg80-",
        "outputId": "d4fc1fee-177f-4d1e-c738-c2879c91266b"
      },
      "id": "O7yUVTFUg80-",
      "execution_count": null,
      "outputs": [
        {
          "output_type": "error",
          "ename": "NameError",
          "evalue": "name 'torch' is not defined",
          "traceback": [
            "\u001b[0;31m---------------------------------------------------------------------------\u001b[0m",
            "\u001b[0;31mNameError\u001b[0m                                 Traceback (most recent call last)",
            "\u001b[0;32m<ipython-input-1-b91863ac4bf6>\u001b[0m in \u001b[0;36m<cell line: 2>\u001b[0;34m()\u001b[0m\n\u001b[1;32m      1\u001b[0m \u001b[0;31m# Check if a GPU is available, otherwise fall back to CPU\u001b[0m\u001b[0;34m\u001b[0m\u001b[0;34m\u001b[0m\u001b[0m\n\u001b[0;32m----> 2\u001b[0;31m \u001b[0mdevice\u001b[0m \u001b[0;34m=\u001b[0m \u001b[0;34m\"cuda\"\u001b[0m \u001b[0;32mif\u001b[0m \u001b[0mtorch\u001b[0m\u001b[0;34m.\u001b[0m\u001b[0mcuda\u001b[0m\u001b[0;34m.\u001b[0m\u001b[0mis_available\u001b[0m\u001b[0;34m(\u001b[0m\u001b[0;34m)\u001b[0m \u001b[0;32melse\u001b[0m \u001b[0;34m\"cpu\"\u001b[0m\u001b[0;34m\u001b[0m\u001b[0;34m\u001b[0m\u001b[0m\n\u001b[0m\u001b[1;32m      3\u001b[0m \u001b[0;34m\u001b[0m\u001b[0m\n\u001b[1;32m      4\u001b[0m \u001b[0;31m# Load the pre-trained Stable Diffusion model\u001b[0m\u001b[0;34m\u001b[0m\u001b[0;34m\u001b[0m\u001b[0m\n\u001b[1;32m      5\u001b[0m pipe = StableDiffusionPipeline.from_pretrained(\"CompVis/stable-diffusion-v1-4\",\n",
            "\u001b[0;31mNameError\u001b[0m: name 'torch' is not defined"
          ]
        }
      ]
    },
    {
      "cell_type": "code",
      "source": [
        "# Ensure the output folder exists\n",
        "output_folder = \"./generated_images\"\n",
        "os.makedirs(output_folder, exist_ok=True)"
      ],
      "metadata": {
        "id": "edddfGpWhDAc"
      },
      "id": "edddfGpWhDAc",
      "execution_count": null,
      "outputs": []
    },
    {
      "cell_type": "code",
      "source": [
        "def text_to_image(text, num_images_per_prompt=1, height=256, width=256,\n",
        "                  pipe=None, device=\"cpu\"):\n",
        "    \"\"\"\n",
        "    Generates an image from the provided text using the Stable Diffusion\n",
        "    pipeline.\n",
        "\n",
        "    Args:\n",
        "        text (str): The text description to convert into an image.\n",
        "        num_images_per_prompt (int, optional): The number of images to generate\n",
        "                                               per prompt. Defaults to 1.\n",
        "        height (int, optional): The desired height of the generated image.\n",
        "                                Defaults to 256.\n",
        "        width (int, optional): The desired width of the generated image.\n",
        "                               Defaults to 256.\n",
        "        pipe (StableDiffusionPipeline, optional): The Stable Diffusion model\n",
        "                                                  pipeline. If not provided, a\n",
        "                                                  default model will be loaded.\n",
        "        device (str, optional): The device to use for inference (e.g., 'cpu',\n",
        "                                'cuda'). Defaults to 'cpu'.\n",
        "\n",
        "    Returns:\n",
        "        image (PIL Image): Generated image.\n",
        "    \"\"\"\n",
        "\n",
        "    if pipe is None:\n",
        "        # Load a default Stable Diffusion model if not provided\n",
        "        pipe = StableDiffusionPipeline.from_pretrained(\n",
        "            \"CompVis/stable-diffusion-v1-4\", torch_dtype=torch.float16)\\\n",
        "            .to(device)\n",
        "\n",
        "    # Generate the image\n",
        "    image = pipe(text, num_images_per_prompt=num_images_per_prompt,\n",
        "                 height=height, width=width).images[0]\n",
        "\n",
        "    return image"
      ],
      "metadata": {
        "id": "QkaChNtAhD3s"
      },
      "id": "QkaChNtAhD3s",
      "execution_count": null,
      "outputs": []
    },
    {
      "cell_type": "code",
      "source": [
        "def batch_text_to_images(df, pipe, batch_size=32, start_index=0,\n",
        "                         stop_index=None, num_images_per_prompt=1, height=256,\n",
        "                         width=256, device=\"cpu\",\n",
        "                         output_folder=\"generated_images\"):\n",
        "    \"\"\"\n",
        "    Generates images in batches from a DataFrame containing summarized text and\n",
        "    saves them to the specified output folder.\n",
        "\n",
        "    Args:\n",
        "        df (pandas.DataFrame): The DataFrame containing the summarized text in a\n",
        "                               column named 'Summarized_Text'.\n",
        "        pipe (StableDiffusionPipeline): The pre-trained Stable Diffusion model\n",
        "                                        pipeline used for image generation.\n",
        "        batch_size (int, optional): The number of rows to process in each batch.\n",
        "                                    Defaults to 32.\n",
        "        start_index (int, optional): The starting index for iterating through\n",
        "                                     the DataFrame. Defaults to 0.\n",
        "        stop_index (int, optional): The ending index for iterating through the\n",
        "                                    DataFrame (exclusive). If not provided,\n",
        "                                    iterates through the entire DataFrame.\n",
        "        num_images_per_prompt (int, optional): The number of images to generate\n",
        "                                                for each summarized text entry.\n",
        "                                                Defaults to 1.\n",
        "        height (int, optional): The desired height of the generated images.\n",
        "                                Defaults to 256.\n",
        "        width (int, optional): The desired width of the generated images.\n",
        "                               Defaults to 256.\n",
        "        device (str, optional): The device to use for inference (e.g., 'cpu',\n",
        "                                'cuda'). Defaults to 'cpu'.\n",
        "        output_folder (str, optional): The path to the output folder where\n",
        "                                       generated images will be saved.\n",
        "                                       Defaults to 'generated_images'.\n",
        "\n",
        "    Raises:\n",
        "        Exception: Any exception that occurs during image generation for a\n",
        "                   particular index in the DataFrame will be printed.\n",
        "    \"\"\"\n",
        "    if not stop_index:\n",
        "      stop_index = len(df)\n",
        "\n",
        "    # Loop through the dataframe in batches\n",
        "    for i in tqdm(range(start_index, stop_index, batch_size),\n",
        "                  desc=\"Generating Images\"):\n",
        "        batch_df = df.iloc[i:i+batch_size]\n",
        "        for idx, row in batch_df.iterrows():\n",
        "            try:\n",
        "                # Generate the image from the summarized text\n",
        "                img = text_to_image(row['Summarized_Text'],\n",
        "                                    num_images_per_prompt=num_images_per_prompt,\n",
        "                                    height=height, width=width, pipe=pipe,\n",
        "                                    device=device)\n",
        "\n",
        "                # Save the image with the index as the filename\n",
        "                img.save(os.path.join(output_folder, f\"{idx}_summary.png\"))\n",
        "            except Exception as e:\n",
        "                print(f\"Error generating image for index {idx}: {e}\")\n",
        "\n",
        "        print(f\"Processed batch {i} to {i+batch_size}\")"
      ],
      "metadata": {
        "id": "PvleTZUDhH9_"
      },
      "id": "PvleTZUDhH9_",
      "execution_count": null,
      "outputs": []
    },
    {
      "cell_type": "code",
      "source": [
        "def display_image(image):\n",
        "    \"\"\"\n",
        "    Display the generated image using matplotlib.\n",
        "\n",
        "    Args:\n",
        "    image (PIL Image): The image to display.\n",
        "    \"\"\"\n",
        "    plt.imshow(image)\n",
        "    plt.axis(\"off\")\n",
        "    plt.show()"
      ],
      "metadata": {
        "id": "KrliwygXhL-E"
      },
      "id": "KrliwygXhL-E",
      "execution_count": null,
      "outputs": []
    },
    {
      "cell_type": "code",
      "source": [
        "def zip_directory(directory_path, zip_file_path):\n",
        "    with zipfile.ZipFile(zip_file_path, 'w', zipfile.ZIP_DEFLATED) as zipf:\n",
        "        for root, _, files in os.walk(directory_path):\n",
        "            for file in files:\n",
        "                file_path = os.path.join(root, file)\n",
        "                arcname = os.path.relpath(file_path, os.path.dirname(directory_path))\n",
        "                zipf.write(file_path, arcname)"
      ],
      "metadata": {
        "id": "3eqEm3aQO7FK"
      },
      "id": "3eqEm3aQO7FK",
      "execution_count": null,
      "outputs": []
    },
    {
      "cell_type": "code",
      "source": [
        "sample_text = data.loc[0, 'Summarized_Text']\n",
        "\n",
        "# Generate image for sample text\n",
        "sample_image = text_to_image(text, pipe=pipe, device=device)\n",
        "\n",
        "# Display the generated image\n",
        "display_image(sample_image)"
      ],
      "metadata": {
        "id": "wjUsT5slhPqP"
      },
      "id": "wjUsT5slhPqP",
      "execution_count": null,
      "outputs": []
    },
    {
      "cell_type": "code",
      "source": [
        "# Generate images for data 0 to 1000\n",
        "batch_text_to_images(data, pipe=pipe, device=device, stop_index=1000,\n",
        "                     output_folder=output_folder)"
      ],
      "metadata": {
        "id": "7dzAK5dLhWSr"
      },
      "id": "7dzAK5dLhWSr",
      "execution_count": null,
      "outputs": []
    },
    {
      "cell_type": "code",
      "source": [
        "# Ensure the output folder exists\n",
        "output_folder = \"./generated_images_00\"\n",
        "os.makedirs(output_folder, exist_ok=True)\n",
        "zip_file_path = \"./generated_images_00.zip\"\n",
        "zip_directory(output_folder, zip_file_path)\n",
        "shutil.copy(zip_file_path, \"drive/MyDrive/generated_images_00.zip\")"
      ],
      "metadata": {
        "id": "qdxjBxDRPU01"
      },
      "id": "qdxjBxDRPU01",
      "execution_count": null,
      "outputs": []
    },
    {
      "cell_type": "code",
      "source": [
        "# Generate images for data 1000 to 2000\n",
        "batch_text_to_images(data, pipe=pipe, device=device,\n",
        "                     start_index=1000, stop_index=2000,\n",
        "                     output_folder=output_folder)"
      ],
      "metadata": {
        "id": "ZjgWp8lxMF17"
      },
      "id": "ZjgWp8lxMF17",
      "execution_count": null,
      "outputs": []
    },
    {
      "cell_type": "code",
      "source": [
        "# Ensure the output folder exists\n",
        "output_folder = \"./generated_images_01\"\n",
        "os.makedirs(output_folder, exist_ok=True)\n",
        "zip_file_path = \"./generated_images_01.zip\"\n",
        "zip_directory(output_folder, zip_file_path)\n",
        "shutil.copy(zip_file_path, \"drive/MyDrive/generated_images_01.zip\")"
      ],
      "metadata": {
        "id": "all6TGNGQH5A"
      },
      "id": "all6TGNGQH5A",
      "execution_count": null,
      "outputs": []
    },
    {
      "cell_type": "code",
      "source": [
        "# Generate images for data 2000 to 3000\n",
        "batch_text_to_images(data, pipe=pipe, device=device,\n",
        "                     start_index=2000, stop_index=3000,\n",
        "                     output_folder=output_folder)"
      ],
      "metadata": {
        "id": "PRUzwhUTMPjC"
      },
      "id": "PRUzwhUTMPjC",
      "execution_count": null,
      "outputs": []
    },
    {
      "cell_type": "code",
      "source": [
        "# Ensure the output folder exists\n",
        "output_folder = \"./generated_images_02\"\n",
        "os.makedirs(output_folder, exist_ok=True)\n",
        "zip_file_path = \"./generated_images_02.zip\"\n",
        "zip_directory(output_folder, zip_file_path)\n",
        "shutil.copy(zip_file_path, \"drive/MyDrive/generated_images_02.zip\")"
      ],
      "metadata": {
        "id": "QQn9qgfDQMZO"
      },
      "id": "QQn9qgfDQMZO",
      "execution_count": null,
      "outputs": []
    },
    {
      "cell_type": "code",
      "source": [
        "# Generate images for data 3000 to 4000\n",
        "batch_text_to_images(data, pipe=pipe, device=device,\n",
        "                     start_index=3000, stop_index=4000,\n",
        "                     output_folder=output_folder)"
      ],
      "metadata": {
        "id": "cXSwZsf_MVvI"
      },
      "id": "cXSwZsf_MVvI",
      "execution_count": null,
      "outputs": []
    },
    {
      "cell_type": "code",
      "source": [
        "# Generate images for data 4000 to 5000\n",
        "batch_text_to_images(data, pipe=pipe, device=device,\n",
        "                     start_index=4000, stop_index=5000,\n",
        "                     output_folder=output_folder)"
      ],
      "metadata": {
        "id": "_lYlagiDMinF"
      },
      "id": "_lYlagiDMinF",
      "execution_count": null,
      "outputs": []
    },
    {
      "cell_type": "code",
      "source": [
        "# Generate images for data 5000 to 6000\n",
        "batch_text_to_images(data, pipe=pipe, device=device,\n",
        "                     start_index=5000, stop_index=6000,\n",
        "                     output_folder=output_folder)"
      ],
      "metadata": {
        "id": "BIgUXfu3MqRL"
      },
      "id": "BIgUXfu3MqRL",
      "execution_count": null,
      "outputs": []
    },
    {
      "cell_type": "code",
      "source": [
        "# Generate images for data 6000 to 7000\n",
        "batch_text_to_images(data, pipe=pipe, device=device,\n",
        "                     start_index=6000, stop_index=7000,\n",
        "                     output_folder=output_folder)"
      ],
      "metadata": {
        "id": "L0qylQMbNomi"
      },
      "id": "L0qylQMbNomi",
      "execution_count": null,
      "outputs": []
    },
    {
      "cell_type": "code",
      "source": [
        "# Generate images for data 7000 to 8000\n",
        "batch_text_to_images(data, pipe=pipe, device=device,\n",
        "                     start_index=7000, stop_index=8000,\n",
        "                     output_folder=output_folder)"
      ],
      "metadata": {
        "id": "dJOV8fpUNuHK"
      },
      "id": "dJOV8fpUNuHK",
      "execution_count": null,
      "outputs": []
    },
    {
      "cell_type": "code",
      "source": [
        "# Generate images for data 8000 to 9000\n",
        "batch_text_to_images(data, pipe=pipe, device=device,\n",
        "                     start_index=8000, stop_index=9000,\n",
        "                     output_folder=output_folder)"
      ],
      "metadata": {
        "id": "ZXK4NqLxN0V1"
      },
      "id": "ZXK4NqLxN0V1",
      "execution_count": null,
      "outputs": []
    },
    {
      "cell_type": "code",
      "source": [
        "# Generate images for data 9000 to 10000\n",
        "batch_text_to_images(data, pipe=pipe, device=device,\n",
        "                     start_index=9000, stop_index=10000,\n",
        "                     output_folder=output_folder)"
      ],
      "metadata": {
        "id": "eZMg17vKN6TA"
      },
      "id": "eZMg17vKN6TA",
      "execution_count": null,
      "outputs": []
    },
    {
      "cell_type": "code",
      "source": [
        "# Generate images for data 10000 to 11000\n",
        "batch_text_to_images(data, pipe=pipe, device=device,\n",
        "                     start_index=10000, stop_index=11000,\n",
        "                     output_folder=output_folder)"
      ],
      "metadata": {
        "id": "btREQhjYOCYe"
      },
      "id": "btREQhjYOCYe",
      "execution_count": null,
      "outputs": []
    },
    {
      "cell_type": "code",
      "source": [
        "# Generate images for data 11000 to 12000\n",
        "batch_text_to_images(data, pipe=pipe, device=device,\n",
        "                     start_index=11000, stop_index=12000,\n",
        "                     output_folder=output_folder)"
      ],
      "metadata": {
        "id": "mGjKksgcOG3k"
      },
      "id": "mGjKksgcOG3k",
      "execution_count": null,
      "outputs": []
    },
    {
      "cell_type": "code",
      "source": [
        "# Generate images for data 12000 to 13000\n",
        "batch_text_to_images(data, pipe=pipe, device=device,\n",
        "                     start_index=12000, stop_index=13000,\n",
        "                     output_folder=output_folder)"
      ],
      "metadata": {
        "id": "Kdk2S-6XOLMd"
      },
      "id": "Kdk2S-6XOLMd",
      "execution_count": null,
      "outputs": []
    },
    {
      "cell_type": "code",
      "source": [
        "# Generate images for data 13000 to 14000\n",
        "batch_text_to_images(data, pipe=pipe, device=device,\n",
        "                     start_index=13000, stop_index=14000,\n",
        "                     output_folder=output_folder)"
      ],
      "metadata": {
        "id": "aK7Ug4rUOPVv"
      },
      "id": "aK7Ug4rUOPVv",
      "execution_count": null,
      "outputs": []
    },
    {
      "cell_type": "code",
      "source": [
        "# Generate images for data 14000 to 15000\n",
        "batch_text_to_images(data, pipe=pipe, device=device,\n",
        "                     start_index=14000, stop_index=15000,\n",
        "                     output_folder=output_folder)"
      ],
      "metadata": {
        "id": "j4QLSLLcOS8b"
      },
      "id": "j4QLSLLcOS8b",
      "execution_count": null,
      "outputs": []
    },
    {
      "cell_type": "code",
      "source": [
        "# Generate images for data 15000 to 16000\n",
        "batch_text_to_images(data, pipe=pipe, device=device,\n",
        "                     start_index=15000, stop_index=16000,\n",
        "                     output_folder=output_folder)"
      ],
      "metadata": {
        "id": "s9l6yAXBOWrt"
      },
      "id": "s9l6yAXBOWrt",
      "execution_count": null,
      "outputs": []
    },
    {
      "cell_type": "code",
      "source": [
        "# Generate images for data 16000 to end of dataset\n",
        "batch_text_to_images(data, pipe=pipe, device=device,\n",
        "                     start_index=16000,\n",
        "                     output_folder=output_folder)"
      ],
      "metadata": {
        "id": "xqS1hTaTObN2"
      },
      "id": "xqS1hTaTObN2",
      "execution_count": null,
      "outputs": []
    },
    {
      "cell_type": "markdown",
      "id": "9e03d044-a82f-47e6-b45d-645ce00ce471",
      "metadata": {
        "id": "9e03d044-a82f-47e6-b45d-645ce00ce471"
      },
      "source": [
        "## Step 5: EDA section"
      ]
    },
    {
      "cell_type": "code",
      "execution_count": null,
      "id": "c6872966-308a-4d69-af4f-8f7bb0db7bac",
      "metadata": {
        "id": "c6872966-308a-4d69-af4f-8f7bb0db7bac"
      },
      "outputs": [],
      "source": [
        "import ast\n",
        "from tqdm import tqdm\n",
        "import pandas as pd\n",
        "import matplotlib.pyplot as plt"
      ]
    },
    {
      "cell_type": "code",
      "execution_count": null,
      "id": "c03c8b51-362b-41e2-9450-770fcf95de3a",
      "metadata": {
        "id": "c03c8b51-362b-41e2-9450-770fcf95de3a",
        "colab": {
          "base_uri": "https://localhost:8080/",
          "height": 321
        },
        "outputId": "2a1541f0-1ffe-41d8-859c-45996e4ce0d3"
      },
      "outputs": [
        {
          "output_type": "error",
          "ename": "FileNotFoundError",
          "evalue": "[Errno 2] No such file or directory: 'cleaned_book_summary.csv'",
          "traceback": [
            "\u001b[0;31m---------------------------------------------------------------------------\u001b[0m",
            "\u001b[0;31mFileNotFoundError\u001b[0m                         Traceback (most recent call last)",
            "\u001b[0;32m<ipython-input-32-13aed3905823>\u001b[0m in \u001b[0;36m<cell line: 2>\u001b[0;34m()\u001b[0m\n\u001b[1;32m      1\u001b[0m \u001b[0;31m# Load dataset from csv file\u001b[0m\u001b[0;34m\u001b[0m\u001b[0;34m\u001b[0m\u001b[0m\n\u001b[0;32m----> 2\u001b[0;31m \u001b[0mdata\u001b[0m \u001b[0;34m=\u001b[0m \u001b[0mpd\u001b[0m\u001b[0;34m.\u001b[0m\u001b[0mread_csv\u001b[0m\u001b[0;34m(\u001b[0m\u001b[0;34m'cleaned_book_summary.csv'\u001b[0m\u001b[0;34m,\u001b[0m \u001b[0msep\u001b[0m\u001b[0;34m=\u001b[0m\u001b[0;34m'\\t'\u001b[0m\u001b[0;34m,\u001b[0m \u001b[0mencoding\u001b[0m\u001b[0;34m=\u001b[0m\u001b[0;34m'utf-8'\u001b[0m\u001b[0;34m)\u001b[0m\u001b[0;34m\u001b[0m\u001b[0;34m\u001b[0m\u001b[0m\n\u001b[0m",
            "\u001b[0;32m/usr/local/lib/python3.10/dist-packages/pandas/io/parsers/readers.py\u001b[0m in \u001b[0;36mread_csv\u001b[0;34m(filepath_or_buffer, sep, delimiter, header, names, index_col, usecols, dtype, engine, converters, true_values, false_values, skipinitialspace, skiprows, skipfooter, nrows, na_values, keep_default_na, na_filter, verbose, skip_blank_lines, parse_dates, infer_datetime_format, keep_date_col, date_parser, date_format, dayfirst, cache_dates, iterator, chunksize, compression, thousands, decimal, lineterminator, quotechar, quoting, doublequote, escapechar, comment, encoding, encoding_errors, dialect, on_bad_lines, delim_whitespace, low_memory, memory_map, float_precision, storage_options, dtype_backend)\u001b[0m\n\u001b[1;32m    946\u001b[0m     \u001b[0mkwds\u001b[0m\u001b[0;34m.\u001b[0m\u001b[0mupdate\u001b[0m\u001b[0;34m(\u001b[0m\u001b[0mkwds_defaults\u001b[0m\u001b[0;34m)\u001b[0m\u001b[0;34m\u001b[0m\u001b[0;34m\u001b[0m\u001b[0m\n\u001b[1;32m    947\u001b[0m \u001b[0;34m\u001b[0m\u001b[0m\n\u001b[0;32m--> 948\u001b[0;31m     \u001b[0;32mreturn\u001b[0m \u001b[0m_read\u001b[0m\u001b[0;34m(\u001b[0m\u001b[0mfilepath_or_buffer\u001b[0m\u001b[0;34m,\u001b[0m \u001b[0mkwds\u001b[0m\u001b[0;34m)\u001b[0m\u001b[0;34m\u001b[0m\u001b[0;34m\u001b[0m\u001b[0m\n\u001b[0m\u001b[1;32m    949\u001b[0m \u001b[0;34m\u001b[0m\u001b[0m\n\u001b[1;32m    950\u001b[0m \u001b[0;34m\u001b[0m\u001b[0m\n",
            "\u001b[0;32m/usr/local/lib/python3.10/dist-packages/pandas/io/parsers/readers.py\u001b[0m in \u001b[0;36m_read\u001b[0;34m(filepath_or_buffer, kwds)\u001b[0m\n\u001b[1;32m    609\u001b[0m \u001b[0;34m\u001b[0m\u001b[0m\n\u001b[1;32m    610\u001b[0m     \u001b[0;31m# Create the parser.\u001b[0m\u001b[0;34m\u001b[0m\u001b[0;34m\u001b[0m\u001b[0m\n\u001b[0;32m--> 611\u001b[0;31m     \u001b[0mparser\u001b[0m \u001b[0;34m=\u001b[0m \u001b[0mTextFileReader\u001b[0m\u001b[0;34m(\u001b[0m\u001b[0mfilepath_or_buffer\u001b[0m\u001b[0;34m,\u001b[0m \u001b[0;34m**\u001b[0m\u001b[0mkwds\u001b[0m\u001b[0;34m)\u001b[0m\u001b[0;34m\u001b[0m\u001b[0;34m\u001b[0m\u001b[0m\n\u001b[0m\u001b[1;32m    612\u001b[0m \u001b[0;34m\u001b[0m\u001b[0m\n\u001b[1;32m    613\u001b[0m     \u001b[0;32mif\u001b[0m \u001b[0mchunksize\u001b[0m \u001b[0;32mor\u001b[0m \u001b[0miterator\u001b[0m\u001b[0;34m:\u001b[0m\u001b[0;34m\u001b[0m\u001b[0;34m\u001b[0m\u001b[0m\n",
            "\u001b[0;32m/usr/local/lib/python3.10/dist-packages/pandas/io/parsers/readers.py\u001b[0m in \u001b[0;36m__init__\u001b[0;34m(self, f, engine, **kwds)\u001b[0m\n\u001b[1;32m   1446\u001b[0m \u001b[0;34m\u001b[0m\u001b[0m\n\u001b[1;32m   1447\u001b[0m         \u001b[0mself\u001b[0m\u001b[0;34m.\u001b[0m\u001b[0mhandles\u001b[0m\u001b[0;34m:\u001b[0m \u001b[0mIOHandles\u001b[0m \u001b[0;34m|\u001b[0m \u001b[0;32mNone\u001b[0m \u001b[0;34m=\u001b[0m \u001b[0;32mNone\u001b[0m\u001b[0;34m\u001b[0m\u001b[0;34m\u001b[0m\u001b[0m\n\u001b[0;32m-> 1448\u001b[0;31m         \u001b[0mself\u001b[0m\u001b[0;34m.\u001b[0m\u001b[0m_engine\u001b[0m \u001b[0;34m=\u001b[0m \u001b[0mself\u001b[0m\u001b[0;34m.\u001b[0m\u001b[0m_make_engine\u001b[0m\u001b[0;34m(\u001b[0m\u001b[0mf\u001b[0m\u001b[0;34m,\u001b[0m \u001b[0mself\u001b[0m\u001b[0;34m.\u001b[0m\u001b[0mengine\u001b[0m\u001b[0;34m)\u001b[0m\u001b[0;34m\u001b[0m\u001b[0;34m\u001b[0m\u001b[0m\n\u001b[0m\u001b[1;32m   1449\u001b[0m \u001b[0;34m\u001b[0m\u001b[0m\n\u001b[1;32m   1450\u001b[0m     \u001b[0;32mdef\u001b[0m \u001b[0mclose\u001b[0m\u001b[0;34m(\u001b[0m\u001b[0mself\u001b[0m\u001b[0;34m)\u001b[0m \u001b[0;34m->\u001b[0m \u001b[0;32mNone\u001b[0m\u001b[0;34m:\u001b[0m\u001b[0;34m\u001b[0m\u001b[0;34m\u001b[0m\u001b[0m\n",
            "\u001b[0;32m/usr/local/lib/python3.10/dist-packages/pandas/io/parsers/readers.py\u001b[0m in \u001b[0;36m_make_engine\u001b[0;34m(self, f, engine)\u001b[0m\n\u001b[1;32m   1703\u001b[0m                 \u001b[0;32mif\u001b[0m \u001b[0;34m\"b\"\u001b[0m \u001b[0;32mnot\u001b[0m \u001b[0;32min\u001b[0m \u001b[0mmode\u001b[0m\u001b[0;34m:\u001b[0m\u001b[0;34m\u001b[0m\u001b[0;34m\u001b[0m\u001b[0m\n\u001b[1;32m   1704\u001b[0m                     \u001b[0mmode\u001b[0m \u001b[0;34m+=\u001b[0m \u001b[0;34m\"b\"\u001b[0m\u001b[0;34m\u001b[0m\u001b[0;34m\u001b[0m\u001b[0m\n\u001b[0;32m-> 1705\u001b[0;31m             self.handles = get_handle(\n\u001b[0m\u001b[1;32m   1706\u001b[0m                 \u001b[0mf\u001b[0m\u001b[0;34m,\u001b[0m\u001b[0;34m\u001b[0m\u001b[0;34m\u001b[0m\u001b[0m\n\u001b[1;32m   1707\u001b[0m                 \u001b[0mmode\u001b[0m\u001b[0;34m,\u001b[0m\u001b[0;34m\u001b[0m\u001b[0;34m\u001b[0m\u001b[0m\n",
            "\u001b[0;32m/usr/local/lib/python3.10/dist-packages/pandas/io/common.py\u001b[0m in \u001b[0;36mget_handle\u001b[0;34m(path_or_buf, mode, encoding, compression, memory_map, is_text, errors, storage_options)\u001b[0m\n\u001b[1;32m    870\u001b[0m         \u001b[0;32melse\u001b[0m\u001b[0;34m:\u001b[0m\u001b[0;34m\u001b[0m\u001b[0;34m\u001b[0m\u001b[0m\n\u001b[1;32m    871\u001b[0m             \u001b[0;31m# Binary mode\u001b[0m\u001b[0;34m\u001b[0m\u001b[0;34m\u001b[0m\u001b[0m\n\u001b[0;32m--> 872\u001b[0;31m             \u001b[0mhandle\u001b[0m \u001b[0;34m=\u001b[0m \u001b[0mopen\u001b[0m\u001b[0;34m(\u001b[0m\u001b[0mhandle\u001b[0m\u001b[0;34m,\u001b[0m \u001b[0mioargs\u001b[0m\u001b[0;34m.\u001b[0m\u001b[0mmode\u001b[0m\u001b[0;34m)\u001b[0m\u001b[0;34m\u001b[0m\u001b[0;34m\u001b[0m\u001b[0m\n\u001b[0m\u001b[1;32m    873\u001b[0m         \u001b[0mhandles\u001b[0m\u001b[0;34m.\u001b[0m\u001b[0mappend\u001b[0m\u001b[0;34m(\u001b[0m\u001b[0mhandle\u001b[0m\u001b[0;34m)\u001b[0m\u001b[0;34m\u001b[0m\u001b[0;34m\u001b[0m\u001b[0m\n\u001b[1;32m    874\u001b[0m \u001b[0;34m\u001b[0m\u001b[0m\n",
            "\u001b[0;31mFileNotFoundError\u001b[0m: [Errno 2] No such file or directory: 'cleaned_book_summary.csv'"
          ]
        }
      ],
      "source": [
        "# Load dataset from csv file\n",
        "data = pd.read_csv('cleaned_book_summaries.csv', sep='\\t', encoding='utf-8')"
      ]
    },
    {
      "cell_type": "code",
      "execution_count": null,
      "id": "878fe265-162a-47f6-9e19-31a54985bd38",
      "metadata": {
        "id": "878fe265-162a-47f6-9e19-31a54985bd38",
        "outputId": "e6c6ac61-1711-4e59-d548-5c0785a3ce75",
        "colab": {
          "base_uri": "https://localhost:8080/"
        }
      },
      "outputs": [
        {
          "output_type": "stream",
          "name": "stderr",
          "text": [
            "100%|██████████| 16559/16559 [00:01<00:00, 15521.64it/s]\n"
          ]
        }
      ],
      "source": [
        "# Convert all genres values into tuple\n",
        "for i in tqdm(range(len(data))):\n",
        "    try:\n",
        "        genres_tuple = ast.literal_eval(data.loc[i, 'Book_Genres'])\n",
        "        if isinstance(genres_tuple, tuple):\n",
        "            data.at[i, 'Book_Genres'] = genres_tuple\n",
        "        else:\n",
        "            data.at[i, 'Book_Genres'] = np.nan\n",
        "    except (SyntaxError, ValueError):\n",
        "        continue"
      ]
    },
    {
      "cell_type": "code",
      "execution_count": null,
      "id": "bafe99c9-9719-4e0b-a399-c1a63f71cb23",
      "metadata": {
        "id": "bafe99c9-9719-4e0b-a399-c1a63f71cb23"
      },
      "outputs": [],
      "source": [
        "def get_genres_distribution(df):\n",
        "    \"\"\"\n",
        "    Calculate the distribution of book genres in the provided DataFrame.\n",
        "\n",
        "    Parameters:\n",
        "    df (pandas.DataFrame): A DataFrame containing a column 'Book_Genres'\n",
        "    with lists of genres for each book.\n",
        "\n",
        "    Returns:\n",
        "    pandas.Series: A Series object containing the count of each genre across\n",
        "    all books in descending order.\n",
        "\n",
        "    The function iterates through the 'Book_Genres' column of the DataFrame\n",
        "    and counts the occurrences of each genre.\n",
        "    It then sorts the genres_counts dictionary by the count of each genre in\n",
        "    descending order. The sorted dictionary is converted into a Pandas Series\n",
        "    and returned.\n",
        "    \"\"\"\n",
        "    genres_counts = dict()\n",
        "    for i, genres in enumerate(df['Book_Genres']):\n",
        "        for genre in genres:\n",
        "            genres_counts[genre] = genres_counts.get(genre, 0) + 1\n",
        "\n",
        "    # Sort the genres_counts dictionary by values in descending order\n",
        "    sorted_genres_counts = dict(sorted(genres_counts.items(),\n",
        "                                       key=lambda item: item[1],\n",
        "                                       reverse=True))\n",
        "\n",
        "    # Convert the sorted dictionary to a Pandas Series\n",
        "    genre_series = pd.Series(sorted_genres_counts)\n",
        "\n",
        "    return genre_series"
      ]
    },
    {
      "cell_type": "code",
      "execution_count": null,
      "id": "45407c9c-f8e8-41ab-afe3-ca4d749d0680",
      "metadata": {
        "id": "45407c9c-f8e8-41ab-afe3-ca4d749d0680",
        "outputId": "2d79a54c-8a8d-4550-898e-7fe4ac957dc7"
      },
      "outputs": [
        {
          "name": "stdout",
          "output_type": "stream",
          "text": [
            "Number of books: 15593\n",
            "Missing values: False\n"
          ]
        }
      ],
      "source": [
        "# Get basic information about data\n",
        "print(f\"Number of books: {data.shape[0]}\")\n",
        "# Check for any remaining missing values\n",
        "print(f\"Missing values: {data.isnull().sum().any()}\")"
      ]
    },
    {
      "cell_type": "code",
      "execution_count": null,
      "id": "d1624ffc-e54f-478c-ac46-ac79421c1232",
      "metadata": {
        "id": "d1624ffc-e54f-478c-ac46-ac79421c1232",
        "outputId": "0ed1ec8a-82da-4c2f-a213-aba7aea1ca55"
      },
      "outputs": [
        {
          "name": "stdout",
          "output_type": "stream",
          "text": [
            "\n",
            "Summary length statistics:\n",
            "count    15593.000000\n",
            "mean       184.366575\n",
            "std        155.291544\n",
            "min          1.000000\n",
            "25%         63.000000\n",
            "50%        130.000000\n",
            "75%        268.000000\n",
            "max        668.000000\n",
            "Name: Summary Length, dtype: float64\n"
          ]
        },
        {
          "data": {
            "image/png": "[encoded data removed]",
            "text/plain": [
              "<Figure size 1080x216 with 1 Axes>"
            ]
          },
          "metadata": {
            "needs_background": "light"
          },
          "output_type": "display_data"
        }
      ],
      "source": [
        "# Analyze summary length\n",
        "summary_stats = data['Summary_Length'].describe()\n",
        "print(f\"\\nSummary length statistics:\\n{summary_stats}\")\n",
        "\n",
        "# box plot for summary length\n",
        "plt.figure(figsize=(15, 3))\n",
        "# Creating the box plot\n",
        "plt.boxplot(data['Summary_Length'], vert=False)\n",
        "plt.title('Summary Length Box Plot')\n",
        "plt.xlabel('Summary Length')\n",
        "plt.ylabel('Value')\n",
        "plt.show()"
      ]
    },
    {
      "cell_type": "code",
      "execution_count": null,
      "id": "aeaccba1-c384-4816-b039-4c11265c9a49",
      "metadata": {
        "id": "aeaccba1-c384-4816-b039-4c11265c9a49",
        "outputId": "f9cd2877-a61e-4ff3-a84b-cfaf62241024"
      },
      "outputs": [
        {
          "name": "stdout",
          "output_type": "stream",
          "text": [
            "\n",
            "Publication year statistics:\n",
            "count    15593.000000\n",
            "mean      1986.779581\n",
            "std         42.171144\n",
            "min        398.000000\n",
            "25%       1982.000000\n",
            "50%       2004.000000\n",
            "75%       2007.000000\n",
            "max       2013.000000\n",
            "Name: Publication year, dtype: float64\n"
          ]
        },
        {
          "data": {
            "image/png": "[encoded data removed]",
            "text/plain": [
              "<Figure size 1080x216 with 1 Axes>"
            ]
          },
          "metadata": {
            "needs_background": "light"
          },
          "output_type": "display_data"
        }
      ],
      "source": [
        "# Analyze publication year\n",
        "publication_stats = data['Publication_Year'].describe()\n",
        "print(f\"\\nPublication year statistics:\\n{publication_stats}\")\n",
        "\n",
        "# box plot for publication year\n",
        "plt.figure(figsize=(15, 3))\n",
        "# Creating the box plot\n",
        "plt.boxplot(data['Publication_Year'], vert=False)\n",
        "plt.title('Publication Year Box Plot')\n",
        "plt.xlabel('Publication Year')\n",
        "plt.ylabel('Value')\n",
        "plt.show()"
      ]
    },
    {
      "cell_type": "code",
      "execution_count": null,
      "id": "e8e0b2dd-4077-4044-ad1c-c8273e85def3",
      "metadata": {
        "id": "e8e0b2dd-4077-4044-ad1c-c8273e85def3",
        "outputId": "63bdf85b-5350-4306-f693-a054b065fdf0"
      },
      "outputs": [
        {
          "name": "stdout",
          "output_type": "stream",
          "text": [
            "\n",
            "Genre distribution:\n",
            "Fiction                4401\n",
            "Speculative fiction    3995\n",
            "Unknown                3552\n",
            "Science Fiction        2675\n",
            "Novel                  2312\n",
            "                       ... \n",
            "Popular culture           1\n",
            "Neuroscience              1\n",
            "Alien invasion            1\n",
            "Comedy of manners         1\n",
            "Pastiche                  1\n",
            "Length: 223, dtype: int64\n"
          ]
        },
        {
          "data": {
            "image/png": "[encoded data removed]",
            "text/plain": [
              "<Figure size 1440x432 with 1 Axes>"
            ]
          },
          "metadata": {
            "needs_background": "light"
          },
          "output_type": "display_data"
        }
      ],
      "source": [
        "# Genre distribution\n",
        "genre_counts = get_genres_distribution(data)\n",
        "print(f\"\\nGenre distribution:\\n{genre_counts}\")\n",
        "\n",
        "# Get the top 10 most frequent genres\n",
        "top_genres = genre_counts.head(10)\n",
        "\n",
        "# Plot genre distribution\n",
        "plt.figure(figsize=(20, 6))\n",
        "top_genres.plot(kind='bar', color='skyblue')\n",
        "plt.xlabel('Genre')\n",
        "plt.ylabel('Number of Books')\n",
        "plt.title('Top 10 Most Distribution of Book Genres')\n",
        "plt.xticks(rotation=0)\n",
        "plt.show()"
      ]
    },
    {
      "cell_type": "code",
      "execution_count": null,
      "id": "3bf0af00-0944-4841-9e35-879ba24a410d",
      "metadata": {
        "id": "3bf0af00-0944-4841-9e35-879ba24a410d",
        "outputId": "e4f74b30-062b-43e2-9ad1-e000e6c3cfbf"
      },
      "outputs": [
        {
          "name": "stdout",
          "output_type": "stream",
          "text": [
            "\n",
            "Publication year distribution:\n",
            "\n",
            "Publication year\n",
            "2007.0    5756\n",
            "2006.0     422\n",
            "2008.0     366\n",
            "2005.0     362\n",
            "2004.0     338\n",
            "          ... \n",
            "1590.0       1\n",
            "1768.0       1\n",
            "1621.0       1\n",
            "1516.0       1\n",
            "1640.0       1\n",
            "Name: count, Length: 264, dtype: int64\n"
          ]
        },
        {
          "data": {
            "image/png": "[encoded data removed]",
            "text/plain": [
              "<Figure size 1440x432 with 1 Axes>"
            ]
          },
          "metadata": {
            "needs_background": "light"
          },
          "output_type": "display_data"
        }
      ],
      "source": [
        "# Publication year distribution\n",
        "year_counts = data['Publication_Year'].value_counts()\n",
        "print(f\"\\nPublication year distribution:\\n\\n{year_counts}\")\n",
        "\n",
        "# Get the top 20 most frequent publication year\n",
        "top_years = year_counts.head(20)\n",
        "\n",
        "# Plot publication year distribution\n",
        "plt.figure(figsize=(20, 6))\n",
        "top_years.plot(kind='bar', color='skyblue')\n",
        "plt.xlabel(\"Publication year\")\n",
        "plt.ylabel(\"Number of Publication year\")\n",
        "plt.title(\"Top 20 Distribution of Publication year\")\n",
        "plt.xticks(rotation=45)\n",
        "plt.show()"
      ]
    },
    {
      "cell_type": "code",
      "execution_count": null,
      "id": "102aedcf-a0c7-429d-bd1c-33074a6f4a2e",
      "metadata": {
        "id": "102aedcf-a0c7-429d-bd1c-33074a6f4a2e",
        "outputId": "5641caed-0133-4183-b35c-33c3cc5caa51"
      },
      "outputs": [
        {
          "name": "stdout",
          "output_type": "stream",
          "text": [
            "\n",
            "Author analysis:\n",
            "\n",
            "Author\n",
            "Unknown                 2294\n",
            "Franklin W. Dixon         67\n",
            "K. A. Applegate           60\n",
            "Agatha Christie           58\n",
            "Edgar Rice Burroughs      57\n",
            "                        ... \n",
            "Mary Cheney                1\n",
            "Nick Enright               1\n",
            "Sion Sono                  1\n",
            "Ntozake Shange             1\n",
            "Stephen Colbert            1\n",
            "Name: count, Length: 4553, dtype: int64\n"
          ]
        },
        {
          "data": {
            "image/png": "[encoded data removed]",
            "text/plain": [
              "<Figure size 1440x432 with 1 Axes>"
            ]
          },
          "metadata": {
            "needs_background": "light"
          },
          "output_type": "display_data"
        }
      ],
      "source": [
        "# Author analysis\n",
        "author_counts = data['Author'].value_counts()\n",
        "print(f\"\\nAuthor analysis:\\n\\n{author_counts}\")\n",
        "\n",
        "# Get the top 20 most frequent authors\n",
        "top_authors = author_counts.head(21)[1:]  # remove the Unknown author\n",
        "\n",
        "# Plot most frequent authors\n",
        "plt.figure(figsize=(20, 6))\n",
        "top_authors.plot(kind='bar', color='skyblue')\n",
        "plt.xlabel(\"Authors\")\n",
        "plt.ylabel(\"Number of books\")\n",
        "plt.title(\"Author Popularity\")\n",
        "plt.xticks(rotation=45)\n",
        "plt.show()"
      ]
    },
    {
      "cell_type": "code",
      "execution_count": null,
      "id": "8827208d-94fc-431e-a042-77f4729b6241",
      "metadata": {
        "id": "8827208d-94fc-431e-a042-77f4729b6241",
        "outputId": "dcdbc464-822f-4196-9ff7-3d78f3c8122b"
      },
      "outputs": [
        {
          "name": "stdout",
          "output_type": "stream",
          "text": [
            "(Science Fiction, Speculative fiction)    1860\n",
            "(Speculative fiction, Fiction)            1829\n",
            "(Speculative fiction, Fantasy)            1186\n",
            "(Children's literature, Fiction)          1037\n",
            "(Science Fiction, Fiction)                1001\n",
            "(Fantasy, Fiction)                         941\n",
            "(Mystery, Fiction)                         802\n",
            "(Fiction, Novel)                           745\n",
            "(Fiction, Suspense)                        620\n",
            "(Mystery, Suspense)                        613\n",
            "Name: count, dtype: int64\n"
          ]
        },
        {
          "data": {
            "image/png": "[encoded data removed]",
            "text/plain": [
              "<Figure size 1440x432 with 1 Axes>"
            ]
          },
          "metadata": {
            "needs_background": "light"
          },
          "output_type": "display_data"
        }
      ],
      "source": [
        "# Genre Co-occurrence analysis\n",
        "genre_pairs = []\n",
        "for genres in data['Book_Genres']:\n",
        "    for i in range(len(genres) - 1):\n",
        "        for j in range(i + 1, len(genres)):\n",
        "            pair = (genres[i], genres[j])\n",
        "            genre_pairs.append(pair)\n",
        "\n",
        "# Count occurrences\n",
        "genre_pair_counts = pd.Series(genre_pairs).value_counts()\n",
        "\n",
        "# Print top 10 most frequent genre pairs\n",
        "most_frequent_genre_pairs = genre_pair_counts.head(10)\n",
        "print(most_frequent_genre_pairs)\n",
        "\n",
        "# Plot most frequent genre co-occurrence\n",
        "plt.figure(figsize=(20, 6))\n",
        "most_frequent_genre_pairs.plot(kind='bar', color='skyblue')\n",
        "plt.xlabel(\"Genre Pair\")\n",
        "plt.ylabel(\"Number of Occurrences\")\n",
        "plt.title(\"Genre Co-occurrence\")\n",
        "plt.xticks(rotation=45)\n",
        "plt.show()"
      ]
    }
  ],
  "metadata": {
    "colab": {
      "provenance": []
    },
    "kernelspec": {
      "display_name": "Python 3",
      "name": "python3"
    },
    "language_info": {
      "codemirror_mode": {
        "name": "ipython",
        "version": 3
      },
      "file_extension": ".py",
      "mimetype": "text/x-python",
      "name": "python",
      "nbconvert_exporter": "python",
      "pygments_lexer": "ipython3",
      "version": "3.9.1"
    },
    "widgets": {
      "application/vnd.jupyter.widget-state+json": {
        "c94856678ca244609aeda84e8679b037": {
          "model_module": "@jupyter-widgets/controls",
          "model_name": "HBoxModel",
          "model_module_version": "1.5.0",
          "state": {
            "_dom_classes": [],
            "_model_module": "@jupyter-widgets/controls",
            "_model_module_version": "1.5.0",
            "_model_name": "HBoxModel",
            "_view_count": null,
            "_view_module": "@jupyter-widgets/controls",
            "_view_module_version": "1.5.0",
            "_view_name": "HBoxView",
            "box_style": "",
            "children": [
              "IPY_MODEL_1e74ec3d72b64a1b9225104b0ef2da14",
              "IPY_MODEL_84aae0caf4d94de89741563c8efd18b5",
              "IPY_MODEL_4be530bcb2be48edb0fb3619be026f8b"
            ],
            "layout": "IPY_MODEL_24e7d924dba643d6bf8966b478789020"
          }
        },
        "1e74ec3d72b64a1b9225104b0ef2da14": {
          "model_module": "@jupyter-widgets/controls",
          "model_name": "HTMLModel",
          "model_module_version": "1.5.0",
          "state": {
            "_dom_classes": [],
            "_model_module": "@jupyter-widgets/controls",
            "_model_module_version": "1.5.0",
            "_model_name": "HTMLModel",
            "_view_count": null,
            "_view_module": "@jupyter-widgets/controls",
            "_view_module_version": "1.5.0",
            "_view_name": "HTMLView",
            "description": "",
            "description_tooltip": null,
            "layout": "IPY_MODEL_8818b6cc3329456e9a0de4dfe21aa383",
            "placeholder": "​",
            "style": "IPY_MODEL_51090c0bcede446980459efb62be4a47",
            "value": "vocab.json: 100%"
          }
        },
        "84aae0caf4d94de89741563c8efd18b5": {
          "model_module": "@jupyter-widgets/controls",
          "model_name": "FloatProgressModel",
          "model_module_version": "1.5.0",
          "state": {
            "_dom_classes": [],
            "_model_module": "@jupyter-widgets/controls",
            "_model_module_version": "1.5.0",
            "_model_name": "FloatProgressModel",
            "_view_count": null,
            "_view_module": "@jupyter-widgets/controls",
            "_view_module_version": "1.5.0",
            "_view_name": "ProgressView",
            "bar_style": "success",
            "description": "",
            "description_tooltip": null,
            "layout": "IPY_MODEL_63403e8ac1424960889a949e9887ab7b",
            "max": 898823,
            "min": 0,
            "orientation": "horizontal",
            "style": "IPY_MODEL_79466c5e85754de4a50cafc3af3625f1",
            "value": 898823
          }
        },
        "4be530bcb2be48edb0fb3619be026f8b": {
          "model_module": "@jupyter-widgets/controls",
          "model_name": "HTMLModel",
          "model_module_version": "1.5.0",
          "state": {
            "_dom_classes": [],
            "_model_module": "@jupyter-widgets/controls",
            "_model_module_version": "1.5.0",
            "_model_name": "HTMLModel",
            "_view_count": null,
            "_view_module": "@jupyter-widgets/controls",
            "_view_module_version": "1.5.0",
            "_view_name": "HTMLView",
            "description": "",
            "description_tooltip": null,
            "layout": "IPY_MODEL_91dd8bd6e5b343019a9f804bead8316f",
            "placeholder": "​",
            "style": "IPY_MODEL_7696c7d129f742cfb1881533ef4149ee",
            "value": " 899k/899k [00:00&lt;00:00, 4.15MB/s]"
          }
        },
        "24e7d924dba643d6bf8966b478789020": {
          "model_module": "@jupyter-widgets/base",
          "model_name": "LayoutModel",
          "model_module_version": "1.2.0",
          "state": {
            "_model_module": "@jupyter-widgets/base",
            "_model_module_version": "1.2.0",
            "_model_name": "LayoutModel",
            "_view_count": null,
            "_view_module": "@jupyter-widgets/base",
            "_view_module_version": "1.2.0",
            "_view_name": "LayoutView",
            "align_content": null,
            "align_items": null,
            "align_self": null,
            "border": null,
            "bottom": null,
            "display": null,
            "flex": null,
            "flex_flow": null,
            "grid_area": null,
            "grid_auto_columns": null,
            "grid_auto_flow": null,
            "grid_auto_rows": null,
            "grid_column": null,
            "grid_gap": null,
            "grid_row": null,
            "grid_template_areas": null,
            "grid_template_columns": null,
            "grid_template_rows": null,
            "height": null,
            "justify_content": null,
            "justify_items": null,
            "left": null,
            "margin": null,
            "max_height": null,
            "max_width": null,
            "min_height": null,
            "min_width": null,
            "object_fit": null,
            "object_position": null,
            "order": null,
            "overflow": null,
            "overflow_x": null,
            "overflow_y": null,
            "padding": null,
            "right": null,
            "top": null,
            "visibility": null,
            "width": null
          }
        },
        "8818b6cc3329456e9a0de4dfe21aa383": {
          "model_module": "@jupyter-widgets/base",
          "model_name": "LayoutModel",
          "model_module_version": "1.2.0",
          "state": {
            "_model_module": "@jupyter-widgets/base",
            "_model_module_version": "1.2.0",
            "_model_name": "LayoutModel",
            "_view_count": null,
            "_view_module": "@jupyter-widgets/base",
            "_view_module_version": "1.2.0",
            "_view_name": "LayoutView",
            "align_content": null,
            "align_items": null,
            "align_self": null,
            "border": null,
            "bottom": null,
            "display": null,
            "flex": null,
            "flex_flow": null,
            "grid_area": null,
            "grid_auto_columns": null,
            "grid_auto_flow": null,
            "grid_auto_rows": null,
            "grid_column": null,
            "grid_gap": null,
            "grid_row": null,
            "grid_template_areas": null,
            "grid_template_columns": null,
            "grid_template_rows": null,
            "height": null,
            "justify_content": null,
            "justify_items": null,
            "left": null,
            "margin": null,
            "max_height": null,
            "max_width": null,
            "min_height": null,
            "min_width": null,
            "object_fit": null,
            "object_position": null,
            "order": null,
            "overflow": null,
            "overflow_x": null,
            "overflow_y": null,
            "padding": null,
            "right": null,
            "top": null,
            "visibility": null,
            "width": null
          }
        },
        "51090c0bcede446980459efb62be4a47": {
          "model_module": "@jupyter-widgets/controls",
          "model_name": "DescriptionStyleModel",
          "model_module_version": "1.5.0",
          "state": {
            "_model_module": "@jupyter-widgets/controls",
            "_model_module_version": "1.5.0",
            "_model_name": "DescriptionStyleModel",
            "_view_count": null,
            "_view_module": "@jupyter-widgets/base",
            "_view_module_version": "1.2.0",
            "_view_name": "StyleView",
            "description_width": ""
          }
        },
        "63403e8ac1424960889a949e9887ab7b": {
          "model_module": "@jupyter-widgets/base",
          "model_name": "LayoutModel",
          "model_module_version": "1.2.0",
          "state": {
            "_model_module": "@jupyter-widgets/base",
            "_model_module_version": "1.2.0",
            "_model_name": "LayoutModel",
            "_view_count": null,
            "_view_module": "@jupyter-widgets/base",
            "_view_module_version": "1.2.0",
            "_view_name": "LayoutView",
            "align_content": null,
            "align_items": null,
            "align_self": null,
            "border": null,
            "bottom": null,
            "display": null,
            "flex": null,
            "flex_flow": null,
            "grid_area": null,
            "grid_auto_columns": null,
            "grid_auto_flow": null,
            "grid_auto_rows": null,
            "grid_column": null,
            "grid_gap": null,
            "grid_row": null,
            "grid_template_areas": null,
            "grid_template_columns": null,
            "grid_template_rows": null,
            "height": null,
            "justify_content": null,
            "justify_items": null,
            "left": null,
            "margin": null,
            "max_height": null,
            "max_width": null,
            "min_height": null,
            "min_width": null,
            "object_fit": null,
            "object_position": null,
            "order": null,
            "overflow": null,
            "overflow_x": null,
            "overflow_y": null,
            "padding": null,
            "right": null,
            "top": null,
            "visibility": null,
            "width": null
          }
        },
        "79466c5e85754de4a50cafc3af3625f1": {
          "model_module": "@jupyter-widgets/controls",
          "model_name": "ProgressStyleModel",
          "model_module_version": "1.5.0",
          "state": {
            "_model_module": "@jupyter-widgets/controls",
            "_model_module_version": "1.5.0",
            "_model_name": "ProgressStyleModel",
            "_view_count": null,
            "_view_module": "@jupyter-widgets/base",
            "_view_module_version": "1.2.0",
            "_view_name": "StyleView",
            "bar_color": null,
            "description_width": ""
          }
        },
        "91dd8bd6e5b343019a9f804bead8316f": {
          "model_module": "@jupyter-widgets/base",
          "model_name": "LayoutModel",
          "model_module_version": "1.2.0",
          "state": {
            "_model_module": "@jupyter-widgets/base",
            "_model_module_version": "1.2.0",
            "_model_name": "LayoutModel",
            "_view_count": null,
            "_view_module": "@jupyter-widgets/base",
            "_view_module_version": "1.2.0",
            "_view_name": "LayoutView",
            "align_content": null,
            "align_items": null,
            "align_self": null,
            "border": null,
            "bottom": null,
            "display": null,
            "flex": null,
            "flex_flow": null,
            "grid_area": null,
            "grid_auto_columns": null,
            "grid_auto_flow": null,
            "grid_auto_rows": null,
            "grid_column": null,
            "grid_gap": null,
            "grid_row": null,
            "grid_template_areas": null,
            "grid_template_columns": null,
            "grid_template_rows": null,
            "height": null,
            "justify_content": null,
            "justify_items": null,
            "left": null,
            "margin": null,
            "max_height": null,
            "max_width": null,
            "min_height": null,
            "min_width": null,
            "object_fit": null,
            "object_position": null,
            "order": null,
            "overflow": null,
            "overflow_x": null,
            "overflow_y": null,
            "padding": null,
            "right": null,
            "top": null,
            "visibility": null,
            "width": null
          }
        },
        "7696c7d129f742cfb1881533ef4149ee": {
          "model_module": "@jupyter-widgets/controls",
          "model_name": "DescriptionStyleModel",
          "model_module_version": "1.5.0",
          "state": {
            "_model_module": "@jupyter-widgets/controls",
            "_model_module_version": "1.5.0",
            "_model_name": "DescriptionStyleModel",
            "_view_count": null,
            "_view_module": "@jupyter-widgets/base",
            "_view_module_version": "1.2.0",
            "_view_name": "StyleView",
            "description_width": ""
          }
        },
        "336161d5b84a4f988244a65601964b06": {
          "model_module": "@jupyter-widgets/controls",
          "model_name": "HBoxModel",
          "model_module_version": "1.5.0",
          "state": {
            "_dom_classes": [],
            "_model_module": "@jupyter-widgets/controls",
            "_model_module_version": "1.5.0",
            "_model_name": "HBoxModel",
            "_view_count": null,
            "_view_module": "@jupyter-widgets/controls",
            "_view_module_version": "1.5.0",
            "_view_name": "HBoxView",
            "box_style": "",
            "children": [
              "IPY_MODEL_b9dcbbf46ddd4affb43803d25dc68afa",
              "IPY_MODEL_f297821e74294f0bb31b5d46575838cf",
              "IPY_MODEL_e2004006c2e044c7b28fc49a962d7600"
            ],
            "layout": "IPY_MODEL_a0887fce22964e6583ed5e28eb804fbc"
          }
        },
        "b9dcbbf46ddd4affb43803d25dc68afa": {
          "model_module": "@jupyter-widgets/controls",
          "model_name": "HTMLModel",
          "model_module_version": "1.5.0",
          "state": {
            "_dom_classes": [],
            "_model_module": "@jupyter-widgets/controls",
            "_model_module_version": "1.5.0",
            "_model_name": "HTMLModel",
            "_view_count": null,
            "_view_module": "@jupyter-widgets/controls",
            "_view_module_version": "1.5.0",
            "_view_name": "HTMLView",
            "description": "",
            "description_tooltip": null,
            "layout": "IPY_MODEL_a9fc6579bfa94b8a9bb6886f010b0321",
            "placeholder": "​",
            "style": "IPY_MODEL_a319e76fcb874d5f8c515f11c92efd1c",
            "value": "merges.txt: 100%"
          }
        },
        "f297821e74294f0bb31b5d46575838cf": {
          "model_module": "@jupyter-widgets/controls",
          "model_name": "FloatProgressModel",
          "model_module_version": "1.5.0",
          "state": {
            "_dom_classes": [],
            "_model_module": "@jupyter-widgets/controls",
            "_model_module_version": "1.5.0",
            "_model_name": "FloatProgressModel",
            "_view_count": null,
            "_view_module": "@jupyter-widgets/controls",
            "_view_module_version": "1.5.0",
            "_view_name": "ProgressView",
            "bar_style": "success",
            "description": "",
            "description_tooltip": null,
            "layout": "IPY_MODEL_08446390a33f4a5d94b38bd59a89c267",
            "max": 456318,
            "min": 0,
            "orientation": "horizontal",
            "style": "IPY_MODEL_9494764b170a4cb9923321720bf8a1a2",
            "value": 456318
          }
        },
        "e2004006c2e044c7b28fc49a962d7600": {
          "model_module": "@jupyter-widgets/controls",
          "model_name": "HTMLModel",
          "model_module_version": "1.5.0",
          "state": {
            "_dom_classes": [],
            "_model_module": "@jupyter-widgets/controls",
            "_model_module_version": "1.5.0",
            "_model_name": "HTMLModel",
            "_view_count": null,
            "_view_module": "@jupyter-widgets/controls",
            "_view_module_version": "1.5.0",
            "_view_name": "HTMLView",
            "description": "",
            "description_tooltip": null,
            "layout": "IPY_MODEL_62f8ab60cf5d458697f8bd5414e9053e",
            "placeholder": "​",
            "style": "IPY_MODEL_cfc974b68e1e4403b7508d374444e494",
            "value": " 456k/456k [00:00&lt;00:00, 20.4MB/s]"
          }
        },
        "a0887fce22964e6583ed5e28eb804fbc": {
          "model_module": "@jupyter-widgets/base",
          "model_name": "LayoutModel",
          "model_module_version": "1.2.0",
          "state": {
            "_model_module": "@jupyter-widgets/base",
            "_model_module_version": "1.2.0",
            "_model_name": "LayoutModel",
            "_view_count": null,
            "_view_module": "@jupyter-widgets/base",
            "_view_module_version": "1.2.0",
            "_view_name": "LayoutView",
            "align_content": null,
            "align_items": null,
            "align_self": null,
            "border": null,
            "bottom": null,
            "display": null,
            "flex": null,
            "flex_flow": null,
            "grid_area": null,
            "grid_auto_columns": null,
            "grid_auto_flow": null,
            "grid_auto_rows": null,
            "grid_column": null,
            "grid_gap": null,
            "grid_row": null,
            "grid_template_areas": null,
            "grid_template_columns": null,
            "grid_template_rows": null,
            "height": null,
            "justify_content": null,
            "justify_items": null,
            "left": null,
            "margin": null,
            "max_height": null,
            "max_width": null,
            "min_height": null,
            "min_width": null,
            "object_fit": null,
            "object_position": null,
            "order": null,
            "overflow": null,
            "overflow_x": null,
            "overflow_y": null,
            "padding": null,
            "right": null,
            "top": null,
            "visibility": null,
            "width": null
          }
        },
        "a9fc6579bfa94b8a9bb6886f010b0321": {
          "model_module": "@jupyter-widgets/base",
          "model_name": "LayoutModel",
          "model_module_version": "1.2.0",
          "state": {
            "_model_module": "@jupyter-widgets/base",
            "_model_module_version": "1.2.0",
            "_model_name": "LayoutModel",
            "_view_count": null,
            "_view_module": "@jupyter-widgets/base",
            "_view_module_version": "1.2.0",
            "_view_name": "LayoutView",
            "align_content": null,
            "align_items": null,
            "align_self": null,
            "border": null,
            "bottom": null,
            "display": null,
            "flex": null,
            "flex_flow": null,
            "grid_area": null,
            "grid_auto_columns": null,
            "grid_auto_flow": null,
            "grid_auto_rows": null,
            "grid_column": null,
            "grid_gap": null,
            "grid_row": null,
            "grid_template_areas": null,
            "grid_template_columns": null,
            "grid_template_rows": null,
            "height": null,
            "justify_content": null,
            "justify_items": null,
            "left": null,
            "margin": null,
            "max_height": null,
            "max_width": null,
            "min_height": null,
            "min_width": null,
            "object_fit": null,
            "object_position": null,
            "order": null,
            "overflow": null,
            "overflow_x": null,
            "overflow_y": null,
            "padding": null,
            "right": null,
            "top": null,
            "visibility": null,
            "width": null
          }
        },
        "a319e76fcb874d5f8c515f11c92efd1c": {
          "model_module": "@jupyter-widgets/controls",
          "model_name": "DescriptionStyleModel",
          "model_module_version": "1.5.0",
          "state": {
            "_model_module": "@jupyter-widgets/controls",
            "_model_module_version": "1.5.0",
            "_model_name": "DescriptionStyleModel",
            "_view_count": null,
            "_view_module": "@jupyter-widgets/base",
            "_view_module_version": "1.2.0",
            "_view_name": "StyleView",
            "description_width": ""
          }
        },
        "08446390a33f4a5d94b38bd59a89c267": {
          "model_module": "@jupyter-widgets/base",
          "model_name": "LayoutModel",
          "model_module_version": "1.2.0",
          "state": {
            "_model_module": "@jupyter-widgets/base",
            "_model_module_version": "1.2.0",
            "_model_name": "LayoutModel",
            "_view_count": null,
            "_view_module": "@jupyter-widgets/base",
            "_view_module_version": "1.2.0",
            "_view_name": "LayoutView",
            "align_content": null,
            "align_items": null,
            "align_self": null,
            "border": null,
            "bottom": null,
            "display": null,
            "flex": null,
            "flex_flow": null,
            "grid_area": null,
            "grid_auto_columns": null,
            "grid_auto_flow": null,
            "grid_auto_rows": null,
            "grid_column": null,
            "grid_gap": null,
            "grid_row": null,
            "grid_template_areas": null,
            "grid_template_columns": null,
            "grid_template_rows": null,
            "height": null,
            "justify_content": null,
            "justify_items": null,
            "left": null,
            "margin": null,
            "max_height": null,
            "max_width": null,
            "min_height": null,
            "min_width": null,
            "object_fit": null,
            "object_position": null,
            "order": null,
            "overflow": null,
            "overflow_x": null,
            "overflow_y": null,
            "padding": null,
            "right": null,
            "top": null,
            "visibility": null,
            "width": null
          }
        },
        "9494764b170a4cb9923321720bf8a1a2": {
          "model_module": "@jupyter-widgets/controls",
          "model_name": "ProgressStyleModel",
          "model_module_version": "1.5.0",
          "state": {
            "_model_module": "@jupyter-widgets/controls",
            "_model_module_version": "1.5.0",
            "_model_name": "ProgressStyleModel",
            "_view_count": null,
            "_view_module": "@jupyter-widgets/base",
            "_view_module_version": "1.2.0",
            "_view_name": "StyleView",
            "bar_color": null,
            "description_width": ""
          }
        },
        "62f8ab60cf5d458697f8bd5414e9053e": {
          "model_module": "@jupyter-widgets/base",
          "model_name": "LayoutModel",
          "model_module_version": "1.2.0",
          "state": {
            "_model_module": "@jupyter-widgets/base",
            "_model_module_version": "1.2.0",
            "_model_name": "LayoutModel",
            "_view_count": null,
            "_view_module": "@jupyter-widgets/base",
            "_view_module_version": "1.2.0",
            "_view_name": "LayoutView",
            "align_content": null,
            "align_items": null,
            "align_self": null,
            "border": null,
            "bottom": null,
            "display": null,
            "flex": null,
            "flex_flow": null,
            "grid_area": null,
            "grid_auto_columns": null,
            "grid_auto_flow": null,
            "grid_auto_rows": null,
            "grid_column": null,
            "grid_gap": null,
            "grid_row": null,
            "grid_template_areas": null,
            "grid_template_columns": null,
            "grid_template_rows": null,
            "height": null,
            "justify_content": null,
            "justify_items": null,
            "left": null,
            "margin": null,
            "max_height": null,
            "max_width": null,
            "min_height": null,
            "min_width": null,
            "object_fit": null,
            "object_position": null,
            "order": null,
            "overflow": null,
            "overflow_x": null,
            "overflow_y": null,
            "padding": null,
            "right": null,
            "top": null,
            "visibility": null,
            "width": null
          }
        },
        "cfc974b68e1e4403b7508d374444e494": {
          "model_module": "@jupyter-widgets/controls",
          "model_name": "DescriptionStyleModel",
          "model_module_version": "1.5.0",
          "state": {
            "_model_module": "@jupyter-widgets/controls",
            "_model_module_version": "1.5.0",
            "_model_name": "DescriptionStyleModel",
            "_view_count": null,
            "_view_module": "@jupyter-widgets/base",
            "_view_module_version": "1.2.0",
            "_view_name": "StyleView",
            "description_width": ""
          }
        },
        "8f14744553e64f08bf5c5d443167701a": {
          "model_module": "@jupyter-widgets/controls",
          "model_name": "HBoxModel",
          "model_module_version": "1.5.0",
          "state": {
            "_dom_classes": [],
            "_model_module": "@jupyter-widgets/controls",
            "_model_module_version": "1.5.0",
            "_model_name": "HBoxModel",
            "_view_count": null,
            "_view_module": "@jupyter-widgets/controls",
            "_view_module_version": "1.5.0",
            "_view_name": "HBoxView",
            "box_style": "",
            "children": [
              "IPY_MODEL_1a26bba2bc174173b667f5d643382e75",
              "IPY_MODEL_f8f8ec8541ea4636bb5e7848f29239c0",
              "IPY_MODEL_f7d6fd7acf8e4136bee0abf53bf298be"
            ],
            "layout": "IPY_MODEL_2a608c4ee2944562b9bff85cdfa7d2d2"
          }
        },
        "1a26bba2bc174173b667f5d643382e75": {
          "model_module": "@jupyter-widgets/controls",
          "model_name": "HTMLModel",
          "model_module_version": "1.5.0",
          "state": {
            "_dom_classes": [],
            "_model_module": "@jupyter-widgets/controls",
            "_model_module_version": "1.5.0",
            "_model_name": "HTMLModel",
            "_view_count": null,
            "_view_module": "@jupyter-widgets/controls",
            "_view_module_version": "1.5.0",
            "_view_name": "HTMLView",
            "description": "",
            "description_tooltip": null,
            "layout": "IPY_MODEL_a7d7b1711bc94345aed648deef5496b5",
            "placeholder": "​",
            "style": "IPY_MODEL_56341c051a9245f9a443549cceb0d2e1",
            "value": "tokenizer.json: 100%"
          }
        },
        "f8f8ec8541ea4636bb5e7848f29239c0": {
          "model_module": "@jupyter-widgets/controls",
          "model_name": "FloatProgressModel",
          "model_module_version": "1.5.0",
          "state": {
            "_dom_classes": [],
            "_model_module": "@jupyter-widgets/controls",
            "_model_module_version": "1.5.0",
            "_model_name": "FloatProgressModel",
            "_view_count": null,
            "_view_module": "@jupyter-widgets/controls",
            "_view_module_version": "1.5.0",
            "_view_name": "ProgressView",
            "bar_style": "success",
            "description": "",
            "description_tooltip": null,
            "layout": "IPY_MODEL_0b868de21c464544af46c6603de654b8",
            "max": 1355863,
            "min": 0,
            "orientation": "horizontal",
            "style": "IPY_MODEL_a9429ec27c984ebe83eeb6955426783b",
            "value": 1355863
          }
        },
        "f7d6fd7acf8e4136bee0abf53bf298be": {
          "model_module": "@jupyter-widgets/controls",
          "model_name": "HTMLModel",
          "model_module_version": "1.5.0",
          "state": {
            "_dom_classes": [],
            "_model_module": "@jupyter-widgets/controls",
            "_model_module_version": "1.5.0",
            "_model_name": "HTMLModel",
            "_view_count": null,
            "_view_module": "@jupyter-widgets/controls",
            "_view_module_version": "1.5.0",
            "_view_name": "HTMLView",
            "description": "",
            "description_tooltip": null,
            "layout": "IPY_MODEL_88b0c73d014f4fd4909ee43cad27bc41",
            "placeholder": "​",
            "style": "IPY_MODEL_b990fdc1c7554d428166e0c2d15f6d80",
            "value": " 1.36M/1.36M [00:00&lt;00:00, 2.10MB/s]"
          }
        },
        "2a608c4ee2944562b9bff85cdfa7d2d2": {
          "model_module": "@jupyter-widgets/base",
          "model_name": "LayoutModel",
          "model_module_version": "1.2.0",
          "state": {
            "_model_module": "@jupyter-widgets/base",
            "_model_module_version": "1.2.0",
            "_model_name": "LayoutModel",
            "_view_count": null,
            "_view_module": "@jupyter-widgets/base",
            "_view_module_version": "1.2.0",
            "_view_name": "LayoutView",
            "align_content": null,
            "align_items": null,
            "align_self": null,
            "border": null,
            "bottom": null,
            "display": null,
            "flex": null,
            "flex_flow": null,
            "grid_area": null,
            "grid_auto_columns": null,
            "grid_auto_flow": null,
            "grid_auto_rows": null,
            "grid_column": null,
            "grid_gap": null,
            "grid_row": null,
            "grid_template_areas": null,
            "grid_template_columns": null,
            "grid_template_rows": null,
            "height": null,
            "justify_content": null,
            "justify_items": null,
            "left": null,
            "margin": null,
            "max_height": null,
            "max_width": null,
            "min_height": null,
            "min_width": null,
            "object_fit": null,
            "object_position": null,
            "order": null,
            "overflow": null,
            "overflow_x": null,
            "overflow_y": null,
            "padding": null,
            "right": null,
            "top": null,
            "visibility": null,
            "width": null
          }
        },
        "a7d7b1711bc94345aed648deef5496b5": {
          "model_module": "@jupyter-widgets/base",
          "model_name": "LayoutModel",
          "model_module_version": "1.2.0",
          "state": {
            "_model_module": "@jupyter-widgets/base",
            "_model_module_version": "1.2.0",
            "_model_name": "LayoutModel",
            "_view_count": null,
            "_view_module": "@jupyter-widgets/base",
            "_view_module_version": "1.2.0",
            "_view_name": "LayoutView",
            "align_content": null,
            "align_items": null,
            "align_self": null,
            "border": null,
            "bottom": null,
            "display": null,
            "flex": null,
            "flex_flow": null,
            "grid_area": null,
            "grid_auto_columns": null,
            "grid_auto_flow": null,
            "grid_auto_rows": null,
            "grid_column": null,
            "grid_gap": null,
            "grid_row": null,
            "grid_template_areas": null,
            "grid_template_columns": null,
            "grid_template_rows": null,
            "height": null,
            "justify_content": null,
            "justify_items": null,
            "left": null,
            "margin": null,
            "max_height": null,
            "max_width": null,
            "min_height": null,
            "min_width": null,
            "object_fit": null,
            "object_position": null,
            "order": null,
            "overflow": null,
            "overflow_x": null,
            "overflow_y": null,
            "padding": null,
            "right": null,
            "top": null,
            "visibility": null,
            "width": null
          }
        },
        "56341c051a9245f9a443549cceb0d2e1": {
          "model_module": "@jupyter-widgets/controls",
          "model_name": "DescriptionStyleModel",
          "model_module_version": "1.5.0",
          "state": {
            "_model_module": "@jupyter-widgets/controls",
            "_model_module_version": "1.5.0",
            "_model_name": "DescriptionStyleModel",
            "_view_count": null,
            "_view_module": "@jupyter-widgets/base",
            "_view_module_version": "1.2.0",
            "_view_name": "StyleView",
            "description_width": ""
          }
        },
        "0b868de21c464544af46c6603de654b8": {
          "model_module": "@jupyter-widgets/base",
          "model_name": "LayoutModel",
          "model_module_version": "1.2.0",
          "state": {
            "_model_module": "@jupyter-widgets/base",
            "_model_module_version": "1.2.0",
            "_model_name": "LayoutModel",
            "_view_count": null,
            "_view_module": "@jupyter-widgets/base",
            "_view_module_version": "1.2.0",
            "_view_name": "LayoutView",
            "align_content": null,
            "align_items": null,
            "align_self": null,
            "border": null,
            "bottom": null,
            "display": null,
            "flex": null,
            "flex_flow": null,
            "grid_area": null,
            "grid_auto_columns": null,
            "grid_auto_flow": null,
            "grid_auto_rows": null,
            "grid_column": null,
            "grid_gap": null,
            "grid_row": null,
            "grid_template_areas": null,
            "grid_template_columns": null,
            "grid_template_rows": null,
            "height": null,
            "justify_content": null,
            "justify_items": null,
            "left": null,
            "margin": null,
            "max_height": null,
            "max_width": null,
            "min_height": null,
            "min_width": null,
            "object_fit": null,
            "object_position": null,
            "order": null,
            "overflow": null,
            "overflow_x": null,
            "overflow_y": null,
            "padding": null,
            "right": null,
            "top": null,
            "visibility": null,
            "width": null
          }
        },
        "a9429ec27c984ebe83eeb6955426783b": {
          "model_module": "@jupyter-widgets/controls",
          "model_name": "ProgressStyleModel",
          "model_module_version": "1.5.0",
          "state": {
            "_model_module": "@jupyter-widgets/controls",
            "_model_module_version": "1.5.0",
            "_model_name": "ProgressStyleModel",
            "_view_count": null,
            "_view_module": "@jupyter-widgets/base",
            "_view_module_version": "1.2.0",
            "_view_name": "StyleView",
            "bar_color": null,
            "description_width": ""
          }
        },
        "88b0c73d014f4fd4909ee43cad27bc41": {
          "model_module": "@jupyter-widgets/base",
          "model_name": "LayoutModel",
          "model_module_version": "1.2.0",
          "state": {
            "_model_module": "@jupyter-widgets/base",
            "_model_module_version": "1.2.0",
            "_model_name": "LayoutModel",
            "_view_count": null,
            "_view_module": "@jupyter-widgets/base",
            "_view_module_version": "1.2.0",
            "_view_name": "LayoutView",
            "align_content": null,
            "align_items": null,
            "align_self": null,
            "border": null,
            "bottom": null,
            "display": null,
            "flex": null,
            "flex_flow": null,
            "grid_area": null,
            "grid_auto_columns": null,
            "grid_auto_flow": null,
            "grid_auto_rows": null,
            "grid_column": null,
            "grid_gap": null,
            "grid_row": null,
            "grid_template_areas": null,
            "grid_template_columns": null,
            "grid_template_rows": null,
            "height": null,
            "justify_content": null,
            "justify_items": null,
            "left": null,
            "margin": null,
            "max_height": null,
            "max_width": null,
            "min_height": null,
            "min_width": null,
            "object_fit": null,
            "object_position": null,
            "order": null,
            "overflow": null,
            "overflow_x": null,
            "overflow_y": null,
            "padding": null,
            "right": null,
            "top": null,
            "visibility": null,
            "width": null
          }
        },
        "b990fdc1c7554d428166e0c2d15f6d80": {
          "model_module": "@jupyter-widgets/controls",
          "model_name": "DescriptionStyleModel",
          "model_module_version": "1.5.0",
          "state": {
            "_model_module": "@jupyter-widgets/controls",
            "_model_module_version": "1.5.0",
            "_model_name": "DescriptionStyleModel",
            "_view_count": null,
            "_view_module": "@jupyter-widgets/base",
            "_view_module_version": "1.2.0",
            "_view_name": "StyleView",
            "description_width": ""
          }
        },
        "2aead3a1da59415180760f3ea74fdcae": {
          "model_module": "@jupyter-widgets/controls",
          "model_name": "HBoxModel",
          "model_module_version": "1.5.0",
          "state": {
            "_dom_classes": [],
            "_model_module": "@jupyter-widgets/controls",
            "_model_module_version": "1.5.0",
            "_model_name": "HBoxModel",
            "_view_count": null,
            "_view_module": "@jupyter-widgets/controls",
            "_view_module_version": "1.5.0",
            "_view_name": "HBoxView",
            "box_style": "",
            "children": [
              "IPY_MODEL_375d8ea0cd4f46ad94f4e5d90c908713",
              "IPY_MODEL_c725c383fc9548e2a497c4eb5c83663a",
              "IPY_MODEL_a98ef1946c4d46a89bf53a62081fded1"
            ],
            "layout": "IPY_MODEL_733afc24ec8c4afb94db2db17c7be26b"
          }
        },
        "375d8ea0cd4f46ad94f4e5d90c908713": {
          "model_module": "@jupyter-widgets/controls",
          "model_name": "HTMLModel",
          "model_module_version": "1.5.0",
          "state": {
            "_dom_classes": [],
            "_model_module": "@jupyter-widgets/controls",
            "_model_module_version": "1.5.0",
            "_model_name": "HTMLModel",
            "_view_count": null,
            "_view_module": "@jupyter-widgets/controls",
            "_view_module_version": "1.5.0",
            "_view_name": "HTMLView",
            "description": "",
            "description_tooltip": null,
            "layout": "IPY_MODEL_69f8e47c31e549fca3d90a8b42db3661",
            "placeholder": "​",
            "style": "IPY_MODEL_e5a8d54732814873977f63883a4f4c0d",
            "value": "config.json: 100%"
          }
        },
        "c725c383fc9548e2a497c4eb5c83663a": {
          "model_module": "@jupyter-widgets/controls",
          "model_name": "FloatProgressModel",
          "model_module_version": "1.5.0",
          "state": {
            "_dom_classes": [],
            "_model_module": "@jupyter-widgets/controls",
            "_model_module_version": "1.5.0",
            "_model_name": "FloatProgressModel",
            "_view_count": null,
            "_view_module": "@jupyter-widgets/controls",
            "_view_module_version": "1.5.0",
            "_view_name": "ProgressView",
            "bar_style": "success",
            "description": "",
            "description_tooltip": null,
            "layout": "IPY_MODEL_5c057e90907d47f8ae61af39552acae9",
            "max": 1585,
            "min": 0,
            "orientation": "horizontal",
            "style": "IPY_MODEL_96b05462c37b4d5dad40cb7941981b60",
            "value": 1585
          }
        },
        "a98ef1946c4d46a89bf53a62081fded1": {
          "model_module": "@jupyter-widgets/controls",
          "model_name": "HTMLModel",
          "model_module_version": "1.5.0",
          "state": {
            "_dom_classes": [],
            "_model_module": "@jupyter-widgets/controls",
            "_model_module_version": "1.5.0",
            "_model_name": "HTMLModel",
            "_view_count": null,
            "_view_module": "@jupyter-widgets/controls",
            "_view_module_version": "1.5.0",
            "_view_name": "HTMLView",
            "description": "",
            "description_tooltip": null,
            "layout": "IPY_MODEL_86c2235238fb4cde81cfc5bb9c110da6",
            "placeholder": "​",
            "style": "IPY_MODEL_ba4ce7f21f4b4d2eb22708b64197f930",
            "value": " 1.58k/1.58k [00:00&lt;00:00, 28.8kB/s]"
          }
        },
        "733afc24ec8c4afb94db2db17c7be26b": {
          "model_module": "@jupyter-widgets/base",
          "model_name": "LayoutModel",
          "model_module_version": "1.2.0",
          "state": {
            "_model_module": "@jupyter-widgets/base",
            "_model_module_version": "1.2.0",
            "_model_name": "LayoutModel",
            "_view_count": null,
            "_view_module": "@jupyter-widgets/base",
            "_view_module_version": "1.2.0",
            "_view_name": "LayoutView",
            "align_content": null,
            "align_items": null,
            "align_self": null,
            "border": null,
            "bottom": null,
            "display": null,
            "flex": null,
            "flex_flow": null,
            "grid_area": null,
            "grid_auto_columns": null,
            "grid_auto_flow": null,
            "grid_auto_rows": null,
            "grid_column": null,
            "grid_gap": null,
            "grid_row": null,
            "grid_template_areas": null,
            "grid_template_columns": null,
            "grid_template_rows": null,
            "height": null,
            "justify_content": null,
            "justify_items": null,
            "left": null,
            "margin": null,
            "max_height": null,
            "max_width": null,
            "min_height": null,
            "min_width": null,
            "object_fit": null,
            "object_position": null,
            "order": null,
            "overflow": null,
            "overflow_x": null,
            "overflow_y": null,
            "padding": null,
            "right": null,
            "top": null,
            "visibility": null,
            "width": null
          }
        },
        "69f8e47c31e549fca3d90a8b42db3661": {
          "model_module": "@jupyter-widgets/base",
          "model_name": "LayoutModel",
          "model_module_version": "1.2.0",
          "state": {
            "_model_module": "@jupyter-widgets/base",
            "_model_module_version": "1.2.0",
            "_model_name": "LayoutModel",
            "_view_count": null,
            "_view_module": "@jupyter-widgets/base",
            "_view_module_version": "1.2.0",
            "_view_name": "LayoutView",
            "align_content": null,
            "align_items": null,
            "align_self": null,
            "border": null,
            "bottom": null,
            "display": null,
            "flex": null,
            "flex_flow": null,
            "grid_area": null,
            "grid_auto_columns": null,
            "grid_auto_flow": null,
            "grid_auto_rows": null,
            "grid_column": null,
            "grid_gap": null,
            "grid_row": null,
            "grid_template_areas": null,
            "grid_template_columns": null,
            "grid_template_rows": null,
            "height": null,
            "justify_content": null,
            "justify_items": null,
            "left": null,
            "margin": null,
            "max_height": null,
            "max_width": null,
            "min_height": null,
            "min_width": null,
            "object_fit": null,
            "object_position": null,
            "order": null,
            "overflow": null,
            "overflow_x": null,
            "overflow_y": null,
            "padding": null,
            "right": null,
            "top": null,
            "visibility": null,
            "width": null
          }
        },
        "e5a8d54732814873977f63883a4f4c0d": {
          "model_module": "@jupyter-widgets/controls",
          "model_name": "DescriptionStyleModel",
          "model_module_version": "1.5.0",
          "state": {
            "_model_module": "@jupyter-widgets/controls",
            "_model_module_version": "1.5.0",
            "_model_name": "DescriptionStyleModel",
            "_view_count": null,
            "_view_module": "@jupyter-widgets/base",
            "_view_module_version": "1.2.0",
            "_view_name": "StyleView",
            "description_width": ""
          }
        },
        "5c057e90907d47f8ae61af39552acae9": {
          "model_module": "@jupyter-widgets/base",
          "model_name": "LayoutModel",
          "model_module_version": "1.2.0",
          "state": {
            "_model_module": "@jupyter-widgets/base",
            "_model_module_version": "1.2.0",
            "_model_name": "LayoutModel",
            "_view_count": null,
            "_view_module": "@jupyter-widgets/base",
            "_view_module_version": "1.2.0",
            "_view_name": "LayoutView",
            "align_content": null,
            "align_items": null,
            "align_self": null,
            "border": null,
            "bottom": null,
            "display": null,
            "flex": null,
            "flex_flow": null,
            "grid_area": null,
            "grid_auto_columns": null,
            "grid_auto_flow": null,
            "grid_auto_rows": null,
            "grid_column": null,
            "grid_gap": null,
            "grid_row": null,
            "grid_template_areas": null,
            "grid_template_columns": null,
            "grid_template_rows": null,
            "height": null,
            "justify_content": null,
            "justify_items": null,
            "left": null,
            "margin": null,
            "max_height": null,
            "max_width": null,
            "min_height": null,
            "min_width": null,
            "object_fit": null,
            "object_position": null,
            "order": null,
            "overflow": null,
            "overflow_x": null,
            "overflow_y": null,
            "padding": null,
            "right": null,
            "top": null,
            "visibility": null,
            "width": null
          }
        },
        "96b05462c37b4d5dad40cb7941981b60": {
          "model_module": "@jupyter-widgets/controls",
          "model_name": "ProgressStyleModel",
          "model_module_version": "1.5.0",
          "state": {
            "_model_module": "@jupyter-widgets/controls",
            "_model_module_version": "1.5.0",
            "_model_name": "ProgressStyleModel",
            "_view_count": null,
            "_view_module": "@jupyter-widgets/base",
            "_view_module_version": "1.2.0",
            "_view_name": "StyleView",
            "bar_color": null,
            "description_width": ""
          }
        },
        "86c2235238fb4cde81cfc5bb9c110da6": {
          "model_module": "@jupyter-widgets/base",
          "model_name": "LayoutModel",
          "model_module_version": "1.2.0",
          "state": {
            "_model_module": "@jupyter-widgets/base",
            "_model_module_version": "1.2.0",
            "_model_name": "LayoutModel",
            "_view_count": null,
            "_view_module": "@jupyter-widgets/base",
            "_view_module_version": "1.2.0",
            "_view_name": "LayoutView",
            "align_content": null,
            "align_items": null,
            "align_self": null,
            "border": null,
            "bottom": null,
            "display": null,
            "flex": null,
            "flex_flow": null,
            "grid_area": null,
            "grid_auto_columns": null,
            "grid_auto_flow": null,
            "grid_auto_rows": null,
            "grid_column": null,
            "grid_gap": null,
            "grid_row": null,
            "grid_template_areas": null,
            "grid_template_columns": null,
            "grid_template_rows": null,
            "height": null,
            "justify_content": null,
            "justify_items": null,
            "left": null,
            "margin": null,
            "max_height": null,
            "max_width": null,
            "min_height": null,
            "min_width": null,
            "object_fit": null,
            "object_position": null,
            "order": null,
            "overflow": null,
            "overflow_x": null,
            "overflow_y": null,
            "padding": null,
            "right": null,
            "top": null,
            "visibility": null,
            "width": null
          }
        },
        "ba4ce7f21f4b4d2eb22708b64197f930": {
          "model_module": "@jupyter-widgets/controls",
          "model_name": "DescriptionStyleModel",
          "model_module_version": "1.5.0",
          "state": {
            "_model_module": "@jupyter-widgets/controls",
            "_model_module_version": "1.5.0",
            "_model_name": "DescriptionStyleModel",
            "_view_count": null,
            "_view_module": "@jupyter-widgets/base",
            "_view_module_version": "1.2.0",
            "_view_name": "StyleView",
            "description_width": ""
          }
        },
        "c06a49ea92af4cbfaa4bb79814657bcf": {
          "model_module": "@jupyter-widgets/controls",
          "model_name": "HBoxModel",
          "model_module_version": "1.5.0",
          "state": {
            "_dom_classes": [],
            "_model_module": "@jupyter-widgets/controls",
            "_model_module_version": "1.5.0",
            "_model_name": "HBoxModel",
            "_view_count": null,
            "_view_module": "@jupyter-widgets/controls",
            "_view_module_version": "1.5.0",
            "_view_name": "HBoxView",
            "box_style": "",
            "children": [
              "IPY_MODEL_4c9741b9c6c5406bba683ebcc290248a",
              "IPY_MODEL_38dcba1e5d034eedb7c34165be4cd695",
              "IPY_MODEL_4789d8ed73084983b5ffad52669f5c8d"
            ],
            "layout": "IPY_MODEL_18527971c09047c88761e2f5b06c0ee5"
          }
        },
        "4c9741b9c6c5406bba683ebcc290248a": {
          "model_module": "@jupyter-widgets/controls",
          "model_name": "HTMLModel",
          "model_module_version": "1.5.0",
          "state": {
            "_dom_classes": [],
            "_model_module": "@jupyter-widgets/controls",
            "_model_module_version": "1.5.0",
            "_model_name": "HTMLModel",
            "_view_count": null,
            "_view_module": "@jupyter-widgets/controls",
            "_view_module_version": "1.5.0",
            "_view_name": "HTMLView",
            "description": "",
            "description_tooltip": null,
            "layout": "IPY_MODEL_54bec4381a78456799482a6881b9ee09",
            "placeholder": "​",
            "style": "IPY_MODEL_91e0aa3ed7a64cd6b296d931c16994f5",
            "value": "model.safetensors: 100%"
          }
        },
        "38dcba1e5d034eedb7c34165be4cd695": {
          "model_module": "@jupyter-widgets/controls",
          "model_name": "FloatProgressModel",
          "model_module_version": "1.5.0",
          "state": {
            "_dom_classes": [],
            "_model_module": "@jupyter-widgets/controls",
            "_model_module_version": "1.5.0",
            "_model_name": "FloatProgressModel",
            "_view_count": null,
            "_view_module": "@jupyter-widgets/controls",
            "_view_module_version": "1.5.0",
            "_view_name": "ProgressView",
            "bar_style": "success",
            "description": "",
            "description_tooltip": null,
            "layout": "IPY_MODEL_7b62636b6d51417d9ddbe322863eb81e",
            "max": 1625222120,
            "min": 0,
            "orientation": "horizontal",
            "style": "IPY_MODEL_c37a955f6faf4b77b69a20e99da093b2",
            "value": 1625222120
          }
        },
        "4789d8ed73084983b5ffad52669f5c8d": {
          "model_module": "@jupyter-widgets/controls",
          "model_name": "HTMLModel",
          "model_module_version": "1.5.0",
          "state": {
            "_dom_classes": [],
            "_model_module": "@jupyter-widgets/controls",
            "_model_module_version": "1.5.0",
            "_model_name": "HTMLModel",
            "_view_count": null,
            "_view_module": "@jupyter-widgets/controls",
            "_view_module_version": "1.5.0",
            "_view_name": "HTMLView",
            "description": "",
            "description_tooltip": null,
            "layout": "IPY_MODEL_00eedcc884164240807e6872eabd47c5",
            "placeholder": "​",
            "style": "IPY_MODEL_ae4c27bf0d6a41ceba70f0dea558f9b5",
            "value": " 1.63G/1.63G [00:16&lt;00:00, 100MB/s]"
          }
        },
        "18527971c09047c88761e2f5b06c0ee5": {
          "model_module": "@jupyter-widgets/base",
          "model_name": "LayoutModel",
          "model_module_version": "1.2.0",
          "state": {
            "_model_module": "@jupyter-widgets/base",
            "_model_module_version": "1.2.0",
            "_model_name": "LayoutModel",
            "_view_count": null,
            "_view_module": "@jupyter-widgets/base",
            "_view_module_version": "1.2.0",
            "_view_name": "LayoutView",
            "align_content": null,
            "align_items": null,
            "align_self": null,
            "border": null,
            "bottom": null,
            "display": null,
            "flex": null,
            "flex_flow": null,
            "grid_area": null,
            "grid_auto_columns": null,
            "grid_auto_flow": null,
            "grid_auto_rows": null,
            "grid_column": null,
            "grid_gap": null,
            "grid_row": null,
            "grid_template_areas": null,
            "grid_template_columns": null,
            "grid_template_rows": null,
            "height": null,
            "justify_content": null,
            "justify_items": null,
            "left": null,
            "margin": null,
            "max_height": null,
            "max_width": null,
            "min_height": null,
            "min_width": null,
            "object_fit": null,
            "object_position": null,
            "order": null,
            "overflow": null,
            "overflow_x": null,
            "overflow_y": null,
            "padding": null,
            "right": null,
            "top": null,
            "visibility": null,
            "width": null
          }
        },
        "54bec4381a78456799482a6881b9ee09": {
          "model_module": "@jupyter-widgets/base",
          "model_name": "LayoutModel",
          "model_module_version": "1.2.0",
          "state": {
            "_model_module": "@jupyter-widgets/base",
            "_model_module_version": "1.2.0",
            "_model_name": "LayoutModel",
            "_view_count": null,
            "_view_module": "@jupyter-widgets/base",
            "_view_module_version": "1.2.0",
            "_view_name": "LayoutView",
            "align_content": null,
            "align_items": null,
            "align_self": null,
            "border": null,
            "bottom": null,
            "display": null,
            "flex": null,
            "flex_flow": null,
            "grid_area": null,
            "grid_auto_columns": null,
            "grid_auto_flow": null,
            "grid_auto_rows": null,
            "grid_column": null,
            "grid_gap": null,
            "grid_row": null,
            "grid_template_areas": null,
            "grid_template_columns": null,
            "grid_template_rows": null,
            "height": null,
            "justify_content": null,
            "justify_items": null,
            "left": null,
            "margin": null,
            "max_height": null,
            "max_width": null,
            "min_height": null,
            "min_width": null,
            "object_fit": null,
            "object_position": null,
            "order": null,
            "overflow": null,
            "overflow_x": null,
            "overflow_y": null,
            "padding": null,
            "right": null,
            "top": null,
            "visibility": null,
            "width": null
          }
        },
        "91e0aa3ed7a64cd6b296d931c16994f5": {
          "model_module": "@jupyter-widgets/controls",
          "model_name": "DescriptionStyleModel",
          "model_module_version": "1.5.0",
          "state": {
            "_model_module": "@jupyter-widgets/controls",
            "_model_module_version": "1.5.0",
            "_model_name": "DescriptionStyleModel",
            "_view_count": null,
            "_view_module": "@jupyter-widgets/base",
            "_view_module_version": "1.2.0",
            "_view_name": "StyleView",
            "description_width": ""
          }
        },
        "7b62636b6d51417d9ddbe322863eb81e": {
          "model_module": "@jupyter-widgets/base",
          "model_name": "LayoutModel",
          "model_module_version": "1.2.0",
          "state": {
            "_model_module": "@jupyter-widgets/base",
            "_model_module_version": "1.2.0",
            "_model_name": "LayoutModel",
            "_view_count": null,
            "_view_module": "@jupyter-widgets/base",
            "_view_module_version": "1.2.0",
            "_view_name": "LayoutView",
            "align_content": null,
            "align_items": null,
            "align_self": null,
            "border": null,
            "bottom": null,
            "display": null,
            "flex": null,
            "flex_flow": null,
            "grid_area": null,
            "grid_auto_columns": null,
            "grid_auto_flow": null,
            "grid_auto_rows": null,
            "grid_column": null,
            "grid_gap": null,
            "grid_row": null,
            "grid_template_areas": null,
            "grid_template_columns": null,
            "grid_template_rows": null,
            "height": null,
            "justify_content": null,
            "justify_items": null,
            "left": null,
            "margin": null,
            "max_height": null,
            "max_width": null,
            "min_height": null,
            "min_width": null,
            "object_fit": null,
            "object_position": null,
            "order": null,
            "overflow": null,
            "overflow_x": null,
            "overflow_y": null,
            "padding": null,
            "right": null,
            "top": null,
            "visibility": null,
            "width": null
          }
        },
        "c37a955f6faf4b77b69a20e99da093b2": {
          "model_module": "@jupyter-widgets/controls",
          "model_name": "ProgressStyleModel",
          "model_module_version": "1.5.0",
          "state": {
            "_model_module": "@jupyter-widgets/controls",
            "_model_module_version": "1.5.0",
            "_model_name": "ProgressStyleModel",
            "_view_count": null,
            "_view_module": "@jupyter-widgets/base",
            "_view_module_version": "1.2.0",
            "_view_name": "StyleView",
            "bar_color": null,
            "description_width": ""
          }
        },
        "00eedcc884164240807e6872eabd47c5": {
          "model_module": "@jupyter-widgets/base",
          "model_name": "LayoutModel",
          "model_module_version": "1.2.0",
          "state": {
            "_model_module": "@jupyter-widgets/base",
            "_model_module_version": "1.2.0",
            "_model_name": "LayoutModel",
            "_view_count": null,
            "_view_module": "@jupyter-widgets/base",
            "_view_module_version": "1.2.0",
            "_view_name": "LayoutView",
            "align_content": null,
            "align_items": null,
            "align_self": null,
            "border": null,
            "bottom": null,
            "display": null,
            "flex": null,
            "flex_flow": null,
            "grid_area": null,
            "grid_auto_columns": null,
            "grid_auto_flow": null,
            "grid_auto_rows": null,
            "grid_column": null,
            "grid_gap": null,
            "grid_row": null,
            "grid_template_areas": null,
            "grid_template_columns": null,
            "grid_template_rows": null,
            "height": null,
            "justify_content": null,
            "justify_items": null,
            "left": null,
            "margin": null,
            "max_height": null,
            "max_width": null,
            "min_height": null,
            "min_width": null,
            "object_fit": null,
            "object_position": null,
            "order": null,
            "overflow": null,
            "overflow_x": null,
            "overflow_y": null,
            "padding": null,
            "right": null,
            "top": null,
            "visibility": null,
            "width": null
          }
        },
        "ae4c27bf0d6a41ceba70f0dea558f9b5": {
          "model_module": "@jupyter-widgets/controls",
          "model_name": "DescriptionStyleModel",
          "model_module_version": "1.5.0",
          "state": {
            "_model_module": "@jupyter-widgets/controls",
            "_model_module_version": "1.5.0",
            "_model_name": "DescriptionStyleModel",
            "_view_count": null,
            "_view_module": "@jupyter-widgets/base",
            "_view_module_version": "1.2.0",
            "_view_name": "StyleView",
            "description_width": ""
          }
        },
        "bf621d57d5824abcacf218d135d80db7": {
          "model_module": "@jupyter-widgets/controls",
          "model_name": "HBoxModel",
          "model_module_version": "1.5.0",
          "state": {
            "_dom_classes": [],
            "_model_module": "@jupyter-widgets/controls",
            "_model_module_version": "1.5.0",
            "_model_name": "HBoxModel",
            "_view_count": null,
            "_view_module": "@jupyter-widgets/controls",
            "_view_module_version": "1.5.0",
            "_view_name": "HBoxView",
            "box_style": "",
            "children": [
              "IPY_MODEL_90dfdd7e215f4a39aa96222d2900dbb3",
              "IPY_MODEL_10e59e87b1c14b7883b60b0b0a1642a6",
              "IPY_MODEL_e17422cbe302427daabc0417220c5a8a"
            ],
            "layout": "IPY_MODEL_ba0cb1f71af540b4a4f20686d743336f"
          }
        },
        "90dfdd7e215f4a39aa96222d2900dbb3": {
          "model_module": "@jupyter-widgets/controls",
          "model_name": "HTMLModel",
          "model_module_version": "1.5.0",
          "state": {
            "_dom_classes": [],
            "_model_module": "@jupyter-widgets/controls",
            "_model_module_version": "1.5.0",
            "_model_name": "HTMLModel",
            "_view_count": null,
            "_view_module": "@jupyter-widgets/controls",
            "_view_module_version": "1.5.0",
            "_view_name": "HTMLView",
            "description": "",
            "description_tooltip": null,
            "layout": "IPY_MODEL_de6a5c57d9d045dd9a033b46e37cfb90",
            "placeholder": "​",
            "style": "IPY_MODEL_0eb235ca1d714323967696ccfac54d2b",
            "value": "generation_config.json: 100%"
          }
        },
        "10e59e87b1c14b7883b60b0b0a1642a6": {
          "model_module": "@jupyter-widgets/controls",
          "model_name": "FloatProgressModel",
          "model_module_version": "1.5.0",
          "state": {
            "_dom_classes": [],
            "_model_module": "@jupyter-widgets/controls",
            "_model_module_version": "1.5.0",
            "_model_name": "FloatProgressModel",
            "_view_count": null,
            "_view_module": "@jupyter-widgets/controls",
            "_view_module_version": "1.5.0",
            "_view_name": "ProgressView",
            "bar_style": "success",
            "description": "",
            "description_tooltip": null,
            "layout": "IPY_MODEL_6acf52db08e44456a75d0b2299bcbf1d",
            "max": 363,
            "min": 0,
            "orientation": "horizontal",
            "style": "IPY_MODEL_a34ca88196b649f39f12fd35e7140ed5",
            "value": 363
          }
        },
        "e17422cbe302427daabc0417220c5a8a": {
          "model_module": "@jupyter-widgets/controls",
          "model_name": "HTMLModel",
          "model_module_version": "1.5.0",
          "state": {
            "_dom_classes": [],
            "_model_module": "@jupyter-widgets/controls",
            "_model_module_version": "1.5.0",
            "_model_name": "HTMLModel",
            "_view_count": null,
            "_view_module": "@jupyter-widgets/controls",
            "_view_module_version": "1.5.0",
            "_view_name": "HTMLView",
            "description": "",
            "description_tooltip": null,
            "layout": "IPY_MODEL_b622ab6df4ae426c9e6fa2bf2878ceec",
            "placeholder": "​",
            "style": "IPY_MODEL_618aee1f06b14a05bc2a43cc275d6517",
            "value": " 363/363 [00:00&lt;00:00, 11.7kB/s]"
          }
        },
        "ba0cb1f71af540b4a4f20686d743336f": {
          "model_module": "@jupyter-widgets/base",
          "model_name": "LayoutModel",
          "model_module_version": "1.2.0",
          "state": {
            "_model_module": "@jupyter-widgets/base",
            "_model_module_version": "1.2.0",
            "_model_name": "LayoutModel",
            "_view_count": null,
            "_view_module": "@jupyter-widgets/base",
            "_view_module_version": "1.2.0",
            "_view_name": "LayoutView",
            "align_content": null,
            "align_items": null,
            "align_self": null,
            "border": null,
            "bottom": null,
            "display": null,
            "flex": null,
            "flex_flow": null,
            "grid_area": null,
            "grid_auto_columns": null,
            "grid_auto_flow": null,
            "grid_auto_rows": null,
            "grid_column": null,
            "grid_gap": null,
            "grid_row": null,
            "grid_template_areas": null,
            "grid_template_columns": null,
            "grid_template_rows": null,
            "height": null,
            "justify_content": null,
            "justify_items": null,
            "left": null,
            "margin": null,
            "max_height": null,
            "max_width": null,
            "min_height": null,
            "min_width": null,
            "object_fit": null,
            "object_position": null,
            "order": null,
            "overflow": null,
            "overflow_x": null,
            "overflow_y": null,
            "padding": null,
            "right": null,
            "top": null,
            "visibility": null,
            "width": null
          }
        },
        "de6a5c57d9d045dd9a033b46e37cfb90": {
          "model_module": "@jupyter-widgets/base",
          "model_name": "LayoutModel",
          "model_module_version": "1.2.0",
          "state": {
            "_model_module": "@jupyter-widgets/base",
            "_model_module_version": "1.2.0",
            "_model_name": "LayoutModel",
            "_view_count": null,
            "_view_module": "@jupyter-widgets/base",
            "_view_module_version": "1.2.0",
            "_view_name": "LayoutView",
            "align_content": null,
            "align_items": null,
            "align_self": null,
            "border": null,
            "bottom": null,
            "display": null,
            "flex": null,
            "flex_flow": null,
            "grid_area": null,
            "grid_auto_columns": null,
            "grid_auto_flow": null,
            "grid_auto_rows": null,
            "grid_column": null,
            "grid_gap": null,
            "grid_row": null,
            "grid_template_areas": null,
            "grid_template_columns": null,
            "grid_template_rows": null,
            "height": null,
            "justify_content": null,
            "justify_items": null,
            "left": null,
            "margin": null,
            "max_height": null,
            "max_width": null,
            "min_height": null,
            "min_width": null,
            "object_fit": null,
            "object_position": null,
            "order": null,
            "overflow": null,
            "overflow_x": null,
            "overflow_y": null,
            "padding": null,
            "right": null,
            "top": null,
            "visibility": null,
            "width": null
          }
        },
        "0eb235ca1d714323967696ccfac54d2b": {
          "model_module": "@jupyter-widgets/controls",
          "model_name": "DescriptionStyleModel",
          "model_module_version": "1.5.0",
          "state": {
            "_model_module": "@jupyter-widgets/controls",
            "_model_module_version": "1.5.0",
            "_model_name": "DescriptionStyleModel",
            "_view_count": null,
            "_view_module": "@jupyter-widgets/base",
            "_view_module_version": "1.2.0",
            "_view_name": "StyleView",
            "description_width": ""
          }
        },
        "6acf52db08e44456a75d0b2299bcbf1d": {
          "model_module": "@jupyter-widgets/base",
          "model_name": "LayoutModel",
          "model_module_version": "1.2.0",
          "state": {
            "_model_module": "@jupyter-widgets/base",
            "_model_module_version": "1.2.0",
            "_model_name": "LayoutModel",
            "_view_count": null,
            "_view_module": "@jupyter-widgets/base",
            "_view_module_version": "1.2.0",
            "_view_name": "LayoutView",
            "align_content": null,
            "align_items": null,
            "align_self": null,
            "border": null,
            "bottom": null,
            "display": null,
            "flex": null,
            "flex_flow": null,
            "grid_area": null,
            "grid_auto_columns": null,
            "grid_auto_flow": null,
            "grid_auto_rows": null,
            "grid_column": null,
            "grid_gap": null,
            "grid_row": null,
            "grid_template_areas": null,
            "grid_template_columns": null,
            "grid_template_rows": null,
            "height": null,
            "justify_content": null,
            "justify_items": null,
            "left": null,
            "margin": null,
            "max_height": null,
            "max_width": null,
            "min_height": null,
            "min_width": null,
            "object_fit": null,
            "object_position": null,
            "order": null,
            "overflow": null,
            "overflow_x": null,
            "overflow_y": null,
            "padding": null,
            "right": null,
            "top": null,
            "visibility": null,
            "width": null
          }
        },
        "a34ca88196b649f39f12fd35e7140ed5": {
          "model_module": "@jupyter-widgets/controls",
          "model_name": "ProgressStyleModel",
          "model_module_version": "1.5.0",
          "state": {
            "_model_module": "@jupyter-widgets/controls",
            "_model_module_version": "1.5.0",
            "_model_name": "ProgressStyleModel",
            "_view_count": null,
            "_view_module": "@jupyter-widgets/base",
            "_view_module_version": "1.2.0",
            "_view_name": "StyleView",
            "bar_color": null,
            "description_width": ""
          }
        },
        "b622ab6df4ae426c9e6fa2bf2878ceec": {
          "model_module": "@jupyter-widgets/base",
          "model_name": "LayoutModel",
          "model_module_version": "1.2.0",
          "state": {
            "_model_module": "@jupyter-widgets/base",
            "_model_module_version": "1.2.0",
            "_model_name": "LayoutModel",
            "_view_count": null,
            "_view_module": "@jupyter-widgets/base",
            "_view_module_version": "1.2.0",
            "_view_name": "LayoutView",
            "align_content": null,
            "align_items": null,
            "align_self": null,
            "border": null,
            "bottom": null,
            "display": null,
            "flex": null,
            "flex_flow": null,
            "grid_area": null,
            "grid_auto_columns": null,
            "grid_auto_flow": null,
            "grid_auto_rows": null,
            "grid_column": null,
            "grid_gap": null,
            "grid_row": null,
            "grid_template_areas": null,
            "grid_template_columns": null,
            "grid_template_rows": null,
            "height": null,
            "justify_content": null,
            "justify_items": null,
            "left": null,
            "margin": null,
            "max_height": null,
            "max_width": null,
            "min_height": null,
            "min_width": null,
            "object_fit": null,
            "object_position": null,
            "order": null,
            "overflow": null,
            "overflow_x": null,
            "overflow_y": null,
            "padding": null,
            "right": null,
            "top": null,
            "visibility": null,
            "width": null
          }
        },
        "618aee1f06b14a05bc2a43cc275d6517": {
          "model_module": "@jupyter-widgets/controls",
          "model_name": "DescriptionStyleModel",
          "model_module_version": "1.5.0",
          "state": {
            "_model_module": "@jupyter-widgets/controls",
            "_model_module_version": "1.5.0",
            "_model_name": "DescriptionStyleModel",
            "_view_count": null,
            "_view_module": "@jupyter-widgets/base",
            "_view_module_version": "1.2.0",
            "_view_name": "StyleView",
            "description_width": ""
          }
        }
      }
    }
  },
  "nbformat": 4,
  "nbformat_minor": 5
}