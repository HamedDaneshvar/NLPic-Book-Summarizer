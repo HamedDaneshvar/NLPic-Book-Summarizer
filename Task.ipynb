{
  "cells": [
    {
      "cell_type": "markdown",
      "id": "2afc563e-f9c6-43ba-ae29-7ced5a3592db",
      "metadata": {
        "id": "2afc563e-f9c6-43ba-ae29-7ced5a3592db"
      },
      "source": [
        "# DataCoLab Task Assignment"
      ]
    },
    {
      "cell_type": "markdown",
      "id": "6b22deea-4b31-4c54-9df5-5e32da028007",
      "metadata": {
        "id": "6b22deea-4b31-4c54-9df5-5e32da028007"
      },
      "source": [
        "## Step 1: Data Preprocessing and EDA"
      ]
    },
    {
      "cell_type": "code",
      "execution_count": null,
      "id": "1b8fe963-07d9-4f12-bba0-e3bb9d7504f6",
      "metadata": {
        "id": "1b8fe963-07d9-4f12-bba0-e3bb9d7504f6"
      },
      "outputs": [],
      "source": [
        "# Import libraries\n",
        "import re\n",
        "import json\n",
        "import string\n",
        "from tqdm import tqdm\n",
        "from collections import Counter\n",
        "import pandas as pd\n",
        "import numpy as np\n",
        "import matplotlib.pyplot as plt\n",
        "# from nltk.corpus import stopwords"
      ]
    },
    {
      "cell_type": "code",
      "execution_count": null,
      "id": "c4149b63-8eb5-4d8b-a057-2d02b9073513",
      "metadata": {
        "id": "c4149b63-8eb5-4d8b-a057-2d02b9073513"
      },
      "outputs": [],
      "source": [
        "# CONSTANTS\n",
        "UNKNOWN_GENRE = ('Unknown',)\n",
        "UNKNOWN_AUTHOR = 'Unknown'"
      ]
    },
    {
      "cell_type": "markdown",
      "id": "d6d5e8df-6a83-49ee-b0d7-4c3717ccb78d",
      "metadata": {
        "id": "d6d5e8df-6a83-49ee-b0d7-4c3717ccb78d"
      },
      "source": [
        "### Load dataset"
      ]
    },
    {
      "cell_type": "code",
      "execution_count": null,
      "id": "47a010e4-8a9c-4b47-a4a9-aea5dcbb0624",
      "metadata": {
        "id": "47a010e4-8a9c-4b47-a4a9-aea5dcbb0624"
      },
      "outputs": [],
      "source": [
        "# header for dataset\n",
        "header = ['Wikipedia article ID', 'Freebase ID', 'Book title', 'Author',\n",
        "          'Publication date', 'Book genres (Freebase ID:name tuples)',\n",
        "          'Plot summary']\n",
        "\n",
        "# Load dataset from text file\n",
        "data = pd.read_csv('booksummaries.txt', sep='\\t', header=None,\n",
        "                   names=header, encoding='utf-8')"
      ]
    },
    {
      "cell_type": "code",
      "execution_count": null,
      "id": "9743faea-f696-427c-93e8-700c17ea30cc",
      "metadata": {
        "id": "9743faea-f696-427c-93e8-700c17ea30cc",
        "outputId": "4734e194-0bdd-4bc2-eb95-1f77245ae269"
      },
      "outputs": [
        {
          "data": {
            "text/html": [
              "<div>\n",
              "<style scoped>\n",
              "    .dataframe tbody tr th:only-of-type {\n",
              "        vertical-align: middle;\n",
              "    }\n",
              "\n",
              "    .dataframe tbody tr th {\n",
              "        vertical-align: top;\n",
              "    }\n",
              "\n",
              "    .dataframe thead th {\n",
              "        text-align: right;\n",
              "    }\n",
              "</style>\n",
              "<table border=\"1\" class=\"dataframe\">\n",
              "  <thead>\n",
              "    <tr style=\"text-align: right;\">\n",
              "      <th></th>\n",
              "      <th>Wikipedia article ID</th>\n",
              "      <th>Freebase ID</th>\n",
              "      <th>Book title</th>\n",
              "      <th>Author</th>\n",
              "      <th>Publication date</th>\n",
              "      <th>Book genres (Freebase ID:name tuples)</th>\n",
              "      <th>Plot summary</th>\n",
              "    </tr>\n",
              "  </thead>\n",
              "  <tbody>\n",
              "    <tr>\n",
              "      <th>0</th>\n",
              "      <td>620</td>\n",
              "      <td>/m/0hhy</td>\n",
              "      <td>Animal Farm</td>\n",
              "      <td>George Orwell</td>\n",
              "      <td>1945-08-17</td>\n",
              "      <td>{\"/m/016lj8\": \"Roman \\u00e0 clef\", \"/m/06nbt\":...</td>\n",
              "      <td>Old Major, the old boar on the Manor Farm, ca...</td>\n",
              "    </tr>\n",
              "    <tr>\n",
              "      <th>1</th>\n",
              "      <td>843</td>\n",
              "      <td>/m/0k36</td>\n",
              "      <td>A Clockwork Orange</td>\n",
              "      <td>Anthony Burgess</td>\n",
              "      <td>1962</td>\n",
              "      <td>{\"/m/06n90\": \"Science Fiction\", \"/m/0l67h\": \"N...</td>\n",
              "      <td>Alex, a teenager living in near-future Englan...</td>\n",
              "    </tr>\n",
              "    <tr>\n",
              "      <th>2</th>\n",
              "      <td>986</td>\n",
              "      <td>/m/0ldx</td>\n",
              "      <td>The Plague</td>\n",
              "      <td>Albert Camus</td>\n",
              "      <td>1947</td>\n",
              "      <td>{\"/m/02m4t\": \"Existentialism\", \"/m/02xlf\": \"Fi...</td>\n",
              "      <td>The text of The Plague is divided into five p...</td>\n",
              "    </tr>\n",
              "    <tr>\n",
              "      <th>3</th>\n",
              "      <td>1756</td>\n",
              "      <td>/m/0sww</td>\n",
              "      <td>An Enquiry Concerning Human Understanding</td>\n",
              "      <td>David Hume</td>\n",
              "      <td>NaN</td>\n",
              "      <td>NaN</td>\n",
              "      <td>The argument of the Enquiry proceeds by a ser...</td>\n",
              "    </tr>\n",
              "    <tr>\n",
              "      <th>4</th>\n",
              "      <td>2080</td>\n",
              "      <td>/m/0wkt</td>\n",
              "      <td>A Fire Upon the Deep</td>\n",
              "      <td>Vernor Vinge</td>\n",
              "      <td>NaN</td>\n",
              "      <td>{\"/m/03lrw\": \"Hard science fiction\", \"/m/06n90...</td>\n",
              "      <td>The novel posits that space around the Milky ...</td>\n",
              "    </tr>\n",
              "  </tbody>\n",
              "</table>\n",
              "</div>"
            ],
            "text/plain": [
              "   Wikipedia article ID Freebase ID  \\\n",
              "0                   620     /m/0hhy   \n",
              "1                   843     /m/0k36   \n",
              "2                   986     /m/0ldx   \n",
              "3                  1756     /m/0sww   \n",
              "4                  2080     /m/0wkt   \n",
              "\n",
              "                                  Book title           Author  \\\n",
              "0                                Animal Farm    George Orwell   \n",
              "1                         A Clockwork Orange  Anthony Burgess   \n",
              "2                                 The Plague     Albert Camus   \n",
              "3  An Enquiry Concerning Human Understanding       David Hume   \n",
              "4                       A Fire Upon the Deep     Vernor Vinge   \n",
              "\n",
              "  Publication date              Book genres (Freebase ID:name tuples)  \\\n",
              "0       1945-08-17  {\"/m/016lj8\": \"Roman \\u00e0 clef\", \"/m/06nbt\":...   \n",
              "1             1962  {\"/m/06n90\": \"Science Fiction\", \"/m/0l67h\": \"N...   \n",
              "2             1947  {\"/m/02m4t\": \"Existentialism\", \"/m/02xlf\": \"Fi...   \n",
              "3              NaN                                                NaN   \n",
              "4              NaN  {\"/m/03lrw\": \"Hard science fiction\", \"/m/06n90...   \n",
              "\n",
              "                                        Plot summary  \n",
              "0   Old Major, the old boar on the Manor Farm, ca...  \n",
              "1   Alex, a teenager living in near-future Englan...  \n",
              "2   The text of The Plague is divided into five p...  \n",
              "3   The argument of the Enquiry proceeds by a ser...  \n",
              "4   The novel posits that space around the Milky ...  "
            ]
          },
          "execution_count": 4,
          "metadata": {},
          "output_type": "execute_result"
        }
      ],
      "source": [
        "# Display sample of data\n",
        "data.head()"
      ]
    },
    {
      "cell_type": "code",
      "execution_count": null,
      "id": "167af01c-2597-4df3-9d58-937cd1fea5cb",
      "metadata": {
        "id": "167af01c-2597-4df3-9d58-937cd1fea5cb",
        "outputId": "37903d8e-556b-4b6d-ae47-ca1c03a6ba0a"
      },
      "outputs": [
        {
          "name": "stdout",
          "output_type": "stream",
          "text": [
            "Shape of dataset: (16559, 7)\n"
          ]
        }
      ],
      "source": [
        "# Display shape of data\n",
        "print(f\"Shape of dataset: {data.shape}\")"
      ]
    },
    {
      "cell_type": "markdown",
      "id": "0704074c",
      "metadata": {
        "id": "0704074c"
      },
      "source": [
        "### Preprocess Section"
      ]
    },
    {
      "cell_type": "code",
      "execution_count": null,
      "id": "406eea7d-def3-4ff8-8b9d-19bce70594b2",
      "metadata": {
        "id": "406eea7d-def3-4ff8-8b9d-19bce70594b2"
      },
      "outputs": [],
      "source": [
        "# # Drop \"Freebase ID\" column cause that values are unique and useless\n",
        "data = data.drop(\"Wikipedia article ID\", axis=1)\n",
        "data = data.drop(\"Freebase ID\", axis=1)\n",
        "\n",
        "# Add \"Index\" column by reset it\n",
        "data = data.reset_index()\n",
        "data.rename(columns={'index': 'Index'}, inplace=True)"
      ]
    },
    {
      "cell_type": "code",
      "execution_count": null,
      "id": "9b85b5e0-293f-439d-9c66-e729f963e2b8",
      "metadata": {
        "id": "9b85b5e0-293f-439d-9c66-e729f963e2b8",
        "outputId": "ae6f3022-4790-43c1-bec6-7f891c09ff54"
      },
      "outputs": [
        {
          "name": "stderr",
          "output_type": "stream",
          "text": [
            "100%|██████████████████████████████████████████████████████████████████████████████████| 16559/16559 [00:01<00:00, 12220.91it/s]\n"
          ]
        }
      ],
      "source": [
        "# convert all genres values into tuple\n",
        "for i in tqdm(range(len(data))):\n",
        "    try:\n",
        "        genres_dict = json.loads(\n",
        "            data.loc[i, 'Book genres (Freebase ID:name tuples)'])\n",
        "        if isinstance(genres_dict, dict):\n",
        "            data.at[i, 'Book genres (Freebase ID:name tuples)'] = tuple(\n",
        "                genres_dict.values())\n",
        "        else:\n",
        "            data.at[i, 'Book genres (Freebase ID:name tuples)'] = np.nan\n",
        "    # Handle NaN values and JSON decoding errors\n",
        "    except (TypeError, json.JSONDecodeError):\n",
        "        continue\n",
        "\n",
        "data.rename(columns={'Book genres (Freebase ID:name tuples)': 'Book genres'},\n",
        "            inplace=True)"
      ]
    },
    {
      "cell_type": "code",
      "execution_count": null,
      "id": "9bd2aef2-83a1-4561-85ef-1b9119a66d51",
      "metadata": {
        "id": "9bd2aef2-83a1-4561-85ef-1b9119a66d51"
      },
      "outputs": [],
      "source": [
        "def extract_year(pub_date):\n",
        "    \"\"\"\n",
        "    Convert publication date to just the year\n",
        "    (if it's in YYYY-MM-DD format)\n",
        "    \"\"\"\n",
        "    if isinstance(pub_date, str) and '-' in pub_date:\n",
        "        return pd.to_datetime(pub_date, errors='coerce').year\n",
        "    return int(pub_date) if isinstance(pub_date, str) and pub_date.isdigit()\\\n",
        "        else np.nan\n",
        "\n",
        "data['Publication year'] = data['Publication date'].apply(extract_year)"
      ]
    },
    {
      "cell_type": "code",
      "execution_count": null,
      "id": "91db9148-70be-4e04-b09b-69cd2b76661a",
      "metadata": {
        "id": "91db9148-70be-4e04-b09b-69cd2b76661a",
        "outputId": "3cd1a27b-ca6e-4530-fe86-d98193bcc997"
      },
      "outputs": [
        {
          "name": "stdout",
          "output_type": "stream",
          "text": [
            "Number of duplicate rows: 8\n"
          ]
        }
      ],
      "source": [
        "# Remove duplicate rows\n",
        "# Check for duplicates based on a unique identifier or key columns\n",
        "duplicates = data.duplicated(subset=['Book title', 'Author'], keep='first')\n",
        "print(f\"Number of duplicate rows: {duplicates.sum()}\")\n",
        "\n",
        "# # Drop duplicates\n",
        "data = data.drop_duplicates(subset=['Book title', 'Author'], keep='first')"
      ]
    },
    {
      "cell_type": "code",
      "execution_count": null,
      "id": "438fa69a-60cf-4f6e-8438-3f80ffb63050",
      "metadata": {
        "id": "438fa69a-60cf-4f6e-8438-3f80ffb63050"
      },
      "outputs": [],
      "source": [
        "# text cleaning\n",
        "# if get an error for this line, you must use `nltk.download()`\n",
        "# command and download stopwords\n",
        "# stop_words = set(stopwords.words('english'))\n",
        "\n",
        "\n",
        "def clean_text(text):\n",
        "    # Convert to lowercase\n",
        "    text = text.lower()\n",
        "    # Remove punctuation\n",
        "    text = text.translate(str.maketrans('', '', string.punctuation))\n",
        "    # Remove numbers\n",
        "    text = re.sub(r'\\d+', '', text)\n",
        "    # Remove extra whitespace\n",
        "    text = re.sub(r'\\s+', ' ', text)\n",
        "    # Remove special characters\n",
        "    text = re.sub(r'[^\\w\\s]', '', text)\n",
        "\n",
        "    # Remove stop words\n",
        "    # we don't remove stop words to get more accurate text in step 2\n",
        "    # text = ' '.join([word for word in text.split()\n",
        "    #                  if word not in stop_words])\n",
        "    # Remove extra  before and after whitespace\n",
        "\n",
        "    text = text.strip()\n",
        "    # check if text is none\n",
        "    text = text if text else np.nan\n",
        "\n",
        "    return text\n",
        "\n",
        "\n",
        "data['Cleaned Summary'] = data['Plot summary'].apply(clean_text)"
      ]
    },
    {
      "cell_type": "code",
      "execution_count": null,
      "id": "2dcc8acb-b0d4-408f-a5f2-b0b119a9ef2b",
      "metadata": {
        "id": "2dcc8acb-b0d4-408f-a5f2-b0b119a9ef2b"
      },
      "outputs": [],
      "source": [
        "# Drop rows where 'Cleaned Summary' is NaN\n",
        "data = data.dropna(subset=['Cleaned Summary'])"
      ]
    },
    {
      "cell_type": "code",
      "execution_count": null,
      "id": "c00c405c-beca-4349-9d38-50fae7d05067",
      "metadata": {
        "id": "c00c405c-beca-4349-9d38-50fae7d05067",
        "outputId": "0cff7006-2536-4708-95c4-25e205ca2e98"
      },
      "outputs": [
        {
          "name": "stdout",
          "output_type": "stream",
          "text": [
            "Number of outliers in Summary Length: 953\n"
          ]
        }
      ],
      "source": [
        "# summary length\n",
        "data['Summary Length'] = data['Cleaned Summary']\\\n",
        "    .apply(lambda x: len(x.split()))\n",
        "\n",
        "# Detect outliers in Summary_Length\n",
        "Q1 = data['Summary Length'].quantile(0.25)\n",
        "Q3 = data['Summary Length'].quantile(0.75)\n",
        "IQR = Q3 - Q1\n",
        "lower_bound = Q1 - 1.5 * IQR\n",
        "upper_bound = Q3 + 1.5 * IQR\n",
        "\n",
        "outliers = data[(data['Summary Length'] < lower_bound) |\n",
        "                (data['Summary Length'] > upper_bound)]\n",
        "print(f\"Number of outliers in Summary Length: {outliers.shape[0]}\")\n",
        "\n",
        "# Remove outliers\n",
        "data = data[(data['Summary Length'] >= lower_bound) &\n",
        "            (data['Summary Length'] <= upper_bound)]"
      ]
    },
    {
      "cell_type": "code",
      "execution_count": null,
      "id": "b727b28a-e270-4f60-b269-84acb2f60e30",
      "metadata": {
        "id": "b727b28a-e270-4f60-b269-84acb2f60e30"
      },
      "outputs": [],
      "source": [
        "# Fill Author missing values with UNKNOWN_AUTHOR variable because\n",
        "# We cannot put anyone's book under the name of another author\n",
        "data['Author'].fillna(UNKNOWN_AUTHOR, inplace=True)"
      ]
    },
    {
      "cell_type": "code",
      "execution_count": null,
      "id": "da9756b6-261f-4b57-ac36-f89b0926ea97",
      "metadata": {
        "id": "da9756b6-261f-4b57-ac36-f89b0926ea97",
        "outputId": "fcec2250-872b-4e29-91a9-d176c197dfaa"
      },
      "outputs": [
        {
          "name": "stderr",
          "output_type": "stream",
          "text": [
            "100%|██████████████████████████████████████████████████████████████████████████████████████| 4553/4553 [00:13<00:00, 334.23it/s]\n"
          ]
        }
      ],
      "source": [
        "# Fill missing values book generes based of other author's book\n",
        "# this section of code is not good and fix just 2 rows:)))\n",
        "\n",
        "\n",
        "def fill_missing_genres(df, num_modes):\n",
        "    for author, group in tqdm(df.groupby('Author')):\n",
        "        if author != UNKNOWN_AUTHOR:\n",
        "            genres = [genre for genres in group['Book genres'] if\n",
        "                      isinstance(genres, tuple) for genre in genres]\n",
        "            if genres:\n",
        "                mode_genres = [genre for genre, _ in Counter(genres)\n",
        "                               .most_common(num_modes)]\n",
        "                # We do this because normally can't assign tuple\n",
        "                # and we get an error\n",
        "                if len(df.loc[(df['Author'] == author) &\n",
        "                       (df['Book genres'].isnull()), 'Book genres']) > 0:\n",
        "                    for i in data.loc[(data['Author'] == 'Aaron Allston') &\n",
        "                                      (data['Book genres'].isnull()),\n",
        "                                      'Index'].values:\n",
        "                        df.at[i, 'Book genres'] = tuple(mode_genres)\n",
        "\n",
        "    return df\n",
        "\n",
        "\n",
        "# Fill missing genres based on author with the 5 most common genres\n",
        "data = fill_missing_genres(data, 5)"
      ]
    },
    {
      "cell_type": "code",
      "execution_count": null,
      "id": "c498202d-13ec-4930-bb8b-434c134769c3",
      "metadata": {
        "id": "c498202d-13ec-4930-bb8b-434c134769c3",
        "outputId": "a488c1ed-a359-42db-dd50-1b74c67aad5d"
      },
      "outputs": [
        {
          "data": {
            "image/png": "[encoded data removed]",
            "text/plain": [
              "<Figure size 432x288 with 1 Axes>"
            ]
          },
          "metadata": {
            "needs_background": "light"
          },
          "output_type": "display_data"
        }
      ],
      "source": [
        "# Plot a histogram to find out median is better for 'Publication year' or mode\n",
        "median = data['Publication year'].median()\n",
        "mode = data['Publication year'].mode()[0]\n",
        "mean = int(data['Publication year'].mean())\n",
        "\n",
        "plt.hist(data['Publication year'], bins=10, color='skyblue', edgecolor='black')\n",
        "plt.xlabel('Values')\n",
        "plt.ylabel('Frequency')\n",
        "plt.title('Histogram of Data')\n",
        "\n",
        "# Add markers for median and mode\n",
        "plt.axvline(median, color='r', linestyle='dashed',\n",
        "            linewidth=1, label=f'Median: {median}')\n",
        "plt.axvline(mode, color='g', linestyle='dashed',\n",
        "            linewidth=1, label=f'Mode: {mode}')\n",
        "plt.axhline(mean, color='b', linestyle='dashed',\n",
        "            linewidth=1, label=f'Mean: {mean}')\n",
        "plt.xlim(1800, data['Publication year'].max())\n",
        "\n",
        "plt.legend()\n",
        "plt.show()"
      ]
    },
    {
      "cell_type": "code",
      "execution_count": null,
      "id": "698387fc-3789-43d9-8c54-abb71cacd716",
      "metadata": {
        "id": "698387fc-3789-43d9-8c54-abb71cacd716",
        "outputId": "4261eaef-1ce8-41cc-b9b7-bf03b022f5e6"
      },
      "outputs": [
        {
          "data": {
            "image/png": "[encoded data removed]",
            "text/plain": [
              "<Figure size 720x432 with 1 Axes>"
            ]
          },
          "metadata": {
            "needs_background": "light"
          },
          "output_type": "display_data"
        }
      ],
      "source": [
        "# Calculate the frequency of each value\n",
        "value_counts = data['Publication year'].value_counts()\n",
        "\n",
        "# Get the top 10 most frequent values\n",
        "top_values = value_counts.head(10)\n",
        "\n",
        "# Plot a bar plot for the top 10 most frequent values\n",
        "plt.figure(figsize=(10, 6))\n",
        "top_values.plot(kind='bar', color='skyblue')\n",
        "plt.xlabel('Values')\n",
        "plt.ylabel('Frequency')\n",
        "plt.title('Top 10 Most Frequent Values')\n",
        "plt.xticks(rotation=45)\n",
        "plt.show()"
      ]
    },
    {
      "cell_type": "code",
      "execution_count": null,
      "id": "b52ebd20-b685-4e68-92e5-26bbe602f744",
      "metadata": {
        "id": "b52ebd20-b685-4e68-92e5-26bbe602f744"
      },
      "outputs": [],
      "source": [
        "# fill Publication Year and Publication date missing value\n",
        "# with mode of data based on Top 10 values plot\n",
        "mean_year = int(data['Publication year'].mode()[0])\n",
        "data['Publication year'].fillna(mean_year, inplace=True)\n",
        "data['Publication date'].fillna(mean_year, inplace=True)"
      ]
    },
    {
      "cell_type": "code",
      "execution_count": null,
      "id": "f2913723-2028-41df-a163-583c8f832981",
      "metadata": {
        "id": "f2913723-2028-41df-a163-583c8f832981"
      },
      "outputs": [],
      "source": [
        "# We can use \"Title-Based\" method or Pre-Trained NLP Model\n",
        "# for Genre Prediction but in this step ignore this method\n",
        "# and just set this missing value genre with UNKNOWN_GENRE variable\n",
        "\n",
        "\n",
        "def fill_with_unknown_genre(x):\n",
        "    return UNKNOWN_GENRE if pd.isnull(x) else x\n",
        "\n",
        "\n",
        "data['Book genres'] = data['Book genres'].apply(fill_with_unknown_genre)"
      ]
    },
    {
      "cell_type": "code",
      "execution_count": null,
      "id": "33383136-9ef5-4c32-8dae-4f1cace6d271",
      "metadata": {
        "id": "33383136-9ef5-4c32-8dae-4f1cace6d271",
        "outputId": "2c33fa9e-efa3-4d17-c4db-c96651d8ae0e"
      },
      "outputs": [
        {
          "name": "stdout",
          "output_type": "stream",
          "text": [
            "Index               0\n",
            "Book title          0\n",
            "Author              0\n",
            "Publication date    0\n",
            "Book genres         0\n",
            "Plot summary        0\n",
            "Publication year    0\n",
            "Cleaned Summary     0\n",
            "Summary Length      0\n",
            "dtype: int64\n"
          ]
        }
      ],
      "source": [
        "# Check the Nan value of all columns\n",
        "print(data.isna().sum())"
      ]
    },
    {
      "cell_type": "code",
      "execution_count": null,
      "id": "0eba2798-797a-4a80-87a7-b3bed03c7019",
      "metadata": {
        "id": "0eba2798-797a-4a80-87a7-b3bed03c7019"
      },
      "outputs": [],
      "source": [
        "# save cleaned data\n",
        "data.to_csv('cleaned_book_summary.csv', sep='\\t',\n",
        "            index=False, encoding='utf-8')"
      ]
    },
    {
      "cell_type": "markdown",
      "id": "9e03d044-a82f-47e6-b45d-645ce00ce471",
      "metadata": {
        "id": "9e03d044-a82f-47e6-b45d-645ce00ce471"
      },
      "source": [
        "### EDA section"
      ]
    },
    {
      "cell_type": "code",
      "execution_count": null,
      "id": "c6872966-308a-4d69-af4f-8f7bb0db7bac",
      "metadata": {
        "id": "c6872966-308a-4d69-af4f-8f7bb0db7bac"
      },
      "outputs": [],
      "source": [
        "import ast\n",
        "from tqdm import tqdm\n",
        "import pandas as pd\n",
        "import matplotlib.pyplot as plt"
      ]
    },
    {
      "cell_type": "code",
      "execution_count": null,
      "id": "c03c8b51-362b-41e2-9450-770fcf95de3a",
      "metadata": {
        "id": "c03c8b51-362b-41e2-9450-770fcf95de3a"
      },
      "outputs": [],
      "source": [
        "# Load dataset from csv file\n",
        "data = pd.read_csv('cleaned_book_summary.csv', sep='\\t', encoding='utf-8')"
      ]
    },
    {
      "cell_type": "code",
      "execution_count": null,
      "id": "878fe265-162a-47f6-9e19-31a54985bd38",
      "metadata": {
        "id": "878fe265-162a-47f6-9e19-31a54985bd38",
        "outputId": "64f1f54b-545d-4005-d761-0cbaecdcaa6c"
      },
      "outputs": [
        {
          "name": "stderr",
          "output_type": "stream",
          "text": [
            "100%|███████████████████████████████████████████████████████████████████████████████████| 15593/15593 [00:01<00:00, 9633.51it/s]\n"
          ]
        }
      ],
      "source": [
        "# convert all genres values into tuple\n",
        "for i in tqdm(range(len(data))):\n",
        "    try:\n",
        "        genres_tuple = ast.literal_eval(data.loc[i, 'Book genres'])\n",
        "        if isinstance(genres_tuple, tuple):\n",
        "            data.at[i, 'Book genres'] = genres_tuple\n",
        "        else:\n",
        "            data.at[i, 'Book genres'] = np.nan\n",
        "    except (SyntaxError, ValueError):\n",
        "        continue"
      ]
    },
    {
      "cell_type": "code",
      "execution_count": null,
      "id": "bafe99c9-9719-4e0b-a399-c1a63f71cb23",
      "metadata": {
        "id": "bafe99c9-9719-4e0b-a399-c1a63f71cb23"
      },
      "outputs": [],
      "source": [
        "def get_genres_distribution(df):\n",
        "    \"\"\"\n",
        "    Calculate the distribution of book genres in the provided DataFrame.\n",
        "\n",
        "    Parameters:\n",
        "    df (pandas.DataFrame): A DataFrame containing a column 'Book genres'\n",
        "    with lists of genres for each book.\n",
        "\n",
        "    Returns:\n",
        "    pandas.Series: A Series object containing the count of each genre across\n",
        "    all books in descending order.\n",
        "\n",
        "    The function iterates through the 'Book genres' column of the DataFrame\n",
        "    and counts the occurrences of each genre.\n",
        "    It then sorts the genres_counts dictionary by the count of each genre in\n",
        "    descending order. The sorted dictionary is converted into a Pandas Series\n",
        "    and returned.\n",
        "    \"\"\"\n",
        "    genres_counts = dict()\n",
        "    for i, genres in enumerate(df['Book genres']):\n",
        "        for genre in genres:\n",
        "            genres_counts[genre] = genres_counts.get(genre, 0) + 1\n",
        "\n",
        "    # Sort the genres_counts dictionary by values in descending order\n",
        "    sorted_genres_counts = dict(sorted(genres_counts.items(),\n",
        "                                       key=lambda item: item[1],\n",
        "                                       reverse=True))\n",
        "\n",
        "    # Convert the sorted dictionary to a Pandas Series\n",
        "    genre_series = pd.Series(sorted_genres_counts)\n",
        "\n",
        "    return genre_series"
      ]
    },
    {
      "cell_type": "code",
      "execution_count": null,
      "id": "45407c9c-f8e8-41ab-afe3-ca4d749d0680",
      "metadata": {
        "id": "45407c9c-f8e8-41ab-afe3-ca4d749d0680",
        "outputId": "2d79a54c-8a8d-4550-898e-7fe4ac957dc7"
      },
      "outputs": [
        {
          "name": "stdout",
          "output_type": "stream",
          "text": [
            "Number of books: 15593\n",
            "Missing values: False\n"
          ]
        }
      ],
      "source": [
        "# Get basic information about data\n",
        "print(f\"Number of books: {data.shape[0]}\")\n",
        "# Check for any remaining missing values\n",
        "print(f\"Missing values: {data.isnull().sum().any()}\")"
      ]
    },
    {
      "cell_type": "code",
      "execution_count": null,
      "id": "d1624ffc-e54f-478c-ac46-ac79421c1232",
      "metadata": {
        "id": "d1624ffc-e54f-478c-ac46-ac79421c1232",
        "outputId": "0ed1ec8a-82da-4c2f-a213-aba7aea1ca55"
      },
      "outputs": [
        {
          "name": "stdout",
          "output_type": "stream",
          "text": [
            "\n",
            "Summary length statistics:\n",
            "count    15593.000000\n",
            "mean       184.366575\n",
            "std        155.291544\n",
            "min          1.000000\n",
            "25%         63.000000\n",
            "50%        130.000000\n",
            "75%        268.000000\n",
            "max        668.000000\n",
            "Name: Summary Length, dtype: float64\n"
          ]
        },
        {
          "data": {
            "image/png": "[encoded data removed]",
            "text/plain": [
              "<Figure size 1080x216 with 1 Axes>"
            ]
          },
          "metadata": {
            "needs_background": "light"
          },
          "output_type": "display_data"
        }
      ],
      "source": [
        "# Analyze summary length\n",
        "summary_stats = data['Summary Length'].describe()\n",
        "print(f\"\\nSummary length statistics:\\n{summary_stats}\")\n",
        "\n",
        "# box plot for summary length\n",
        "plt.figure(figsize=(15, 3))\n",
        "# Creating the box plot\n",
        "plt.boxplot(data['Summary Length'], vert=False)\n",
        "plt.title('Summary Length Box Plot')\n",
        "plt.xlabel('Summary Length')\n",
        "plt.ylabel('Value')\n",
        "plt.show()"
      ]
    },
    {
      "cell_type": "code",
      "execution_count": null,
      "id": "aeaccba1-c384-4816-b039-4c11265c9a49",
      "metadata": {
        "id": "aeaccba1-c384-4816-b039-4c11265c9a49",
        "outputId": "f9cd2877-a61e-4ff3-a84b-cfaf62241024"
      },
      "outputs": [
        {
          "name": "stdout",
          "output_type": "stream",
          "text": [
            "\n",
            "Publication year statistics:\n",
            "count    15593.000000\n",
            "mean      1986.779581\n",
            "std         42.171144\n",
            "min        398.000000\n",
            "25%       1982.000000\n",
            "50%       2004.000000\n",
            "75%       2007.000000\n",
            "max       2013.000000\n",
            "Name: Publication year, dtype: float64\n"
          ]
        },
        {
          "data": {
            "image/png": "[encoded data removed]",
            "text/plain": [
              "<Figure size 1080x216 with 1 Axes>"
            ]
          },
          "metadata": {
            "needs_background": "light"
          },
          "output_type": "display_data"
        }
      ],
      "source": [
        "# Analyze publication year\n",
        "publication_stats = data['Publication year'].describe()\n",
        "print(f\"\\nPublication year statistics:\\n{publication_stats}\")\n",
        "\n",
        "# box plot for publication year\n",
        "plt.figure(figsize=(15, 3))\n",
        "# Creating the box plot\n",
        "plt.boxplot(data['Publication year'], vert=False)\n",
        "plt.title('Publication Year Box Plot')\n",
        "plt.xlabel('Publication Year')\n",
        "plt.ylabel('Value')\n",
        "plt.show()"
      ]
    },
    {
      "cell_type": "code",
      "execution_count": null,
      "id": "e8e0b2dd-4077-4044-ad1c-c8273e85def3",
      "metadata": {
        "id": "e8e0b2dd-4077-4044-ad1c-c8273e85def3",
        "outputId": "63bdf85b-5350-4306-f693-a054b065fdf0"
      },
      "outputs": [
        {
          "name": "stdout",
          "output_type": "stream",
          "text": [
            "\n",
            "Genre distribution:\n",
            "Fiction                4401\n",
            "Speculative fiction    3995\n",
            "Unknown                3552\n",
            "Science Fiction        2675\n",
            "Novel                  2312\n",
            "                       ... \n",
            "Popular culture           1\n",
            "Neuroscience              1\n",
            "Alien invasion            1\n",
            "Comedy of manners         1\n",
            "Pastiche                  1\n",
            "Length: 223, dtype: int64\n"
          ]
        },
        {
          "data": {
            "image/png": "[encoded data removed]",
            "text/plain": [
              "<Figure size 1440x432 with 1 Axes>"
            ]
          },
          "metadata": {
            "needs_background": "light"
          },
          "output_type": "display_data"
        }
      ],
      "source": [
        "# Genre distribution\n",
        "genre_counts = get_genres_distribution(data)\n",
        "print(f\"\\nGenre distribution:\\n{genre_counts}\")\n",
        "\n",
        "# Get the top 10 most frequent genres\n",
        "top_genres = genre_counts.head(10)\n",
        "\n",
        "# Plot genre distribution\n",
        "plt.figure(figsize=(20, 6))\n",
        "top_genres.plot(kind='bar', color='skyblue')\n",
        "plt.xlabel('Genre')\n",
        "plt.ylabel('Number of Books')\n",
        "plt.title('Top 10 Most Distribution of Book Genres')\n",
        "plt.xticks(rotation=0)\n",
        "plt.show()"
      ]
    },
    {
      "cell_type": "code",
      "execution_count": null,
      "id": "3bf0af00-0944-4841-9e35-879ba24a410d",
      "metadata": {
        "id": "3bf0af00-0944-4841-9e35-879ba24a410d",
        "outputId": "e4f74b30-062b-43e2-9ad1-e000e6c3cfbf"
      },
      "outputs": [
        {
          "name": "stdout",
          "output_type": "stream",
          "text": [
            "\n",
            "Publication year distribution:\n",
            "\n",
            "Publication year\n",
            "2007.0    5756\n",
            "2006.0     422\n",
            "2008.0     366\n",
            "2005.0     362\n",
            "2004.0     338\n",
            "          ... \n",
            "1590.0       1\n",
            "1768.0       1\n",
            "1621.0       1\n",
            "1516.0       1\n",
            "1640.0       1\n",
            "Name: count, Length: 264, dtype: int64\n"
          ]
        },
        {
          "data": {
            "image/png": "[encoded data removed]",
            "text/plain": [
              "<Figure size 1440x432 with 1 Axes>"
            ]
          },
          "metadata": {
            "needs_background": "light"
          },
          "output_type": "display_data"
        }
      ],
      "source": [
        "# Publication year distribution\n",
        "year_counts = data['Publication year'].value_counts()\n",
        "print(f\"\\nPublication year distribution:\\n\\n{year_counts}\")\n",
        "\n",
        "# Get the top 20 most frequent publication year\n",
        "top_years = year_counts.head(20)\n",
        "\n",
        "# Plot publication year distribution\n",
        "plt.figure(figsize=(20, 6))\n",
        "top_years.plot(kind='bar', color='skyblue')\n",
        "plt.xlabel(\"Publication year\")\n",
        "plt.ylabel(\"Number of Publication year\")\n",
        "plt.title(\"Top 20 Distribution of Publication year\")\n",
        "plt.xticks(rotation=45)\n",
        "plt.show()"
      ]
    },
    {
      "cell_type": "code",
      "execution_count": null,
      "id": "102aedcf-a0c7-429d-bd1c-33074a6f4a2e",
      "metadata": {
        "id": "102aedcf-a0c7-429d-bd1c-33074a6f4a2e",
        "outputId": "5641caed-0133-4183-b35c-33c3cc5caa51"
      },
      "outputs": [
        {
          "name": "stdout",
          "output_type": "stream",
          "text": [
            "\n",
            "Author analysis:\n",
            "\n",
            "Author\n",
            "Unknown                 2294\n",
            "Franklin W. Dixon         67\n",
            "K. A. Applegate           60\n",
            "Agatha Christie           58\n",
            "Edgar Rice Burroughs      57\n",
            "                        ... \n",
            "Mary Cheney                1\n",
            "Nick Enright               1\n",
            "Sion Sono                  1\n",
            "Ntozake Shange             1\n",
            "Stephen Colbert            1\n",
            "Name: count, Length: 4553, dtype: int64\n"
          ]
        },
        {
          "data": {
            "image/png": "[encoded data removed]",
            "text/plain": [
              "<Figure size 1440x432 with 1 Axes>"
            ]
          },
          "metadata": {
            "needs_background": "light"
          },
          "output_type": "display_data"
        }
      ],
      "source": [
        "# Author analysis\n",
        "author_counts = data['Author'].value_counts()\n",
        "print(f\"\\nAuthor analysis:\\n\\n{author_counts}\")\n",
        "\n",
        "# Get the top 20 most frequent authors\n",
        "top_authors = author_counts.head(21)[1:]  # remove the Unknown author\n",
        "\n",
        "# Plot most frequent authors\n",
        "plt.figure(figsize=(20, 6))\n",
        "top_authors.plot(kind='bar', color='skyblue')\n",
        "plt.xlabel(\"Authors\")\n",
        "plt.ylabel(\"Number of books\")\n",
        "plt.title(\"Author Popularity\")\n",
        "plt.xticks(rotation=45)\n",
        "plt.show()"
      ]
    },
    {
      "cell_type": "code",
      "execution_count": null,
      "id": "8827208d-94fc-431e-a042-77f4729b6241",
      "metadata": {
        "id": "8827208d-94fc-431e-a042-77f4729b6241",
        "outputId": "dcdbc464-822f-4196-9ff7-3d78f3c8122b"
      },
      "outputs": [
        {
          "name": "stdout",
          "output_type": "stream",
          "text": [
            "(Science Fiction, Speculative fiction)    1860\n",
            "(Speculative fiction, Fiction)            1829\n",
            "(Speculative fiction, Fantasy)            1186\n",
            "(Children's literature, Fiction)          1037\n",
            "(Science Fiction, Fiction)                1001\n",
            "(Fantasy, Fiction)                         941\n",
            "(Mystery, Fiction)                         802\n",
            "(Fiction, Novel)                           745\n",
            "(Fiction, Suspense)                        620\n",
            "(Mystery, Suspense)                        613\n",
            "Name: count, dtype: int64\n"
          ]
        },
        {
          "data": {
            "image/png": "[encoded data removed]",
            "text/plain": [
              "<Figure size 1440x432 with 1 Axes>"
            ]
          },
          "metadata": {
            "needs_background": "light"
          },
          "output_type": "display_data"
        }
      ],
      "source": [
        "# Genre Co-occurrence analysis\n",
        "genre_pairs = []\n",
        "for genres in data['Book genres']:\n",
        "    for i in range(len(genres) - 1):\n",
        "        for j in range(i + 1, len(genres)):\n",
        "            pair = (genres[i], genres[j])\n",
        "            genre_pairs.append(pair)\n",
        "\n",
        "# Count occurrences\n",
        "genre_pair_counts = pd.Series(genre_pairs).value_counts()\n",
        "\n",
        "# Print top 10 most frequent genre pairs\n",
        "most_frequent_genre_pairs = genre_pair_counts.head(10)\n",
        "print(most_frequent_genre_pairs)\n",
        "\n",
        "# Plot most frequent genre co-occurrence\n",
        "plt.figure(figsize=(20, 6))\n",
        "most_frequent_genre_pairs.plot(kind='bar', color='skyblue')\n",
        "plt.xlabel(\"Genre Pair\")\n",
        "plt.ylabel(\"Number of Occurrences\")\n",
        "plt.title(\"Genre Co-occurrence\")\n",
        "plt.xticks(rotation=45)\n",
        "plt.show()"
      ]
    },
    {
      "cell_type": "markdown",
      "id": "515de1d9-d7a8-4d4a-9d91-4eedc8eb7e16",
      "metadata": {
        "id": "515de1d9-d7a8-4d4a-9d91-4eedc8eb7e16"
      },
      "source": [
        "## Step 2: NLP Component"
      ]
    },
    {
      "cell_type": "code",
      "execution_count": 1,
      "id": "hlMR_c9zWQa4",
      "metadata": {
        "colab": {
          "base_uri": "https://localhost:8080/"
        },
        "id": "hlMR_c9zWQa4",
        "outputId": "57683d55-b230-40c0-b689-959ccdb3b4d4"
      },
      "outputs": [
        {
          "name": "stdout",
          "output_type": "stream",
          "text": [
            "Mounted at /content/drive\n"
          ]
        }
      ],
      "source": [
        "# import google drive to use gpu for this section\n",
        "from google.colab import drive\n",
        "drive.mount('/content/drive')"
      ]
    },
    {
      "cell_type": "code",
      "execution_count": null,
      "id": "2242d01d-3fbe-4b5b-866c-187fbf996dc1",
      "metadata": {
        "colab": {
          "base_uri": "https://localhost:8080/"
        },
        "id": "2242d01d-3fbe-4b5b-866c-187fbf996dc1",
        "outputId": "31e6d6d7-1e7e-4986-9298-70ca6d8d4d1c"
      },
      "outputs": [
        {
          "name": "stdout",
          "output_type": "stream",
          "text": [
            "Requirement already satisfied: transformers in /usr/local/lib/python3.10/dist-packages (4.44.2)\n",
            "Requirement already satisfied: torch in /usr/local/lib/python3.10/dist-packages (2.4.0+cu121)\n",
            "Collecting rouge-score\n",
            "  Downloading rouge_score-0.1.2.tar.gz (17 kB)\n",
            "  Preparing metadata (setup.py) ... \u001b[?25l\u001b[?25hdone\n",
            "Requirement already satisfied: filelock in /usr/local/lib/python3.10/dist-packages (from transformers) (3.15.4)\n",
            "Requirement already satisfied: huggingface-hub<1.0,>=0.23.2 in /usr/local/lib/python3.10/dist-packages (from transformers) (0.24.6)\n",
            "Requirement already satisfied: numpy>=1.17 in /usr/local/lib/python3.10/dist-packages (from transformers) (1.26.4)\n",
            "Requirement already satisfied: packaging>=20.0 in /usr/local/lib/python3.10/dist-packages (from transformers) (24.1)\n",
            "Requirement already satisfied: pyyaml>=5.1 in /usr/local/lib/python3.10/dist-packages (from transformers) (6.0.2)\n",
            "Requirement already satisfied: regex!=2019.12.17 in /usr/local/lib/python3.10/dist-packages (from transformers) (2024.5.15)\n",
            "Requirement already satisfied: requests in /usr/local/lib/python3.10/dist-packages (from transformers) (2.32.3)\n",
            "Requirement already satisfied: safetensors>=0.4.1 in /usr/local/lib/python3.10/dist-packages (from transformers) (0.4.4)\n",
            "Requirement already satisfied: tokenizers<0.20,>=0.19 in /usr/local/lib/python3.10/dist-packages (from transformers) (0.19.1)\n",
            "Requirement already satisfied: tqdm>=4.27 in /usr/local/lib/python3.10/dist-packages (from transformers) (4.66.5)\n",
            "Requirement already satisfied: typing-extensions>=4.8.0 in /usr/local/lib/python3.10/dist-packages (from torch) (4.12.2)\n",
            "Requirement already satisfied: sympy in /usr/local/lib/python3.10/dist-packages (from torch) (1.13.2)\n",
            "Requirement already satisfied: networkx in /usr/local/lib/python3.10/dist-packages (from torch) (3.3)\n",
            "Requirement already satisfied: jinja2 in /usr/local/lib/python3.10/dist-packages (from torch) (3.1.4)\n",
            "Requirement already satisfied: fsspec in /usr/local/lib/python3.10/dist-packages (from torch) (2024.6.1)\n",
            "Requirement already satisfied: absl-py in /usr/local/lib/python3.10/dist-packages (from rouge-score) (1.4.0)\n",
            "Requirement already satisfied: nltk in /usr/local/lib/python3.10/dist-packages (from rouge-score) (3.8.1)\n",
            "Requirement already satisfied: six>=1.14.0 in /usr/local/lib/python3.10/dist-packages (from rouge-score) (1.16.0)\n",
            "Requirement already satisfied: MarkupSafe>=2.0 in /usr/local/lib/python3.10/dist-packages (from jinja2->torch) (2.1.5)\n",
            "Requirement already satisfied: click in /usr/local/lib/python3.10/dist-packages (from nltk->rouge-score) (8.1.7)\n",
            "Requirement already satisfied: joblib in /usr/local/lib/python3.10/dist-packages (from nltk->rouge-score) (1.4.2)\n",
            "Requirement already satisfied: charset-normalizer<4,>=2 in /usr/local/lib/python3.10/dist-packages (from requests->transformers) (3.3.2)\n",
            "Requirement already satisfied: idna<4,>=2.5 in /usr/local/lib/python3.10/dist-packages (from requests->transformers) (3.8)\n",
            "Requirement already satisfied: urllib3<3,>=1.21.1 in /usr/local/lib/python3.10/dist-packages (from requests->transformers) (2.0.7)\n",
            "Requirement already satisfied: certifi>=2017.4.17 in /usr/local/lib/python3.10/dist-packages (from requests->transformers) (2024.8.30)\n",
            "Requirement already satisfied: mpmath<1.4,>=1.1.0 in /usr/local/lib/python3.10/dist-packages (from sympy->torch) (1.3.0)\n",
            "Building wheels for collected packages: rouge-score\n",
            "  Building wheel for rouge-score (setup.py) ... \u001b[?25l\u001b[?25hdone\n",
            "  Created wheel for rouge-score: filename=rouge_score-0.1.2-py3-none-any.whl size=24935 sha256=fd2f97638b1c2e60b403487996adba099755868c2eb6e0682b8ec8cd31f6e9e1\n",
            "  Stored in directory: /root/.cache/pip/wheels/5f/dd/89/461065a73be61a532ff8599a28e9beef17985c9e9c31e541b4\n",
            "Successfully built rouge-score\n",
            "Installing collected packages: rouge-score\n",
            "Successfully installed rouge-score-0.1.2\n"
          ]
        }
      ],
      "source": [
        "!pip install -q transformers torch rouge-score"
      ]
    },
    {
      "cell_type": "code",
      "execution_count": null,
      "id": "1ccfd9c7-6c1f-4d07-a718-f7b5fbedd099",
      "metadata": {
        "id": "1ccfd9c7-6c1f-4d07-a718-f7b5fbedd099"
      },
      "outputs": [],
      "source": [
        "from tqdm import tqdm\n",
        "import pandas as pd\n",
        "import torch\n",
        "from transformers import BartTokenizer, BartForConditionalGeneration"
      ]
    },
    {
      "cell_type": "code",
      "execution_count": null,
      "id": "07c28a59-de5d-486a-bea3-56c6fe5694b7",
      "metadata": {
        "colab": {
          "base_uri": "https://localhost:8080/",
          "height": 333,
          "referenced_widgets": [
            "8b3b6f43cbf84180a865766d16a62350",
            "f14435bf52b74b5eadb69bab884b12a5",
            "d44580b507fd4b50aa15b27b5c479bce",
            "25f77985f6844534ad385ed529665674",
            "78c3a9ee04b247fdb3b58d979c12e926",
            "c92a6f5fcc1d4f25962680bf82bff380",
            "346f28fa99444a59b91ab66b0268f8d0",
            "dda399ac037c44da9129f3902036fe08",
            "b13e73a9234b47af8cd97d66cb80099e",
            "8b60c5cc81ac42fd8588eedb507b6550",
            "12be67cfdb7b4bb1b76f5999f2e41c0f",
            "5c4bdff55be0401e98a397d1af289740",
            "952fe08f8bb64efda579be0c5a2d3411",
            "01a84e5f9afb456db8d0102ab079a1de",
            "2de61aebd5f54cf4bf4adef318e48bb7",
            "7be5f287b4ec4efebf2b1b22c2edf92d",
            "a233cb2010fd4f4db4db5ba336510d5d",
            "2542f4550d94471c9ad7572785dc47e3",
            "ca9398577b3941fdabe1e239ec2ffeb8",
            "6a5337d2436041b8a05dc520681aa6c1",
            "1c5368f299054a91ac786e6227d5606a",
            "80ca74a7f7ae49f2a64ceb176826f00d",
            "f36baaa8b48c4c569a47daebf5e2e799",
            "aff95851359d4711b4c33b8672d81569",
            "636bb0e837b442aa956c7a48e7dae157",
            "2d5ea04c08984f5995d3c89fdadcd68a",
            "8e62d873662b410da944ea4649887965",
            "1b3f723ba8a844f8a7c23034fa1a52d5",
            "fdf217d87c3e43e99a25306f6d8d35df",
            "ed2f340544214ca2bee4d8f131fcdb93",
            "08d896d552d74e9da1a2cf578be05f31",
            "19ec81d8f53f495ea362eb0e6f94db52",
            "426f7763d9f6447eaba662f8314e63ac",
            "baac7418eafc404cae6d42467063164e",
            "53df2c0c5c3746dfae0b2c61a9f01eea",
            "e8878409619848a4abe299c2c8e1b8e8",
            "14f867e7672a48cf830fbcb3280f2f7c",
            "b55057d2661e4a738b8fb2efd4fa295d",
            "2d2b1633b5b04f7c8017741e79d0d046",
            "0eada48d0eef4da99686355efe9d32bc",
            "b78f10ac575f4d15a412b38f603d24be",
            "b4941c61b6454d5bbe656eec0eab04ef",
            "9c8e88c9fc5645ddb2c3dc18cb13a1c0",
            "bb2b0b4fb51643069e3a2a935bf88898",
            "e70fedddc3ca4f50b390088d396936c7",
            "34eccc0273324437b55deb9cb65a8637",
            "e01e170d55be496ea2831206624b3d01",
            "749cee6d915846169913a511b9154fd8",
            "49213565dc8c4420bd6984abc35f29ad",
            "5fb6873ae5ff42abbfec087ce82cd953",
            "ea082a4f04b440cdbf881e12566d0358",
            "6eb889ca55784d69a8e6596a9fe4588f",
            "2d99dda1503f4fc78bc4db69a1acfc31",
            "039d69bb70c041e7a0a7075e5b68a728",
            "a9df0409ddc94a7b8b2cf7c5cad9b3b5",
            "e521bb2e0a4c4935b0681ccd3eb55690",
            "df0bfaaea48d47abb142e5f626c77db5",
            "89b6c66be9d44a4a974c2615b6ce893f",
            "58ba530536b141c0900d69ebb70b1019",
            "62958aaa3a4b489393ba61dca2ccd220",
            "62d91c3621704de78e4b945f7c9a3d7a",
            "deb3e93c8eaa44c5b5564c0df4fb9564",
            "f45004a065af489f9064b332929dc960",
            "e92927eee28c4256ae2dc266b109b92a",
            "aef807135150490d8f3eda117d37418b",
            "650d5e98e91f4d448557b14887d8e450"
          ]
        },
        "id": "07c28a59-de5d-486a-bea3-56c6fe5694b7",
        "outputId": "c43c475f-9385-424e-ec8f-8940ec589019"
      },
      "outputs": [
        {
          "name": "stderr",
          "output_type": "stream",
          "text": [
            "/usr/local/lib/python3.10/dist-packages/huggingface_hub/utils/_token.py:89: UserWarning: \n",
            "The secret `HF_TOKEN` does not exist in your Colab secrets.\n",
            "To authenticate with the Hugging Face Hub, create a token in your settings tab (https://huggingface.co/settings/tokens), set it as secret in your Google Colab and restart your session.\n",
            "You will be able to reuse this secret in all of your notebooks.\n",
            "Please note that authentication is recommended but still optional to access public models or datasets.\n",
            "  warnings.warn(\n"
          ]
        },
        {
          "data": {
            "application/vnd.jupyter.widget-view+json": {
              "model_id": "8b3b6f43cbf84180a865766d16a62350",
              "version_major": 2,
              "version_minor": 0
            },
            "text/plain": [
              "vocab.json:   0%|          | 0.00/899k [00:00<?, ?B/s]"
            ]
          },
          "metadata": {},
          "output_type": "display_data"
        },
        {
          "data": {
            "application/vnd.jupyter.widget-view+json": {
              "model_id": "5c4bdff55be0401e98a397d1af289740",
              "version_major": 2,
              "version_minor": 0
            },
            "text/plain": [
              "merges.txt:   0%|          | 0.00/456k [00:00<?, ?B/s]"
            ]
          },
          "metadata": {},
          "output_type": "display_data"
        },
        {
          "data": {
            "application/vnd.jupyter.widget-view+json": {
              "model_id": "f36baaa8b48c4c569a47daebf5e2e799",
              "version_major": 2,
              "version_minor": 0
            },
            "text/plain": [
              "tokenizer.json:   0%|          | 0.00/1.36M [00:00<?, ?B/s]"
            ]
          },
          "metadata": {},
          "output_type": "display_data"
        },
        {
          "data": {
            "application/vnd.jupyter.widget-view+json": {
              "model_id": "baac7418eafc404cae6d42467063164e",
              "version_major": 2,
              "version_minor": 0
            },
            "text/plain": [
              "config.json:   0%|          | 0.00/1.58k [00:00<?, ?B/s]"
            ]
          },
          "metadata": {},
          "output_type": "display_data"
        },
        {
          "data": {
            "application/vnd.jupyter.widget-view+json": {
              "model_id": "e70fedddc3ca4f50b390088d396936c7",
              "version_major": 2,
              "version_minor": 0
            },
            "text/plain": [
              "model.safetensors:   0%|          | 0.00/1.63G [00:00<?, ?B/s]"
            ]
          },
          "metadata": {},
          "output_type": "display_data"
        },
        {
          "data": {
            "application/vnd.jupyter.widget-view+json": {
              "model_id": "e521bb2e0a4c4935b0681ccd3eb55690",
              "version_major": 2,
              "version_minor": 0
            },
            "text/plain": [
              "generation_config.json:   0%|          | 0.00/363 [00:00<?, ?B/s]"
            ]
          },
          "metadata": {},
          "output_type": "display_data"
        }
      ],
      "source": [
        "# Load pre-trained BART model and tokenizer, move model to GPU if available\n",
        "device = 'cuda' if torch.cuda.is_available() else 'cpu'\n",
        "\n",
        "# Load pre-trained BART model and tokenizer\n",
        "tokenizer = BartTokenizer.from_pretrained('facebook/bart-large-cnn',\n",
        "                                          clean_up_tokenization_spaces=True)\n",
        "model = BartForConditionalGeneration.from_pretrained(\n",
        "    'facebook/bart-large-cnn').to(device)"
      ]
    },
    {
      "cell_type": "code",
      "execution_count": null,
      "id": "db5843e0-f8b3-4e4a-98f3-b51db1c2dbf1",
      "metadata": {
        "id": "db5843e0-f8b3-4e4a-98f3-b51db1c2dbf1"
      },
      "outputs": [],
      "source": [
        "# Load dataset from csv file from drive for google colab\n",
        "file_path = 'drive/MyDrive/cleaned_book_summary.csv'\n",
        "data = pd.read_csv(file_path, sep='\\t', encoding='utf-8')"
      ]
    },
    {
      "cell_type": "code",
      "execution_count": null,
      "id": "ef9f3cad-a661-4fba-a44d-9c9b3c88589f",
      "metadata": {
        "id": "ef9f3cad-a661-4fba-a44d-9c9b3c88589f"
      },
      "outputs": [],
      "source": [
        "# # Load dataset from local csv file\n",
        "# data = pd.read_csv('cleaned_book_summary.csv', sep='\\t', encoding='utf-8')"
      ]
    },
    {
      "cell_type": "code",
      "execution_count": null,
      "id": "b855d984-bea8-430f-bf59-65e3fe65ebb2",
      "metadata": {
        "id": "b855d984-bea8-430f-bf59-65e3fe65ebb2"
      },
      "outputs": [],
      "source": [
        "def summarize_batch(texts, max_input_length=1024, max_output_length=100, num_beams=2, device='cpu'):\n",
        "    \"\"\"\n",
        "    Summarizes a batch of input texts using the BART model.\n",
        "\n",
        "    Args:\n",
        "    texts (list of str): List of original texts to be summarized.\n",
        "    max_input_length (int): Maximum number of tokens in the input text.\n",
        "    max_output_length (int): Maximum number of tokens in the summarized text.\n",
        "    num_beams (int): Number of beams for beam search.\n",
        "    device (str): Device to run the model on ('cpu' or 'cuda').\n",
        "\n",
        "    Returns:\n",
        "    list of str: List of summarized texts.\n",
        "    \"\"\"\n",
        "    # Tokenize and truncate the input to the max input length (batch processing)\n",
        "    inputs = tokenizer(texts, return_tensors=\"pt\", max_length=max_input_length, truncation=True, padding=True).to(device)\n",
        "\n",
        "    # Generate the summary for the batch\n",
        "    summary_ids = model.generate(\n",
        "        inputs[\"input_ids\"],\n",
        "        num_beams=num_beams,  # Beam search for diversity\n",
        "        max_length=max_output_length,  # Limit the length of the output summary\n",
        "        early_stopping=True  # Stop when the model is confident in its answer\n",
        "    )\n",
        "\n",
        "    # Decode the generated tokens into a string (summary)\n",
        "    return [tokenizer.decode(g, skip_special_tokens=True, clean_up_tokenization_spaces=True) for g in summary_ids]\n"
      ]
    },
    {
      "cell_type": "code",
      "execution_count": null,
      "id": "SqrtxPgzc8K3",
      "metadata": {
        "colab": {
          "base_uri": "https://localhost:8080/"
        },
        "id": "SqrtxPgzc8K3",
        "outputId": "5c9d8efa-6b8b-4b3f-ff57-9537bbd2706d"
      },
      "outputs": [
        {
          "name": "stdout",
          "output_type": "stream",
          "text": [
            "Cleaned Summary lenght: 531\n",
            "Summarized Text lenght: 72\n",
            "Summarized Text: old major old boar manor farm calls animals farm meeting compares humans parasites teaches animals revolutionary song beasts england major dies two young pigs snowball napoleon assume command turn dream philosophy animals revolt drive drunken irresponsible mr jones farm renaming animal farm adopt seven commandments animalism important animals equal snowball attempts teach animals reading writing food plentiful farm runs smoothly pigs elevate positions leadership set aside special food items ostensibly personal health.\n"
          ]
        }
      ],
      "source": [
        "# Example usage on a single text summary\n",
        "sample_text = data.loc[0, 'Cleaned Summary']\n",
        "short_summary = summarize_batch([sample_text], device=device)[0]\n",
        "print(\"Cleaned Summary lenght:\", len(sample_text.split()))\n",
        "print(\"Summarized Text lenght:\", len(short_summary.split()))\n",
        "print(\"Summarized Text:\", short_summary)"
      ]
    },
    {
      "cell_type": "code",
      "execution_count": null,
      "id": "e0ae138b-5a4b-4120-8ab4-500bb81beac3",
      "metadata": {
        "colab": {
          "base_uri": "https://localhost:8080/"
        },
        "id": "e0ae138b-5a4b-4120-8ab4-500bb81beac3",
        "outputId": "91d70f52-5208-4614-fc04-22426438831d"
      },
      "outputs": [
        {
          "name": "stdout",
          "output_type": "stream",
          "text": [
            "ROUGE-1:  Score(precision=1.0, recall=0.13559322033898305, fmeasure=0.23880597014925373)\n",
            "ROUGE-2:  Score(precision=1.0, recall=0.1339622641509434, fmeasure=0.2362728785357737)\n",
            "ROUGE-L:  Score(precision=1.0, recall=0.13559322033898305, fmeasure=0.23880597014925373)\n"
          ]
        }
      ],
      "source": [
        "# Check for accuracy of the model with sample text\n",
        "from rouge_score import rouge_scorer\n",
        "\n",
        "# Define the original text and summarized text\n",
        "# we use sample_text as original_text and short_summary as summarized text\n",
        "\n",
        "# Initialize ROUGE scorer\n",
        "scorer = rouge_scorer.RougeScorer(['rouge1', 'rouge2', 'rougeL'], use_stemmer=True)\n",
        "\n",
        "# Compute ROUGE scores\n",
        "scores = scorer.score(sample_text, short_summary)\n",
        "\n",
        "# Print ROUGE scores\n",
        "print(\"ROUGE-1: \", scores['rouge1'])\n",
        "print(\"ROUGE-2: \", scores['rouge2'])\n",
        "print(\"ROUGE-L: \", scores['rougeL'])\n"
      ]
    },
    {
      "cell_type": "markdown",
      "id": "16ab9ffa-f6a0-428f-833a-8c71b00aae04",
      "metadata": {
        "id": "16ab9ffa-f6a0-428f-833a-8c71b00aae04"
      },
      "source": [
        "The ROUGE scores you've obtained provide valuable insight into the performance of your summarization model. Here's a breakdown of the results:\n",
        "\n",
        "### **ROUGE-1:**\n",
        "- **Precision = 1.0**: This indicates that 100% of the unigrams (individual words) in the summary are found in the original text. In other words, all the words in the summary are present in the original.\n",
        "- **Recall = 0.136 (approx)**: Only about 13.6% of the unigrams from the original text are included in the summary, meaning the summary is quite condensed.\n",
        "- **F1-Score = 0.239 (approx)**: This score represents the harmonic mean between precision and recall, balancing both metrics. While precision is perfect, the relatively low recall pulls the F1-score down.\n",
        "\n",
        "### **ROUGE-2:**\n",
        "- **Precision = 1.0**: All the bigrams (pairs of consecutive words) in the summary appear in the original text.\n",
        "- **Recall = 0.134 (approx)**: Only about 13.4% of the bigrams from the original text are present in the summary, indicating that the bigram coverage of the original content is limited.\n",
        "- **F1-Score = 0.236 (approx)**: This score reflects the balance between precision and recall for bigrams. Similar to ROUGE-1, the perfect precision is offset by low recall.\n",
        "\n",
        "### **ROUGE-L:**\n",
        "- **Precision = 1.0**: All of the longest common subsequences (chunks of text that maintain word order) in the summary are present in the original text.\n",
        "- **Recall = 0.136 (approx)**: About 13.6% of the original text's sequences are included in the summary, again showing that the summary is highly condensed.\n",
        "- **F1-Score = 0.239 (approx)**: This score balances precision and recall for subsequences, similar to the unigrams and bigrams.\n",
        "\n",
        "### **Interpretation:**\n",
        "- **Perfect precision (1.0)**: All of the words, bigrams, and sequences in the summary are taken directly from the original text. This means the summary is highly faithful to the original in terms of word choice and order.\n",
        "- **Low recall (~13.5%)**: The summary only includes a small portion of the original text, indicating a significant reduction in content. This could be because the summary is intentionally short.\n",
        "- **F1-scores (~0.239)**: The F1-scores reflect the balance between precision and recall. Since precision is perfect but recall is low, the F1-scores are relatively low.\n",
        "\n",
        "### **Summary of Findings:**\n",
        "- The summarization model generates summaries that are **very precise**, ensuring that the words and phrases used are accurately drawn from the original text.\n",
        "- However, the **low recall** suggests that the summaries omit a large portion of the original content, making them very condensed.\n",
        "- If your goal is to produce **short, concise summaries**, this level of condensation may be ideal. On the other hand, if you'd like to retain more of the original content, you may need to **increase the summary length** or adjust the model's parameters."
      ]
    },
    {
      "cell_type": "code",
      "execution_count": null,
      "id": "dc26990a-13c3-4226-8fc5-9332890de0c5",
      "metadata": {
        "id": "dc26990a-13c3-4226-8fc5-9332890de0c5"
      },
      "outputs": [],
      "source": [
        "def batch_summarization(df, batch_size=32, num_beams=2, device='cpu'):\n",
        "    \"\"\"\n",
        "    Summarizes the text in batches to manage memory and computation, leveraging GPU and batching.\n",
        "\n",
        "    Args:\n",
        "    df (DataFrame): The input DataFrame containing the 'Cleaned Summary' column.\n",
        "    batch_size (int): Number of rows to process in each batch.\n",
        "    num_beams (int): Number of beams for beam search.\n",
        "    device (str): Device to run the model on ('cpu' or 'cuda').\n",
        "\n",
        "    Returns:\n",
        "    DataFrame: The DataFrame with a new column 'Summarized_Text'.\n",
        "    \"\"\"\n",
        "    # Ensure the new column exists\n",
        "    df['Summarized_Text'] = \"\"\n",
        "\n",
        "    for i in tqdm(range(0, len(df), batch_size)):\n",
        "        batch_df = df.iloc[i:i+batch_size]\n",
        "        texts = batch_df['Cleaned Summary'].tolist()  # Extract the batch of texts\n",
        "        summaries = summarize_batch(texts, num_beams=num_beams, device=device)  # Summarize the batch\n",
        "        df.loc[batch_df.index, 'Summarized_Text'] = summaries  # Update the DataFrame with the summarized text\n",
        "\n",
        "        print(f\"Processed batch {i} to {i+batch_size}\")\n",
        "\n",
        "    return df"
      ]
    },
    {
      "cell_type": "code",
      "execution_count": null,
      "id": "62b2e1dc-397e-4b35-a9f2-cc1a605917e9",
      "metadata": {
        "colab": {
          "base_uri": "https://localhost:8080/"
        },
        "id": "62b2e1dc-397e-4b35-a9f2-cc1a605917e9",
        "outputId": "ef775878-e59e-41f2-8808-30a9b7fd67df"
      },
      "outputs": [
        {
          "name": "stderr",
          "output_type": "stream",
          "text": [
            "  0%|          | 1/488 [00:16<2:10:14, 16.05s/it]"
          ]
        },
        {
          "name": "stdout",
          "output_type": "stream",
          "text": [
            "Processed batch 0 to 32\n"
          ]
        },
        {
          "name": "stderr",
          "output_type": "stream",
          "text": [
            "\r\n",
            "  0%|          | 2/488 [00:30<2:01:38, 15.02s/it]"
          ]
        },
        {
          "name": "stdout",
          "output_type": "stream",
          "text": [
            "Processed batch 32 to 64\n"
          ]
        },
        {
          "name": "stderr",
          "output_type": "stream",
          "text": [
            "\r\n",
            "  1%|          | 3/488 [00:46<2:04:15, 15.37s/it]"
          ]
        },
        {
          "name": "stdout",
          "output_type": "stream",
          "text": [
            "Processed batch 64 to 96\n"
          ]
        },
        {
          "name": "stderr",
          "output_type": "stream",
          "text": [
            "\r\n",
            "  1%|          | 4/488 [01:02<2:06:46, 15.72s/it]"
          ]
        },
        {
          "name": "stdout",
          "output_type": "stream",
          "text": [
            "Processed batch 96 to 128\n"
          ]
        },
        {
          "name": "stderr",
          "output_type": "stream",
          "text": [
            "\r\n",
            "  1%|          | 5/488 [01:16<2:02:52, 15.26s/it]"
          ]
        },
        {
          "name": "stdout",
          "output_type": "stream",
          "text": [
            "Processed batch 128 to 160\n"
          ]
        },
        {
          "name": "stderr",
          "output_type": "stream",
          "text": [
            "\r\n",
            "  1%|          | 6/488 [01:30<1:57:46, 14.66s/it]"
          ]
        },
        {
          "name": "stdout",
          "output_type": "stream",
          "text": [
            "Processed batch 160 to 192\n"
          ]
        },
        {
          "name": "stderr",
          "output_type": "stream",
          "text": [
            "\r\n",
            "  1%|▏         | 7/488 [01:46<2:00:39, 15.05s/it]"
          ]
        },
        {
          "name": "stdout",
          "output_type": "stream",
          "text": [
            "Processed batch 192 to 224\n"
          ]
        },
        {
          "name": "stderr",
          "output_type": "stream",
          "text": [
            "\r\n",
            "  2%|▏         | 8/488 [02:00<1:59:33, 14.95s/it]"
          ]
        },
        {
          "name": "stdout",
          "output_type": "stream",
          "text": [
            "Processed batch 224 to 256\n"
          ]
        },
        {
          "name": "stderr",
          "output_type": "stream",
          "text": [
            "\r\n",
            "  2%|▏         | 9/488 [02:14<1:55:38, 14.48s/it]"
          ]
        },
        {
          "name": "stdout",
          "output_type": "stream",
          "text": [
            "Processed batch 256 to 288\n"
          ]
        },
        {
          "name": "stderr",
          "output_type": "stream",
          "text": [
            "\r\n",
            "  2%|▏         | 10/488 [02:29<1:56:18, 14.60s/it]"
          ]
        },
        {
          "name": "stdout",
          "output_type": "stream",
          "text": [
            "Processed batch 288 to 320\n"
          ]
        },
        {
          "name": "stderr",
          "output_type": "stream",
          "text": [
            "\r\n",
            "  2%|▏         | 11/488 [02:43<1:56:23, 14.64s/it]"
          ]
        },
        {
          "name": "stdout",
          "output_type": "stream",
          "text": [
            "Processed batch 320 to 352\n"
          ]
        },
        {
          "name": "stderr",
          "output_type": "stream",
          "text": [
            "\r\n",
            "  2%|▏         | 12/488 [02:57<1:53:10, 14.26s/it]"
          ]
        },
        {
          "name": "stdout",
          "output_type": "stream",
          "text": [
            "Processed batch 352 to 384\n"
          ]
        },
        {
          "name": "stderr",
          "output_type": "stream",
          "text": [
            "\r\n",
            "  3%|▎         | 13/488 [03:12<1:53:58, 14.40s/it]"
          ]
        },
        {
          "name": "stdout",
          "output_type": "stream",
          "text": [
            "Processed batch 384 to 416\n"
          ]
        },
        {
          "name": "stderr",
          "output_type": "stream",
          "text": [
            "\r\n",
            "  3%|▎         | 14/488 [03:23<1:47:30, 13.61s/it]"
          ]
        },
        {
          "name": "stdout",
          "output_type": "stream",
          "text": [
            "Processed batch 416 to 448\n"
          ]
        },
        {
          "name": "stderr",
          "output_type": "stream",
          "text": [
            "\r\n",
            "  3%|▎         | 15/488 [03:37<1:48:16, 13.74s/it]"
          ]
        },
        {
          "name": "stdout",
          "output_type": "stream",
          "text": [
            "Processed batch 448 to 480\n"
          ]
        },
        {
          "name": "stderr",
          "output_type": "stream",
          "text": [
            "\r\n",
            "  3%|▎         | 16/488 [03:53<1:51:35, 14.19s/it]"
          ]
        },
        {
          "name": "stdout",
          "output_type": "stream",
          "text": [
            "Processed batch 480 to 512\n"
          ]
        },
        {
          "name": "stderr",
          "output_type": "stream",
          "text": [
            "\r\n",
            "  3%|▎         | 17/488 [04:07<1:52:31, 14.33s/it]"
          ]
        },
        {
          "name": "stdout",
          "output_type": "stream",
          "text": [
            "Processed batch 512 to 544\n"
          ]
        },
        {
          "name": "stderr",
          "output_type": "stream",
          "text": [
            "\r\n",
            "  4%|▎         | 18/488 [04:22<1:53:33, 14.50s/it]"
          ]
        },
        {
          "name": "stdout",
          "output_type": "stream",
          "text": [
            "Processed batch 544 to 576\n"
          ]
        },
        {
          "name": "stderr",
          "output_type": "stream",
          "text": [
            "\r\n",
            "  4%|▍         | 19/488 [04:35<1:50:11, 14.10s/it]"
          ]
        },
        {
          "name": "stdout",
          "output_type": "stream",
          "text": [
            "Processed batch 576 to 608\n"
          ]
        },
        {
          "name": "stderr",
          "output_type": "stream",
          "text": [
            "\r\n",
            "  4%|▍         | 20/488 [04:49<1:48:59, 13.97s/it]"
          ]
        },
        {
          "name": "stdout",
          "output_type": "stream",
          "text": [
            "Processed batch 608 to 640\n"
          ]
        },
        {
          "name": "stderr",
          "output_type": "stream",
          "text": [
            "\r\n",
            "  4%|▍         | 21/488 [05:04<1:51:03, 14.27s/it]"
          ]
        },
        {
          "name": "stdout",
          "output_type": "stream",
          "text": [
            "Processed batch 640 to 672\n"
          ]
        },
        {
          "name": "stderr",
          "output_type": "stream",
          "text": [
            "\r\n",
            "  5%|▍         | 22/488 [05:18<1:49:05, 14.05s/it]"
          ]
        },
        {
          "name": "stdout",
          "output_type": "stream",
          "text": [
            "Processed batch 672 to 704\n"
          ]
        },
        {
          "name": "stderr",
          "output_type": "stream",
          "text": [
            "\r\n",
            "  5%|▍         | 23/488 [05:33<1:51:11, 14.35s/it]"
          ]
        },
        {
          "name": "stdout",
          "output_type": "stream",
          "text": [
            "Processed batch 704 to 736\n"
          ]
        },
        {
          "name": "stderr",
          "output_type": "stream",
          "text": [
            "\r\n",
            "  5%|▍         | 24/488 [05:46<1:49:55, 14.21s/it]"
          ]
        },
        {
          "name": "stdout",
          "output_type": "stream",
          "text": [
            "Processed batch 736 to 768\n"
          ]
        },
        {
          "name": "stderr",
          "output_type": "stream",
          "text": [
            "\r\n",
            "  5%|▌         | 25/488 [06:01<1:51:24, 14.44s/it]"
          ]
        },
        {
          "name": "stdout",
          "output_type": "stream",
          "text": [
            "Processed batch 768 to 800\n"
          ]
        },
        {
          "name": "stderr",
          "output_type": "stream",
          "text": [
            "\r\n",
            "  5%|▌         | 26/488 [06:15<1:48:31, 14.09s/it]"
          ]
        },
        {
          "name": "stdout",
          "output_type": "stream",
          "text": [
            "Processed batch 800 to 832\n"
          ]
        },
        {
          "name": "stderr",
          "output_type": "stream",
          "text": [
            "\r\n",
            "  6%|▌         | 27/488 [06:29<1:47:39, 14.01s/it]"
          ]
        },
        {
          "name": "stdout",
          "output_type": "stream",
          "text": [
            "Processed batch 832 to 864\n"
          ]
        },
        {
          "name": "stderr",
          "output_type": "stream",
          "text": [
            "\r\n",
            "  6%|▌         | 28/488 [06:42<1:46:34, 13.90s/it]"
          ]
        },
        {
          "name": "stdout",
          "output_type": "stream",
          "text": [
            "Processed batch 864 to 896\n"
          ]
        },
        {
          "name": "stderr",
          "output_type": "stream",
          "text": [
            "\r\n",
            "  6%|▌         | 29/488 [06:56<1:46:58, 13.98s/it]"
          ]
        },
        {
          "name": "stdout",
          "output_type": "stream",
          "text": [
            "Processed batch 896 to 928\n"
          ]
        },
        {
          "name": "stderr",
          "output_type": "stream",
          "text": [
            "\r\n",
            "  6%|▌         | 30/488 [07:11<1:47:20, 14.06s/it]"
          ]
        },
        {
          "name": "stdout",
          "output_type": "stream",
          "text": [
            "Processed batch 928 to 960\n"
          ]
        },
        {
          "name": "stderr",
          "output_type": "stream",
          "text": [
            "\r\n",
            "  6%|▋         | 31/488 [07:25<1:46:43, 14.01s/it]"
          ]
        },
        {
          "name": "stdout",
          "output_type": "stream",
          "text": [
            "Processed batch 960 to 992\n"
          ]
        },
        {
          "name": "stderr",
          "output_type": "stream",
          "text": [
            "\r\n",
            "  7%|▋         | 32/488 [07:39<1:47:22, 14.13s/it]"
          ]
        },
        {
          "name": "stdout",
          "output_type": "stream",
          "text": [
            "Processed batch 992 to 1024\n"
          ]
        },
        {
          "name": "stderr",
          "output_type": "stream",
          "text": [
            "\r\n",
            "  7%|▋         | 33/488 [07:54<1:48:52, 14.36s/it]"
          ]
        },
        {
          "name": "stdout",
          "output_type": "stream",
          "text": [
            "Processed batch 1024 to 1056\n"
          ]
        },
        {
          "name": "stderr",
          "output_type": "stream",
          "text": [
            "\r\n",
            "  7%|▋         | 34/488 [08:06<1:42:38, 13.56s/it]"
          ]
        },
        {
          "name": "stdout",
          "output_type": "stream",
          "text": [
            "Processed batch 1056 to 1088\n"
          ]
        },
        {
          "name": "stderr",
          "output_type": "stream",
          "text": [
            "\r\n",
            "  7%|▋         | 35/488 [08:21<1:47:48, 14.28s/it]"
          ]
        },
        {
          "name": "stdout",
          "output_type": "stream",
          "text": [
            "Processed batch 1088 to 1120\n"
          ]
        },
        {
          "name": "stderr",
          "output_type": "stream",
          "text": [
            "\r\n",
            "  7%|▋         | 36/488 [08:36<1:48:56, 14.46s/it]"
          ]
        },
        {
          "name": "stdout",
          "output_type": "stream",
          "text": [
            "Processed batch 1120 to 1152\n"
          ]
        },
        {
          "name": "stderr",
          "output_type": "stream",
          "text": [
            "\r\n",
            "  8%|▊         | 37/488 [08:51<1:49:38, 14.59s/it]"
          ]
        },
        {
          "name": "stdout",
          "output_type": "stream",
          "text": [
            "Processed batch 1152 to 1184\n"
          ]
        },
        {
          "name": "stderr",
          "output_type": "stream",
          "text": [
            "\r\n",
            "  8%|▊         | 38/488 [09:07<1:51:14, 14.83s/it]"
          ]
        },
        {
          "name": "stdout",
          "output_type": "stream",
          "text": [
            "Processed batch 1184 to 1216\n"
          ]
        },
        {
          "name": "stderr",
          "output_type": "stream",
          "text": [
            "\r\n",
            "  8%|▊         | 39/488 [09:20<1:47:13, 14.33s/it]"
          ]
        },
        {
          "name": "stdout",
          "output_type": "stream",
          "text": [
            "Processed batch 1216 to 1248\n"
          ]
        },
        {
          "name": "stderr",
          "output_type": "stream",
          "text": [
            "\r\n",
            "  8%|▊         | 40/488 [09:33<1:45:10, 14.09s/it]"
          ]
        },
        {
          "name": "stdout",
          "output_type": "stream",
          "text": [
            "Processed batch 1248 to 1280\n"
          ]
        },
        {
          "name": "stderr",
          "output_type": "stream",
          "text": [
            "\r\n",
            "  8%|▊         | 41/488 [09:47<1:44:49, 14.07s/it]"
          ]
        },
        {
          "name": "stdout",
          "output_type": "stream",
          "text": [
            "Processed batch 1280 to 1312\n"
          ]
        },
        {
          "name": "stderr",
          "output_type": "stream",
          "text": [
            "\r\n",
            "  9%|▊         | 42/488 [10:01<1:43:33, 13.93s/it]"
          ]
        },
        {
          "name": "stdout",
          "output_type": "stream",
          "text": [
            "Processed batch 1312 to 1344\n"
          ]
        },
        {
          "name": "stderr",
          "output_type": "stream",
          "text": [
            "\r\n",
            "  9%|▉         | 43/488 [10:13<1:39:20, 13.40s/it]"
          ]
        },
        {
          "name": "stdout",
          "output_type": "stream",
          "text": [
            "Processed batch 1344 to 1376\n"
          ]
        },
        {
          "name": "stderr",
          "output_type": "stream",
          "text": [
            "\r\n",
            "  9%|▉         | 44/488 [10:25<1:35:18, 12.88s/it]"
          ]
        },
        {
          "name": "stdout",
          "output_type": "stream",
          "text": [
            "Processed batch 1376 to 1408\n"
          ]
        },
        {
          "name": "stderr",
          "output_type": "stream",
          "text": [
            "\r\n",
            "  9%|▉         | 45/488 [10:38<1:34:55, 12.86s/it]"
          ]
        },
        {
          "name": "stdout",
          "output_type": "stream",
          "text": [
            "Processed batch 1408 to 1440\n"
          ]
        },
        {
          "name": "stderr",
          "output_type": "stream",
          "text": [
            "\r\n",
            "  9%|▉         | 46/488 [10:52<1:37:29, 13.23s/it]"
          ]
        },
        {
          "name": "stdout",
          "output_type": "stream",
          "text": [
            "Processed batch 1440 to 1472\n"
          ]
        },
        {
          "name": "stderr",
          "output_type": "stream",
          "text": [
            "\r\n",
            " 10%|▉         | 47/488 [11:06<1:39:32, 13.54s/it]"
          ]
        },
        {
          "name": "stdout",
          "output_type": "stream",
          "text": [
            "Processed batch 1472 to 1504\n"
          ]
        },
        {
          "name": "stderr",
          "output_type": "stream",
          "text": [
            "\r\n",
            " 10%|▉         | 48/488 [11:20<1:40:02, 13.64s/it]"
          ]
        },
        {
          "name": "stdout",
          "output_type": "stream",
          "text": [
            "Processed batch 1504 to 1536\n"
          ]
        },
        {
          "name": "stderr",
          "output_type": "stream",
          "text": [
            "\r\n",
            " 10%|█         | 49/488 [11:36<1:44:34, 14.29s/it]"
          ]
        },
        {
          "name": "stdout",
          "output_type": "stream",
          "text": [
            "Processed batch 1536 to 1568\n"
          ]
        },
        {
          "name": "stderr",
          "output_type": "stream",
          "text": [
            "\r\n",
            " 10%|█         | 50/488 [11:49<1:42:42, 14.07s/it]"
          ]
        },
        {
          "name": "stdout",
          "output_type": "stream",
          "text": [
            "Processed batch 1568 to 1600\n"
          ]
        },
        {
          "name": "stderr",
          "output_type": "stream",
          "text": [
            "\r\n",
            " 10%|█         | 51/488 [12:03<1:42:42, 14.10s/it]"
          ]
        },
        {
          "name": "stdout",
          "output_type": "stream",
          "text": [
            "Processed batch 1600 to 1632\n"
          ]
        },
        {
          "name": "stderr",
          "output_type": "stream",
          "text": [
            "\r\n",
            " 11%|█         | 52/488 [12:15<1:38:03, 13.49s/it]"
          ]
        },
        {
          "name": "stdout",
          "output_type": "stream",
          "text": [
            "Processed batch 1632 to 1664\n"
          ]
        },
        {
          "name": "stderr",
          "output_type": "stream",
          "text": [
            "\r\n",
            " 11%|█         | 53/488 [12:30<1:39:27, 13.72s/it]"
          ]
        },
        {
          "name": "stdout",
          "output_type": "stream",
          "text": [
            "Processed batch 1664 to 1696\n"
          ]
        },
        {
          "name": "stderr",
          "output_type": "stream",
          "text": [
            "\r\n",
            " 11%|█         | 54/488 [12:44<1:40:29, 13.89s/it]"
          ]
        },
        {
          "name": "stdout",
          "output_type": "stream",
          "text": [
            "Processed batch 1696 to 1728\n"
          ]
        },
        {
          "name": "stderr",
          "output_type": "stream",
          "text": [
            "\r\n",
            " 11%|█▏        | 55/488 [12:57<1:38:46, 13.69s/it]"
          ]
        },
        {
          "name": "stdout",
          "output_type": "stream",
          "text": [
            "Processed batch 1728 to 1760\n"
          ]
        },
        {
          "name": "stderr",
          "output_type": "stream",
          "text": [
            "\r\n",
            " 11%|█▏        | 56/488 [13:11<1:39:49, 13.87s/it]"
          ]
        },
        {
          "name": "stdout",
          "output_type": "stream",
          "text": [
            "Processed batch 1760 to 1792\n"
          ]
        },
        {
          "name": "stderr",
          "output_type": "stream",
          "text": [
            "\r\n",
            " 12%|█▏        | 57/488 [13:24<1:36:44, 13.47s/it]"
          ]
        },
        {
          "name": "stdout",
          "output_type": "stream",
          "text": [
            "Processed batch 1792 to 1824\n"
          ]
        },
        {
          "name": "stderr",
          "output_type": "stream",
          "text": [
            "\r\n",
            " 12%|█▏        | 58/488 [13:39<1:39:20, 13.86s/it]"
          ]
        },
        {
          "name": "stdout",
          "output_type": "stream",
          "text": [
            "Processed batch 1824 to 1856\n"
          ]
        },
        {
          "name": "stderr",
          "output_type": "stream",
          "text": [
            "\r\n",
            " 12%|█▏        | 59/488 [13:53<1:39:59, 13.98s/it]"
          ]
        },
        {
          "name": "stdout",
          "output_type": "stream",
          "text": [
            "Processed batch 1856 to 1888\n"
          ]
        },
        {
          "name": "stderr",
          "output_type": "stream",
          "text": [
            "\r\n",
            " 12%|█▏        | 60/488 [14:04<1:33:52, 13.16s/it]"
          ]
        },
        {
          "name": "stdout",
          "output_type": "stream",
          "text": [
            "Processed batch 1888 to 1920\n"
          ]
        },
        {
          "name": "stderr",
          "output_type": "stream",
          "text": [
            "\r\n",
            " 12%|█▎        | 61/488 [14:18<1:34:29, 13.28s/it]"
          ]
        },
        {
          "name": "stdout",
          "output_type": "stream",
          "text": [
            "Processed batch 1920 to 1952\n"
          ]
        },
        {
          "name": "stderr",
          "output_type": "stream",
          "text": [
            "\r\n",
            " 13%|█▎        | 62/488 [14:31<1:34:22, 13.29s/it]"
          ]
        },
        {
          "name": "stdout",
          "output_type": "stream",
          "text": [
            "Processed batch 1952 to 1984\n"
          ]
        },
        {
          "name": "stderr",
          "output_type": "stream",
          "text": [
            "\r\n",
            " 13%|█▎        | 63/488 [14:44<1:32:53, 13.11s/it]"
          ]
        },
        {
          "name": "stdout",
          "output_type": "stream",
          "text": [
            "Processed batch 1984 to 2016\n"
          ]
        },
        {
          "name": "stderr",
          "output_type": "stream",
          "text": [
            "\r\n",
            " 13%|█▎        | 64/488 [14:58<1:34:59, 13.44s/it]"
          ]
        },
        {
          "name": "stdout",
          "output_type": "stream",
          "text": [
            "Processed batch 2016 to 2048\n"
          ]
        },
        {
          "name": "stderr",
          "output_type": "stream",
          "text": [
            "\r\n",
            " 13%|█▎        | 65/488 [15:13<1:38:49, 14.02s/it]"
          ]
        },
        {
          "name": "stdout",
          "output_type": "stream",
          "text": [
            "Processed batch 2048 to 2080\n"
          ]
        },
        {
          "name": "stderr",
          "output_type": "stream",
          "text": [
            "\r\n",
            " 14%|█▎        | 66/488 [15:26<1:34:49, 13.48s/it]"
          ]
        },
        {
          "name": "stdout",
          "output_type": "stream",
          "text": [
            "Processed batch 2080 to 2112\n"
          ]
        },
        {
          "name": "stderr",
          "output_type": "stream",
          "text": [
            "\r\n",
            " 14%|█▎        | 67/488 [15:40<1:36:45, 13.79s/it]"
          ]
        },
        {
          "name": "stdout",
          "output_type": "stream",
          "text": [
            "Processed batch 2112 to 2144\n"
          ]
        },
        {
          "name": "stderr",
          "output_type": "stream",
          "text": [
            "\r\n",
            " 14%|█▍        | 68/488 [15:55<1:39:30, 14.22s/it]"
          ]
        },
        {
          "name": "stdout",
          "output_type": "stream",
          "text": [
            "Processed batch 2144 to 2176\n"
          ]
        },
        {
          "name": "stderr",
          "output_type": "stream",
          "text": [
            "\r\n",
            " 14%|█▍        | 69/488 [16:08<1:36:25, 13.81s/it]"
          ]
        },
        {
          "name": "stdout",
          "output_type": "stream",
          "text": [
            "Processed batch 2176 to 2208\n"
          ]
        },
        {
          "name": "stderr",
          "output_type": "stream",
          "text": [
            "\r\n",
            " 14%|█▍        | 70/488 [16:23<1:38:54, 14.20s/it]"
          ]
        },
        {
          "name": "stdout",
          "output_type": "stream",
          "text": [
            "Processed batch 2208 to 2240\n"
          ]
        },
        {
          "name": "stderr",
          "output_type": "stream",
          "text": [
            "\r\n",
            " 15%|█▍        | 71/488 [16:37<1:38:23, 14.16s/it]"
          ]
        },
        {
          "name": "stdout",
          "output_type": "stream",
          "text": [
            "Processed batch 2240 to 2272\n"
          ]
        },
        {
          "name": "stderr",
          "output_type": "stream",
          "text": [
            "\r\n",
            " 15%|█▍        | 72/488 [16:49<1:32:06, 13.28s/it]"
          ]
        },
        {
          "name": "stdout",
          "output_type": "stream",
          "text": [
            "Processed batch 2272 to 2304\n"
          ]
        },
        {
          "name": "stderr",
          "output_type": "stream",
          "text": [
            "\r\n",
            " 15%|█▍        | 73/488 [17:03<1:33:48, 13.56s/it]"
          ]
        },
        {
          "name": "stdout",
          "output_type": "stream",
          "text": [
            "Processed batch 2304 to 2336\n"
          ]
        },
        {
          "name": "stderr",
          "output_type": "stream",
          "text": [
            "\r\n",
            " 15%|█▌        | 74/488 [17:14<1:29:07, 12.92s/it]"
          ]
        },
        {
          "name": "stdout",
          "output_type": "stream",
          "text": [
            "Processed batch 2336 to 2368\n"
          ]
        },
        {
          "name": "stderr",
          "output_type": "stream",
          "text": [
            "\r\n",
            " 15%|█▌        | 75/488 [17:28<1:29:43, 13.04s/it]"
          ]
        },
        {
          "name": "stdout",
          "output_type": "stream",
          "text": [
            "Processed batch 2368 to 2400\n"
          ]
        },
        {
          "name": "stderr",
          "output_type": "stream",
          "text": [
            "\r\n",
            " 16%|█▌        | 76/488 [17:41<1:31:19, 13.30s/it]"
          ]
        },
        {
          "name": "stdout",
          "output_type": "stream",
          "text": [
            "Processed batch 2400 to 2432\n"
          ]
        },
        {
          "name": "stderr",
          "output_type": "stream",
          "text": [
            "\r\n",
            " 16%|█▌        | 77/488 [17:55<1:32:22, 13.49s/it]"
          ]
        },
        {
          "name": "stdout",
          "output_type": "stream",
          "text": [
            "Processed batch 2432 to 2464\n"
          ]
        },
        {
          "name": "stderr",
          "output_type": "stream",
          "text": [
            "\r\n",
            " 16%|█▌        | 78/488 [18:09<1:32:02, 13.47s/it]"
          ]
        },
        {
          "name": "stdout",
          "output_type": "stream",
          "text": [
            "Processed batch 2464 to 2496\n"
          ]
        },
        {
          "name": "stderr",
          "output_type": "stream",
          "text": [
            "\r\n",
            " 16%|█▌        | 79/488 [18:25<1:36:50, 14.21s/it]"
          ]
        },
        {
          "name": "stdout",
          "output_type": "stream",
          "text": [
            "Processed batch 2496 to 2528\n"
          ]
        },
        {
          "name": "stderr",
          "output_type": "stream",
          "text": [
            "\r\n",
            " 16%|█▋        | 80/488 [18:40<1:38:25, 14.47s/it]"
          ]
        },
        {
          "name": "stdout",
          "output_type": "stream",
          "text": [
            "Processed batch 2528 to 2560\n"
          ]
        },
        {
          "name": "stderr",
          "output_type": "stream",
          "text": [
            "\r\n",
            " 17%|█▋        | 81/488 [18:51<1:31:28, 13.48s/it]"
          ]
        },
        {
          "name": "stdout",
          "output_type": "stream",
          "text": [
            "Processed batch 2560 to 2592\n"
          ]
        },
        {
          "name": "stderr",
          "output_type": "stream",
          "text": [
            "\r\n",
            " 17%|█▋        | 82/488 [19:06<1:34:40, 13.99s/it]"
          ]
        },
        {
          "name": "stdout",
          "output_type": "stream",
          "text": [
            "Processed batch 2592 to 2624\n"
          ]
        },
        {
          "name": "stderr",
          "output_type": "stream",
          "text": [
            "\r\n",
            " 17%|█▋        | 83/488 [19:18<1:28:59, 13.18s/it]"
          ]
        },
        {
          "name": "stdout",
          "output_type": "stream",
          "text": [
            "Processed batch 2624 to 2656\n"
          ]
        },
        {
          "name": "stderr",
          "output_type": "stream",
          "text": [
            "\r\n",
            " 17%|█▋        | 84/488 [19:30<1:27:19, 12.97s/it]"
          ]
        },
        {
          "name": "stdout",
          "output_type": "stream",
          "text": [
            "Processed batch 2656 to 2688\n"
          ]
        },
        {
          "name": "stderr",
          "output_type": "stream",
          "text": [
            "\r\n",
            " 17%|█▋        | 85/488 [19:43<1:26:36, 12.89s/it]"
          ]
        },
        {
          "name": "stdout",
          "output_type": "stream",
          "text": [
            "Processed batch 2688 to 2720\n"
          ]
        },
        {
          "name": "stderr",
          "output_type": "stream",
          "text": [
            "\r\n",
            " 18%|█▊        | 86/488 [19:55<1:24:23, 12.60s/it]"
          ]
        },
        {
          "name": "stdout",
          "output_type": "stream",
          "text": [
            "Processed batch 2720 to 2752\n"
          ]
        },
        {
          "name": "stderr",
          "output_type": "stream",
          "text": [
            "\r\n",
            " 18%|█▊        | 87/488 [20:07<1:23:51, 12.55s/it]"
          ]
        },
        {
          "name": "stdout",
          "output_type": "stream",
          "text": [
            "Processed batch 2752 to 2784\n"
          ]
        },
        {
          "name": "stderr",
          "output_type": "stream",
          "text": [
            "\r\n",
            " 18%|█▊        | 88/488 [20:20<1:24:49, 12.72s/it]"
          ]
        },
        {
          "name": "stdout",
          "output_type": "stream",
          "text": [
            "Processed batch 2784 to 2816\n"
          ]
        },
        {
          "name": "stderr",
          "output_type": "stream",
          "text": [
            "\r\n",
            " 18%|█▊        | 89/488 [20:34<1:27:07, 13.10s/it]"
          ]
        },
        {
          "name": "stdout",
          "output_type": "stream",
          "text": [
            "Processed batch 2816 to 2848\n"
          ]
        },
        {
          "name": "stderr",
          "output_type": "stream",
          "text": [
            "\r\n",
            " 18%|█▊        | 90/488 [20:46<1:24:08, 12.69s/it]"
          ]
        },
        {
          "name": "stdout",
          "output_type": "stream",
          "text": [
            "Processed batch 2848 to 2880\n"
          ]
        },
        {
          "name": "stderr",
          "output_type": "stream",
          "text": [
            "\r\n",
            " 19%|█▊        | 91/488 [21:00<1:25:55, 12.99s/it]"
          ]
        },
        {
          "name": "stdout",
          "output_type": "stream",
          "text": [
            "Processed batch 2880 to 2912\n"
          ]
        },
        {
          "name": "stderr",
          "output_type": "stream",
          "text": [
            "\r\n",
            " 19%|█▉        | 92/488 [21:07<1:15:41, 11.47s/it]"
          ]
        },
        {
          "name": "stdout",
          "output_type": "stream",
          "text": [
            "Processed batch 2912 to 2944\n"
          ]
        },
        {
          "name": "stderr",
          "output_type": "stream",
          "text": [
            "\r\n",
            " 19%|█▉        | 93/488 [21:18<1:14:22, 11.30s/it]"
          ]
        },
        {
          "name": "stdout",
          "output_type": "stream",
          "text": [
            "Processed batch 2944 to 2976\n"
          ]
        },
        {
          "name": "stderr",
          "output_type": "stream",
          "text": [
            "\r\n",
            " 19%|█▉        | 94/488 [21:30<1:15:08, 11.44s/it]"
          ]
        },
        {
          "name": "stdout",
          "output_type": "stream",
          "text": [
            "Processed batch 2976 to 3008\n"
          ]
        },
        {
          "name": "stderr",
          "output_type": "stream",
          "text": [
            "\r\n",
            " 19%|█▉        | 95/488 [21:43<1:18:32, 11.99s/it]"
          ]
        },
        {
          "name": "stdout",
          "output_type": "stream",
          "text": [
            "Processed batch 3008 to 3040\n"
          ]
        },
        {
          "name": "stderr",
          "output_type": "stream",
          "text": [
            "\r\n",
            " 20%|█▉        | 96/488 [21:57<1:20:50, 12.37s/it]"
          ]
        },
        {
          "name": "stdout",
          "output_type": "stream",
          "text": [
            "Processed batch 3040 to 3072\n"
          ]
        },
        {
          "name": "stderr",
          "output_type": "stream",
          "text": [
            "\r\n",
            " 20%|█▉        | 97/488 [22:10<1:23:04, 12.75s/it]"
          ]
        },
        {
          "name": "stdout",
          "output_type": "stream",
          "text": [
            "Processed batch 3072 to 3104\n"
          ]
        },
        {
          "name": "stderr",
          "output_type": "stream",
          "text": [
            "\r\n",
            " 20%|██        | 98/488 [22:24<1:23:58, 12.92s/it]"
          ]
        },
        {
          "name": "stdout",
          "output_type": "stream",
          "text": [
            "Processed batch 3104 to 3136\n"
          ]
        },
        {
          "name": "stderr",
          "output_type": "stream",
          "text": [
            "\r\n",
            " 20%|██        | 99/488 [22:38<1:27:19, 13.47s/it]"
          ]
        },
        {
          "name": "stdout",
          "output_type": "stream",
          "text": [
            "Processed batch 3136 to 3168\n"
          ]
        },
        {
          "name": "stderr",
          "output_type": "stream",
          "text": [
            "\r\n",
            " 20%|██        | 100/488 [22:51<1:24:58, 13.14s/it]"
          ]
        },
        {
          "name": "stdout",
          "output_type": "stream",
          "text": [
            "Processed batch 3168 to 3200\n"
          ]
        },
        {
          "name": "stderr",
          "output_type": "stream",
          "text": [
            "\r\n",
            " 21%|██        | 101/488 [23:06<1:27:54, 13.63s/it]"
          ]
        },
        {
          "name": "stdout",
          "output_type": "stream",
          "text": [
            "Processed batch 3200 to 3232\n"
          ]
        },
        {
          "name": "stderr",
          "output_type": "stream",
          "text": [
            "\r\n",
            " 21%|██        | 102/488 [23:19<1:27:45, 13.64s/it]"
          ]
        },
        {
          "name": "stdout",
          "output_type": "stream",
          "text": [
            "Processed batch 3232 to 3264\n"
          ]
        },
        {
          "name": "stderr",
          "output_type": "stream",
          "text": [
            "\r\n",
            " 21%|██        | 103/488 [23:34<1:28:49, 13.84s/it]"
          ]
        },
        {
          "name": "stdout",
          "output_type": "stream",
          "text": [
            "Processed batch 3264 to 3296\n"
          ]
        },
        {
          "name": "stderr",
          "output_type": "stream",
          "text": [
            "\r\n",
            " 21%|██▏       | 104/488 [23:44<1:22:58, 12.97s/it]"
          ]
        },
        {
          "name": "stdout",
          "output_type": "stream",
          "text": [
            "Processed batch 3296 to 3328\n"
          ]
        },
        {
          "name": "stderr",
          "output_type": "stream",
          "text": [
            "\r\n",
            " 22%|██▏       | 105/488 [23:57<1:22:08, 12.87s/it]"
          ]
        },
        {
          "name": "stdout",
          "output_type": "stream",
          "text": [
            "Processed batch 3328 to 3360\n"
          ]
        },
        {
          "name": "stderr",
          "output_type": "stream",
          "text": [
            "\r\n",
            " 22%|██▏       | 106/488 [24:11<1:23:18, 13.09s/it]"
          ]
        },
        {
          "name": "stdout",
          "output_type": "stream",
          "text": [
            "Processed batch 3360 to 3392\n"
          ]
        },
        {
          "name": "stderr",
          "output_type": "stream",
          "text": [
            "\r\n",
            " 22%|██▏       | 107/488 [24:21<1:18:00, 12.28s/it]"
          ]
        },
        {
          "name": "stdout",
          "output_type": "stream",
          "text": [
            "Processed batch 3392 to 3424\n"
          ]
        },
        {
          "name": "stderr",
          "output_type": "stream",
          "text": [
            "\r\n",
            " 22%|██▏       | 108/488 [24:35<1:20:50, 12.76s/it]"
          ]
        },
        {
          "name": "stdout",
          "output_type": "stream",
          "text": [
            "Processed batch 3424 to 3456\n"
          ]
        },
        {
          "name": "stderr",
          "output_type": "stream",
          "text": [
            "\r\n",
            " 22%|██▏       | 109/488 [24:49<1:23:21, 13.20s/it]"
          ]
        },
        {
          "name": "stdout",
          "output_type": "stream",
          "text": [
            "Processed batch 3456 to 3488\n"
          ]
        },
        {
          "name": "stderr",
          "output_type": "stream",
          "text": [
            "\r\n",
            " 23%|██▎       | 110/488 [25:04<1:26:22, 13.71s/it]"
          ]
        },
        {
          "name": "stdout",
          "output_type": "stream",
          "text": [
            "Processed batch 3488 to 3520\n"
          ]
        },
        {
          "name": "stderr",
          "output_type": "stream",
          "text": [
            "\r\n",
            " 23%|██▎       | 111/488 [25:17<1:25:06, 13.55s/it]"
          ]
        },
        {
          "name": "stdout",
          "output_type": "stream",
          "text": [
            "Processed batch 3520 to 3552\n"
          ]
        },
        {
          "name": "stderr",
          "output_type": "stream",
          "text": [
            "\r\n",
            " 23%|██▎       | 112/488 [25:28<1:18:51, 12.58s/it]"
          ]
        },
        {
          "name": "stdout",
          "output_type": "stream",
          "text": [
            "Processed batch 3552 to 3584\n"
          ]
        },
        {
          "name": "stderr",
          "output_type": "stream",
          "text": [
            "\r\n",
            " 23%|██▎       | 113/488 [25:39<1:17:13, 12.36s/it]"
          ]
        },
        {
          "name": "stdout",
          "output_type": "stream",
          "text": [
            "Processed batch 3584 to 3616\n"
          ]
        },
        {
          "name": "stderr",
          "output_type": "stream",
          "text": [
            "\r\n",
            " 23%|██▎       | 114/488 [25:54<1:21:59, 13.15s/it]"
          ]
        },
        {
          "name": "stdout",
          "output_type": "stream",
          "text": [
            "Processed batch 3616 to 3648\n"
          ]
        },
        {
          "name": "stderr",
          "output_type": "stream",
          "text": [
            "\r\n",
            " 24%|██▎       | 115/488 [26:08<1:23:28, 13.43s/it]"
          ]
        },
        {
          "name": "stdout",
          "output_type": "stream",
          "text": [
            "Processed batch 3648 to 3680\n"
          ]
        },
        {
          "name": "stderr",
          "output_type": "stream",
          "text": [
            "\r\n",
            " 24%|██▍       | 116/488 [26:22<1:24:12, 13.58s/it]"
          ]
        },
        {
          "name": "stdout",
          "output_type": "stream",
          "text": [
            "Processed batch 3680 to 3712\n"
          ]
        },
        {
          "name": "stderr",
          "output_type": "stream",
          "text": [
            "\r\n",
            " 24%|██▍       | 117/488 [26:36<1:23:33, 13.51s/it]"
          ]
        },
        {
          "name": "stdout",
          "output_type": "stream",
          "text": [
            "Processed batch 3712 to 3744\n"
          ]
        },
        {
          "name": "stderr",
          "output_type": "stream",
          "text": [
            "\r\n",
            " 24%|██▍       | 118/488 [26:49<1:23:07, 13.48s/it]"
          ]
        },
        {
          "name": "stdout",
          "output_type": "stream",
          "text": [
            "Processed batch 3744 to 3776\n"
          ]
        },
        {
          "name": "stderr",
          "output_type": "stream",
          "text": [
            "\r\n",
            " 24%|██▍       | 119/488 [27:02<1:22:04, 13.35s/it]"
          ]
        },
        {
          "name": "stdout",
          "output_type": "stream",
          "text": [
            "Processed batch 3776 to 3808\n"
          ]
        },
        {
          "name": "stderr",
          "output_type": "stream",
          "text": [
            "\r\n",
            " 25%|██▍       | 120/488 [27:14<1:18:04, 12.73s/it]"
          ]
        },
        {
          "name": "stdout",
          "output_type": "stream",
          "text": [
            "Processed batch 3808 to 3840\n"
          ]
        },
        {
          "name": "stderr",
          "output_type": "stream",
          "text": [
            "\r\n",
            " 25%|██▍       | 121/488 [27:30<1:23:58, 13.73s/it]"
          ]
        },
        {
          "name": "stdout",
          "output_type": "stream",
          "text": [
            "Processed batch 3840 to 3872\n"
          ]
        },
        {
          "name": "stderr",
          "output_type": "stream",
          "text": [
            "\r\n",
            " 25%|██▌       | 122/488 [27:41<1:20:18, 13.17s/it]"
          ]
        },
        {
          "name": "stdout",
          "output_type": "stream",
          "text": [
            "Processed batch 3872 to 3904\n"
          ]
        },
        {
          "name": "stderr",
          "output_type": "stream",
          "text": [
            "\r\n",
            " 25%|██▌       | 123/488 [27:54<1:18:48, 12.96s/it]"
          ]
        },
        {
          "name": "stdout",
          "output_type": "stream",
          "text": [
            "Processed batch 3904 to 3936\n"
          ]
        },
        {
          "name": "stderr",
          "output_type": "stream",
          "text": [
            "\r\n",
            " 25%|██▌       | 124/488 [28:07<1:19:39, 13.13s/it]"
          ]
        },
        {
          "name": "stdout",
          "output_type": "stream",
          "text": [
            "Processed batch 3936 to 3968\n"
          ]
        },
        {
          "name": "stderr",
          "output_type": "stream",
          "text": [
            "\r\n",
            " 26%|██▌       | 125/488 [28:23<1:23:02, 13.73s/it]"
          ]
        },
        {
          "name": "stdout",
          "output_type": "stream",
          "text": [
            "Processed batch 3968 to 4000\n"
          ]
        },
        {
          "name": "stderr",
          "output_type": "stream",
          "text": [
            "\r\n",
            " 26%|██▌       | 126/488 [28:37<1:23:25, 13.83s/it]"
          ]
        },
        {
          "name": "stdout",
          "output_type": "stream",
          "text": [
            "Processed batch 4000 to 4032\n"
          ]
        },
        {
          "name": "stderr",
          "output_type": "stream",
          "text": [
            "\r\n",
            " 26%|██▌       | 127/488 [28:51<1:24:58, 14.12s/it]"
          ]
        },
        {
          "name": "stdout",
          "output_type": "stream",
          "text": [
            "Processed batch 4032 to 4064\n"
          ]
        },
        {
          "name": "stderr",
          "output_type": "stream",
          "text": [
            "\r\n",
            " 26%|██▌       | 128/488 [29:04<1:21:56, 13.66s/it]"
          ]
        },
        {
          "name": "stdout",
          "output_type": "stream",
          "text": [
            "Processed batch 4064 to 4096\n"
          ]
        },
        {
          "name": "stderr",
          "output_type": "stream",
          "text": [
            "\r\n",
            " 26%|██▋       | 129/488 [29:18<1:21:57, 13.70s/it]"
          ]
        },
        {
          "name": "stdout",
          "output_type": "stream",
          "text": [
            "Processed batch 4096 to 4128\n"
          ]
        },
        {
          "name": "stderr",
          "output_type": "stream",
          "text": [
            "\r\n",
            " 27%|██▋       | 130/488 [29:32<1:22:33, 13.84s/it]"
          ]
        },
        {
          "name": "stdout",
          "output_type": "stream",
          "text": [
            "Processed batch 4128 to 4160\n"
          ]
        },
        {
          "name": "stderr",
          "output_type": "stream",
          "text": [
            "\r\n",
            " 27%|██▋       | 131/488 [29:46<1:22:22, 13.84s/it]"
          ]
        },
        {
          "name": "stdout",
          "output_type": "stream",
          "text": [
            "Processed batch 4160 to 4192\n"
          ]
        },
        {
          "name": "stderr",
          "output_type": "stream",
          "text": [
            "\r\n",
            " 27%|██▋       | 132/488 [29:59<1:20:54, 13.63s/it]"
          ]
        },
        {
          "name": "stdout",
          "output_type": "stream",
          "text": [
            "Processed batch 4192 to 4224\n"
          ]
        },
        {
          "name": "stderr",
          "output_type": "stream",
          "text": [
            "\r\n",
            " 27%|██▋       | 133/488 [30:13<1:20:50, 13.66s/it]"
          ]
        },
        {
          "name": "stdout",
          "output_type": "stream",
          "text": [
            "Processed batch 4224 to 4256\n"
          ]
        },
        {
          "name": "stderr",
          "output_type": "stream",
          "text": [
            "\r\n",
            " 27%|██▋       | 134/488 [30:26<1:20:20, 13.62s/it]"
          ]
        },
        {
          "name": "stdout",
          "output_type": "stream",
          "text": [
            "Processed batch 4256 to 4288\n"
          ]
        },
        {
          "name": "stderr",
          "output_type": "stream",
          "text": [
            "\r\n",
            " 28%|██▊       | 135/488 [30:41<1:21:19, 13.82s/it]"
          ]
        },
        {
          "name": "stdout",
          "output_type": "stream",
          "text": [
            "Processed batch 4288 to 4320\n"
          ]
        },
        {
          "name": "stderr",
          "output_type": "stream",
          "text": [
            "\r\n",
            " 28%|██▊       | 136/488 [30:53<1:18:01, 13.30s/it]"
          ]
        },
        {
          "name": "stdout",
          "output_type": "stream",
          "text": [
            "Processed batch 4320 to 4352\n"
          ]
        },
        {
          "name": "stderr",
          "output_type": "stream",
          "text": [
            "\r\n",
            " 28%|██▊       | 137/488 [31:05<1:16:11, 13.02s/it]"
          ]
        },
        {
          "name": "stdout",
          "output_type": "stream",
          "text": [
            "Processed batch 4352 to 4384\n"
          ]
        },
        {
          "name": "stderr",
          "output_type": "stream",
          "text": [
            "\r\n",
            " 28%|██▊       | 138/488 [31:14<1:08:52, 11.81s/it]"
          ]
        },
        {
          "name": "stdout",
          "output_type": "stream",
          "text": [
            "Processed batch 4384 to 4416\n"
          ]
        },
        {
          "name": "stderr",
          "output_type": "stream",
          "text": [
            "\r\n",
            " 28%|██▊       | 139/488 [31:27<1:11:00, 12.21s/it]"
          ]
        },
        {
          "name": "stdout",
          "output_type": "stream",
          "text": [
            "Processed batch 4416 to 4448\n"
          ]
        },
        {
          "name": "stderr",
          "output_type": "stream",
          "text": [
            "\r\n",
            " 29%|██▊       | 140/488 [31:40<1:11:37, 12.35s/it]"
          ]
        },
        {
          "name": "stdout",
          "output_type": "stream",
          "text": [
            "Processed batch 4448 to 4480\n"
          ]
        },
        {
          "name": "stderr",
          "output_type": "stream",
          "text": [
            "\r\n",
            " 29%|██▉       | 141/488 [31:52<1:10:42, 12.23s/it]"
          ]
        },
        {
          "name": "stdout",
          "output_type": "stream",
          "text": [
            "Processed batch 4480 to 4512\n"
          ]
        },
        {
          "name": "stderr",
          "output_type": "stream",
          "text": [
            "\r\n",
            " 29%|██▉       | 142/488 [32:05<1:12:20, 12.55s/it]"
          ]
        },
        {
          "name": "stdout",
          "output_type": "stream",
          "text": [
            "Processed batch 4512 to 4544\n"
          ]
        },
        {
          "name": "stderr",
          "output_type": "stream",
          "text": [
            "\r\n",
            " 29%|██▉       | 143/488 [32:16<1:09:56, 12.16s/it]"
          ]
        },
        {
          "name": "stdout",
          "output_type": "stream",
          "text": [
            "Processed batch 4544 to 4576\n"
          ]
        },
        {
          "name": "stderr",
          "output_type": "stream",
          "text": [
            "\r\n",
            " 30%|██▉       | 144/488 [32:29<1:10:12, 12.25s/it]"
          ]
        },
        {
          "name": "stdout",
          "output_type": "stream",
          "text": [
            "Processed batch 4576 to 4608\n"
          ]
        },
        {
          "name": "stderr",
          "output_type": "stream",
          "text": [
            "\r\n",
            " 30%|██▉       | 145/488 [32:42<1:11:43, 12.55s/it]"
          ]
        },
        {
          "name": "stdout",
          "output_type": "stream",
          "text": [
            "Processed batch 4608 to 4640\n"
          ]
        },
        {
          "name": "stderr",
          "output_type": "stream",
          "text": [
            "\r\n",
            " 30%|██▉       | 146/488 [32:58<1:17:01, 13.51s/it]"
          ]
        },
        {
          "name": "stdout",
          "output_type": "stream",
          "text": [
            "Processed batch 4640 to 4672\n"
          ]
        },
        {
          "name": "stderr",
          "output_type": "stream",
          "text": [
            "\r\n",
            " 30%|███       | 147/488 [33:12<1:17:52, 13.70s/it]"
          ]
        },
        {
          "name": "stdout",
          "output_type": "stream",
          "text": [
            "Processed batch 4672 to 4704\n"
          ]
        },
        {
          "name": "stderr",
          "output_type": "stream",
          "text": [
            "\r\n",
            " 30%|███       | 148/488 [33:23<1:13:31, 12.97s/it]"
          ]
        },
        {
          "name": "stdout",
          "output_type": "stream",
          "text": [
            "Processed batch 4704 to 4736\n"
          ]
        },
        {
          "name": "stderr",
          "output_type": "stream",
          "text": [
            "\r\n",
            " 31%|███       | 149/488 [33:35<1:12:16, 12.79s/it]"
          ]
        },
        {
          "name": "stdout",
          "output_type": "stream",
          "text": [
            "Processed batch 4736 to 4768\n"
          ]
        },
        {
          "name": "stderr",
          "output_type": "stream",
          "text": [
            "\r\n",
            " 31%|███       | 150/488 [33:47<1:10:21, 12.49s/it]"
          ]
        },
        {
          "name": "stdout",
          "output_type": "stream",
          "text": [
            "Processed batch 4768 to 4800\n"
          ]
        },
        {
          "name": "stderr",
          "output_type": "stream",
          "text": [
            "\r\n",
            " 31%|███       | 151/488 [33:59<1:08:03, 12.12s/it]"
          ]
        },
        {
          "name": "stdout",
          "output_type": "stream",
          "text": [
            "Processed batch 4800 to 4832\n"
          ]
        },
        {
          "name": "stderr",
          "output_type": "stream",
          "text": [
            "\r\n",
            " 31%|███       | 152/488 [34:12<1:09:22, 12.39s/it]"
          ]
        },
        {
          "name": "stdout",
          "output_type": "stream",
          "text": [
            "Processed batch 4832 to 4864\n"
          ]
        },
        {
          "name": "stderr",
          "output_type": "stream",
          "text": [
            "\r\n",
            " 31%|███▏      | 153/488 [34:26<1:12:05, 12.91s/it]"
          ]
        },
        {
          "name": "stdout",
          "output_type": "stream",
          "text": [
            "Processed batch 4864 to 4896\n"
          ]
        },
        {
          "name": "stderr",
          "output_type": "stream",
          "text": [
            "\r\n",
            " 32%|███▏      | 154/488 [34:38<1:11:19, 12.81s/it]"
          ]
        },
        {
          "name": "stdout",
          "output_type": "stream",
          "text": [
            "Processed batch 4896 to 4928\n"
          ]
        },
        {
          "name": "stderr",
          "output_type": "stream",
          "text": [
            "\r\n",
            " 32%|███▏      | 155/488 [34:52<1:13:04, 13.17s/it]"
          ]
        },
        {
          "name": "stdout",
          "output_type": "stream",
          "text": [
            "Processed batch 4928 to 4960\n"
          ]
        },
        {
          "name": "stderr",
          "output_type": "stream",
          "text": [
            "\r\n",
            " 32%|███▏      | 156/488 [35:03<1:09:18, 12.53s/it]"
          ]
        },
        {
          "name": "stdout",
          "output_type": "stream",
          "text": [
            "Processed batch 4960 to 4992\n"
          ]
        },
        {
          "name": "stderr",
          "output_type": "stream",
          "text": [
            "\r\n",
            " 32%|███▏      | 157/488 [35:17<1:10:19, 12.75s/it]"
          ]
        },
        {
          "name": "stdout",
          "output_type": "stream",
          "text": [
            "Processed batch 4992 to 5024\n"
          ]
        },
        {
          "name": "stderr",
          "output_type": "stream",
          "text": [
            "\r\n",
            " 32%|███▏      | 158/488 [35:29<1:08:57, 12.54s/it]"
          ]
        },
        {
          "name": "stdout",
          "output_type": "stream",
          "text": [
            "Processed batch 5024 to 5056\n"
          ]
        },
        {
          "name": "stderr",
          "output_type": "stream",
          "text": [
            "\r\n",
            " 33%|███▎      | 159/488 [35:43<1:11:29, 13.04s/it]"
          ]
        },
        {
          "name": "stdout",
          "output_type": "stream",
          "text": [
            "Processed batch 5056 to 5088\n"
          ]
        },
        {
          "name": "stderr",
          "output_type": "stream",
          "text": [
            "\r\n",
            " 33%|███▎      | 160/488 [35:53<1:06:05, 12.09s/it]"
          ]
        },
        {
          "name": "stdout",
          "output_type": "stream",
          "text": [
            "Processed batch 5088 to 5120\n"
          ]
        },
        {
          "name": "stderr",
          "output_type": "stream",
          "text": [
            "\r\n",
            " 33%|███▎      | 161/488 [36:05<1:05:48, 12.08s/it]"
          ]
        },
        {
          "name": "stdout",
          "output_type": "stream",
          "text": [
            "Processed batch 5120 to 5152\n"
          ]
        },
        {
          "name": "stderr",
          "output_type": "stream",
          "text": [
            "\r\n",
            " 33%|███▎      | 162/488 [36:17<1:06:02, 12.16s/it]"
          ]
        },
        {
          "name": "stdout",
          "output_type": "stream",
          "text": [
            "Processed batch 5152 to 5184\n"
          ]
        },
        {
          "name": "stderr",
          "output_type": "stream",
          "text": [
            "\r\n",
            " 33%|███▎      | 163/488 [36:29<1:06:14, 12.23s/it]"
          ]
        },
        {
          "name": "stdout",
          "output_type": "stream",
          "text": [
            "Processed batch 5184 to 5216\n"
          ]
        },
        {
          "name": "stderr",
          "output_type": "stream",
          "text": [
            "\r\n",
            " 34%|███▎      | 164/488 [36:43<1:07:58, 12.59s/it]"
          ]
        },
        {
          "name": "stdout",
          "output_type": "stream",
          "text": [
            "Processed batch 5216 to 5248\n"
          ]
        },
        {
          "name": "stderr",
          "output_type": "stream",
          "text": [
            "\r\n",
            " 34%|███▍      | 165/488 [36:57<1:09:38, 12.94s/it]"
          ]
        },
        {
          "name": "stdout",
          "output_type": "stream",
          "text": [
            "Processed batch 5248 to 5280\n"
          ]
        },
        {
          "name": "stderr",
          "output_type": "stream",
          "text": [
            "\r\n",
            " 34%|███▍      | 166/488 [37:11<1:11:19, 13.29s/it]"
          ]
        },
        {
          "name": "stdout",
          "output_type": "stream",
          "text": [
            "Processed batch 5280 to 5312\n"
          ]
        },
        {
          "name": "stderr",
          "output_type": "stream",
          "text": [
            "\r\n",
            " 34%|███▍      | 167/488 [37:22<1:07:14, 12.57s/it]"
          ]
        },
        {
          "name": "stdout",
          "output_type": "stream",
          "text": [
            "Processed batch 5312 to 5344\n"
          ]
        },
        {
          "name": "stderr",
          "output_type": "stream",
          "text": [
            "\r\n",
            " 34%|███▍      | 168/488 [37:35<1:08:56, 12.93s/it]"
          ]
        },
        {
          "name": "stdout",
          "output_type": "stream",
          "text": [
            "Processed batch 5344 to 5376\n"
          ]
        },
        {
          "name": "stderr",
          "output_type": "stream",
          "text": [
            "\r\n",
            " 35%|███▍      | 169/488 [37:47<1:06:54, 12.58s/it]"
          ]
        },
        {
          "name": "stdout",
          "output_type": "stream",
          "text": [
            "Processed batch 5376 to 5408\n"
          ]
        },
        {
          "name": "stderr",
          "output_type": "stream",
          "text": [
            "\r\n",
            " 35%|███▍      | 170/488 [38:01<1:08:03, 12.84s/it]"
          ]
        },
        {
          "name": "stdout",
          "output_type": "stream",
          "text": [
            "Processed batch 5408 to 5440\n"
          ]
        },
        {
          "name": "stderr",
          "output_type": "stream",
          "text": [
            "\r\n",
            " 35%|███▌      | 171/488 [38:15<1:10:47, 13.40s/it]"
          ]
        },
        {
          "name": "stdout",
          "output_type": "stream",
          "text": [
            "Processed batch 5440 to 5472\n"
          ]
        },
        {
          "name": "stderr",
          "output_type": "stream",
          "text": [
            "\r\n",
            " 35%|███▌      | 172/488 [38:25<1:05:14, 12.39s/it]"
          ]
        },
        {
          "name": "stdout",
          "output_type": "stream",
          "text": [
            "Processed batch 5472 to 5504\n"
          ]
        },
        {
          "name": "stderr",
          "output_type": "stream",
          "text": [
            "\r\n",
            " 35%|███▌      | 173/488 [38:37<1:04:04, 12.20s/it]"
          ]
        },
        {
          "name": "stdout",
          "output_type": "stream",
          "text": [
            "Processed batch 5504 to 5536\n"
          ]
        },
        {
          "name": "stderr",
          "output_type": "stream",
          "text": [
            "\r\n",
            " 36%|███▌      | 174/488 [38:49<1:03:54, 12.21s/it]"
          ]
        },
        {
          "name": "stdout",
          "output_type": "stream",
          "text": [
            "Processed batch 5536 to 5568\n"
          ]
        },
        {
          "name": "stderr",
          "output_type": "stream",
          "text": [
            "\r\n",
            " 36%|███▌      | 175/488 [39:02<1:03:35, 12.19s/it]"
          ]
        },
        {
          "name": "stdout",
          "output_type": "stream",
          "text": [
            "Processed batch 5568 to 5600\n"
          ]
        },
        {
          "name": "stderr",
          "output_type": "stream",
          "text": [
            "\r\n",
            " 36%|███▌      | 176/488 [39:15<1:05:00, 12.50s/it]"
          ]
        },
        {
          "name": "stdout",
          "output_type": "stream",
          "text": [
            "Processed batch 5600 to 5632\n"
          ]
        },
        {
          "name": "stderr",
          "output_type": "stream",
          "text": [
            "\r\n",
            " 36%|███▋      | 177/488 [39:28<1:06:09, 12.76s/it]"
          ]
        },
        {
          "name": "stdout",
          "output_type": "stream",
          "text": [
            "Processed batch 5632 to 5664\n"
          ]
        },
        {
          "name": "stderr",
          "output_type": "stream",
          "text": [
            "\r\n",
            " 36%|███▋      | 178/488 [39:41<1:05:42, 12.72s/it]"
          ]
        },
        {
          "name": "stdout",
          "output_type": "stream",
          "text": [
            "Processed batch 5664 to 5696\n"
          ]
        },
        {
          "name": "stderr",
          "output_type": "stream",
          "text": [
            "\r\n",
            " 37%|███▋      | 179/488 [39:53<1:05:34, 12.73s/it]"
          ]
        },
        {
          "name": "stdout",
          "output_type": "stream",
          "text": [
            "Processed batch 5696 to 5728\n"
          ]
        },
        {
          "name": "stderr",
          "output_type": "stream",
          "text": [
            "\r\n",
            " 37%|███▋      | 180/488 [40:04<1:02:27, 12.17s/it]"
          ]
        },
        {
          "name": "stdout",
          "output_type": "stream",
          "text": [
            "Processed batch 5728 to 5760\n"
          ]
        },
        {
          "name": "stderr",
          "output_type": "stream",
          "text": [
            "\r\n",
            " 37%|███▋      | 181/488 [40:16<1:00:56, 11.91s/it]"
          ]
        },
        {
          "name": "stdout",
          "output_type": "stream",
          "text": [
            "Processed batch 5760 to 5792\n"
          ]
        },
        {
          "name": "stderr",
          "output_type": "stream",
          "text": [
            "\r\n",
            " 37%|███▋      | 182/488 [40:25<57:32, 11.28s/it]  "
          ]
        },
        {
          "name": "stdout",
          "output_type": "stream",
          "text": [
            "Processed batch 5792 to 5824\n"
          ]
        },
        {
          "name": "stderr",
          "output_type": "stream",
          "text": [
            "\r\n",
            " 38%|███▊      | 183/488 [40:40<1:02:41, 12.33s/it]"
          ]
        },
        {
          "name": "stdout",
          "output_type": "stream",
          "text": [
            "Processed batch 5824 to 5856\n"
          ]
        },
        {
          "name": "stderr",
          "output_type": "stream",
          "text": [
            "\r\n",
            " 38%|███▊      | 184/488 [40:53<1:02:36, 12.36s/it]"
          ]
        },
        {
          "name": "stdout",
          "output_type": "stream",
          "text": [
            "Processed batch 5856 to 5888\n"
          ]
        },
        {
          "name": "stderr",
          "output_type": "stream",
          "text": [
            "\r\n",
            " 38%|███▊      | 185/488 [41:03<59:25, 11.77s/it]  "
          ]
        },
        {
          "name": "stdout",
          "output_type": "stream",
          "text": [
            "Processed batch 5888 to 5920\n"
          ]
        },
        {
          "name": "stderr",
          "output_type": "stream",
          "text": [
            "\r\n",
            " 38%|███▊      | 186/488 [41:16<1:00:25, 12.00s/it]"
          ]
        },
        {
          "name": "stdout",
          "output_type": "stream",
          "text": [
            "Processed batch 5920 to 5952\n"
          ]
        },
        {
          "name": "stderr",
          "output_type": "stream",
          "text": [
            "\r\n",
            " 38%|███▊      | 187/488 [41:29<1:01:57, 12.35s/it]"
          ]
        },
        {
          "name": "stdout",
          "output_type": "stream",
          "text": [
            "Processed batch 5952 to 5984\n"
          ]
        },
        {
          "name": "stderr",
          "output_type": "stream",
          "text": [
            "\r\n",
            " 39%|███▊      | 188/488 [41:41<1:00:50, 12.17s/it]"
          ]
        },
        {
          "name": "stdout",
          "output_type": "stream",
          "text": [
            "Processed batch 5984 to 6016\n"
          ]
        },
        {
          "name": "stderr",
          "output_type": "stream",
          "text": [
            "\r\n",
            " 39%|███▊      | 189/488 [41:54<1:03:04, 12.66s/it]"
          ]
        },
        {
          "name": "stdout",
          "output_type": "stream",
          "text": [
            "Processed batch 6016 to 6048\n"
          ]
        },
        {
          "name": "stderr",
          "output_type": "stream",
          "text": [
            "\r\n",
            " 39%|███▉      | 190/488 [42:09<1:05:49, 13.25s/it]"
          ]
        },
        {
          "name": "stdout",
          "output_type": "stream",
          "text": [
            "Processed batch 6048 to 6080\n"
          ]
        },
        {
          "name": "stderr",
          "output_type": "stream",
          "text": [
            "\r\n",
            " 39%|███▉      | 191/488 [42:19<1:01:28, 12.42s/it]"
          ]
        },
        {
          "name": "stdout",
          "output_type": "stream",
          "text": [
            "Processed batch 6080 to 6112\n"
          ]
        },
        {
          "name": "stderr",
          "output_type": "stream",
          "text": [
            "\r\n",
            " 39%|███▉      | 192/488 [42:34<1:04:20, 13.04s/it]"
          ]
        },
        {
          "name": "stdout",
          "output_type": "stream",
          "text": [
            "Processed batch 6112 to 6144\n"
          ]
        },
        {
          "name": "stderr",
          "output_type": "stream",
          "text": [
            "\r\n",
            " 40%|███▉      | 193/488 [42:47<1:04:20, 13.08s/it]"
          ]
        },
        {
          "name": "stdout",
          "output_type": "stream",
          "text": [
            "Processed batch 6144 to 6176\n"
          ]
        },
        {
          "name": "stderr",
          "output_type": "stream",
          "text": [
            "\r\n",
            " 40%|███▉      | 194/488 [42:58<1:01:05, 12.47s/it]"
          ]
        },
        {
          "name": "stdout",
          "output_type": "stream",
          "text": [
            "Processed batch 6176 to 6208\n"
          ]
        },
        {
          "name": "stderr",
          "output_type": "stream",
          "text": [
            "\r\n",
            " 40%|███▉      | 195/488 [43:11<1:01:38, 12.62s/it]"
          ]
        },
        {
          "name": "stdout",
          "output_type": "stream",
          "text": [
            "Processed batch 6208 to 6240\n"
          ]
        },
        {
          "name": "stderr",
          "output_type": "stream",
          "text": [
            "\r\n",
            " 40%|████      | 196/488 [43:24<1:02:15, 12.79s/it]"
          ]
        },
        {
          "name": "stdout",
          "output_type": "stream",
          "text": [
            "Processed batch 6240 to 6272\n"
          ]
        },
        {
          "name": "stderr",
          "output_type": "stream",
          "text": [
            "\r\n",
            " 40%|████      | 197/488 [43:36<1:00:17, 12.43s/it]"
          ]
        },
        {
          "name": "stdout",
          "output_type": "stream",
          "text": [
            "Processed batch 6272 to 6304\n"
          ]
        },
        {
          "name": "stderr",
          "output_type": "stream",
          "text": [
            "\r\n",
            " 41%|████      | 198/488 [43:49<1:00:58, 12.61s/it]"
          ]
        },
        {
          "name": "stdout",
          "output_type": "stream",
          "text": [
            "Processed batch 6304 to 6336\n"
          ]
        },
        {
          "name": "stderr",
          "output_type": "stream",
          "text": [
            "\r\n",
            " 41%|████      | 199/488 [44:03<1:02:20, 12.94s/it]"
          ]
        },
        {
          "name": "stdout",
          "output_type": "stream",
          "text": [
            "Processed batch 6336 to 6368\n"
          ]
        },
        {
          "name": "stderr",
          "output_type": "stream",
          "text": [
            "\r\n",
            " 41%|████      | 200/488 [44:13<57:46, 12.03s/it]  "
          ]
        },
        {
          "name": "stdout",
          "output_type": "stream",
          "text": [
            "Processed batch 6368 to 6400\n"
          ]
        },
        {
          "name": "stderr",
          "output_type": "stream",
          "text": [
            "\r\n",
            " 41%|████      | 201/488 [44:25<57:31, 12.03s/it]"
          ]
        },
        {
          "name": "stdout",
          "output_type": "stream",
          "text": [
            "Processed batch 6400 to 6432\n"
          ]
        },
        {
          "name": "stderr",
          "output_type": "stream",
          "text": [
            "\r\n",
            " 41%|████▏     | 202/488 [44:38<58:55, 12.36s/it]"
          ]
        },
        {
          "name": "stdout",
          "output_type": "stream",
          "text": [
            "Processed batch 6432 to 6464\n"
          ]
        },
        {
          "name": "stderr",
          "output_type": "stream",
          "text": [
            "\r\n",
            " 42%|████▏     | 203/488 [44:53<1:02:26, 13.15s/it]"
          ]
        },
        {
          "name": "stdout",
          "output_type": "stream",
          "text": [
            "Processed batch 6464 to 6496\n"
          ]
        },
        {
          "name": "stderr",
          "output_type": "stream",
          "text": [
            "\r\n",
            " 42%|████▏     | 204/488 [45:07<1:04:11, 13.56s/it]"
          ]
        },
        {
          "name": "stdout",
          "output_type": "stream",
          "text": [
            "Processed batch 6496 to 6528\n"
          ]
        },
        {
          "name": "stderr",
          "output_type": "stream",
          "text": [
            "\r\n",
            " 42%|████▏     | 205/488 [45:19<1:01:35, 13.06s/it]"
          ]
        },
        {
          "name": "stdout",
          "output_type": "stream",
          "text": [
            "Processed batch 6528 to 6560\n"
          ]
        },
        {
          "name": "stderr",
          "output_type": "stream",
          "text": [
            "\r\n",
            " 42%|████▏     | 206/488 [45:30<58:22, 12.42s/it]  "
          ]
        },
        {
          "name": "stdout",
          "output_type": "stream",
          "text": [
            "Processed batch 6560 to 6592\n"
          ]
        },
        {
          "name": "stderr",
          "output_type": "stream",
          "text": [
            "\r\n",
            " 42%|████▏     | 207/488 [45:44<1:00:05, 12.83s/it]"
          ]
        },
        {
          "name": "stdout",
          "output_type": "stream",
          "text": [
            "Processed batch 6592 to 6624\n"
          ]
        },
        {
          "name": "stderr",
          "output_type": "stream",
          "text": [
            "\r\n",
            " 43%|████▎     | 208/488 [45:56<59:12, 12.69s/it]  "
          ]
        },
        {
          "name": "stdout",
          "output_type": "stream",
          "text": [
            "Processed batch 6624 to 6656\n"
          ]
        },
        {
          "name": "stderr",
          "output_type": "stream",
          "text": [
            "\r\n",
            " 43%|████▎     | 209/488 [46:11<1:02:19, 13.40s/it]"
          ]
        },
        {
          "name": "stdout",
          "output_type": "stream",
          "text": [
            "Processed batch 6656 to 6688\n"
          ]
        },
        {
          "name": "stderr",
          "output_type": "stream",
          "text": [
            "\r\n",
            " 43%|████▎     | 210/488 [46:25<1:03:15, 13.65s/it]"
          ]
        },
        {
          "name": "stdout",
          "output_type": "stream",
          "text": [
            "Processed batch 6688 to 6720\n"
          ]
        },
        {
          "name": "stderr",
          "output_type": "stream",
          "text": [
            "\r\n",
            " 43%|████▎     | 211/488 [46:39<1:03:10, 13.69s/it]"
          ]
        },
        {
          "name": "stdout",
          "output_type": "stream",
          "text": [
            "Processed batch 6720 to 6752\n"
          ]
        },
        {
          "name": "stderr",
          "output_type": "stream",
          "text": [
            "\r\n",
            " 43%|████▎     | 212/488 [46:54<1:04:22, 14.00s/it]"
          ]
        },
        {
          "name": "stdout",
          "output_type": "stream",
          "text": [
            "Processed batch 6752 to 6784\n"
          ]
        },
        {
          "name": "stderr",
          "output_type": "stream",
          "text": [
            "\r\n",
            " 44%|████▎     | 213/488 [47:04<59:16, 12.93s/it]  "
          ]
        },
        {
          "name": "stdout",
          "output_type": "stream",
          "text": [
            "Processed batch 6784 to 6816\n"
          ]
        },
        {
          "name": "stderr",
          "output_type": "stream",
          "text": [
            "\r\n",
            " 44%|████▍     | 214/488 [47:19<1:01:30, 13.47s/it]"
          ]
        },
        {
          "name": "stdout",
          "output_type": "stream",
          "text": [
            "Processed batch 6816 to 6848\n"
          ]
        },
        {
          "name": "stderr",
          "output_type": "stream",
          "text": [
            "\r\n",
            " 44%|████▍     | 215/488 [47:33<1:01:52, 13.60s/it]"
          ]
        },
        {
          "name": "stdout",
          "output_type": "stream",
          "text": [
            "Processed batch 6848 to 6880\n"
          ]
        },
        {
          "name": "stderr",
          "output_type": "stream",
          "text": [
            "\r\n",
            " 44%|████▍     | 216/488 [47:47<1:02:39, 13.82s/it]"
          ]
        },
        {
          "name": "stdout",
          "output_type": "stream",
          "text": [
            "Processed batch 6880 to 6912\n"
          ]
        },
        {
          "name": "stderr",
          "output_type": "stream",
          "text": [
            "\r\n",
            " 44%|████▍     | 217/488 [48:03<1:04:42, 14.33s/it]"
          ]
        },
        {
          "name": "stdout",
          "output_type": "stream",
          "text": [
            "Processed batch 6912 to 6944\n"
          ]
        },
        {
          "name": "stderr",
          "output_type": "stream",
          "text": [
            "\r\n",
            " 45%|████▍     | 218/488 [48:16<1:03:11, 14.04s/it]"
          ]
        },
        {
          "name": "stdout",
          "output_type": "stream",
          "text": [
            "Processed batch 6944 to 6976\n"
          ]
        },
        {
          "name": "stderr",
          "output_type": "stream",
          "text": [
            "\r\n",
            " 45%|████▍     | 219/488 [48:31<1:03:23, 14.14s/it]"
          ]
        },
        {
          "name": "stdout",
          "output_type": "stream",
          "text": [
            "Processed batch 6976 to 7008\n"
          ]
        },
        {
          "name": "stderr",
          "output_type": "stream",
          "text": [
            "\r\n",
            " 45%|████▌     | 220/488 [48:45<1:02:47, 14.06s/it]"
          ]
        },
        {
          "name": "stdout",
          "output_type": "stream",
          "text": [
            "Processed batch 7008 to 7040\n"
          ]
        },
        {
          "name": "stderr",
          "output_type": "stream",
          "text": [
            "\r\n",
            " 45%|████▌     | 221/488 [48:58<1:01:20, 13.79s/it]"
          ]
        },
        {
          "name": "stdout",
          "output_type": "stream",
          "text": [
            "Processed batch 7040 to 7072\n"
          ]
        },
        {
          "name": "stderr",
          "output_type": "stream",
          "text": [
            "\r\n",
            " 45%|████▌     | 222/488 [49:13<1:02:41, 14.14s/it]"
          ]
        },
        {
          "name": "stdout",
          "output_type": "stream",
          "text": [
            "Processed batch 7072 to 7104\n"
          ]
        },
        {
          "name": "stderr",
          "output_type": "stream",
          "text": [
            "\r\n",
            " 46%|████▌     | 223/488 [49:25<59:35, 13.49s/it]  "
          ]
        },
        {
          "name": "stdout",
          "output_type": "stream",
          "text": [
            "Processed batch 7104 to 7136\n"
          ]
        },
        {
          "name": "stderr",
          "output_type": "stream",
          "text": [
            "\r\n",
            " 46%|████▌     | 224/488 [49:40<1:02:29, 14.20s/it]"
          ]
        },
        {
          "name": "stdout",
          "output_type": "stream",
          "text": [
            "Processed batch 7136 to 7168\n"
          ]
        },
        {
          "name": "stderr",
          "output_type": "stream",
          "text": [
            "\r\n",
            " 46%|████▌     | 225/488 [49:52<59:22, 13.55s/it]  "
          ]
        },
        {
          "name": "stdout",
          "output_type": "stream",
          "text": [
            "Processed batch 7168 to 7200\n"
          ]
        },
        {
          "name": "stderr",
          "output_type": "stream",
          "text": [
            "\r\n",
            " 46%|████▋     | 226/488 [50:06<58:39, 13.43s/it]"
          ]
        },
        {
          "name": "stdout",
          "output_type": "stream",
          "text": [
            "Processed batch 7200 to 7232\n"
          ]
        },
        {
          "name": "stderr",
          "output_type": "stream",
          "text": [
            "\r\n",
            " 47%|████▋     | 227/488 [50:20<59:22, 13.65s/it]"
          ]
        },
        {
          "name": "stdout",
          "output_type": "stream",
          "text": [
            "Processed batch 7232 to 7264\n"
          ]
        },
        {
          "name": "stderr",
          "output_type": "stream",
          "text": [
            "\r\n",
            " 47%|████▋     | 228/488 [50:33<58:27, 13.49s/it]"
          ]
        },
        {
          "name": "stdout",
          "output_type": "stream",
          "text": [
            "Processed batch 7264 to 7296\n"
          ]
        },
        {
          "name": "stderr",
          "output_type": "stream",
          "text": [
            "\r\n",
            " 47%|████▋     | 229/488 [50:48<59:43, 13.84s/it]"
          ]
        },
        {
          "name": "stdout",
          "output_type": "stream",
          "text": [
            "Processed batch 7296 to 7328\n"
          ]
        },
        {
          "name": "stderr",
          "output_type": "stream",
          "text": [
            "\r\n",
            " 47%|████▋     | 230/488 [51:02<59:59, 13.95s/it]"
          ]
        },
        {
          "name": "stdout",
          "output_type": "stream",
          "text": [
            "Processed batch 7328 to 7360\n"
          ]
        },
        {
          "name": "stderr",
          "output_type": "stream",
          "text": [
            "\r\n",
            " 47%|████▋     | 231/488 [51:14<57:34, 13.44s/it]"
          ]
        },
        {
          "name": "stdout",
          "output_type": "stream",
          "text": [
            "Processed batch 7360 to 7392\n"
          ]
        },
        {
          "name": "stderr",
          "output_type": "stream",
          "text": [
            "\r\n",
            " 48%|████▊     | 232/488 [51:25<54:05, 12.68s/it]"
          ]
        },
        {
          "name": "stdout",
          "output_type": "stream",
          "text": [
            "Processed batch 7392 to 7424\n"
          ]
        },
        {
          "name": "stderr",
          "output_type": "stream",
          "text": [
            "\r\n",
            " 48%|████▊     | 233/488 [51:37<52:57, 12.46s/it]"
          ]
        },
        {
          "name": "stdout",
          "output_type": "stream",
          "text": [
            "Processed batch 7424 to 7456\n"
          ]
        },
        {
          "name": "stderr",
          "output_type": "stream",
          "text": [
            "\r\n",
            " 48%|████▊     | 234/488 [51:49<52:32, 12.41s/it]"
          ]
        },
        {
          "name": "stdout",
          "output_type": "stream",
          "text": [
            "Processed batch 7456 to 7488\n"
          ]
        },
        {
          "name": "stderr",
          "output_type": "stream",
          "text": [
            "\r\n",
            " 48%|████▊     | 235/488 [52:03<54:18, 12.88s/it]"
          ]
        },
        {
          "name": "stdout",
          "output_type": "stream",
          "text": [
            "Processed batch 7488 to 7520\n"
          ]
        },
        {
          "name": "stderr",
          "output_type": "stream",
          "text": [
            "\r\n",
            " 48%|████▊     | 236/488 [52:17<55:51, 13.30s/it]"
          ]
        },
        {
          "name": "stdout",
          "output_type": "stream",
          "text": [
            "Processed batch 7520 to 7552\n"
          ]
        },
        {
          "name": "stderr",
          "output_type": "stream",
          "text": [
            "\r\n",
            " 49%|████▊     | 237/488 [52:30<54:44, 13.09s/it]"
          ]
        },
        {
          "name": "stdout",
          "output_type": "stream",
          "text": [
            "Processed batch 7552 to 7584\n"
          ]
        },
        {
          "name": "stderr",
          "output_type": "stream",
          "text": [
            "\r\n",
            " 49%|████▉     | 238/488 [52:39<49:41, 11.93s/it]"
          ]
        },
        {
          "name": "stdout",
          "output_type": "stream",
          "text": [
            "Processed batch 7584 to 7616\n"
          ]
        },
        {
          "name": "stderr",
          "output_type": "stream",
          "text": [
            "\r\n",
            " 49%|████▉     | 239/488 [52:52<50:04, 12.07s/it]"
          ]
        },
        {
          "name": "stdout",
          "output_type": "stream",
          "text": [
            "Processed batch 7616 to 7648\n"
          ]
        },
        {
          "name": "stderr",
          "output_type": "stream",
          "text": [
            "\r\n",
            " 49%|████▉     | 240/488 [53:05<51:10, 12.38s/it]"
          ]
        },
        {
          "name": "stdout",
          "output_type": "stream",
          "text": [
            "Processed batch 7648 to 7680\n"
          ]
        },
        {
          "name": "stderr",
          "output_type": "stream",
          "text": [
            "\r\n",
            " 49%|████▉     | 241/488 [53:18<51:35, 12.53s/it]"
          ]
        },
        {
          "name": "stdout",
          "output_type": "stream",
          "text": [
            "Processed batch 7680 to 7712\n"
          ]
        },
        {
          "name": "stderr",
          "output_type": "stream",
          "text": [
            "\r\n",
            " 50%|████▉     | 242/488 [53:31<52:02, 12.69s/it]"
          ]
        },
        {
          "name": "stdout",
          "output_type": "stream",
          "text": [
            "Processed batch 7712 to 7744\n"
          ]
        },
        {
          "name": "stderr",
          "output_type": "stream",
          "text": [
            "\r\n",
            " 50%|████▉     | 243/488 [53:42<49:56, 12.23s/it]"
          ]
        },
        {
          "name": "stdout",
          "output_type": "stream",
          "text": [
            "Processed batch 7744 to 7776\n"
          ]
        },
        {
          "name": "stderr",
          "output_type": "stream",
          "text": [
            "\r\n",
            " 50%|█████     | 244/488 [53:55<50:43, 12.47s/it]"
          ]
        },
        {
          "name": "stdout",
          "output_type": "stream",
          "text": [
            "Processed batch 7776 to 7808\n"
          ]
        },
        {
          "name": "stderr",
          "output_type": "stream",
          "text": [
            "\r\n",
            " 50%|█████     | 245/488 [54:07<49:42, 12.27s/it]"
          ]
        },
        {
          "name": "stdout",
          "output_type": "stream",
          "text": [
            "Processed batch 7808 to 7840\n"
          ]
        },
        {
          "name": "stderr",
          "output_type": "stream",
          "text": [
            "\r\n",
            " 50%|█████     | 246/488 [54:21<51:24, 12.74s/it]"
          ]
        },
        {
          "name": "stdout",
          "output_type": "stream",
          "text": [
            "Processed batch 7840 to 7872\n"
          ]
        },
        {
          "name": "stderr",
          "output_type": "stream",
          "text": [
            "\r\n",
            " 51%|█████     | 247/488 [54:33<51:20, 12.78s/it]"
          ]
        },
        {
          "name": "stdout",
          "output_type": "stream",
          "text": [
            "Processed batch 7872 to 7904\n"
          ]
        },
        {
          "name": "stderr",
          "output_type": "stream",
          "text": [
            "\r\n",
            " 51%|█████     | 248/488 [54:47<52:39, 13.17s/it]"
          ]
        },
        {
          "name": "stdout",
          "output_type": "stream",
          "text": [
            "Processed batch 7904 to 7936\n"
          ]
        },
        {
          "name": "stderr",
          "output_type": "stream",
          "text": [
            "\r\n",
            " 51%|█████     | 249/488 [55:02<54:31, 13.69s/it]"
          ]
        },
        {
          "name": "stdout",
          "output_type": "stream",
          "text": [
            "Processed batch 7936 to 7968\n"
          ]
        },
        {
          "name": "stderr",
          "output_type": "stream",
          "text": [
            "\r\n",
            " 51%|█████     | 250/488 [55:16<54:08, 13.65s/it]"
          ]
        },
        {
          "name": "stdout",
          "output_type": "stream",
          "text": [
            "Processed batch 7968 to 8000\n"
          ]
        },
        {
          "name": "stderr",
          "output_type": "stream",
          "text": [
            "\r\n",
            " 51%|█████▏    | 251/488 [55:29<53:27, 13.54s/it]"
          ]
        },
        {
          "name": "stdout",
          "output_type": "stream",
          "text": [
            "Processed batch 8000 to 8032\n"
          ]
        },
        {
          "name": "stderr",
          "output_type": "stream",
          "text": [
            "\r\n",
            " 52%|█████▏    | 252/488 [55:43<54:04, 13.75s/it]"
          ]
        },
        {
          "name": "stdout",
          "output_type": "stream",
          "text": [
            "Processed batch 8032 to 8064\n"
          ]
        },
        {
          "name": "stderr",
          "output_type": "stream",
          "text": [
            "\r\n",
            " 52%|█████▏    | 253/488 [55:57<53:30, 13.66s/it]"
          ]
        },
        {
          "name": "stdout",
          "output_type": "stream",
          "text": [
            "Processed batch 8064 to 8096\n"
          ]
        },
        {
          "name": "stderr",
          "output_type": "stream",
          "text": [
            "\r\n",
            " 52%|█████▏    | 254/488 [56:09<51:06, 13.10s/it]"
          ]
        },
        {
          "name": "stdout",
          "output_type": "stream",
          "text": [
            "Processed batch 8096 to 8128\n"
          ]
        },
        {
          "name": "stderr",
          "output_type": "stream",
          "text": [
            "\r\n",
            " 52%|█████▏    | 255/488 [56:22<50:54, 13.11s/it]"
          ]
        },
        {
          "name": "stdout",
          "output_type": "stream",
          "text": [
            "Processed batch 8128 to 8160\n"
          ]
        },
        {
          "name": "stderr",
          "output_type": "stream",
          "text": [
            "\r\n",
            " 52%|█████▏    | 256/488 [56:36<51:51, 13.41s/it]"
          ]
        },
        {
          "name": "stdout",
          "output_type": "stream",
          "text": [
            "Processed batch 8160 to 8192\n"
          ]
        },
        {
          "name": "stderr",
          "output_type": "stream",
          "text": [
            "\r\n",
            " 53%|█████▎    | 257/488 [56:48<50:19, 13.07s/it]"
          ]
        },
        {
          "name": "stdout",
          "output_type": "stream",
          "text": [
            "Processed batch 8192 to 8224\n"
          ]
        },
        {
          "name": "stderr",
          "output_type": "stream",
          "text": [
            "\r\n",
            " 53%|█████▎    | 258/488 [57:02<50:28, 13.17s/it]"
          ]
        },
        {
          "name": "stdout",
          "output_type": "stream",
          "text": [
            "Processed batch 8224 to 8256\n"
          ]
        },
        {
          "name": "stderr",
          "output_type": "stream",
          "text": [
            "\r\n",
            " 53%|█████▎    | 259/488 [57:15<50:13, 13.16s/it]"
          ]
        },
        {
          "name": "stdout",
          "output_type": "stream",
          "text": [
            "Processed batch 8256 to 8288\n"
          ]
        },
        {
          "name": "stderr",
          "output_type": "stream",
          "text": [
            "\r\n",
            " 53%|█████▎    | 260/488 [57:25<46:08, 12.14s/it]"
          ]
        },
        {
          "name": "stdout",
          "output_type": "stream",
          "text": [
            "Processed batch 8288 to 8320\n"
          ]
        },
        {
          "name": "stderr",
          "output_type": "stream",
          "text": [
            "\r\n",
            " 53%|█████▎    | 261/488 [57:36<45:00, 11.90s/it]"
          ]
        },
        {
          "name": "stdout",
          "output_type": "stream",
          "text": [
            "Processed batch 8320 to 8352\n"
          ]
        },
        {
          "name": "stderr",
          "output_type": "stream",
          "text": [
            "\r\n",
            " 54%|█████▎    | 262/488 [57:48<44:51, 11.91s/it]"
          ]
        },
        {
          "name": "stdout",
          "output_type": "stream",
          "text": [
            "Processed batch 8352 to 8384\n"
          ]
        },
        {
          "name": "stderr",
          "output_type": "stream",
          "text": [
            "\r\n",
            " 54%|█████▍    | 263/488 [58:01<46:11, 12.32s/it]"
          ]
        },
        {
          "name": "stdout",
          "output_type": "stream",
          "text": [
            "Processed batch 8384 to 8416\n"
          ]
        },
        {
          "name": "stderr",
          "output_type": "stream",
          "text": [
            "\r\n",
            " 54%|█████▍    | 264/488 [58:14<46:52, 12.56s/it]"
          ]
        },
        {
          "name": "stdout",
          "output_type": "stream",
          "text": [
            "Processed batch 8416 to 8448\n"
          ]
        },
        {
          "name": "stderr",
          "output_type": "stream",
          "text": [
            "\r\n",
            " 54%|█████▍    | 265/488 [58:27<46:34, 12.53s/it]"
          ]
        },
        {
          "name": "stdout",
          "output_type": "stream",
          "text": [
            "Processed batch 8448 to 8480\n"
          ]
        },
        {
          "name": "stderr",
          "output_type": "stream",
          "text": [
            "\r\n",
            " 55%|█████▍    | 266/488 [58:40<47:36, 12.87s/it]"
          ]
        },
        {
          "name": "stdout",
          "output_type": "stream",
          "text": [
            "Processed batch 8480 to 8512\n"
          ]
        },
        {
          "name": "stderr",
          "output_type": "stream",
          "text": [
            "\r\n",
            " 55%|█████▍    | 267/488 [58:52<46:32, 12.63s/it]"
          ]
        },
        {
          "name": "stdout",
          "output_type": "stream",
          "text": [
            "Processed batch 8512 to 8544\n"
          ]
        },
        {
          "name": "stderr",
          "output_type": "stream",
          "text": [
            "\r\n",
            " 55%|█████▍    | 268/488 [59:07<48:01, 13.10s/it]"
          ]
        },
        {
          "name": "stdout",
          "output_type": "stream",
          "text": [
            "Processed batch 8544 to 8576\n"
          ]
        },
        {
          "name": "stderr",
          "output_type": "stream",
          "text": [
            "\r\n",
            " 55%|█████▌    | 269/488 [59:21<49:09, 13.47s/it]"
          ]
        },
        {
          "name": "stdout",
          "output_type": "stream",
          "text": [
            "Processed batch 8576 to 8608\n"
          ]
        },
        {
          "name": "stderr",
          "output_type": "stream",
          "text": [
            "\r\n",
            " 55%|█████▌    | 270/488 [59:35<49:18, 13.57s/it]"
          ]
        },
        {
          "name": "stdout",
          "output_type": "stream",
          "text": [
            "Processed batch 8608 to 8640\n"
          ]
        },
        {
          "name": "stderr",
          "output_type": "stream",
          "text": [
            "\r\n",
            " 56%|█████▌    | 271/488 [59:45<45:49, 12.67s/it]"
          ]
        },
        {
          "name": "stdout",
          "output_type": "stream",
          "text": [
            "Processed batch 8640 to 8672\n"
          ]
        },
        {
          "name": "stderr",
          "output_type": "stream",
          "text": [
            "\r\n",
            " 56%|█████▌    | 272/488 [59:58<45:09, 12.54s/it]"
          ]
        },
        {
          "name": "stdout",
          "output_type": "stream",
          "text": [
            "Processed batch 8672 to 8704\n"
          ]
        },
        {
          "name": "stderr",
          "output_type": "stream",
          "text": [
            "\r\n",
            " 56%|█████▌    | 273/488 [1:00:08<43:00, 12.00s/it]"
          ]
        },
        {
          "name": "stdout",
          "output_type": "stream",
          "text": [
            "Processed batch 8704 to 8736\n"
          ]
        },
        {
          "name": "stderr",
          "output_type": "stream",
          "text": [
            "\r\n",
            " 56%|█████▌    | 274/488 [1:00:21<43:37, 12.23s/it]"
          ]
        },
        {
          "name": "stdout",
          "output_type": "stream",
          "text": [
            "Processed batch 8736 to 8768\n"
          ]
        },
        {
          "name": "stderr",
          "output_type": "stream",
          "text": [
            "\r\n",
            " 56%|█████▋    | 275/488 [1:00:34<44:28, 12.53s/it]"
          ]
        },
        {
          "name": "stdout",
          "output_type": "stream",
          "text": [
            "Processed batch 8768 to 8800\n"
          ]
        },
        {
          "name": "stderr",
          "output_type": "stream",
          "text": [
            "\r\n",
            " 57%|█████▋    | 276/488 [1:00:47<44:44, 12.66s/it]"
          ]
        },
        {
          "name": "stdout",
          "output_type": "stream",
          "text": [
            "Processed batch 8800 to 8832\n"
          ]
        },
        {
          "name": "stderr",
          "output_type": "stream",
          "text": [
            "\r\n",
            " 57%|█████▋    | 277/488 [1:01:01<45:17, 12.88s/it]"
          ]
        },
        {
          "name": "stdout",
          "output_type": "stream",
          "text": [
            "Processed batch 8832 to 8864\n"
          ]
        },
        {
          "name": "stderr",
          "output_type": "stream",
          "text": [
            "\r\n",
            " 57%|█████▋    | 278/488 [1:01:16<48:03, 13.73s/it]"
          ]
        },
        {
          "name": "stdout",
          "output_type": "stream",
          "text": [
            "Processed batch 8864 to 8896\n"
          ]
        },
        {
          "name": "stderr",
          "output_type": "stream",
          "text": [
            "\r\n",
            " 57%|█████▋    | 279/488 [1:01:32<49:27, 14.20s/it]"
          ]
        },
        {
          "name": "stdout",
          "output_type": "stream",
          "text": [
            "Processed batch 8896 to 8928\n"
          ]
        },
        {
          "name": "stderr",
          "output_type": "stream",
          "text": [
            "\r\n",
            " 57%|█████▋    | 280/488 [1:01:45<48:12, 13.91s/it]"
          ]
        },
        {
          "name": "stdout",
          "output_type": "stream",
          "text": [
            "Processed batch 8928 to 8960\n"
          ]
        },
        {
          "name": "stderr",
          "output_type": "stream",
          "text": [
            "\r\n",
            " 58%|█████▊    | 281/488 [1:01:56<45:03, 13.06s/it]"
          ]
        },
        {
          "name": "stdout",
          "output_type": "stream",
          "text": [
            "Processed batch 8960 to 8992\n"
          ]
        },
        {
          "name": "stderr",
          "output_type": "stream",
          "text": [
            "\r\n",
            " 58%|█████▊    | 282/488 [1:02:08<43:21, 12.63s/it]"
          ]
        },
        {
          "name": "stdout",
          "output_type": "stream",
          "text": [
            "Processed batch 8992 to 9024\n"
          ]
        },
        {
          "name": "stderr",
          "output_type": "stream",
          "text": [
            "\r\n",
            " 58%|█████▊    | 283/488 [1:02:21<43:56, 12.86s/it]"
          ]
        },
        {
          "name": "stdout",
          "output_type": "stream",
          "text": [
            "Processed batch 9024 to 9056\n"
          ]
        },
        {
          "name": "stderr",
          "output_type": "stream",
          "text": [
            "\r\n",
            " 58%|█████▊    | 284/488 [1:02:34<44:10, 12.99s/it]"
          ]
        },
        {
          "name": "stdout",
          "output_type": "stream",
          "text": [
            "Processed batch 9056 to 9088\n"
          ]
        },
        {
          "name": "stderr",
          "output_type": "stream",
          "text": [
            "\r\n",
            " 58%|█████▊    | 285/488 [1:02:45<41:39, 12.31s/it]"
          ]
        },
        {
          "name": "stdout",
          "output_type": "stream",
          "text": [
            "Processed batch 9088 to 9120\n"
          ]
        },
        {
          "name": "stderr",
          "output_type": "stream",
          "text": [
            "\r\n",
            " 59%|█████▊    | 286/488 [1:02:58<41:37, 12.37s/it]"
          ]
        },
        {
          "name": "stdout",
          "output_type": "stream",
          "text": [
            "Processed batch 9120 to 9152\n"
          ]
        },
        {
          "name": "stderr",
          "output_type": "stream",
          "text": [
            "\r\n",
            " 59%|█████▉    | 287/488 [1:03:09<40:38, 12.13s/it]"
          ]
        },
        {
          "name": "stdout",
          "output_type": "stream",
          "text": [
            "Processed batch 9152 to 9184\n"
          ]
        },
        {
          "name": "stderr",
          "output_type": "stream",
          "text": [
            "\r\n",
            " 59%|█████▉    | 288/488 [1:03:24<42:54, 12.87s/it]"
          ]
        },
        {
          "name": "stdout",
          "output_type": "stream",
          "text": [
            "Processed batch 9184 to 9216\n"
          ]
        },
        {
          "name": "stderr",
          "output_type": "stream",
          "text": [
            "\r\n",
            " 59%|█████▉    | 289/488 [1:03:39<44:45, 13.49s/it]"
          ]
        },
        {
          "name": "stdout",
          "output_type": "stream",
          "text": [
            "Processed batch 9216 to 9248\n"
          ]
        },
        {
          "name": "stderr",
          "output_type": "stream",
          "text": [
            "\r\n",
            " 59%|█████▉    | 290/488 [1:03:51<43:26, 13.16s/it]"
          ]
        },
        {
          "name": "stdout",
          "output_type": "stream",
          "text": [
            "Processed batch 9248 to 9280\n"
          ]
        },
        {
          "name": "stderr",
          "output_type": "stream",
          "text": [
            "\r\n",
            " 60%|█████▉    | 291/488 [1:04:03<42:32, 12.96s/it]"
          ]
        },
        {
          "name": "stdout",
          "output_type": "stream",
          "text": [
            "Processed batch 9280 to 9312\n"
          ]
        },
        {
          "name": "stderr",
          "output_type": "stream",
          "text": [
            "\r\n",
            " 60%|█████▉    | 292/488 [1:04:19<44:23, 13.59s/it]"
          ]
        },
        {
          "name": "stdout",
          "output_type": "stream",
          "text": [
            "Processed batch 9312 to 9344\n"
          ]
        },
        {
          "name": "stderr",
          "output_type": "stream",
          "text": [
            "\r\n",
            " 60%|██████    | 293/488 [1:04:33<45:17, 13.94s/it]"
          ]
        },
        {
          "name": "stdout",
          "output_type": "stream",
          "text": [
            "Processed batch 9344 to 9376\n"
          ]
        },
        {
          "name": "stderr",
          "output_type": "stream",
          "text": [
            "\r\n",
            " 60%|██████    | 294/488 [1:04:45<42:58, 13.29s/it]"
          ]
        },
        {
          "name": "stdout",
          "output_type": "stream",
          "text": [
            "Processed batch 9376 to 9408\n"
          ]
        },
        {
          "name": "stderr",
          "output_type": "stream",
          "text": [
            "\r\n",
            " 60%|██████    | 295/488 [1:04:59<43:28, 13.51s/it]"
          ]
        },
        {
          "name": "stdout",
          "output_type": "stream",
          "text": [
            "Processed batch 9408 to 9440\n"
          ]
        },
        {
          "name": "stderr",
          "output_type": "stream",
          "text": [
            "\r\n",
            " 61%|██████    | 296/488 [1:05:11<41:39, 13.02s/it]"
          ]
        },
        {
          "name": "stdout",
          "output_type": "stream",
          "text": [
            "Processed batch 9440 to 9472\n"
          ]
        },
        {
          "name": "stderr",
          "output_type": "stream",
          "text": [
            "\r\n",
            " 61%|██████    | 297/488 [1:05:25<41:58, 13.19s/it]"
          ]
        },
        {
          "name": "stdout",
          "output_type": "stream",
          "text": [
            "Processed batch 9472 to 9504\n"
          ]
        },
        {
          "name": "stderr",
          "output_type": "stream",
          "text": [
            "\r\n",
            " 61%|██████    | 298/488 [1:05:37<41:08, 12.99s/it]"
          ]
        },
        {
          "name": "stdout",
          "output_type": "stream",
          "text": [
            "Processed batch 9504 to 9536\n"
          ]
        },
        {
          "name": "stderr",
          "output_type": "stream",
          "text": [
            "\r\n",
            " 61%|██████▏   | 299/488 [1:05:50<41:15, 13.10s/it]"
          ]
        },
        {
          "name": "stdout",
          "output_type": "stream",
          "text": [
            "Processed batch 9536 to 9568\n"
          ]
        },
        {
          "name": "stderr",
          "output_type": "stream",
          "text": [
            "\r\n",
            " 61%|██████▏   | 300/488 [1:06:01<39:05, 12.47s/it]"
          ]
        },
        {
          "name": "stdout",
          "output_type": "stream",
          "text": [
            "Processed batch 9568 to 9600\n"
          ]
        },
        {
          "name": "stderr",
          "output_type": "stream",
          "text": [
            "\r\n",
            " 62%|██████▏   | 301/488 [1:06:15<39:24, 12.64s/it]"
          ]
        },
        {
          "name": "stdout",
          "output_type": "stream",
          "text": [
            "Processed batch 9600 to 9632\n"
          ]
        },
        {
          "name": "stderr",
          "output_type": "stream",
          "text": [
            "\r\n",
            " 62%|██████▏   | 302/488 [1:06:26<38:32, 12.43s/it]"
          ]
        },
        {
          "name": "stdout",
          "output_type": "stream",
          "text": [
            "Processed batch 9632 to 9664\n"
          ]
        },
        {
          "name": "stderr",
          "output_type": "stream",
          "text": [
            "\r\n",
            " 62%|██████▏   | 303/488 [1:06:39<38:10, 12.38s/it]"
          ]
        },
        {
          "name": "stdout",
          "output_type": "stream",
          "text": [
            "Processed batch 9664 to 9696\n"
          ]
        },
        {
          "name": "stderr",
          "output_type": "stream",
          "text": [
            "\r\n",
            " 62%|██████▏   | 304/488 [1:06:51<38:06, 12.43s/it]"
          ]
        },
        {
          "name": "stdout",
          "output_type": "stream",
          "text": [
            "Processed batch 9696 to 9728\n"
          ]
        },
        {
          "name": "stderr",
          "output_type": "stream",
          "text": [
            "\r\n",
            " 62%|██████▎   | 305/488 [1:07:06<39:56, 13.09s/it]"
          ]
        },
        {
          "name": "stdout",
          "output_type": "stream",
          "text": [
            "Processed batch 9728 to 9760\n"
          ]
        },
        {
          "name": "stderr",
          "output_type": "stream",
          "text": [
            "\r\n",
            " 63%|██████▎   | 306/488 [1:07:20<40:53, 13.48s/it]"
          ]
        },
        {
          "name": "stdout",
          "output_type": "stream",
          "text": [
            "Processed batch 9760 to 9792\n"
          ]
        },
        {
          "name": "stderr",
          "output_type": "stream",
          "text": [
            "\r\n",
            " 63%|██████▎   | 307/488 [1:07:34<40:34, 13.45s/it]"
          ]
        },
        {
          "name": "stdout",
          "output_type": "stream",
          "text": [
            "Processed batch 9792 to 9824\n"
          ]
        },
        {
          "name": "stderr",
          "output_type": "stream",
          "text": [
            "\r\n",
            " 63%|██████▎   | 308/488 [1:07:46<39:42, 13.24s/it]"
          ]
        },
        {
          "name": "stdout",
          "output_type": "stream",
          "text": [
            "Processed batch 9824 to 9856\n"
          ]
        },
        {
          "name": "stderr",
          "output_type": "stream",
          "text": [
            "\r\n",
            " 63%|██████▎   | 309/488 [1:08:00<40:12, 13.48s/it]"
          ]
        },
        {
          "name": "stdout",
          "output_type": "stream",
          "text": [
            "Processed batch 9856 to 9888\n"
          ]
        },
        {
          "name": "stderr",
          "output_type": "stream",
          "text": [
            "\r\n",
            " 64%|██████▎   | 310/488 [1:08:15<40:34, 13.68s/it]"
          ]
        },
        {
          "name": "stdout",
          "output_type": "stream",
          "text": [
            "Processed batch 9888 to 9920\n"
          ]
        },
        {
          "name": "stderr",
          "output_type": "stream",
          "text": [
            "\r\n",
            " 64%|██████▎   | 311/488 [1:08:27<39:06, 13.25s/it]"
          ]
        },
        {
          "name": "stdout",
          "output_type": "stream",
          "text": [
            "Processed batch 9920 to 9952\n"
          ]
        },
        {
          "name": "stderr",
          "output_type": "stream",
          "text": [
            "\r\n",
            " 64%|██████▍   | 312/488 [1:08:38<37:26, 12.76s/it]"
          ]
        },
        {
          "name": "stdout",
          "output_type": "stream",
          "text": [
            "Processed batch 9952 to 9984\n"
          ]
        },
        {
          "name": "stderr",
          "output_type": "stream",
          "text": [
            "\r\n",
            " 64%|██████▍   | 313/488 [1:08:49<35:34, 12.19s/it]"
          ]
        },
        {
          "name": "stdout",
          "output_type": "stream",
          "text": [
            "Processed batch 9984 to 10016\n"
          ]
        },
        {
          "name": "stderr",
          "output_type": "stream",
          "text": [
            "\r\n",
            " 64%|██████▍   | 314/488 [1:09:02<35:23, 12.21s/it]"
          ]
        },
        {
          "name": "stdout",
          "output_type": "stream",
          "text": [
            "Processed batch 10016 to 10048\n"
          ]
        },
        {
          "name": "stderr",
          "output_type": "stream",
          "text": [
            "\r\n",
            " 65%|██████▍   | 315/488 [1:09:16<37:08, 12.88s/it]"
          ]
        },
        {
          "name": "stdout",
          "output_type": "stream",
          "text": [
            "Processed batch 10048 to 10080\n"
          ]
        },
        {
          "name": "stderr",
          "output_type": "stream",
          "text": [
            "\r\n",
            " 65%|██████▍   | 316/488 [1:09:28<36:27, 12.72s/it]"
          ]
        },
        {
          "name": "stdout",
          "output_type": "stream",
          "text": [
            "Processed batch 10080 to 10112\n"
          ]
        },
        {
          "name": "stderr",
          "output_type": "stream",
          "text": [
            "\r\n",
            " 65%|██████▍   | 317/488 [1:09:41<35:58, 12.62s/it]"
          ]
        },
        {
          "name": "stdout",
          "output_type": "stream",
          "text": [
            "Processed batch 10112 to 10144\n"
          ]
        },
        {
          "name": "stderr",
          "output_type": "stream",
          "text": [
            "\r\n",
            " 65%|██████▌   | 318/488 [1:09:53<35:50, 12.65s/it]"
          ]
        },
        {
          "name": "stdout",
          "output_type": "stream",
          "text": [
            "Processed batch 10144 to 10176\n"
          ]
        },
        {
          "name": "stderr",
          "output_type": "stream",
          "text": [
            "\r\n",
            " 65%|██████▌   | 319/488 [1:10:08<37:36, 13.35s/it]"
          ]
        },
        {
          "name": "stdout",
          "output_type": "stream",
          "text": [
            "Processed batch 10176 to 10208\n"
          ]
        },
        {
          "name": "stderr",
          "output_type": "stream",
          "text": [
            "\r\n",
            " 66%|██████▌   | 320/488 [1:10:22<37:14, 13.30s/it]"
          ]
        },
        {
          "name": "stdout",
          "output_type": "stream",
          "text": [
            "Processed batch 10208 to 10240\n"
          ]
        },
        {
          "name": "stderr",
          "output_type": "stream",
          "text": [
            "\r\n",
            " 66%|██████▌   | 321/488 [1:10:34<36:38, 13.16s/it]"
          ]
        },
        {
          "name": "stdout",
          "output_type": "stream",
          "text": [
            "Processed batch 10240 to 10272\n"
          ]
        },
        {
          "name": "stderr",
          "output_type": "stream",
          "text": [
            "\r\n",
            " 66%|██████▌   | 322/488 [1:10:48<36:27, 13.18s/it]"
          ]
        },
        {
          "name": "stdout",
          "output_type": "stream",
          "text": [
            "Processed batch 10272 to 10304\n"
          ]
        },
        {
          "name": "stderr",
          "output_type": "stream",
          "text": [
            "\r\n",
            " 66%|██████▌   | 323/488 [1:11:02<37:34, 13.66s/it]"
          ]
        },
        {
          "name": "stdout",
          "output_type": "stream",
          "text": [
            "Processed batch 10304 to 10336\n"
          ]
        },
        {
          "name": "stderr",
          "output_type": "stream",
          "text": [
            "\r\n",
            " 66%|██████▋   | 324/488 [1:11:14<35:37, 13.03s/it]"
          ]
        },
        {
          "name": "stdout",
          "output_type": "stream",
          "text": [
            "Processed batch 10336 to 10368\n"
          ]
        },
        {
          "name": "stderr",
          "output_type": "stream",
          "text": [
            "\r\n",
            " 67%|██████▋   | 325/488 [1:11:24<33:07, 12.19s/it]"
          ]
        },
        {
          "name": "stdout",
          "output_type": "stream",
          "text": [
            "Processed batch 10368 to 10400\n"
          ]
        },
        {
          "name": "stderr",
          "output_type": "stream",
          "text": [
            "\r\n",
            " 67%|██████▋   | 326/488 [1:11:36<32:29, 12.03s/it]"
          ]
        },
        {
          "name": "stdout",
          "output_type": "stream",
          "text": [
            "Processed batch 10400 to 10432\n"
          ]
        },
        {
          "name": "stderr",
          "output_type": "stream",
          "text": [
            "\r\n",
            " 67%|██████▋   | 327/488 [1:11:50<33:40, 12.55s/it]"
          ]
        },
        {
          "name": "stdout",
          "output_type": "stream",
          "text": [
            "Processed batch 10432 to 10464\n"
          ]
        },
        {
          "name": "stderr",
          "output_type": "stream",
          "text": [
            "\r\n",
            " 67%|██████▋   | 328/488 [1:12:04<34:41, 13.01s/it]"
          ]
        },
        {
          "name": "stdout",
          "output_type": "stream",
          "text": [
            "Processed batch 10464 to 10496\n"
          ]
        },
        {
          "name": "stderr",
          "output_type": "stream",
          "text": [
            "\r\n",
            " 67%|██████▋   | 329/488 [1:12:16<34:11, 12.90s/it]"
          ]
        },
        {
          "name": "stdout",
          "output_type": "stream",
          "text": [
            "Processed batch 10496 to 10528\n"
          ]
        },
        {
          "name": "stderr",
          "output_type": "stream",
          "text": [
            "\r\n",
            " 68%|██████▊   | 330/488 [1:12:30<34:23, 13.06s/it]"
          ]
        },
        {
          "name": "stdout",
          "output_type": "stream",
          "text": [
            "Processed batch 10528 to 10560\n"
          ]
        },
        {
          "name": "stderr",
          "output_type": "stream",
          "text": [
            "\r\n",
            " 68%|██████▊   | 331/488 [1:12:43<33:55, 12.96s/it]"
          ]
        },
        {
          "name": "stdout",
          "output_type": "stream",
          "text": [
            "Processed batch 10560 to 10592\n"
          ]
        },
        {
          "name": "stderr",
          "output_type": "stream",
          "text": [
            "\r\n",
            " 68%|██████▊   | 332/488 [1:12:54<32:44, 12.59s/it]"
          ]
        },
        {
          "name": "stdout",
          "output_type": "stream",
          "text": [
            "Processed batch 10592 to 10624\n"
          ]
        },
        {
          "name": "stderr",
          "output_type": "stream",
          "text": [
            "\r\n",
            " 68%|██████▊   | 333/488 [1:13:08<33:42, 13.05s/it]"
          ]
        },
        {
          "name": "stdout",
          "output_type": "stream",
          "text": [
            "Processed batch 10624 to 10656\n"
          ]
        },
        {
          "name": "stderr",
          "output_type": "stream",
          "text": [
            "\r\n",
            " 68%|██████▊   | 334/488 [1:13:18<31:03, 12.10s/it]"
          ]
        },
        {
          "name": "stdout",
          "output_type": "stream",
          "text": [
            "Processed batch 10656 to 10688\n"
          ]
        },
        {
          "name": "stderr",
          "output_type": "stream",
          "text": [
            "\r\n",
            " 69%|██████▊   | 335/488 [1:13:31<31:17, 12.27s/it]"
          ]
        },
        {
          "name": "stdout",
          "output_type": "stream",
          "text": [
            "Processed batch 10688 to 10720\n"
          ]
        },
        {
          "name": "stderr",
          "output_type": "stream",
          "text": [
            "\r\n",
            " 69%|██████▉   | 336/488 [1:13:43<30:55, 12.21s/it]"
          ]
        },
        {
          "name": "stdout",
          "output_type": "stream",
          "text": [
            "Processed batch 10720 to 10752\n"
          ]
        },
        {
          "name": "stderr",
          "output_type": "stream",
          "text": [
            "\r\n",
            " 69%|██████▉   | 337/488 [1:13:57<32:09, 12.78s/it]"
          ]
        },
        {
          "name": "stdout",
          "output_type": "stream",
          "text": [
            "Processed batch 10752 to 10784\n"
          ]
        },
        {
          "name": "stderr",
          "output_type": "stream",
          "text": [
            "\r\n",
            " 69%|██████▉   | 338/488 [1:14:06<28:41, 11.47s/it]"
          ]
        },
        {
          "name": "stdout",
          "output_type": "stream",
          "text": [
            "Processed batch 10784 to 10816\n"
          ]
        },
        {
          "name": "stderr",
          "output_type": "stream",
          "text": [
            "\r\n",
            " 69%|██████▉   | 339/488 [1:14:20<30:31, 12.30s/it]"
          ]
        },
        {
          "name": "stdout",
          "output_type": "stream",
          "text": [
            "Processed batch 10816 to 10848\n"
          ]
        },
        {
          "name": "stderr",
          "output_type": "stream",
          "text": [
            "\r\n",
            " 70%|██████▉   | 340/488 [1:14:34<32:05, 13.01s/it]"
          ]
        },
        {
          "name": "stdout",
          "output_type": "stream",
          "text": [
            "Processed batch 10848 to 10880\n"
          ]
        },
        {
          "name": "stderr",
          "output_type": "stream",
          "text": [
            "\r\n",
            " 70%|██████▉   | 341/488 [1:14:49<33:04, 13.50s/it]"
          ]
        },
        {
          "name": "stdout",
          "output_type": "stream",
          "text": [
            "Processed batch 10880 to 10912\n"
          ]
        },
        {
          "name": "stderr",
          "output_type": "stream",
          "text": [
            "\r\n",
            " 70%|███████   | 342/488 [1:15:02<32:09, 13.21s/it]"
          ]
        },
        {
          "name": "stdout",
          "output_type": "stream",
          "text": [
            "Processed batch 10912 to 10944\n"
          ]
        },
        {
          "name": "stderr",
          "output_type": "stream",
          "text": [
            "\r\n",
            " 70%|███████   | 343/488 [1:15:13<30:17, 12.54s/it]"
          ]
        },
        {
          "name": "stdout",
          "output_type": "stream",
          "text": [
            "Processed batch 10944 to 10976\n"
          ]
        },
        {
          "name": "stderr",
          "output_type": "stream",
          "text": [
            "\r\n",
            " 70%|███████   | 344/488 [1:15:23<28:38, 11.93s/it]"
          ]
        },
        {
          "name": "stdout",
          "output_type": "stream",
          "text": [
            "Processed batch 10976 to 11008\n"
          ]
        },
        {
          "name": "stderr",
          "output_type": "stream",
          "text": [
            "\r\n",
            " 71%|███████   | 345/488 [1:15:34<27:43, 11.64s/it]"
          ]
        },
        {
          "name": "stdout",
          "output_type": "stream",
          "text": [
            "Processed batch 11008 to 11040\n"
          ]
        },
        {
          "name": "stderr",
          "output_type": "stream",
          "text": [
            "\r\n",
            " 71%|███████   | 346/488 [1:15:47<28:46, 12.16s/it]"
          ]
        },
        {
          "name": "stdout",
          "output_type": "stream",
          "text": [
            "Processed batch 11040 to 11072\n"
          ]
        },
        {
          "name": "stderr",
          "output_type": "stream",
          "text": [
            "\r\n",
            " 71%|███████   | 347/488 [1:16:00<29:09, 12.40s/it]"
          ]
        },
        {
          "name": "stdout",
          "output_type": "stream",
          "text": [
            "Processed batch 11072 to 11104\n"
          ]
        },
        {
          "name": "stderr",
          "output_type": "stream",
          "text": [
            "\r\n",
            " 71%|███████▏  | 348/488 [1:16:12<28:18, 12.13s/it]"
          ]
        },
        {
          "name": "stdout",
          "output_type": "stream",
          "text": [
            "Processed batch 11104 to 11136\n"
          ]
        },
        {
          "name": "stderr",
          "output_type": "stream",
          "text": [
            "\r\n",
            " 72%|███████▏  | 349/488 [1:16:27<30:16, 13.07s/it]"
          ]
        },
        {
          "name": "stdout",
          "output_type": "stream",
          "text": [
            "Processed batch 11136 to 11168\n"
          ]
        },
        {
          "name": "stderr",
          "output_type": "stream",
          "text": [
            "\r\n",
            " 72%|███████▏  | 350/488 [1:16:42<31:03, 13.50s/it]"
          ]
        },
        {
          "name": "stdout",
          "output_type": "stream",
          "text": [
            "Processed batch 11168 to 11200\n"
          ]
        },
        {
          "name": "stderr",
          "output_type": "stream",
          "text": [
            "\r\n",
            " 72%|███████▏  | 351/488 [1:16:55<30:28, 13.34s/it]"
          ]
        },
        {
          "name": "stdout",
          "output_type": "stream",
          "text": [
            "Processed batch 11200 to 11232\n"
          ]
        },
        {
          "name": "stderr",
          "output_type": "stream",
          "text": [
            "\r\n",
            " 72%|███████▏  | 352/488 [1:17:04<27:32, 12.15s/it]"
          ]
        },
        {
          "name": "stdout",
          "output_type": "stream",
          "text": [
            "Processed batch 11232 to 11264\n"
          ]
        },
        {
          "name": "stderr",
          "output_type": "stream",
          "text": [
            "\r\n",
            " 72%|███████▏  | 353/488 [1:17:16<27:07, 12.05s/it]"
          ]
        },
        {
          "name": "stdout",
          "output_type": "stream",
          "text": [
            "Processed batch 11264 to 11296\n"
          ]
        },
        {
          "name": "stderr",
          "output_type": "stream",
          "text": [
            "\r\n",
            " 73%|███████▎  | 354/488 [1:17:30<28:16, 12.66s/it]"
          ]
        },
        {
          "name": "stdout",
          "output_type": "stream",
          "text": [
            "Processed batch 11296 to 11328\n"
          ]
        },
        {
          "name": "stderr",
          "output_type": "stream",
          "text": [
            "\r\n",
            " 73%|███████▎  | 355/488 [1:17:42<27:43, 12.51s/it]"
          ]
        },
        {
          "name": "stdout",
          "output_type": "stream",
          "text": [
            "Processed batch 11328 to 11360\n"
          ]
        },
        {
          "name": "stderr",
          "output_type": "stream",
          "text": [
            "\r\n",
            " 73%|███████▎  | 356/488 [1:17:55<27:52, 12.67s/it]"
          ]
        },
        {
          "name": "stdout",
          "output_type": "stream",
          "text": [
            "Processed batch 11360 to 11392\n"
          ]
        },
        {
          "name": "stderr",
          "output_type": "stream",
          "text": [
            "\r\n",
            " 73%|███████▎  | 357/488 [1:18:07<26:55, 12.33s/it]"
          ]
        },
        {
          "name": "stdout",
          "output_type": "stream",
          "text": [
            "Processed batch 11392 to 11424\n"
          ]
        },
        {
          "name": "stderr",
          "output_type": "stream",
          "text": [
            "\r\n",
            " 73%|███████▎  | 358/488 [1:18:19<26:44, 12.34s/it]"
          ]
        },
        {
          "name": "stdout",
          "output_type": "stream",
          "text": [
            "Processed batch 11424 to 11456\n"
          ]
        },
        {
          "name": "stderr",
          "output_type": "stream",
          "text": [
            "\r\n",
            " 74%|███████▎  | 359/488 [1:18:32<26:49, 12.48s/it]"
          ]
        },
        {
          "name": "stdout",
          "output_type": "stream",
          "text": [
            "Processed batch 11456 to 11488\n"
          ]
        },
        {
          "name": "stderr",
          "output_type": "stream",
          "text": [
            "\r\n",
            " 74%|███████▍  | 360/488 [1:18:44<26:06, 12.23s/it]"
          ]
        },
        {
          "name": "stdout",
          "output_type": "stream",
          "text": [
            "Processed batch 11488 to 11520\n"
          ]
        },
        {
          "name": "stderr",
          "output_type": "stream",
          "text": [
            "\r\n",
            " 74%|███████▍  | 361/488 [1:18:57<26:55, 12.72s/it]"
          ]
        },
        {
          "name": "stdout",
          "output_type": "stream",
          "text": [
            "Processed batch 11520 to 11552\n"
          ]
        },
        {
          "name": "stderr",
          "output_type": "stream",
          "text": [
            "\r\n",
            " 74%|███████▍  | 362/488 [1:19:11<27:04, 12.89s/it]"
          ]
        },
        {
          "name": "stdout",
          "output_type": "stream",
          "text": [
            "Processed batch 11552 to 11584\n"
          ]
        },
        {
          "name": "stderr",
          "output_type": "stream",
          "text": [
            "\r\n",
            " 74%|███████▍  | 363/488 [1:19:22<26:10, 12.56s/it]"
          ]
        },
        {
          "name": "stdout",
          "output_type": "stream",
          "text": [
            "Processed batch 11584 to 11616\n"
          ]
        },
        {
          "name": "stderr",
          "output_type": "stream",
          "text": [
            "\r\n",
            " 75%|███████▍  | 364/488 [1:19:35<25:53, 12.53s/it]"
          ]
        },
        {
          "name": "stdout",
          "output_type": "stream",
          "text": [
            "Processed batch 11616 to 11648\n"
          ]
        },
        {
          "name": "stderr",
          "output_type": "stream",
          "text": [
            "\r\n",
            " 75%|███████▍  | 365/488 [1:19:48<26:14, 12.80s/it]"
          ]
        },
        {
          "name": "stdout",
          "output_type": "stream",
          "text": [
            "Processed batch 11648 to 11680\n"
          ]
        },
        {
          "name": "stderr",
          "output_type": "stream",
          "text": [
            "\r\n",
            " 75%|███████▌  | 366/488 [1:20:00<25:36, 12.60s/it]"
          ]
        },
        {
          "name": "stdout",
          "output_type": "stream",
          "text": [
            "Processed batch 11680 to 11712\n"
          ]
        },
        {
          "name": "stderr",
          "output_type": "stream",
          "text": [
            "\r\n",
            " 75%|███████▌  | 367/488 [1:20:14<25:54, 12.85s/it]"
          ]
        },
        {
          "name": "stdout",
          "output_type": "stream",
          "text": [
            "Processed batch 11712 to 11744\n"
          ]
        },
        {
          "name": "stderr",
          "output_type": "stream",
          "text": [
            "\r\n",
            " 75%|███████▌  | 368/488 [1:20:27<26:02, 13.02s/it]"
          ]
        },
        {
          "name": "stdout",
          "output_type": "stream",
          "text": [
            "Processed batch 11744 to 11776\n"
          ]
        },
        {
          "name": "stderr",
          "output_type": "stream",
          "text": [
            "\r\n",
            " 76%|███████▌  | 369/488 [1:20:40<25:21, 12.79s/it]"
          ]
        },
        {
          "name": "stdout",
          "output_type": "stream",
          "text": [
            "Processed batch 11776 to 11808\n"
          ]
        },
        {
          "name": "stderr",
          "output_type": "stream",
          "text": [
            "\r\n",
            " 76%|███████▌  | 370/488 [1:20:50<23:59, 12.20s/it]"
          ]
        },
        {
          "name": "stdout",
          "output_type": "stream",
          "text": [
            "Processed batch 11808 to 11840\n"
          ]
        },
        {
          "name": "stderr",
          "output_type": "stream",
          "text": [
            "\r\n",
            " 76%|███████▌  | 371/488 [1:21:01<23:04, 11.83s/it]"
          ]
        },
        {
          "name": "stdout",
          "output_type": "stream",
          "text": [
            "Processed batch 11840 to 11872\n"
          ]
        },
        {
          "name": "stderr",
          "output_type": "stream",
          "text": [
            "\r\n",
            " 76%|███████▌  | 372/488 [1:21:11<21:49, 11.29s/it]"
          ]
        },
        {
          "name": "stdout",
          "output_type": "stream",
          "text": [
            "Processed batch 11872 to 11904\n"
          ]
        },
        {
          "name": "stderr",
          "output_type": "stream",
          "text": [
            "\r\n",
            " 76%|███████▋  | 373/488 [1:21:23<21:35, 11.26s/it]"
          ]
        },
        {
          "name": "stdout",
          "output_type": "stream",
          "text": [
            "Processed batch 11904 to 11936\n"
          ]
        },
        {
          "name": "stderr",
          "output_type": "stream",
          "text": [
            "\r\n",
            " 77%|███████▋  | 374/488 [1:21:36<22:51, 12.03s/it]"
          ]
        },
        {
          "name": "stdout",
          "output_type": "stream",
          "text": [
            "Processed batch 11936 to 11968\n"
          ]
        },
        {
          "name": "stderr",
          "output_type": "stream",
          "text": [
            "\r\n",
            " 77%|███████▋  | 375/488 [1:21:48<22:29, 11.95s/it]"
          ]
        },
        {
          "name": "stdout",
          "output_type": "stream",
          "text": [
            "Processed batch 11968 to 12000\n"
          ]
        },
        {
          "name": "stderr",
          "output_type": "stream",
          "text": [
            "\r\n",
            " 77%|███████▋  | 376/488 [1:21:59<21:54, 11.74s/it]"
          ]
        },
        {
          "name": "stdout",
          "output_type": "stream",
          "text": [
            "Processed batch 12000 to 12032\n"
          ]
        },
        {
          "name": "stderr",
          "output_type": "stream",
          "text": [
            "\r\n",
            " 77%|███████▋  | 377/488 [1:22:10<20:55, 11.31s/it]"
          ]
        },
        {
          "name": "stdout",
          "output_type": "stream",
          "text": [
            "Processed batch 12032 to 12064\n"
          ]
        },
        {
          "name": "stderr",
          "output_type": "stream",
          "text": [
            "\r\n",
            " 77%|███████▋  | 378/488 [1:22:24<22:16, 12.15s/it]"
          ]
        },
        {
          "name": "stdout",
          "output_type": "stream",
          "text": [
            "Processed batch 12064 to 12096\n"
          ]
        },
        {
          "name": "stderr",
          "output_type": "stream",
          "text": [
            "\r\n",
            " 78%|███████▊  | 379/488 [1:22:35<21:41, 11.94s/it]"
          ]
        },
        {
          "name": "stdout",
          "output_type": "stream",
          "text": [
            "Processed batch 12096 to 12128\n"
          ]
        },
        {
          "name": "stderr",
          "output_type": "stream",
          "text": [
            "\r\n",
            " 78%|███████▊  | 380/488 [1:22:45<20:32, 11.41s/it]"
          ]
        },
        {
          "name": "stdout",
          "output_type": "stream",
          "text": [
            "Processed batch 12128 to 12160\n"
          ]
        },
        {
          "name": "stderr",
          "output_type": "stream",
          "text": [
            "\r\n",
            " 78%|███████▊  | 381/488 [1:22:59<21:18, 11.95s/it]"
          ]
        },
        {
          "name": "stdout",
          "output_type": "stream",
          "text": [
            "Processed batch 12160 to 12192\n"
          ]
        },
        {
          "name": "stderr",
          "output_type": "stream",
          "text": [
            "\r\n",
            " 78%|███████▊  | 382/488 [1:23:13<22:30, 12.75s/it]"
          ]
        },
        {
          "name": "stdout",
          "output_type": "stream",
          "text": [
            "Processed batch 12192 to 12224\n"
          ]
        },
        {
          "name": "stderr",
          "output_type": "stream",
          "text": [
            "\r\n",
            " 78%|███████▊  | 383/488 [1:23:29<23:44, 13.57s/it]"
          ]
        },
        {
          "name": "stdout",
          "output_type": "stream",
          "text": [
            "Processed batch 12224 to 12256\n"
          ]
        },
        {
          "name": "stderr",
          "output_type": "stream",
          "text": [
            "\r\n",
            " 79%|███████▊  | 384/488 [1:23:39<21:38, 12.48s/it]"
          ]
        },
        {
          "name": "stdout",
          "output_type": "stream",
          "text": [
            "Processed batch 12256 to 12288\n"
          ]
        },
        {
          "name": "stderr",
          "output_type": "stream",
          "text": [
            "\r\n",
            " 79%|███████▉  | 385/488 [1:23:51<21:05, 12.28s/it]"
          ]
        },
        {
          "name": "stdout",
          "output_type": "stream",
          "text": [
            "Processed batch 12288 to 12320\n"
          ]
        },
        {
          "name": "stderr",
          "output_type": "stream",
          "text": [
            "\r\n",
            " 79%|███████▉  | 386/488 [1:24:02<20:13, 11.90s/it]"
          ]
        },
        {
          "name": "stdout",
          "output_type": "stream",
          "text": [
            "Processed batch 12320 to 12352\n"
          ]
        },
        {
          "name": "stderr",
          "output_type": "stream",
          "text": [
            "\r\n",
            " 79%|███████▉  | 387/488 [1:24:15<20:46, 12.34s/it]"
          ]
        },
        {
          "name": "stdout",
          "output_type": "stream",
          "text": [
            "Processed batch 12352 to 12384\n"
          ]
        },
        {
          "name": "stderr",
          "output_type": "stream",
          "text": [
            "\r\n",
            " 80%|███████▉  | 388/488 [1:24:26<19:49, 11.89s/it]"
          ]
        },
        {
          "name": "stdout",
          "output_type": "stream",
          "text": [
            "Processed batch 12384 to 12416\n"
          ]
        },
        {
          "name": "stderr",
          "output_type": "stream",
          "text": [
            "\r\n",
            " 80%|███████▉  | 389/488 [1:24:38<19:55, 12.08s/it]"
          ]
        },
        {
          "name": "stdout",
          "output_type": "stream",
          "text": [
            "Processed batch 12416 to 12448\n"
          ]
        },
        {
          "name": "stderr",
          "output_type": "stream",
          "text": [
            "\r\n",
            " 80%|███████▉  | 390/488 [1:24:51<19:57, 12.22s/it]"
          ]
        },
        {
          "name": "stdout",
          "output_type": "stream",
          "text": [
            "Processed batch 12448 to 12480\n"
          ]
        },
        {
          "name": "stderr",
          "output_type": "stream",
          "text": [
            "\r\n",
            " 80%|████████  | 391/488 [1:25:03<19:33, 12.10s/it]"
          ]
        },
        {
          "name": "stdout",
          "output_type": "stream",
          "text": [
            "Processed batch 12480 to 12512\n"
          ]
        },
        {
          "name": "stderr",
          "output_type": "stream",
          "text": [
            "\r\n",
            " 80%|████████  | 392/488 [1:25:17<20:35, 12.87s/it]"
          ]
        },
        {
          "name": "stdout",
          "output_type": "stream",
          "text": [
            "Processed batch 12512 to 12544\n"
          ]
        },
        {
          "name": "stderr",
          "output_type": "stream",
          "text": [
            "\r\n",
            " 81%|████████  | 393/488 [1:25:29<20:01, 12.64s/it]"
          ]
        },
        {
          "name": "stdout",
          "output_type": "stream",
          "text": [
            "Processed batch 12544 to 12576\n"
          ]
        },
        {
          "name": "stderr",
          "output_type": "stream",
          "text": [
            "\r\n",
            " 81%|████████  | 394/488 [1:25:41<19:21, 12.35s/it]"
          ]
        },
        {
          "name": "stdout",
          "output_type": "stream",
          "text": [
            "Processed batch 12576 to 12608\n"
          ]
        },
        {
          "name": "stderr",
          "output_type": "stream",
          "text": [
            "\r\n",
            " 81%|████████  | 395/488 [1:25:55<19:57, 12.88s/it]"
          ]
        },
        {
          "name": "stdout",
          "output_type": "stream",
          "text": [
            "Processed batch 12608 to 12640\n"
          ]
        },
        {
          "name": "stderr",
          "output_type": "stream",
          "text": [
            "\r\n",
            " 81%|████████  | 396/488 [1:26:09<20:12, 13.18s/it]"
          ]
        },
        {
          "name": "stdout",
          "output_type": "stream",
          "text": [
            "Processed batch 12640 to 12672\n"
          ]
        },
        {
          "name": "stderr",
          "output_type": "stream",
          "text": [
            "\r\n",
            " 81%|████████▏ | 397/488 [1:26:20<19:11, 12.65s/it]"
          ]
        },
        {
          "name": "stdout",
          "output_type": "stream",
          "text": [
            "Processed batch 12672 to 12704\n"
          ]
        },
        {
          "name": "stderr",
          "output_type": "stream",
          "text": [
            "\r\n",
            " 82%|████████▏ | 398/488 [1:26:32<18:34, 12.38s/it]"
          ]
        },
        {
          "name": "stdout",
          "output_type": "stream",
          "text": [
            "Processed batch 12704 to 12736\n"
          ]
        },
        {
          "name": "stderr",
          "output_type": "stream",
          "text": [
            "\r\n",
            " 82%|████████▏ | 399/488 [1:26:44<18:04, 12.19s/it]"
          ]
        },
        {
          "name": "stdout",
          "output_type": "stream",
          "text": [
            "Processed batch 12736 to 12768\n"
          ]
        },
        {
          "name": "stderr",
          "output_type": "stream",
          "text": [
            "\r\n",
            " 82%|████████▏ | 400/488 [1:26:57<18:21, 12.52s/it]"
          ]
        },
        {
          "name": "stdout",
          "output_type": "stream",
          "text": [
            "Processed batch 12768 to 12800\n"
          ]
        },
        {
          "name": "stderr",
          "output_type": "stream",
          "text": [
            "\r\n",
            " 82%|████████▏ | 401/488 [1:27:09<17:55, 12.36s/it]"
          ]
        },
        {
          "name": "stdout",
          "output_type": "stream",
          "text": [
            "Processed batch 12800 to 12832\n"
          ]
        },
        {
          "name": "stderr",
          "output_type": "stream",
          "text": [
            "\r\n",
            " 82%|████████▏ | 402/488 [1:27:19<16:47, 11.72s/it]"
          ]
        },
        {
          "name": "stdout",
          "output_type": "stream",
          "text": [
            "Processed batch 12832 to 12864\n"
          ]
        },
        {
          "name": "stderr",
          "output_type": "stream",
          "text": [
            "\r\n",
            " 83%|████████▎ | 403/488 [1:27:33<17:33, 12.40s/it]"
          ]
        },
        {
          "name": "stdout",
          "output_type": "stream",
          "text": [
            "Processed batch 12864 to 12896\n"
          ]
        },
        {
          "name": "stderr",
          "output_type": "stream",
          "text": [
            "\r\n",
            " 83%|████████▎ | 404/488 [1:27:46<17:25, 12.44s/it]"
          ]
        },
        {
          "name": "stdout",
          "output_type": "stream",
          "text": [
            "Processed batch 12896 to 12928\n"
          ]
        },
        {
          "name": "stderr",
          "output_type": "stream",
          "text": [
            "\r\n",
            " 83%|████████▎ | 405/488 [1:27:57<16:42, 12.08s/it]"
          ]
        },
        {
          "name": "stdout",
          "output_type": "stream",
          "text": [
            "Processed batch 12928 to 12960\n"
          ]
        },
        {
          "name": "stderr",
          "output_type": "stream",
          "text": [
            "\r\n",
            " 83%|████████▎ | 406/488 [1:28:12<17:35, 12.87s/it]"
          ]
        },
        {
          "name": "stdout",
          "output_type": "stream",
          "text": [
            "Processed batch 12960 to 12992\n"
          ]
        },
        {
          "name": "stderr",
          "output_type": "stream",
          "text": [
            "\r\n",
            " 83%|████████▎ | 407/488 [1:28:25<17:27, 12.94s/it]"
          ]
        },
        {
          "name": "stdout",
          "output_type": "stream",
          "text": [
            "Processed batch 12992 to 13024\n"
          ]
        },
        {
          "name": "stderr",
          "output_type": "stream",
          "text": [
            "\r\n",
            " 84%|████████▎ | 408/488 [1:28:40<18:13, 13.67s/it]"
          ]
        },
        {
          "name": "stdout",
          "output_type": "stream",
          "text": [
            "Processed batch 13024 to 13056\n"
          ]
        },
        {
          "name": "stderr",
          "output_type": "stream",
          "text": [
            "\r\n",
            " 84%|████████▍ | 409/488 [1:28:53<17:40, 13.42s/it]"
          ]
        },
        {
          "name": "stdout",
          "output_type": "stream",
          "text": [
            "Processed batch 13056 to 13088\n"
          ]
        },
        {
          "name": "stderr",
          "output_type": "stream",
          "text": [
            "\r\n",
            " 84%|████████▍ | 410/488 [1:29:06<17:10, 13.21s/it]"
          ]
        },
        {
          "name": "stdout",
          "output_type": "stream",
          "text": [
            "Processed batch 13088 to 13120\n"
          ]
        },
        {
          "name": "stderr",
          "output_type": "stream",
          "text": [
            "\r\n",
            " 84%|████████▍ | 411/488 [1:29:16<15:43, 12.25s/it]"
          ]
        },
        {
          "name": "stdout",
          "output_type": "stream",
          "text": [
            "Processed batch 13120 to 13152\n"
          ]
        },
        {
          "name": "stderr",
          "output_type": "stream",
          "text": [
            "\r\n",
            " 84%|████████▍ | 412/488 [1:29:30<16:03, 12.67s/it]"
          ]
        },
        {
          "name": "stdout",
          "output_type": "stream",
          "text": [
            "Processed batch 13152 to 13184\n"
          ]
        },
        {
          "name": "stderr",
          "output_type": "stream",
          "text": [
            "\r\n",
            " 85%|████████▍ | 413/488 [1:29:41<15:29, 12.39s/it]"
          ]
        },
        {
          "name": "stdout",
          "output_type": "stream",
          "text": [
            "Processed batch 13184 to 13216\n"
          ]
        },
        {
          "name": "stderr",
          "output_type": "stream",
          "text": [
            "\r\n",
            " 85%|████████▍ | 414/488 [1:29:55<15:39, 12.70s/it]"
          ]
        },
        {
          "name": "stdout",
          "output_type": "stream",
          "text": [
            "Processed batch 13216 to 13248\n"
          ]
        },
        {
          "name": "stderr",
          "output_type": "stream",
          "text": [
            "\r\n",
            " 85%|████████▌ | 415/488 [1:30:05<14:42, 12.09s/it]"
          ]
        },
        {
          "name": "stdout",
          "output_type": "stream",
          "text": [
            "Processed batch 13248 to 13280\n"
          ]
        },
        {
          "name": "stderr",
          "output_type": "stream",
          "text": [
            "\r\n",
            " 85%|████████▌ | 416/488 [1:30:17<14:23, 12.00s/it]"
          ]
        },
        {
          "name": "stdout",
          "output_type": "stream",
          "text": [
            "Processed batch 13280 to 13312\n"
          ]
        },
        {
          "name": "stderr",
          "output_type": "stream",
          "text": [
            "\r\n",
            " 85%|████████▌ | 417/488 [1:30:30<14:20, 12.13s/it]"
          ]
        },
        {
          "name": "stdout",
          "output_type": "stream",
          "text": [
            "Processed batch 13312 to 13344\n"
          ]
        },
        {
          "name": "stderr",
          "output_type": "stream",
          "text": [
            "\r\n",
            " 86%|████████▌ | 418/488 [1:30:41<13:53, 11.91s/it]"
          ]
        },
        {
          "name": "stdout",
          "output_type": "stream",
          "text": [
            "Processed batch 13344 to 13376\n"
          ]
        },
        {
          "name": "stderr",
          "output_type": "stream",
          "text": [
            "\r\n",
            " 86%|████████▌ | 419/488 [1:30:56<14:43, 12.80s/it]"
          ]
        },
        {
          "name": "stdout",
          "output_type": "stream",
          "text": [
            "Processed batch 13376 to 13408\n"
          ]
        },
        {
          "name": "stderr",
          "output_type": "stream",
          "text": [
            "\r\n",
            " 86%|████████▌ | 420/488 [1:31:08<14:24, 12.71s/it]"
          ]
        },
        {
          "name": "stdout",
          "output_type": "stream",
          "text": [
            "Processed batch 13408 to 13440\n"
          ]
        },
        {
          "name": "stderr",
          "output_type": "stream",
          "text": [
            "\r\n",
            " 86%|████████▋ | 421/488 [1:31:21<14:06, 12.64s/it]"
          ]
        },
        {
          "name": "stdout",
          "output_type": "stream",
          "text": [
            "Processed batch 13440 to 13472\n"
          ]
        },
        {
          "name": "stderr",
          "output_type": "stream",
          "text": [
            "\r\n",
            " 86%|████████▋ | 422/488 [1:31:34<14:06, 12.83s/it]"
          ]
        },
        {
          "name": "stdout",
          "output_type": "stream",
          "text": [
            "Processed batch 13472 to 13504\n"
          ]
        },
        {
          "name": "stderr",
          "output_type": "stream",
          "text": [
            "\r\n",
            " 87%|████████▋ | 423/488 [1:31:46<13:30, 12.48s/it]"
          ]
        },
        {
          "name": "stdout",
          "output_type": "stream",
          "text": [
            "Processed batch 13504 to 13536\n"
          ]
        },
        {
          "name": "stderr",
          "output_type": "stream",
          "text": [
            "\r\n",
            " 87%|████████▋ | 424/488 [1:32:00<13:59, 13.12s/it]"
          ]
        },
        {
          "name": "stdout",
          "output_type": "stream",
          "text": [
            "Processed batch 13536 to 13568\n"
          ]
        },
        {
          "name": "stderr",
          "output_type": "stream",
          "text": [
            "\r\n",
            " 87%|████████▋ | 425/488 [1:32:14<13:52, 13.22s/it]"
          ]
        },
        {
          "name": "stdout",
          "output_type": "stream",
          "text": [
            "Processed batch 13568 to 13600\n"
          ]
        },
        {
          "name": "stderr",
          "output_type": "stream",
          "text": [
            "\r\n",
            " 87%|████████▋ | 426/488 [1:32:25<12:58, 12.56s/it]"
          ]
        },
        {
          "name": "stdout",
          "output_type": "stream",
          "text": [
            "Processed batch 13600 to 13632\n"
          ]
        },
        {
          "name": "stderr",
          "output_type": "stream",
          "text": [
            "\r\n",
            " 88%|████████▊ | 427/488 [1:32:38<13:02, 12.82s/it]"
          ]
        },
        {
          "name": "stdout",
          "output_type": "stream",
          "text": [
            "Processed batch 13632 to 13664\n"
          ]
        },
        {
          "name": "stderr",
          "output_type": "stream",
          "text": [
            "\r\n",
            " 88%|████████▊ | 428/488 [1:32:53<13:23, 13.38s/it]"
          ]
        },
        {
          "name": "stdout",
          "output_type": "stream",
          "text": [
            "Processed batch 13664 to 13696\n"
          ]
        },
        {
          "name": "stderr",
          "output_type": "stream",
          "text": [
            "\r\n",
            " 88%|████████▊ | 429/488 [1:33:07<13:25, 13.66s/it]"
          ]
        },
        {
          "name": "stdout",
          "output_type": "stream",
          "text": [
            "Processed batch 13696 to 13728\n"
          ]
        },
        {
          "name": "stderr",
          "output_type": "stream",
          "text": [
            "\r\n",
            " 88%|████████▊ | 430/488 [1:33:20<13:00, 13.46s/it]"
          ]
        },
        {
          "name": "stdout",
          "output_type": "stream",
          "text": [
            "Processed batch 13728 to 13760\n"
          ]
        },
        {
          "name": "stderr",
          "output_type": "stream",
          "text": [
            "\r\n",
            " 88%|████████▊ | 431/488 [1:33:32<12:08, 12.78s/it]"
          ]
        },
        {
          "name": "stdout",
          "output_type": "stream",
          "text": [
            "Processed batch 13760 to 13792\n"
          ]
        },
        {
          "name": "stderr",
          "output_type": "stream",
          "text": [
            "\r\n",
            " 89%|████████▊ | 432/488 [1:33:45<12:09, 13.03s/it]"
          ]
        },
        {
          "name": "stdout",
          "output_type": "stream",
          "text": [
            "Processed batch 13792 to 13824\n"
          ]
        },
        {
          "name": "stderr",
          "output_type": "stream",
          "text": [
            "\r\n",
            " 89%|████████▊ | 433/488 [1:33:59<12:13, 13.34s/it]"
          ]
        },
        {
          "name": "stdout",
          "output_type": "stream",
          "text": [
            "Processed batch 13824 to 13856\n"
          ]
        },
        {
          "name": "stderr",
          "output_type": "stream",
          "text": [
            "\r\n",
            " 89%|████████▉ | 434/488 [1:34:10<11:19, 12.58s/it]"
          ]
        },
        {
          "name": "stdout",
          "output_type": "stream",
          "text": [
            "Processed batch 13856 to 13888\n"
          ]
        },
        {
          "name": "stderr",
          "output_type": "stream",
          "text": [
            "\r\n",
            " 89%|████████▉ | 435/488 [1:34:19<10:09, 11.50s/it]"
          ]
        },
        {
          "name": "stdout",
          "output_type": "stream",
          "text": [
            "Processed batch 13888 to 13920\n"
          ]
        },
        {
          "name": "stderr",
          "output_type": "stream",
          "text": [
            "\r\n",
            " 89%|████████▉ | 436/488 [1:34:31<10:06, 11.67s/it]"
          ]
        },
        {
          "name": "stdout",
          "output_type": "stream",
          "text": [
            "Processed batch 13920 to 13952\n"
          ]
        },
        {
          "name": "stderr",
          "output_type": "stream",
          "text": [
            "\r\n",
            " 90%|████████▉ | 437/488 [1:34:42<09:50, 11.58s/it]"
          ]
        },
        {
          "name": "stdout",
          "output_type": "stream",
          "text": [
            "Processed batch 13952 to 13984\n"
          ]
        },
        {
          "name": "stderr",
          "output_type": "stream",
          "text": [
            "\r\n",
            " 90%|████████▉ | 438/488 [1:34:55<09:54, 11.89s/it]"
          ]
        },
        {
          "name": "stdout",
          "output_type": "stream",
          "text": [
            "Processed batch 13984 to 14016\n"
          ]
        },
        {
          "name": "stderr",
          "output_type": "stream",
          "text": [
            "\r\n",
            " 90%|████████▉ | 439/488 [1:35:07<09:44, 11.94s/it]"
          ]
        },
        {
          "name": "stdout",
          "output_type": "stream",
          "text": [
            "Processed batch 14016 to 14048\n"
          ]
        },
        {
          "name": "stderr",
          "output_type": "stream",
          "text": [
            "\r\n",
            " 90%|█████████ | 440/488 [1:35:18<09:19, 11.66s/it]"
          ]
        },
        {
          "name": "stdout",
          "output_type": "stream",
          "text": [
            "Processed batch 14048 to 14080\n"
          ]
        },
        {
          "name": "stderr",
          "output_type": "stream",
          "text": [
            "\r\n",
            " 90%|█████████ | 441/488 [1:35:32<09:41, 12.38s/it]"
          ]
        },
        {
          "name": "stdout",
          "output_type": "stream",
          "text": [
            "Processed batch 14080 to 14112\n"
          ]
        },
        {
          "name": "stderr",
          "output_type": "stream",
          "text": [
            "\r\n",
            " 91%|█████████ | 442/488 [1:35:47<09:56, 12.96s/it]"
          ]
        },
        {
          "name": "stdout",
          "output_type": "stream",
          "text": [
            "Processed batch 14112 to 14144\n"
          ]
        },
        {
          "name": "stderr",
          "output_type": "stream",
          "text": [
            "\r\n",
            " 91%|█████████ | 443/488 [1:35:58<09:21, 12.48s/it]"
          ]
        },
        {
          "name": "stdout",
          "output_type": "stream",
          "text": [
            "Processed batch 14144 to 14176\n"
          ]
        },
        {
          "name": "stderr",
          "output_type": "stream",
          "text": [
            "\r\n",
            " 91%|█████████ | 444/488 [1:36:11<09:11, 12.53s/it]"
          ]
        },
        {
          "name": "stdout",
          "output_type": "stream",
          "text": [
            "Processed batch 14176 to 14208\n"
          ]
        },
        {
          "name": "stderr",
          "output_type": "stream",
          "text": [
            "\r\n",
            " 91%|█████████ | 445/488 [1:36:25<09:21, 13.06s/it]"
          ]
        },
        {
          "name": "stdout",
          "output_type": "stream",
          "text": [
            "Processed batch 14208 to 14240\n"
          ]
        },
        {
          "name": "stderr",
          "output_type": "stream",
          "text": [
            "\r\n",
            " 91%|█████████▏| 446/488 [1:36:39<09:21, 13.37s/it]"
          ]
        },
        {
          "name": "stdout",
          "output_type": "stream",
          "text": [
            "Processed batch 14240 to 14272\n"
          ]
        },
        {
          "name": "stderr",
          "output_type": "stream",
          "text": [
            "\r\n",
            " 92%|█████████▏| 447/488 [1:36:52<09:04, 13.28s/it]"
          ]
        },
        {
          "name": "stdout",
          "output_type": "stream",
          "text": [
            "Processed batch 14272 to 14304\n"
          ]
        },
        {
          "name": "stderr",
          "output_type": "stream",
          "text": [
            "\r\n",
            " 92%|█████████▏| 448/488 [1:37:01<08:00, 12.01s/it]"
          ]
        },
        {
          "name": "stdout",
          "output_type": "stream",
          "text": [
            "Processed batch 14304 to 14336\n"
          ]
        },
        {
          "name": "stderr",
          "output_type": "stream",
          "text": [
            "\r\n",
            " 92%|█████████▏| 449/488 [1:37:13<07:51, 12.09s/it]"
          ]
        },
        {
          "name": "stdout",
          "output_type": "stream",
          "text": [
            "Processed batch 14336 to 14368\n"
          ]
        },
        {
          "name": "stderr",
          "output_type": "stream",
          "text": [
            "\r\n",
            " 92%|█████████▏| 450/488 [1:37:26<07:50, 12.37s/it]"
          ]
        },
        {
          "name": "stdout",
          "output_type": "stream",
          "text": [
            "Processed batch 14368 to 14400\n"
          ]
        },
        {
          "name": "stderr",
          "output_type": "stream",
          "text": [
            "\r\n",
            " 92%|█████████▏| 451/488 [1:37:35<06:58, 11.32s/it]"
          ]
        },
        {
          "name": "stdout",
          "output_type": "stream",
          "text": [
            "Processed batch 14400 to 14432\n"
          ]
        },
        {
          "name": "stderr",
          "output_type": "stream",
          "text": [
            "\r\n",
            " 93%|█████████▎| 452/488 [1:37:49<07:17, 12.15s/it]"
          ]
        },
        {
          "name": "stdout",
          "output_type": "stream",
          "text": [
            "Processed batch 14432 to 14464\n"
          ]
        },
        {
          "name": "stderr",
          "output_type": "stream",
          "text": [
            "\r\n",
            " 93%|█████████▎| 453/488 [1:38:01<07:00, 12.00s/it]"
          ]
        },
        {
          "name": "stdout",
          "output_type": "stream",
          "text": [
            "Processed batch 14464 to 14496\n"
          ]
        },
        {
          "name": "stderr",
          "output_type": "stream",
          "text": [
            "\r\n",
            " 93%|█████████▎| 454/488 [1:38:14<06:56, 12.24s/it]"
          ]
        },
        {
          "name": "stdout",
          "output_type": "stream",
          "text": [
            "Processed batch 14496 to 14528\n"
          ]
        },
        {
          "name": "stderr",
          "output_type": "stream",
          "text": [
            "\r\n",
            " 93%|█████████▎| 455/488 [1:38:29<07:10, 13.05s/it]"
          ]
        },
        {
          "name": "stdout",
          "output_type": "stream",
          "text": [
            "Processed batch 14528 to 14560\n"
          ]
        },
        {
          "name": "stderr",
          "output_type": "stream",
          "text": [
            "\r\n",
            " 93%|█████████▎| 456/488 [1:38:43<07:05, 13.31s/it]"
          ]
        },
        {
          "name": "stdout",
          "output_type": "stream",
          "text": [
            "Processed batch 14560 to 14592\n"
          ]
        },
        {
          "name": "stderr",
          "output_type": "stream",
          "text": [
            "\r\n",
            " 94%|█████████▎| 457/488 [1:38:53<06:24, 12.41s/it]"
          ]
        },
        {
          "name": "stdout",
          "output_type": "stream",
          "text": [
            "Processed batch 14592 to 14624\n"
          ]
        },
        {
          "name": "stderr",
          "output_type": "stream",
          "text": [
            "\r\n",
            " 94%|█████████▍| 458/488 [1:39:03<05:49, 11.67s/it]"
          ]
        },
        {
          "name": "stdout",
          "output_type": "stream",
          "text": [
            "Processed batch 14624 to 14656\n"
          ]
        },
        {
          "name": "stderr",
          "output_type": "stream",
          "text": [
            "\r\n",
            " 94%|█████████▍| 459/488 [1:39:15<05:40, 11.76s/it]"
          ]
        },
        {
          "name": "stdout",
          "output_type": "stream",
          "text": [
            "Processed batch 14656 to 14688\n"
          ]
        },
        {
          "name": "stderr",
          "output_type": "stream",
          "text": [
            "\r\n",
            " 94%|█████████▍| 460/488 [1:39:29<05:47, 12.41s/it]"
          ]
        },
        {
          "name": "stdout",
          "output_type": "stream",
          "text": [
            "Processed batch 14688 to 14720\n"
          ]
        },
        {
          "name": "stderr",
          "output_type": "stream",
          "text": [
            "\r\n",
            " 94%|█████████▍| 461/488 [1:39:41<05:36, 12.46s/it]"
          ]
        },
        {
          "name": "stdout",
          "output_type": "stream",
          "text": [
            "Processed batch 14720 to 14752\n"
          ]
        },
        {
          "name": "stderr",
          "output_type": "stream",
          "text": [
            "\r\n",
            " 95%|█████████▍| 462/488 [1:39:55<05:30, 12.72s/it]"
          ]
        },
        {
          "name": "stdout",
          "output_type": "stream",
          "text": [
            "Processed batch 14752 to 14784\n"
          ]
        },
        {
          "name": "stderr",
          "output_type": "stream",
          "text": [
            "\r\n",
            " 95%|█████████▍| 463/488 [1:40:07<05:16, 12.67s/it]"
          ]
        },
        {
          "name": "stdout",
          "output_type": "stream",
          "text": [
            "Processed batch 14784 to 14816\n"
          ]
        },
        {
          "name": "stderr",
          "output_type": "stream",
          "text": [
            "\r\n",
            " 95%|█████████▌| 464/488 [1:40:16<04:35, 11.47s/it]"
          ]
        },
        {
          "name": "stdout",
          "output_type": "stream",
          "text": [
            "Processed batch 14816 to 14848\n"
          ]
        },
        {
          "name": "stderr",
          "output_type": "stream",
          "text": [
            "\r\n",
            " 95%|█████████▌| 465/488 [1:40:26<04:11, 10.94s/it]"
          ]
        },
        {
          "name": "stdout",
          "output_type": "stream",
          "text": [
            "Processed batch 14848 to 14880\n"
          ]
        },
        {
          "name": "stderr",
          "output_type": "stream",
          "text": [
            "\r\n",
            " 95%|█████████▌| 466/488 [1:40:40<04:21, 11.88s/it]"
          ]
        },
        {
          "name": "stdout",
          "output_type": "stream",
          "text": [
            "Processed batch 14880 to 14912\n"
          ]
        },
        {
          "name": "stderr",
          "output_type": "stream",
          "text": [
            "\r\n",
            " 96%|█████████▌| 467/488 [1:40:53<04:17, 12.26s/it]"
          ]
        },
        {
          "name": "stdout",
          "output_type": "stream",
          "text": [
            "Processed batch 14912 to 14944\n"
          ]
        },
        {
          "name": "stderr",
          "output_type": "stream",
          "text": [
            "\r\n",
            " 96%|█████████▌| 468/488 [1:41:07<04:14, 12.74s/it]"
          ]
        },
        {
          "name": "stdout",
          "output_type": "stream",
          "text": [
            "Processed batch 14944 to 14976\n"
          ]
        },
        {
          "name": "stderr",
          "output_type": "stream",
          "text": [
            "\r\n",
            " 96%|█████████▌| 469/488 [1:41:20<04:07, 13.01s/it]"
          ]
        },
        {
          "name": "stdout",
          "output_type": "stream",
          "text": [
            "Processed batch 14976 to 15008\n"
          ]
        },
        {
          "name": "stderr",
          "output_type": "stream",
          "text": [
            "\r\n",
            " 96%|█████████▋| 470/488 [1:41:33<03:49, 12.77s/it]"
          ]
        },
        {
          "name": "stdout",
          "output_type": "stream",
          "text": [
            "Processed batch 15008 to 15040\n"
          ]
        },
        {
          "name": "stderr",
          "output_type": "stream",
          "text": [
            "\r\n",
            " 97%|█████████▋| 471/488 [1:41:47<03:46, 13.31s/it]"
          ]
        },
        {
          "name": "stdout",
          "output_type": "stream",
          "text": [
            "Processed batch 15040 to 15072\n"
          ]
        },
        {
          "name": "stderr",
          "output_type": "stream",
          "text": [
            "\r\n",
            " 97%|█████████▋| 472/488 [1:41:57<03:15, 12.24s/it]"
          ]
        },
        {
          "name": "stdout",
          "output_type": "stream",
          "text": [
            "Processed batch 15072 to 15104\n"
          ]
        },
        {
          "name": "stderr",
          "output_type": "stream",
          "text": [
            "\r\n",
            " 97%|█████████▋| 473/488 [1:42:07<02:55, 11.72s/it]"
          ]
        },
        {
          "name": "stdout",
          "output_type": "stream",
          "text": [
            "Processed batch 15104 to 15136\n"
          ]
        },
        {
          "name": "stderr",
          "output_type": "stream",
          "text": [
            "\r\n",
            " 97%|█████████▋| 474/488 [1:42:21<02:50, 12.18s/it]"
          ]
        },
        {
          "name": "stdout",
          "output_type": "stream",
          "text": [
            "Processed batch 15136 to 15168\n"
          ]
        },
        {
          "name": "stderr",
          "output_type": "stream",
          "text": [
            "\r\n",
            " 97%|█████████▋| 475/488 [1:42:32<02:36, 12.06s/it]"
          ]
        },
        {
          "name": "stdout",
          "output_type": "stream",
          "text": [
            "Processed batch 15168 to 15200\n"
          ]
        },
        {
          "name": "stderr",
          "output_type": "stream",
          "text": [
            "\r\n",
            " 98%|█████████▊| 476/488 [1:42:45<02:27, 12.29s/it]"
          ]
        },
        {
          "name": "stdout",
          "output_type": "stream",
          "text": [
            "Processed batch 15200 to 15232\n"
          ]
        },
        {
          "name": "stderr",
          "output_type": "stream",
          "text": [
            "\r\n",
            " 98%|█████████▊| 477/488 [1:42:55<02:07, 11.55s/it]"
          ]
        },
        {
          "name": "stdout",
          "output_type": "stream",
          "text": [
            "Processed batch 15232 to 15264\n"
          ]
        },
        {
          "name": "stderr",
          "output_type": "stream",
          "text": [
            "\r\n",
            " 98%|█████████▊| 478/488 [1:43:06<01:53, 11.40s/it]"
          ]
        },
        {
          "name": "stdout",
          "output_type": "stream",
          "text": [
            "Processed batch 15264 to 15296\n"
          ]
        },
        {
          "name": "stderr",
          "output_type": "stream",
          "text": [
            "\r\n",
            " 98%|█████████▊| 479/488 [1:43:19<01:47, 11.96s/it]"
          ]
        },
        {
          "name": "stdout",
          "output_type": "stream",
          "text": [
            "Processed batch 15296 to 15328\n"
          ]
        },
        {
          "name": "stderr",
          "output_type": "stream",
          "text": [
            "\r\n",
            " 98%|█████████▊| 480/488 [1:43:31<01:34, 11.85s/it]"
          ]
        },
        {
          "name": "stdout",
          "output_type": "stream",
          "text": [
            "Processed batch 15328 to 15360\n"
          ]
        },
        {
          "name": "stderr",
          "output_type": "stream",
          "text": [
            "\r\n",
            " 99%|█████████▊| 481/488 [1:43:43<01:23, 11.86s/it]"
          ]
        },
        {
          "name": "stdout",
          "output_type": "stream",
          "text": [
            "Processed batch 15360 to 15392\n"
          ]
        },
        {
          "name": "stderr",
          "output_type": "stream",
          "text": [
            "\r\n",
            " 99%|█████████▉| 482/488 [1:43:56<01:12, 12.11s/it]"
          ]
        },
        {
          "name": "stdout",
          "output_type": "stream",
          "text": [
            "Processed batch 15392 to 15424\n"
          ]
        },
        {
          "name": "stderr",
          "output_type": "stream",
          "text": [
            "\r\n",
            " 99%|█████████▉| 483/488 [1:44:08<01:01, 12.26s/it]"
          ]
        },
        {
          "name": "stdout",
          "output_type": "stream",
          "text": [
            "Processed batch 15424 to 15456\n"
          ]
        },
        {
          "name": "stderr",
          "output_type": "stream",
          "text": [
            "\r\n",
            " 99%|█████████▉| 484/488 [1:44:19<00:47, 11.76s/it]"
          ]
        },
        {
          "name": "stdout",
          "output_type": "stream",
          "text": [
            "Processed batch 15456 to 15488\n"
          ]
        },
        {
          "name": "stderr",
          "output_type": "stream",
          "text": [
            "\r\n",
            " 99%|█████████▉| 485/488 [1:44:32<00:36, 12.21s/it]"
          ]
        },
        {
          "name": "stdout",
          "output_type": "stream",
          "text": [
            "Processed batch 15488 to 15520\n"
          ]
        },
        {
          "name": "stderr",
          "output_type": "stream",
          "text": [
            "\r\n",
            "100%|█████████▉| 486/488 [1:44:44<00:24, 12.29s/it]"
          ]
        },
        {
          "name": "stdout",
          "output_type": "stream",
          "text": [
            "Processed batch 15520 to 15552\n"
          ]
        },
        {
          "name": "stderr",
          "output_type": "stream",
          "text": [
            "\r\n",
            "100%|█████████▉| 487/488 [1:44:58<00:12, 12.57s/it]"
          ]
        },
        {
          "name": "stdout",
          "output_type": "stream",
          "text": [
            "Processed batch 15552 to 15584\n"
          ]
        },
        {
          "name": "stderr",
          "output_type": "stream",
          "text": [
            "100%|██████████| 488/488 [1:45:01<00:00, 12.91s/it]"
          ]
        },
        {
          "name": "stdout",
          "output_type": "stream",
          "text": [
            "Processed batch 15584 to 15616\n"
          ]
        },
        {
          "name": "stderr",
          "output_type": "stream",
          "text": [
            "\n"
          ]
        }
      ],
      "source": [
        "# Summarize the text in batches\n",
        "data = batch_summarization(data, batch_size=32, num_beams=2, device=device)"
      ]
    },
    {
      "cell_type": "code",
      "execution_count": null,
      "id": "6c2505c8-0e09-433c-b37f-3865378968d5",
      "metadata": {
        "colab": {
          "base_uri": "https://localhost:8080/",
          "height": 206
        },
        "id": "6c2505c8-0e09-433c-b37f-3865378968d5",
        "outputId": "1f85008a-98d5-4f4e-e572-c30a06124870"
      },
      "outputs": [
        {
          "data": {
            "application/vnd.google.colaboratory.intrinsic+json": {
              "summary": "{\n  \"name\": \"data[['Cleaned Summary', 'Summarized_Text']]\",\n  \"rows\": 5,\n  \"fields\": [\n    {\n      \"column\": \"Cleaned Summary\",\n      \"properties\": {\n        \"dtype\": \"string\",\n        \"num_unique_values\": 5,\n        \"samples\": [\n          \"alex teenager living nearfuture england leads gang nightly orgies opportunistic random ultraviolence alexs friends droogs novels anglorussian slang nadsat dim slowwitted bruiser gangs muscle georgie ambitious secondincommand pete mostly plays along droogs indulge taste ultraviolence characterized sociopath hardened juvenile delinquent alex also intelligent quickwitted sophisticated taste music particularly fond beethoven lovely ludwig van novel begins droogs sitting favorite hangout korova milkbar drinking milkdrug cocktails called milkplus hype nights mayhem assault scholar walking home public library rob store leaving owner wife bloodied unconscious stomp panhandling derelict scuffle rival gang joyriding countryside stolen car break isolated cottage maul young couple living beating husband raping wife metafictional touch husband writer working manuscript called clockwork orange alex contemptuously reads paragraph states novels main theme shredding manuscript back milk bar alex punishes dim crude behaviour strains within gang become apparent home dreary flat alex plays classical music top volume fantasizing even orgiastic violence alex skips school next day following unexpected visit pr deltoid postcorrective advisor alex meets pair tenyearold girls takes back parents flat administers hard drugs rapes evening alex finds droogs mutinous mood georgie challenges alex leadership gang demanding pull mansized job alex quells rebellion slashing dims hand fighting georgie show generosity takes bar alex insists following georgies idea burgle home wealthy old woman breakin starts farce ends tragic pathos alexs attack kills elderly woman escape blocked dim attacks alex leaving incapacitated front step police arrive sentenced prison murder alex gets job wing chapel playing religious music stereo services well singing hymns prison chaplain mistakes alexs bible studies stirrings faith alex actually reading scripture violent passages alexs fellow cellmates blame beating troublesome cellmate death agrees undergo experimental behaviourmodification treatment called ludovico technique technique form aversion therapy alex receives injection makes feel sick watching graphically violent films eventually conditioning suffer crippling bouts nausea mere thought violence unintended consequence soundtrack one filmsbeethovens fifth symphonyrenders alex unable listen beloved classical music effectiveness technique demonstrated group vips watch alex collapses walloping bully abases scantilyclad young woman whose presence aroused predatory sexual inclinations though prison chaplain accuses state stripping alex free government officials scene pleased results alex released society since parents renting room lodger alex wanders streets enters public library hopes learn painless way commit suicide accidentally encounters old scholar assaulted earlier book keen revenge beats alex help friends policemen come alexs rescue turn none dim former gang rival billyboy two policemen take alex outside town beat dazed bloodied alex collapses door isolated cottage realizing late house droogs invaded first half story gang wore masks assault writer recognize alex writer whose name revealed f alexander shelters alex questions conditioning sequence revealed mrs alexander died injuries inflicted gangrape husband decided continue living fragrant memory persists despite horrid memories alexander critic government hopes use alex symbol state brutality thereby prevent incumbent government reelected eventually begins realize alexs role happenings night two years ago one alexanders radical associates manages extract confession alex removing f alexanders home locks flatblock near former home alex subjected relentless barrage classical music prompting attempt suicide leaping high window alex wakes hospital courted government officials anxious counter bad publicity created suicide attempt alexander safely packed mental institution alex offered wellpaying job agrees side government photographers snap pictures alex daydreams orgiastic violence realizes ludovico conditioning reversed cured right final chapter alex new trio droogs finds beginning outgrow taste violence chance encounter pete married settled inspires alex seek wife family contemplates likelihood future son delinquent prospect alex views fatalistically\",\n          \"book tells story paul b\\u00e4umer german soldier whourged school teacherjoins german army shortly start world war b\\u00e4umer arrives western front friends schoolmates tjaden m\\u00fcller kropp number characters meet stanislaus katczinsky older soldier nicknamed kat becomes pauls mentor fighting front b\\u00e4umer comrades engage frequent battles endure dangerous often dirty conditions warfare beginning book erich maria remarque says book neither accusation confession least adventure death adventure stand face face try simply tell generation men even though may escaped shells destroyed war book focus heroic stories bravery rather gives view conditions soldiers find monotony battles constant threat artillery fire bombardments struggle find food lack training young recruits meaning lower chances survival overarching role random chance lives deaths soldiers described detail battles fought names seem little overall significance except impending possibility injury death b\\u00e4umer comrades pitifully small pieces land gained size football field often lost later remarque often refers living soldiers old dead emotionally drained shaken youth longer dont want take world storm fleeing life eighteen begun love life world shoot pieces pauls visit leave home highlights cost war psyche town changed since went war however finds belong anymore foreign world feels disconnected townspeople father asks stupid distressing questions war experiences understanding man cannot talk things old schoolmaster lectures strategy advancing paris insisting paul friends know little sector war nothing big picture indeed person remains connected dying mother shares tender yet restrained relationship night return leave stays exchanging small expressions love concern thinks ah mother mother must part sit lying much say shall never say end concludes ought never come home leave paul feels glad reunited comrades soon volunteers go patrol kills man first time handtohand combat watches man die pain hours feels remorse asks forgiveness mans corpse devastated later confesses kat albert try comfort reassure part war sent paul calls good job must guard village shelled heavily men enjoy evacuating villagers paul albert wounded recuperate catholic hospital paul returns active duty war nearing end german army retreating despair paul watches friends fall one one death kat eventually makes paul careless living final chapter comments peace coming soon see future bright shining hope paul feels aims left life generation different misunderstood finally dies end novel situation report frontline states quiet western front symbolizing cheapness human life war\",\n          \"text plague divided five parts town oran thousands rats initially unnoticed populace begin die streets hysteria develops soon afterward causing local newspapers report incident authorities responding public pressure order collection cremation rats unaware collection catalyst spread bubonic plague main character dr bernard rieux lives comfortably apartment building strangely buildings concierge michel confidante dies fever dr rieux consults colleague castel illness come conclusion plague sweeping town approach fellow doctors town authorities theory eventually dismissed basis one death however deaths quickly ensue becomes apparent epidemic authorities including prefect othon slow accept situation serious quibble appropriate action take official notices enacting control measures posted language used optimistic downplays seriousness situation special ward opened hospital beds filled within three days death toll begins rise desperate measures taken homes quarantined corpses burials strictly supervised supply plague serum finally arrives enough treat existing cases countrys emergency reserves depleted daily number deaths jumps town sealed outbreak plague officially declared town sealed town gates shut rail travel prohibited mail service suspended use telephone lines restricted urgent calls leaving short telegrams means communicating friends family outside town separation affects daily activity depresses spirit townspeople begin feel isolated introverted plague begins affect various characters one character raymond rambert devises plan escape city join lover paris city officials refuse request leave befriends criminals may smuggle city another character father paneloux uses plague opportunity advance stature town suggesting plague act god punishing citizens sinful nature diatribe falls ears many citizens town turned religion droves would done normal circumstances cottard criminal remorseful enough attempt suicide yet fearful arrested becomes wealthy major smuggler meanwhile dr rieux vacationer jean tarrou civil servant joseph grand exhaustively treat patients homes hospital rambert informs tarrou escape plan tarrou tells others city including dr rieux also loved ones outside city allowed see rambert becomes sympathetic changes mind decides join tarrou dr rieux help fight epidemic midaugust situation continues worsen people try escape town shot armed sentries violence looting break small scale authorities respond declaring martial law imposing curfew funerals conducted speed ceremony little concern feelings families deceased inhabitants passively endure increasing feelings exile separation despondent waste away emotionally well physically september october town remains mercy plague rieux hears sanatorium wifes condition worsening also hardens heart regarding plague victims continue work cottard hand seems flourish plague gives sense connected others since everybody faces danger cottard tarrou attend performance glucks opera orpheus eurydice actor portraying orpheus collapses plague symptoms performance rambert finally chance escape decides stay saying would feel ashamed left towards end october castels new antiplague serum tried first time cannot save life othons young son suffers greatly paneloux rieux tarrou look horror paneloux joined group volunteers fighting plague gives second sermon addresses problem innocent childs suffering says test christians faith since requires either deny everything believe everything urges congregation give struggle everything possible fight plague days sermon paneloux taken ill symptoms conform plague disease still proves fatal tarrou rambert visit one isolation camps meet othon othons period quarantine ends elects stay camp volunteer make feel less separated dead son tarrou tells rieux story life two men go swimming together sea grand catches plague instructs rieux burn papers grand makes unexpected recovery deaths plague start decline late january plague full retreat townspeople begin celebrate imminent opening town gates othon however escape death disease cottard distressed ending epidemic profited shady dealings two government employees approach flees despite epidemics ending tarrou contracts plague dies heroic struggle rieuxs wife also dies february town gates open people reunited loved ones cities rambert reunited wife rieux reveals narrator chronicle tried present objective view events cottard goes mad shoots people home arrested grand begins working sentence rieux reflects epidemic reaches conclusion admire despise humans\"\n        ],\n        \"semantic_type\": \"\",\n        \"description\": \"\"\n      }\n    },\n    {\n      \"column\": \"Summarized_Text\",\n      \"properties\": {\n        \"dtype\": \"string\",\n        \"num_unique_values\": 5,\n        \"samples\": [\n          \"alex teenager living nearfuture england leads gang nightly orgies opportunistic random ultraviolence alexs friends droogs novels anglorussian slang nadsat dim slowwitted bruiser gangs muscle georgie ambitious secondincommand pete mostly plays along droogs indulge taste. alex also intelligent quickwitted sophisticated taste music particularly fond beethoven lovely ludwig van novel begins droogs sitting favorite hangout.\",\n          \"book tells story paul b\\u00e4umer german soldier whourged school teacherjoins german army shortly start world war. soldiers find monotony battles constant threat artillery fire bombardments struggle find food lack training young recruits meaning lower chances survival overarching role random chance lives deaths soldiers described detail battles fought names seem little overall significance except impending possibility injury death.\",\n          \"Plague divided five parts town oran thousands rats initially unnoticed populace begin die streets hysteria develops soon afterward causing local newspapers to report incident authorities responding. main character dr bernard rieux lives comfortably apartment building strangely buildings concierge michel confidante dies fever dr rieUX consults colleague castel illness come conclusion plague sweeping town approach fellow doctors town authorities theory eventually dismissed basis one death however deaths quickly ensue becomes apparent epidemic authorities including prefect othon slow accept situation\"\n        ],\n        \"semantic_type\": \"\",\n        \"description\": \"\"\n      }\n    }\n  ]\n}",
              "type": "dataframe"
            },
            "text/html": [
              "\n",
              "  <div id=\"df-fc8b5c03-6e0a-4c29-889b-2aa643e3ff27\" class=\"colab-df-container\">\n",
              "    <div>\n",
              "<style scoped>\n",
              "    .dataframe tbody tr th:only-of-type {\n",
              "        vertical-align: middle;\n",
              "    }\n",
              "\n",
              "    .dataframe tbody tr th {\n",
              "        vertical-align: top;\n",
              "    }\n",
              "\n",
              "    .dataframe thead th {\n",
              "        text-align: right;\n",
              "    }\n",
              "</style>\n",
              "<table border=\"1\" class=\"dataframe\">\n",
              "  <thead>\n",
              "    <tr style=\"text-align: right;\">\n",
              "      <th></th>\n",
              "      <th>Cleaned Summary</th>\n",
              "      <th>Summarized_Text</th>\n",
              "    </tr>\n",
              "  </thead>\n",
              "  <tbody>\n",
              "    <tr>\n",
              "      <th>0</th>\n",
              "      <td>old major old boar manor farm calls animals fa...</td>\n",
              "      <td>old major old boar manor farm calls animals fa...</td>\n",
              "    </tr>\n",
              "    <tr>\n",
              "      <th>1</th>\n",
              "      <td>alex teenager living nearfuture england leads ...</td>\n",
              "      <td>alex teenager living nearfuture england leads ...</td>\n",
              "    </tr>\n",
              "    <tr>\n",
              "      <th>2</th>\n",
              "      <td>text plague divided five parts town oran thous...</td>\n",
              "      <td>Plague divided five parts town oran thousands ...</td>\n",
              "    </tr>\n",
              "    <tr>\n",
              "      <th>3</th>\n",
              "      <td>novel posits space around milky way divided co...</td>\n",
              "      <td>novel posits space around milky way divided co...</td>\n",
              "    </tr>\n",
              "    <tr>\n",
              "      <th>4</th>\n",
              "      <td>book tells story paul bäumer german soldier wh...</td>\n",
              "      <td>book tells story paul bäumer german soldier wh...</td>\n",
              "    </tr>\n",
              "  </tbody>\n",
              "</table>\n",
              "</div>\n",
              "    <div class=\"colab-df-buttons\">\n",
              "\n",
              "  <div class=\"colab-df-container\">\n",
              "    <button class=\"colab-df-convert\" onclick=\"convertToInteractive('df-fc8b5c03-6e0a-4c29-889b-2aa643e3ff27')\"\n",
              "            title=\"Convert this dataframe to an interactive table.\"\n",
              "            style=\"display:none;\">\n",
              "\n",
              "  <svg xmlns=\"http://www.w3.org/2000/svg\" height=\"24px\" viewBox=\"0 -960 960 960\">\n",
              "    <path d=\"M120-120v-720h720v720H120Zm60-500h600v-160H180v160Zm220 220h160v-160H400v160Zm0 220h160v-160H400v160ZM180-400h160v-160H180v160Zm440 0h160v-160H620v160ZM180-180h160v-160H180v160Zm440 0h160v-160H620v160Z\"/>\n",
              "  </svg>\n",
              "    </button>\n",
              "\n",
              "  <style>\n",
              "    .colab-df-container {\n",
              "      display:flex;\n",
              "      gap: 12px;\n",
              "    }\n",
              "\n",
              "    .colab-df-convert {\n",
              "      background-color: #E8F0FE;\n",
              "      border: none;\n",
              "      border-radius: 50%;\n",
              "      cursor: pointer;\n",
              "      display: none;\n",
              "      fill: #1967D2;\n",
              "      height: 32px;\n",
              "      padding: 0 0 0 0;\n",
              "      width: 32px;\n",
              "    }\n",
              "\n",
              "    .colab-df-convert:hover {\n",
              "      background-color: #E2EBFA;\n",
              "      box-shadow: 0px 1px 2px rgba(60, 64, 67, 0.3), 0px 1px 3px 1px rgba(60, 64, 67, 0.15);\n",
              "      fill: #174EA6;\n",
              "    }\n",
              "\n",
              "    .colab-df-buttons div {\n",
              "      margin-bottom: 4px;\n",
              "    }\n",
              "\n",
              "    [theme=dark] .colab-df-convert {\n",
              "      background-color: #3B4455;\n",
              "      fill: #D2E3FC;\n",
              "    }\n",
              "\n",
              "    [theme=dark] .colab-df-convert:hover {\n",
              "      background-color: #434B5C;\n",
              "      box-shadow: 0px 1px 3px 1px rgba(0, 0, 0, 0.15);\n",
              "      filter: drop-shadow(0px 1px 2px rgba(0, 0, 0, 0.3));\n",
              "      fill: #FFFFFF;\n",
              "    }\n",
              "  </style>\n",
              "\n",
              "    <script>\n",
              "      const buttonEl =\n",
              "        document.querySelector('#df-fc8b5c03-6e0a-4c29-889b-2aa643e3ff27 button.colab-df-convert');\n",
              "      buttonEl.style.display =\n",
              "        google.colab.kernel.accessAllowed ? 'block' : 'none';\n",
              "\n",
              "      async function convertToInteractive(key) {\n",
              "        const element = document.querySelector('#df-fc8b5c03-6e0a-4c29-889b-2aa643e3ff27');\n",
              "        const dataTable =\n",
              "          await google.colab.kernel.invokeFunction('convertToInteractive',\n",
              "                                                    [key], {});\n",
              "        if (!dataTable) return;\n",
              "\n",
              "        const docLinkHtml = 'Like what you see? Visit the ' +\n",
              "          '<a target=\"_blank\" href=https://colab.research.google.com/notebooks/data_table.ipynb>data table notebook</a>'\n",
              "          + ' to learn more about interactive tables.';\n",
              "        element.innerHTML = '';\n",
              "        dataTable['output_type'] = 'display_data';\n",
              "        await google.colab.output.renderOutput(dataTable, element);\n",
              "        const docLink = document.createElement('div');\n",
              "        docLink.innerHTML = docLinkHtml;\n",
              "        element.appendChild(docLink);\n",
              "      }\n",
              "    </script>\n",
              "  </div>\n",
              "\n",
              "\n",
              "<div id=\"df-5ae01acf-035e-425a-9548-2f98e479ffa1\">\n",
              "  <button class=\"colab-df-quickchart\" onclick=\"quickchart('df-5ae01acf-035e-425a-9548-2f98e479ffa1')\"\n",
              "            title=\"Suggest charts\"\n",
              "            style=\"display:none;\">\n",
              "\n",
              "<svg xmlns=\"http://www.w3.org/2000/svg\" height=\"24px\"viewBox=\"0 0 24 24\"\n",
              "     width=\"24px\">\n",
              "    <g>\n",
              "        <path d=\"M19 3H5c-1.1 0-2 .9-2 2v14c0 1.1.9 2 2 2h14c1.1 0 2-.9 2-2V5c0-1.1-.9-2-2-2zM9 17H7v-7h2v7zm4 0h-2V7h2v10zm4 0h-2v-4h2v4z\"/>\n",
              "    </g>\n",
              "</svg>\n",
              "  </button>\n",
              "\n",
              "<style>\n",
              "  .colab-df-quickchart {\n",
              "      --bg-color: #E8F0FE;\n",
              "      --fill-color: #1967D2;\n",
              "      --hover-bg-color: #E2EBFA;\n",
              "      --hover-fill-color: #174EA6;\n",
              "      --disabled-fill-color: #AAA;\n",
              "      --disabled-bg-color: #DDD;\n",
              "  }\n",
              "\n",
              "  [theme=dark] .colab-df-quickchart {\n",
              "      --bg-color: #3B4455;\n",
              "      --fill-color: #D2E3FC;\n",
              "      --hover-bg-color: #434B5C;\n",
              "      --hover-fill-color: #FFFFFF;\n",
              "      --disabled-bg-color: #3B4455;\n",
              "      --disabled-fill-color: #666;\n",
              "  }\n",
              "\n",
              "  .colab-df-quickchart {\n",
              "    background-color: var(--bg-color);\n",
              "    border: none;\n",
              "    border-radius: 50%;\n",
              "    cursor: pointer;\n",
              "    display: none;\n",
              "    fill: var(--fill-color);\n",
              "    height: 32px;\n",
              "    padding: 0;\n",
              "    width: 32px;\n",
              "  }\n",
              "\n",
              "  .colab-df-quickchart:hover {\n",
              "    background-color: var(--hover-bg-color);\n",
              "    box-shadow: 0 1px 2px rgba(60, 64, 67, 0.3), 0 1px 3px 1px rgba(60, 64, 67, 0.15);\n",
              "    fill: var(--button-hover-fill-color);\n",
              "  }\n",
              "\n",
              "  .colab-df-quickchart-complete:disabled,\n",
              "  .colab-df-quickchart-complete:disabled:hover {\n",
              "    background-color: var(--disabled-bg-color);\n",
              "    fill: var(--disabled-fill-color);\n",
              "    box-shadow: none;\n",
              "  }\n",
              "\n",
              "  .colab-df-spinner {\n",
              "    border: 2px solid var(--fill-color);\n",
              "    border-color: transparent;\n",
              "    border-bottom-color: var(--fill-color);\n",
              "    animation:\n",
              "      spin 1s steps(1) infinite;\n",
              "  }\n",
              "\n",
              "  @keyframes spin {\n",
              "    0% {\n",
              "      border-color: transparent;\n",
              "      border-bottom-color: var(--fill-color);\n",
              "      border-left-color: var(--fill-color);\n",
              "    }\n",
              "    20% {\n",
              "      border-color: transparent;\n",
              "      border-left-color: var(--fill-color);\n",
              "      border-top-color: var(--fill-color);\n",
              "    }\n",
              "    30% {\n",
              "      border-color: transparent;\n",
              "      border-left-color: var(--fill-color);\n",
              "      border-top-color: var(--fill-color);\n",
              "      border-right-color: var(--fill-color);\n",
              "    }\n",
              "    40% {\n",
              "      border-color: transparent;\n",
              "      border-right-color: var(--fill-color);\n",
              "      border-top-color: var(--fill-color);\n",
              "    }\n",
              "    60% {\n",
              "      border-color: transparent;\n",
              "      border-right-color: var(--fill-color);\n",
              "    }\n",
              "    80% {\n",
              "      border-color: transparent;\n",
              "      border-right-color: var(--fill-color);\n",
              "      border-bottom-color: var(--fill-color);\n",
              "    }\n",
              "    90% {\n",
              "      border-color: transparent;\n",
              "      border-bottom-color: var(--fill-color);\n",
              "    }\n",
              "  }\n",
              "</style>\n",
              "\n",
              "  <script>\n",
              "    async function quickchart(key) {\n",
              "      const quickchartButtonEl =\n",
              "        document.querySelector('#' + key + ' button');\n",
              "      quickchartButtonEl.disabled = true;  // To prevent multiple clicks.\n",
              "      quickchartButtonEl.classList.add('colab-df-spinner');\n",
              "      try {\n",
              "        const charts = await google.colab.kernel.invokeFunction(\n",
              "            'suggestCharts', [key], {});\n",
              "      } catch (error) {\n",
              "        console.error('Error during call to suggestCharts:', error);\n",
              "      }\n",
              "      quickchartButtonEl.classList.remove('colab-df-spinner');\n",
              "      quickchartButtonEl.classList.add('colab-df-quickchart-complete');\n",
              "    }\n",
              "    (() => {\n",
              "      let quickchartButtonEl =\n",
              "        document.querySelector('#df-5ae01acf-035e-425a-9548-2f98e479ffa1 button');\n",
              "      quickchartButtonEl.style.display =\n",
              "        google.colab.kernel.accessAllowed ? 'block' : 'none';\n",
              "    })();\n",
              "  </script>\n",
              "</div>\n",
              "    </div>\n",
              "  </div>\n"
            ],
            "text/plain": [
              "                                     Cleaned Summary  \\\n",
              "0  old major old boar manor farm calls animals fa...   \n",
              "1  alex teenager living nearfuture england leads ...   \n",
              "2  text plague divided five parts town oran thous...   \n",
              "3  novel posits space around milky way divided co...   \n",
              "4  book tells story paul bäumer german soldier wh...   \n",
              "\n",
              "                                     Summarized_Text  \n",
              "0  old major old boar manor farm calls animals fa...  \n",
              "1  alex teenager living nearfuture england leads ...  \n",
              "2  Plague divided five parts town oran thousands ...  \n",
              "3  novel posits space around milky way divided co...  \n",
              "4  book tells story paul bäumer german soldier wh...  "
            ]
          },
          "execution_count": 15,
          "metadata": {},
          "output_type": "execute_result"
        }
      ],
      "source": [
        "# Display the first few summarized texts\n",
        "data[['Cleaned Summary', 'Summarized_Text']].head()"
      ]
    },
    {
      "cell_type": "code",
      "execution_count": null,
      "id": "250af293-69ae-4cfc-ae84-87e1c2d36a41",
      "metadata": {
        "id": "250af293-69ae-4cfc-ae84-87e1c2d36a41"
      },
      "outputs": [],
      "source": [
        "# Save summarized book summary data to drive from google colab\n",
        "file_path = 'drive/MyDrive/summarized_book_summary.csv'\n",
        "data.to_csv(file_path, sep='\\t',\n",
        "            index=False, encoding='utf-8')"
      ]
    },
    {
      "cell_type": "code",
      "execution_count": null,
      "id": "14f39f4b-3a8b-45b1-9626-74b81c14832d",
      "metadata": {
        "id": "14f39f4b-3a8b-45b1-9626-74b81c14832d"
      },
      "outputs": [],
      "source": [
        "# # Save summarized book summary data to local system\n",
        "# data.to_csv('summarized_book_summary.csv', sep='\\t',\n",
        "#             index=False, encoding='utf-8')"
      ]
    },
    {
      "cell_type": "markdown",
      "id": "hL6Isf2ugVvl",
      "metadata": {
        "id": "hL6Isf2ugVvl"
      },
      "source": [
        "## Step 3: Computer Vision Component"
      ]
    },
    {
      "cell_type": "code",
      "execution_count": 1,
      "id": "Z7yPHgIqgY1A",
      "metadata": {
        "colab": {
          "base_uri": "https://localhost:8080/"
        },
        "id": "Z7yPHgIqgY1A",
        "outputId": "7c740575-503d-4fb7-b5ba-537db64a995d"
      },
      "outputs": [
        {
          "name": "stdout",
          "output_type": "stream",
          "text": [
            "Mounted at /content/drive\n"
          ]
        }
      ],
      "source": [
        "# import google drive to use gpu for this section\n",
        "from google.colab import drive\n",
        "drive.mount('/content/drive')"
      ]
    },
    {
      "cell_type": "code",
      "execution_count": 3,
      "id": "gJ4opVUVgeFh",
      "metadata": {
        "colab": {
          "base_uri": "https://localhost:8080/"
        },
        "id": "gJ4opVUVgeFh",
        "outputId": "84eb55dc-ab75-473c-a423-2f9a188bea59"
      },
      "outputs": [
        {
          "name": "stdout",
          "output_type": "stream",
          "text": [
            "\u001b[2K   \u001b[90m━━━━━━━━━━━━━━━━━━━━━━━━━━━━━━━━━━━━━━━━\u001b[0m \u001b[32m2.6/2.6 MB\u001b[0m \u001b[31m10.6 MB/s\u001b[0m eta \u001b[36m0:00:00\u001b[0m\n",
            "\u001b[?25h"
          ]
        }
      ],
      "source": [
        "# install the necessary libraries\n",
        "!pip install -q diffusers transformers torch"
      ]
    },
    {
      "cell_type": "code",
      "execution_count": 10,
      "id": "Vs1NWRmEgloH",
      "metadata": {
        "id": "Vs1NWRmEgloH"
      },
      "outputs": [],
      "source": [
        "# import libraries\n",
        "import os\n",
        "from tqdm import tqdm\n",
        "from PIL import Image\n",
        "import pandas as pd\n",
        "import matplotlib.pyplot as plt\n",
        "import torch\n",
        "from diffusers import StableDiffusionPipeline"
      ]
    },
    {
      "cell_type": "code",
      "execution_count": 11,
      "id": "JDhqwL4kgrqn",
      "metadata": {
        "id": "JDhqwL4kgrqn"
      },
      "outputs": [],
      "source": [
        "# Load dataset from csv file from drive for google colab\n",
        "file_path = 'drive/MyDrive/summarized_book_summary.csv'\n",
        "data = pd.read_csv(file_path, sep='\\t', encoding='utf-8')"
      ]
    },
    {
      "cell_type": "code",
      "execution_count": null,
      "id": "3CiBgnuSg6Sv",
      "metadata": {
        "id": "3CiBgnuSg6Sv"
      },
      "outputs": [],
      "source": [
        "# # Load dataset from local csv file\n",
        "# data = pd.read_csv('summarized_book_summary.csv', sep='\\t', encoding='utf-8')"
      ]
    },
    {
      "cell_type": "code",
      "execution_count": 1,
      "id": "O7yUVTFUg80-",
      "metadata": {
        "colab": {
          "base_uri": "https://localhost:8080/",
          "height": 211
        },
        "id": "O7yUVTFUg80-",
        "outputId": "d4fc1fee-177f-4d1e-c738-c2879c91266b"
      },
      "outputs": [
        {
          "ename": "NameError",
          "evalue": "name 'torch' is not defined",
          "output_type": "error",
          "traceback": [
            "\u001b[0;31m---------------------------------------------------------------------------\u001b[0m",
            "\u001b[0;31mNameError\u001b[0m                                 Traceback (most recent call last)",
            "\u001b[0;32m<ipython-input-1-b91863ac4bf6>\u001b[0m in \u001b[0;36m<cell line: 2>\u001b[0;34m()\u001b[0m\n\u001b[1;32m      1\u001b[0m \u001b[0;31m# Check if a GPU is available, otherwise fall back to CPU\u001b[0m\u001b[0;34m\u001b[0m\u001b[0;34m\u001b[0m\u001b[0m\n\u001b[0;32m----> 2\u001b[0;31m \u001b[0mdevice\u001b[0m \u001b[0;34m=\u001b[0m \u001b[0;34m\"cuda\"\u001b[0m \u001b[0;32mif\u001b[0m \u001b[0mtorch\u001b[0m\u001b[0;34m.\u001b[0m\u001b[0mcuda\u001b[0m\u001b[0;34m.\u001b[0m\u001b[0mis_available\u001b[0m\u001b[0;34m(\u001b[0m\u001b[0;34m)\u001b[0m \u001b[0;32melse\u001b[0m \u001b[0;34m\"cpu\"\u001b[0m\u001b[0;34m\u001b[0m\u001b[0;34m\u001b[0m\u001b[0m\n\u001b[0m\u001b[1;32m      3\u001b[0m \u001b[0;34m\u001b[0m\u001b[0m\n\u001b[1;32m      4\u001b[0m \u001b[0;31m# Load the pre-trained Stable Diffusion model\u001b[0m\u001b[0;34m\u001b[0m\u001b[0;34m\u001b[0m\u001b[0m\n\u001b[1;32m      5\u001b[0m pipe = StableDiffusionPipeline.from_pretrained(\"CompVis/stable-diffusion-v1-4\",\n",
            "\u001b[0;31mNameError\u001b[0m: name 'torch' is not defined"
          ]
        }
      ],
      "source": [
        "# Check if a GPU is available, otherwise fall back to CPU\n",
        "device = \"cuda\" if torch.cuda.is_available() else \"cpu\"\n",
        "\n",
        "# Load the pre-trained Stable Diffusion model\n",
        "pipe = StableDiffusionPipeline.from_pretrained(\"CompVis/stable-diffusion-v1-4\",\n",
        "                                               torch_dtype=torch.float16)\\\n",
        "                                               .to(device)"
      ]
    },
    {
      "cell_type": "code",
      "execution_count": null,
      "id": "edddfGpWhDAc",
      "metadata": {
        "id": "edddfGpWhDAc"
      },
      "outputs": [],
      "source": [
        "# Ensure the output folder exists\n",
        "output_folder = \"drive/MyDrive/generated_images\"\n",
        "os.makedirs(output_folder, exist_ok=True)"
      ]
    },
    {
      "cell_type": "code",
      "execution_count": null,
      "id": "QkaChNtAhD3s",
      "metadata": {
        "id": "QkaChNtAhD3s"
      },
      "outputs": [],
      "source": [
        "def text_to_image(text, num_images_per_prompt=1, height=256, width=256,\n",
        "                  pipe=None, device=\"cpu\"):\n",
        "    \"\"\"\n",
        "    Generates an image from the provided text using the Stable Diffusion\n",
        "    pipeline.\n",
        "\n",
        "    Args:\n",
        "        text (str): The text description to convert into an image.\n",
        "        num_images_per_prompt (int, optional): The number of images to generate\n",
        "                                               per prompt. Defaults to 1.\n",
        "        height (int, optional): The desired height of the generated image.\n",
        "                                Defaults to 256.\n",
        "        width (int, optional): The desired width of the generated image.\n",
        "                               Defaults to 256.\n",
        "        pipe (StableDiffusionPipeline, optional): The Stable Diffusion model\n",
        "                                                  pipeline. If not provided, a\n",
        "                                                  default model will be loaded.\n",
        "        device (str, optional): The device to use for inference (e.g., 'cpu',\n",
        "                                'cuda'). Defaults to 'cpu'.\n",
        "\n",
        "    Returns:\n",
        "        image (PIL Image): Generated image.\n",
        "    \"\"\"\n",
        "\n",
        "    if pipe is None:\n",
        "        # Load a default Stable Diffusion model if not provided\n",
        "        pipe = StableDiffusionPipeline.from_pretrained(\n",
        "            \"CompVis/stable-diffusion-v1-4\", torch_dtype=torch.float16)\\\n",
        "            .to(device)\n",
        "\n",
        "    # Generate the image\n",
        "    image = pipe(text, num_images_per_prompt=num_images_per_prompt,\n",
        "                 height=height, width=width).images[0]\n",
        "\n",
        "    return image"
      ]
    },
    {
      "cell_type": "code",
      "execution_count": null,
      "id": "PvleTZUDhH9_",
      "metadata": {
        "id": "PvleTZUDhH9_"
      },
      "outputs": [],
      "source": [
        "def batch_text_to_images(df, pipe, batch_size=32, start_index=0,\n",
        "                         stop_index=None, num_images_per_prompt=1, height=256,\n",
        "                         width=256, device=\"cpu\",\n",
        "                         output_folder=\"generated_images\"):\n",
        "    \"\"\"\n",
        "    Generates images in batches from a DataFrame containing summarized text and\n",
        "    saves them to the specified output folder.\n",
        "\n",
        "    Args:\n",
        "        df (pandas.DataFrame): The DataFrame containing the summarized text in a\n",
        "                               column named 'Summarized_Text'.\n",
        "        pipe (StableDiffusionPipeline): The pre-trained Stable Diffusion model\n",
        "                                        pipeline used for image generation.\n",
        "        batch_size (int, optional): The number of rows to process in each batch.\n",
        "                                    Defaults to 32.\n",
        "        start_index (int, optional): The starting index for iterating through\n",
        "                                     the DataFrame. Defaults to 0.\n",
        "        stop_index (int, optional): The ending index for iterating through the\n",
        "                                    DataFrame (exclusive). If not provided,\n",
        "                                    iterates through the entire DataFrame.\n",
        "        num_images_per_prompt (int, optional): The number of images to generate\n",
        "                                                for each summarized text entry.\n",
        "                                                Defaults to 1.\n",
        "        height (int, optional): The desired height of the generated images.\n",
        "                                Defaults to 256.\n",
        "        width (int, optional): The desired width of the generated images.\n",
        "                               Defaults to 256.\n",
        "        device (str, optional): The device to use for inference (e.g., 'cpu',\n",
        "                                'cuda'). Defaults to 'cpu'.\n",
        "        output_folder (str, optional): The path to the output folder where\n",
        "                                       generated images will be saved.\n",
        "                                       Defaults to 'generated_images'.\n",
        "\n",
        "    Raises:\n",
        "        Exception: Any exception that occurs during image generation for a\n",
        "                   particular index in the DataFrame will be printed.\n",
        "    \"\"\"\n",
        "    if not stop_index:\n",
        "      stop_index = len(df)\n",
        "\n",
        "    # Loop through the dataframe in batches\n",
        "    for i in tqdm(range(start_index, stop_index, batch_size),\n",
        "                  desc=\"Generating Images\"):\n",
        "        batch_df = df.iloc[i:i+batch_size]\n",
        "        for idx, row in batch_df.iterrows():\n",
        "            try:\n",
        "                # Generate the image from the summarized text\n",
        "                img = text_to_image(row['Summarized_Text'],\n",
        "                                    num_images_per_prompt=num_images_per_prompt,\n",
        "                                    height=height, width=width, pipe=pipe,\n",
        "                                    device=device)\n",
        "\n",
        "                # Save the image with the index as the filename\n",
        "                img.save(os.path.join(output_folder, f\"{idx}_summary.png\"))\n",
        "            except Exception as e:\n",
        "                print(f\"Error generating image for index {idx}: {e}\")\n",
        "\n",
        "        print(f\"Processed batch {i} to {i+batch_size}\")"
      ]
    },
    {
      "cell_type": "code",
      "execution_count": null,
      "id": "KrliwygXhL-E",
      "metadata": {
        "id": "KrliwygXhL-E"
      },
      "outputs": [],
      "source": [
        "def display_image(image):\n",
        "    \"\"\"\n",
        "    Display the generated image using matplotlib.\n",
        "\n",
        "    Args:\n",
        "    image (PIL Image): The image to display.\n",
        "    \"\"\"\n",
        "    plt.imshow(image)\n",
        "    plt.axis(\"off\")\n",
        "    plt.show()"
      ]
    },
    {
      "cell_type": "code",
      "execution_count": null,
      "id": "wjUsT5slhPqP",
      "metadata": {
        "id": "wjUsT5slhPqP"
      },
      "outputs": [],
      "source": [
        "# Example usage with a sample text\n",
        "sample_text = data.loc[0, 'Summarized_Text']\n",
        "\n",
        "# Generate image for sample text\n",
        "sample_image = text_to_image(sample_text, pipe=pipe, device=device)\n",
        "\n",
        "# Display the generated image\n",
        "display_image(sample_image)"
      ]
    },
    {
      "cell_type": "code",
      "execution_count": null,
      "id": "7dzAK5dLhWSr",
      "metadata": {
        "id": "7dzAK5dLhWSr"
      },
      "outputs": [],
      "source": [
        "# Example usage with your DataFrame\n",
        "batch_text_to_images(data, pipe=pipe, device=device, stop_index=1000)"
      ]
    }
  ],
  "metadata": {
    "accelerator": "GPU",
    "colab": {
      "gpuType": "T4",
      "provenance": []
    },
    "kernelspec": {
      "display_name": "Python 3",
      "name": "python3"
    },
    "language_info": {
      "codemirror_mode": {
        "name": "ipython",
        "version": 3
      },
      "file_extension": ".py",
      "mimetype": "text/x-python",
      "name": "python",
      "nbconvert_exporter": "python",
      "pygments_lexer": "ipython3",
      "version": "3.9.1"
    },
    "widgets": {
      "application/vnd.jupyter.widget-state+json": {
        "01a84e5f9afb456db8d0102ab079a1de": {
          "model_module": "@jupyter-widgets/controls",
          "model_module_version": "1.5.0",
          "model_name": "FloatProgressModel",
          "state": {
            "_dom_classes": [],
            "_model_module": "@jupyter-widgets/controls",
            "_model_module_version": "1.5.0",
            "_model_name": "FloatProgressModel",
            "_view_count": null,
            "_view_module": "@jupyter-widgets/controls",
            "_view_module_version": "1.5.0",
            "_view_name": "ProgressView",
            "bar_style": "success",
            "description": "",
            "description_tooltip": null,
            "layout": "IPY_MODEL_ca9398577b3941fdabe1e239ec2ffeb8",
            "max": 456318,
            "min": 0,
            "orientation": "horizontal",
            "style": "IPY_MODEL_6a5337d2436041b8a05dc520681aa6c1",
            "value": 456318
          }
        },
        "039d69bb70c041e7a0a7075e5b68a728": {
          "model_module": "@jupyter-widgets/base",
          "model_module_version": "1.2.0",
          "model_name": "LayoutModel",
          "state": {
            "_model_module": "@jupyter-widgets/base",
            "_model_module_version": "1.2.0",
            "_model_name": "LayoutModel",
            "_view_count": null,
            "_view_module": "@jupyter-widgets/base",
            "_view_module_version": "1.2.0",
            "_view_name": "LayoutView",
            "align_content": null,
            "align_items": null,
            "align_self": null,
            "border": null,
            "bottom": null,
            "display": null,
            "flex": null,
            "flex_flow": null,
            "grid_area": null,
            "grid_auto_columns": null,
            "grid_auto_flow": null,
            "grid_auto_rows": null,
            "grid_column": null,
            "grid_gap": null,
            "grid_row": null,
            "grid_template_areas": null,
            "grid_template_columns": null,
            "grid_template_rows": null,
            "height": null,
            "justify_content": null,
            "justify_items": null,
            "left": null,
            "margin": null,
            "max_height": null,
            "max_width": null,
            "min_height": null,
            "min_width": null,
            "object_fit": null,
            "object_position": null,
            "order": null,
            "overflow": null,
            "overflow_x": null,
            "overflow_y": null,
            "padding": null,
            "right": null,
            "top": null,
            "visibility": null,
            "width": null
          }
        },
        "08d896d552d74e9da1a2cf578be05f31": {
          "model_module": "@jupyter-widgets/controls",
          "model_module_version": "1.5.0",
          "model_name": "ProgressStyleModel",
          "state": {
            "_model_module": "@jupyter-widgets/controls",
            "_model_module_version": "1.5.0",
            "_model_name": "ProgressStyleModel",
            "_view_count": null,
            "_view_module": "@jupyter-widgets/base",
            "_view_module_version": "1.2.0",
            "_view_name": "StyleView",
            "bar_color": null,
            "description_width": ""
          }
        },
        "0eada48d0eef4da99686355efe9d32bc": {
          "model_module": "@jupyter-widgets/controls",
          "model_module_version": "1.5.0",
          "model_name": "DescriptionStyleModel",
          "state": {
            "_model_module": "@jupyter-widgets/controls",
            "_model_module_version": "1.5.0",
            "_model_name": "DescriptionStyleModel",
            "_view_count": null,
            "_view_module": "@jupyter-widgets/base",
            "_view_module_version": "1.2.0",
            "_view_name": "StyleView",
            "description_width": ""
          }
        },
        "12be67cfdb7b4bb1b76f5999f2e41c0f": {
          "model_module": "@jupyter-widgets/controls",
          "model_module_version": "1.5.0",
          "model_name": "DescriptionStyleModel",
          "state": {
            "_model_module": "@jupyter-widgets/controls",
            "_model_module_version": "1.5.0",
            "_model_name": "DescriptionStyleModel",
            "_view_count": null,
            "_view_module": "@jupyter-widgets/base",
            "_view_module_version": "1.2.0",
            "_view_name": "StyleView",
            "description_width": ""
          }
        },
        "14f867e7672a48cf830fbcb3280f2f7c": {
          "model_module": "@jupyter-widgets/controls",
          "model_module_version": "1.5.0",
          "model_name": "HTMLModel",
          "state": {
            "_dom_classes": [],
            "_model_module": "@jupyter-widgets/controls",
            "_model_module_version": "1.5.0",
            "_model_name": "HTMLModel",
            "_view_count": null,
            "_view_module": "@jupyter-widgets/controls",
            "_view_module_version": "1.5.0",
            "_view_name": "HTMLView",
            "description": "",
            "description_tooltip": null,
            "layout": "IPY_MODEL_9c8e88c9fc5645ddb2c3dc18cb13a1c0",
            "placeholder": "​",
            "style": "IPY_MODEL_bb2b0b4fb51643069e3a2a935bf88898",
            "value": " 1.58k/1.58k [00:00&lt;00:00, 19.7kB/s]"
          }
        },
        "19ec81d8f53f495ea362eb0e6f94db52": {
          "model_module": "@jupyter-widgets/base",
          "model_module_version": "1.2.0",
          "model_name": "LayoutModel",
          "state": {
            "_model_module": "@jupyter-widgets/base",
            "_model_module_version": "1.2.0",
            "_model_name": "LayoutModel",
            "_view_count": null,
            "_view_module": "@jupyter-widgets/base",
            "_view_module_version": "1.2.0",
            "_view_name": "LayoutView",
            "align_content": null,
            "align_items": null,
            "align_self": null,
            "border": null,
            "bottom": null,
            "display": null,
            "flex": null,
            "flex_flow": null,
            "grid_area": null,
            "grid_auto_columns": null,
            "grid_auto_flow": null,
            "grid_auto_rows": null,
            "grid_column": null,
            "grid_gap": null,
            "grid_row": null,
            "grid_template_areas": null,
            "grid_template_columns": null,
            "grid_template_rows": null,
            "height": null,
            "justify_content": null,
            "justify_items": null,
            "left": null,
            "margin": null,
            "max_height": null,
            "max_width": null,
            "min_height": null,
            "min_width": null,
            "object_fit": null,
            "object_position": null,
            "order": null,
            "overflow": null,
            "overflow_x": null,
            "overflow_y": null,
            "padding": null,
            "right": null,
            "top": null,
            "visibility": null,
            "width": null
          }
        },
        "1b3f723ba8a844f8a7c23034fa1a52d5": {
          "model_module": "@jupyter-widgets/base",
          "model_module_version": "1.2.0",
          "model_name": "LayoutModel",
          "state": {
            "_model_module": "@jupyter-widgets/base",
            "_model_module_version": "1.2.0",
            "_model_name": "LayoutModel",
            "_view_count": null,
            "_view_module": "@jupyter-widgets/base",
            "_view_module_version": "1.2.0",
            "_view_name": "LayoutView",
            "align_content": null,
            "align_items": null,
            "align_self": null,
            "border": null,
            "bottom": null,
            "display": null,
            "flex": null,
            "flex_flow": null,
            "grid_area": null,
            "grid_auto_columns": null,
            "grid_auto_flow": null,
            "grid_auto_rows": null,
            "grid_column": null,
            "grid_gap": null,
            "grid_row": null,
            "grid_template_areas": null,
            "grid_template_columns": null,
            "grid_template_rows": null,
            "height": null,
            "justify_content": null,
            "justify_items": null,
            "left": null,
            "margin": null,
            "max_height": null,
            "max_width": null,
            "min_height": null,
            "min_width": null,
            "object_fit": null,
            "object_position": null,
            "order": null,
            "overflow": null,
            "overflow_x": null,
            "overflow_y": null,
            "padding": null,
            "right": null,
            "top": null,
            "visibility": null,
            "width": null
          }
        },
        "1c5368f299054a91ac786e6227d5606a": {
          "model_module": "@jupyter-widgets/base",
          "model_module_version": "1.2.0",
          "model_name": "LayoutModel",
          "state": {
            "_model_module": "@jupyter-widgets/base",
            "_model_module_version": "1.2.0",
            "_model_name": "LayoutModel",
            "_view_count": null,
            "_view_module": "@jupyter-widgets/base",
            "_view_module_version": "1.2.0",
            "_view_name": "LayoutView",
            "align_content": null,
            "align_items": null,
            "align_self": null,
            "border": null,
            "bottom": null,
            "display": null,
            "flex": null,
            "flex_flow": null,
            "grid_area": null,
            "grid_auto_columns": null,
            "grid_auto_flow": null,
            "grid_auto_rows": null,
            "grid_column": null,
            "grid_gap": null,
            "grid_row": null,
            "grid_template_areas": null,
            "grid_template_columns": null,
            "grid_template_rows": null,
            "height": null,
            "justify_content": null,
            "justify_items": null,
            "left": null,
            "margin": null,
            "max_height": null,
            "max_width": null,
            "min_height": null,
            "min_width": null,
            "object_fit": null,
            "object_position": null,
            "order": null,
            "overflow": null,
            "overflow_x": null,
            "overflow_y": null,
            "padding": null,
            "right": null,
            "top": null,
            "visibility": null,
            "width": null
          }
        },
        "2542f4550d94471c9ad7572785dc47e3": {
          "model_module": "@jupyter-widgets/controls",
          "model_module_version": "1.5.0",
          "model_name": "DescriptionStyleModel",
          "state": {
            "_model_module": "@jupyter-widgets/controls",
            "_model_module_version": "1.5.0",
            "_model_name": "DescriptionStyleModel",
            "_view_count": null,
            "_view_module": "@jupyter-widgets/base",
            "_view_module_version": "1.2.0",
            "_view_name": "StyleView",
            "description_width": ""
          }
        },
        "25f77985f6844534ad385ed529665674": {
          "model_module": "@jupyter-widgets/controls",
          "model_module_version": "1.5.0",
          "model_name": "HTMLModel",
          "state": {
            "_dom_classes": [],
            "_model_module": "@jupyter-widgets/controls",
            "_model_module_version": "1.5.0",
            "_model_name": "HTMLModel",
            "_view_count": null,
            "_view_module": "@jupyter-widgets/controls",
            "_view_module_version": "1.5.0",
            "_view_name": "HTMLView",
            "description": "",
            "description_tooltip": null,
            "layout": "IPY_MODEL_8b60c5cc81ac42fd8588eedb507b6550",
            "placeholder": "​",
            "style": "IPY_MODEL_12be67cfdb7b4bb1b76f5999f2e41c0f",
            "value": " 899k/899k [00:00&lt;00:00, 3.68MB/s]"
          }
        },
        "2d2b1633b5b04f7c8017741e79d0d046": {
          "model_module": "@jupyter-widgets/base",
          "model_module_version": "1.2.0",
          "model_name": "LayoutModel",
          "state": {
            "_model_module": "@jupyter-widgets/base",
            "_model_module_version": "1.2.0",
            "_model_name": "LayoutModel",
            "_view_count": null,
            "_view_module": "@jupyter-widgets/base",
            "_view_module_version": "1.2.0",
            "_view_name": "LayoutView",
            "align_content": null,
            "align_items": null,
            "align_self": null,
            "border": null,
            "bottom": null,
            "display": null,
            "flex": null,
            "flex_flow": null,
            "grid_area": null,
            "grid_auto_columns": null,
            "grid_auto_flow": null,
            "grid_auto_rows": null,
            "grid_column": null,
            "grid_gap": null,
            "grid_row": null,
            "grid_template_areas": null,
            "grid_template_columns": null,
            "grid_template_rows": null,
            "height": null,
            "justify_content": null,
            "justify_items": null,
            "left": null,
            "margin": null,
            "max_height": null,
            "max_width": null,
            "min_height": null,
            "min_width": null,
            "object_fit": null,
            "object_position": null,
            "order": null,
            "overflow": null,
            "overflow_x": null,
            "overflow_y": null,
            "padding": null,
            "right": null,
            "top": null,
            "visibility": null,
            "width": null
          }
        },
        "2d5ea04c08984f5995d3c89fdadcd68a": {
          "model_module": "@jupyter-widgets/controls",
          "model_module_version": "1.5.0",
          "model_name": "HTMLModel",
          "state": {
            "_dom_classes": [],
            "_model_module": "@jupyter-widgets/controls",
            "_model_module_version": "1.5.0",
            "_model_name": "HTMLModel",
            "_view_count": null,
            "_view_module": "@jupyter-widgets/controls",
            "_view_module_version": "1.5.0",
            "_view_name": "HTMLView",
            "description": "",
            "description_tooltip": null,
            "layout": "IPY_MODEL_19ec81d8f53f495ea362eb0e6f94db52",
            "placeholder": "​",
            "style": "IPY_MODEL_426f7763d9f6447eaba662f8314e63ac",
            "value": " 1.36M/1.36M [00:00&lt;00:00, 15.0MB/s]"
          }
        },
        "2d99dda1503f4fc78bc4db69a1acfc31": {
          "model_module": "@jupyter-widgets/controls",
          "model_module_version": "1.5.0",
          "model_name": "ProgressStyleModel",
          "state": {
            "_model_module": "@jupyter-widgets/controls",
            "_model_module_version": "1.5.0",
            "_model_name": "ProgressStyleModel",
            "_view_count": null,
            "_view_module": "@jupyter-widgets/base",
            "_view_module_version": "1.2.0",
            "_view_name": "StyleView",
            "bar_color": null,
            "description_width": ""
          }
        },
        "2de61aebd5f54cf4bf4adef318e48bb7": {
          "model_module": "@jupyter-widgets/controls",
          "model_module_version": "1.5.0",
          "model_name": "HTMLModel",
          "state": {
            "_dom_classes": [],
            "_model_module": "@jupyter-widgets/controls",
            "_model_module_version": "1.5.0",
            "_model_name": "HTMLModel",
            "_view_count": null,
            "_view_module": "@jupyter-widgets/controls",
            "_view_module_version": "1.5.0",
            "_view_name": "HTMLView",
            "description": "",
            "description_tooltip": null,
            "layout": "IPY_MODEL_1c5368f299054a91ac786e6227d5606a",
            "placeholder": "​",
            "style": "IPY_MODEL_80ca74a7f7ae49f2a64ceb176826f00d",
            "value": " 456k/456k [00:00&lt;00:00, 2.77MB/s]"
          }
        },
        "346f28fa99444a59b91ab66b0268f8d0": {
          "model_module": "@jupyter-widgets/controls",
          "model_module_version": "1.5.0",
          "model_name": "DescriptionStyleModel",
          "state": {
            "_model_module": "@jupyter-widgets/controls",
            "_model_module_version": "1.5.0",
            "_model_name": "DescriptionStyleModel",
            "_view_count": null,
            "_view_module": "@jupyter-widgets/base",
            "_view_module_version": "1.2.0",
            "_view_name": "StyleView",
            "description_width": ""
          }
        },
        "34eccc0273324437b55deb9cb65a8637": {
          "model_module": "@jupyter-widgets/controls",
          "model_module_version": "1.5.0",
          "model_name": "HTMLModel",
          "state": {
            "_dom_classes": [],
            "_model_module": "@jupyter-widgets/controls",
            "_model_module_version": "1.5.0",
            "_model_name": "HTMLModel",
            "_view_count": null,
            "_view_module": "@jupyter-widgets/controls",
            "_view_module_version": "1.5.0",
            "_view_name": "HTMLView",
            "description": "",
            "description_tooltip": null,
            "layout": "IPY_MODEL_5fb6873ae5ff42abbfec087ce82cd953",
            "placeholder": "​",
            "style": "IPY_MODEL_ea082a4f04b440cdbf881e12566d0358",
            "value": "model.safetensors: 100%"
          }
        },
        "426f7763d9f6447eaba662f8314e63ac": {
          "model_module": "@jupyter-widgets/controls",
          "model_module_version": "1.5.0",
          "model_name": "DescriptionStyleModel",
          "state": {
            "_model_module": "@jupyter-widgets/controls",
            "_model_module_version": "1.5.0",
            "_model_name": "DescriptionStyleModel",
            "_view_count": null,
            "_view_module": "@jupyter-widgets/base",
            "_view_module_version": "1.2.0",
            "_view_name": "StyleView",
            "description_width": ""
          }
        },
        "49213565dc8c4420bd6984abc35f29ad": {
          "model_module": "@jupyter-widgets/base",
          "model_module_version": "1.2.0",
          "model_name": "LayoutModel",
          "state": {
            "_model_module": "@jupyter-widgets/base",
            "_model_module_version": "1.2.0",
            "_model_name": "LayoutModel",
            "_view_count": null,
            "_view_module": "@jupyter-widgets/base",
            "_view_module_version": "1.2.0",
            "_view_name": "LayoutView",
            "align_content": null,
            "align_items": null,
            "align_self": null,
            "border": null,
            "bottom": null,
            "display": null,
            "flex": null,
            "flex_flow": null,
            "grid_area": null,
            "grid_auto_columns": null,
            "grid_auto_flow": null,
            "grid_auto_rows": null,
            "grid_column": null,
            "grid_gap": null,
            "grid_row": null,
            "grid_template_areas": null,
            "grid_template_columns": null,
            "grid_template_rows": null,
            "height": null,
            "justify_content": null,
            "justify_items": null,
            "left": null,
            "margin": null,
            "max_height": null,
            "max_width": null,
            "min_height": null,
            "min_width": null,
            "object_fit": null,
            "object_position": null,
            "order": null,
            "overflow": null,
            "overflow_x": null,
            "overflow_y": null,
            "padding": null,
            "right": null,
            "top": null,
            "visibility": null,
            "width": null
          }
        },
        "53df2c0c5c3746dfae0b2c61a9f01eea": {
          "model_module": "@jupyter-widgets/controls",
          "model_module_version": "1.5.0",
          "model_name": "HTMLModel",
          "state": {
            "_dom_classes": [],
            "_model_module": "@jupyter-widgets/controls",
            "_model_module_version": "1.5.0",
            "_model_name": "HTMLModel",
            "_view_count": null,
            "_view_module": "@jupyter-widgets/controls",
            "_view_module_version": "1.5.0",
            "_view_name": "HTMLView",
            "description": "",
            "description_tooltip": null,
            "layout": "IPY_MODEL_2d2b1633b5b04f7c8017741e79d0d046",
            "placeholder": "​",
            "style": "IPY_MODEL_0eada48d0eef4da99686355efe9d32bc",
            "value": "config.json: 100%"
          }
        },
        "58ba530536b141c0900d69ebb70b1019": {
          "model_module": "@jupyter-widgets/controls",
          "model_module_version": "1.5.0",
          "model_name": "HTMLModel",
          "state": {
            "_dom_classes": [],
            "_model_module": "@jupyter-widgets/controls",
            "_model_module_version": "1.5.0",
            "_model_name": "HTMLModel",
            "_view_count": null,
            "_view_module": "@jupyter-widgets/controls",
            "_view_module_version": "1.5.0",
            "_view_name": "HTMLView",
            "description": "",
            "description_tooltip": null,
            "layout": "IPY_MODEL_aef807135150490d8f3eda117d37418b",
            "placeholder": "​",
            "style": "IPY_MODEL_650d5e98e91f4d448557b14887d8e450",
            "value": " 363/363 [00:00&lt;00:00, 15.2kB/s]"
          }
        },
        "5c4bdff55be0401e98a397d1af289740": {
          "model_module": "@jupyter-widgets/controls",
          "model_module_version": "1.5.0",
          "model_name": "HBoxModel",
          "state": {
            "_dom_classes": [],
            "_model_module": "@jupyter-widgets/controls",
            "_model_module_version": "1.5.0",
            "_model_name": "HBoxModel",
            "_view_count": null,
            "_view_module": "@jupyter-widgets/controls",
            "_view_module_version": "1.5.0",
            "_view_name": "HBoxView",
            "box_style": "",
            "children": [
              "IPY_MODEL_952fe08f8bb64efda579be0c5a2d3411",
              "IPY_MODEL_01a84e5f9afb456db8d0102ab079a1de",
              "IPY_MODEL_2de61aebd5f54cf4bf4adef318e48bb7"
            ],
            "layout": "IPY_MODEL_7be5f287b4ec4efebf2b1b22c2edf92d"
          }
        },
        "5fb6873ae5ff42abbfec087ce82cd953": {
          "model_module": "@jupyter-widgets/base",
          "model_module_version": "1.2.0",
          "model_name": "LayoutModel",
          "state": {
            "_model_module": "@jupyter-widgets/base",
            "_model_module_version": "1.2.0",
            "_model_name": "LayoutModel",
            "_view_count": null,
            "_view_module": "@jupyter-widgets/base",
            "_view_module_version": "1.2.0",
            "_view_name": "LayoutView",
            "align_content": null,
            "align_items": null,
            "align_self": null,
            "border": null,
            "bottom": null,
            "display": null,
            "flex": null,
            "flex_flow": null,
            "grid_area": null,
            "grid_auto_columns": null,
            "grid_auto_flow": null,
            "grid_auto_rows": null,
            "grid_column": null,
            "grid_gap": null,
            "grid_row": null,
            "grid_template_areas": null,
            "grid_template_columns": null,
            "grid_template_rows": null,
            "height": null,
            "justify_content": null,
            "justify_items": null,
            "left": null,
            "margin": null,
            "max_height": null,
            "max_width": null,
            "min_height": null,
            "min_width": null,
            "object_fit": null,
            "object_position": null,
            "order": null,
            "overflow": null,
            "overflow_x": null,
            "overflow_y": null,
            "padding": null,
            "right": null,
            "top": null,
            "visibility": null,
            "width": null
          }
        },
        "62958aaa3a4b489393ba61dca2ccd220": {
          "model_module": "@jupyter-widgets/base",
          "model_module_version": "1.2.0",
          "model_name": "LayoutModel",
          "state": {
            "_model_module": "@jupyter-widgets/base",
            "_model_module_version": "1.2.0",
            "_model_name": "LayoutModel",
            "_view_count": null,
            "_view_module": "@jupyter-widgets/base",
            "_view_module_version": "1.2.0",
            "_view_name": "LayoutView",
            "align_content": null,
            "align_items": null,
            "align_self": null,
            "border": null,
            "bottom": null,
            "display": null,
            "flex": null,
            "flex_flow": null,
            "grid_area": null,
            "grid_auto_columns": null,
            "grid_auto_flow": null,
            "grid_auto_rows": null,
            "grid_column": null,
            "grid_gap": null,
            "grid_row": null,
            "grid_template_areas": null,
            "grid_template_columns": null,
            "grid_template_rows": null,
            "height": null,
            "justify_content": null,
            "justify_items": null,
            "left": null,
            "margin": null,
            "max_height": null,
            "max_width": null,
            "min_height": null,
            "min_width": null,
            "object_fit": null,
            "object_position": null,
            "order": null,
            "overflow": null,
            "overflow_x": null,
            "overflow_y": null,
            "padding": null,
            "right": null,
            "top": null,
            "visibility": null,
            "width": null
          }
        },
        "62d91c3621704de78e4b945f7c9a3d7a": {
          "model_module": "@jupyter-widgets/base",
          "model_module_version": "1.2.0",
          "model_name": "LayoutModel",
          "state": {
            "_model_module": "@jupyter-widgets/base",
            "_model_module_version": "1.2.0",
            "_model_name": "LayoutModel",
            "_view_count": null,
            "_view_module": "@jupyter-widgets/base",
            "_view_module_version": "1.2.0",
            "_view_name": "LayoutView",
            "align_content": null,
            "align_items": null,
            "align_self": null,
            "border": null,
            "bottom": null,
            "display": null,
            "flex": null,
            "flex_flow": null,
            "grid_area": null,
            "grid_auto_columns": null,
            "grid_auto_flow": null,
            "grid_auto_rows": null,
            "grid_column": null,
            "grid_gap": null,
            "grid_row": null,
            "grid_template_areas": null,
            "grid_template_columns": null,
            "grid_template_rows": null,
            "height": null,
            "justify_content": null,
            "justify_items": null,
            "left": null,
            "margin": null,
            "max_height": null,
            "max_width": null,
            "min_height": null,
            "min_width": null,
            "object_fit": null,
            "object_position": null,
            "order": null,
            "overflow": null,
            "overflow_x": null,
            "overflow_y": null,
            "padding": null,
            "right": null,
            "top": null,
            "visibility": null,
            "width": null
          }
        },
        "636bb0e837b442aa956c7a48e7dae157": {
          "model_module": "@jupyter-widgets/controls",
          "model_module_version": "1.5.0",
          "model_name": "FloatProgressModel",
          "state": {
            "_dom_classes": [],
            "_model_module": "@jupyter-widgets/controls",
            "_model_module_version": "1.5.0",
            "_model_name": "FloatProgressModel",
            "_view_count": null,
            "_view_module": "@jupyter-widgets/controls",
            "_view_module_version": "1.5.0",
            "_view_name": "ProgressView",
            "bar_style": "success",
            "description": "",
            "description_tooltip": null,
            "layout": "IPY_MODEL_ed2f340544214ca2bee4d8f131fcdb93",
            "max": 1355863,
            "min": 0,
            "orientation": "horizontal",
            "style": "IPY_MODEL_08d896d552d74e9da1a2cf578be05f31",
            "value": 1355863
          }
        },
        "650d5e98e91f4d448557b14887d8e450": {
          "model_module": "@jupyter-widgets/controls",
          "model_module_version": "1.5.0",
          "model_name": "DescriptionStyleModel",
          "state": {
            "_model_module": "@jupyter-widgets/controls",
            "_model_module_version": "1.5.0",
            "_model_name": "DescriptionStyleModel",
            "_view_count": null,
            "_view_module": "@jupyter-widgets/base",
            "_view_module_version": "1.2.0",
            "_view_name": "StyleView",
            "description_width": ""
          }
        },
        "6a5337d2436041b8a05dc520681aa6c1": {
          "model_module": "@jupyter-widgets/controls",
          "model_module_version": "1.5.0",
          "model_name": "ProgressStyleModel",
          "state": {
            "_model_module": "@jupyter-widgets/controls",
            "_model_module_version": "1.5.0",
            "_model_name": "ProgressStyleModel",
            "_view_count": null,
            "_view_module": "@jupyter-widgets/base",
            "_view_module_version": "1.2.0",
            "_view_name": "StyleView",
            "bar_color": null,
            "description_width": ""
          }
        },
        "6eb889ca55784d69a8e6596a9fe4588f": {
          "model_module": "@jupyter-widgets/base",
          "model_module_version": "1.2.0",
          "model_name": "LayoutModel",
          "state": {
            "_model_module": "@jupyter-widgets/base",
            "_model_module_version": "1.2.0",
            "_model_name": "LayoutModel",
            "_view_count": null,
            "_view_module": "@jupyter-widgets/base",
            "_view_module_version": "1.2.0",
            "_view_name": "LayoutView",
            "align_content": null,
            "align_items": null,
            "align_self": null,
            "border": null,
            "bottom": null,
            "display": null,
            "flex": null,
            "flex_flow": null,
            "grid_area": null,
            "grid_auto_columns": null,
            "grid_auto_flow": null,
            "grid_auto_rows": null,
            "grid_column": null,
            "grid_gap": null,
            "grid_row": null,
            "grid_template_areas": null,
            "grid_template_columns": null,
            "grid_template_rows": null,
            "height": null,
            "justify_content": null,
            "justify_items": null,
            "left": null,
            "margin": null,
            "max_height": null,
            "max_width": null,
            "min_height": null,
            "min_width": null,
            "object_fit": null,
            "object_position": null,
            "order": null,
            "overflow": null,
            "overflow_x": null,
            "overflow_y": null,
            "padding": null,
            "right": null,
            "top": null,
            "visibility": null,
            "width": null
          }
        },
        "749cee6d915846169913a511b9154fd8": {
          "model_module": "@jupyter-widgets/controls",
          "model_module_version": "1.5.0",
          "model_name": "HTMLModel",
          "state": {
            "_dom_classes": [],
            "_model_module": "@jupyter-widgets/controls",
            "_model_module_version": "1.5.0",
            "_model_name": "HTMLModel",
            "_view_count": null,
            "_view_module": "@jupyter-widgets/controls",
            "_view_module_version": "1.5.0",
            "_view_name": "HTMLView",
            "description": "",
            "description_tooltip": null,
            "layout": "IPY_MODEL_039d69bb70c041e7a0a7075e5b68a728",
            "placeholder": "​",
            "style": "IPY_MODEL_a9df0409ddc94a7b8b2cf7c5cad9b3b5",
            "value": " 1.63G/1.63G [00:14&lt;00:00, 265MB/s]"
          }
        },
        "78c3a9ee04b247fdb3b58d979c12e926": {
          "model_module": "@jupyter-widgets/base",
          "model_module_version": "1.2.0",
          "model_name": "LayoutModel",
          "state": {
            "_model_module": "@jupyter-widgets/base",
            "_model_module_version": "1.2.0",
            "_model_name": "LayoutModel",
            "_view_count": null,
            "_view_module": "@jupyter-widgets/base",
            "_view_module_version": "1.2.0",
            "_view_name": "LayoutView",
            "align_content": null,
            "align_items": null,
            "align_self": null,
            "border": null,
            "bottom": null,
            "display": null,
            "flex": null,
            "flex_flow": null,
            "grid_area": null,
            "grid_auto_columns": null,
            "grid_auto_flow": null,
            "grid_auto_rows": null,
            "grid_column": null,
            "grid_gap": null,
            "grid_row": null,
            "grid_template_areas": null,
            "grid_template_columns": null,
            "grid_template_rows": null,
            "height": null,
            "justify_content": null,
            "justify_items": null,
            "left": null,
            "margin": null,
            "max_height": null,
            "max_width": null,
            "min_height": null,
            "min_width": null,
            "object_fit": null,
            "object_position": null,
            "order": null,
            "overflow": null,
            "overflow_x": null,
            "overflow_y": null,
            "padding": null,
            "right": null,
            "top": null,
            "visibility": null,
            "width": null
          }
        },
        "7be5f287b4ec4efebf2b1b22c2edf92d": {
          "model_module": "@jupyter-widgets/base",
          "model_module_version": "1.2.0",
          "model_name": "LayoutModel",
          "state": {
            "_model_module": "@jupyter-widgets/base",
            "_model_module_version": "1.2.0",
            "_model_name": "LayoutModel",
            "_view_count": null,
            "_view_module": "@jupyter-widgets/base",
            "_view_module_version": "1.2.0",
            "_view_name": "LayoutView",
            "align_content": null,
            "align_items": null,
            "align_self": null,
            "border": null,
            "bottom": null,
            "display": null,
            "flex": null,
            "flex_flow": null,
            "grid_area": null,
            "grid_auto_columns": null,
            "grid_auto_flow": null,
            "grid_auto_rows": null,
            "grid_column": null,
            "grid_gap": null,
            "grid_row": null,
            "grid_template_areas": null,
            "grid_template_columns": null,
            "grid_template_rows": null,
            "height": null,
            "justify_content": null,
            "justify_items": null,
            "left": null,
            "margin": null,
            "max_height": null,
            "max_width": null,
            "min_height": null,
            "min_width": null,
            "object_fit": null,
            "object_position": null,
            "order": null,
            "overflow": null,
            "overflow_x": null,
            "overflow_y": null,
            "padding": null,
            "right": null,
            "top": null,
            "visibility": null,
            "width": null
          }
        },
        "80ca74a7f7ae49f2a64ceb176826f00d": {
          "model_module": "@jupyter-widgets/controls",
          "model_module_version": "1.5.0",
          "model_name": "DescriptionStyleModel",
          "state": {
            "_model_module": "@jupyter-widgets/controls",
            "_model_module_version": "1.5.0",
            "_model_name": "DescriptionStyleModel",
            "_view_count": null,
            "_view_module": "@jupyter-widgets/base",
            "_view_module_version": "1.2.0",
            "_view_name": "StyleView",
            "description_width": ""
          }
        },
        "89b6c66be9d44a4a974c2615b6ce893f": {
          "model_module": "@jupyter-widgets/controls",
          "model_module_version": "1.5.0",
          "model_name": "FloatProgressModel",
          "state": {
            "_dom_classes": [],
            "_model_module": "@jupyter-widgets/controls",
            "_model_module_version": "1.5.0",
            "_model_name": "FloatProgressModel",
            "_view_count": null,
            "_view_module": "@jupyter-widgets/controls",
            "_view_module_version": "1.5.0",
            "_view_name": "ProgressView",
            "bar_style": "success",
            "description": "",
            "description_tooltip": null,
            "layout": "IPY_MODEL_f45004a065af489f9064b332929dc960",
            "max": 363,
            "min": 0,
            "orientation": "horizontal",
            "style": "IPY_MODEL_e92927eee28c4256ae2dc266b109b92a",
            "value": 363
          }
        },
        "8b3b6f43cbf84180a865766d16a62350": {
          "model_module": "@jupyter-widgets/controls",
          "model_module_version": "1.5.0",
          "model_name": "HBoxModel",
          "state": {
            "_dom_classes": [],
            "_model_module": "@jupyter-widgets/controls",
            "_model_module_version": "1.5.0",
            "_model_name": "HBoxModel",
            "_view_count": null,
            "_view_module": "@jupyter-widgets/controls",
            "_view_module_version": "1.5.0",
            "_view_name": "HBoxView",
            "box_style": "",
            "children": [
              "IPY_MODEL_f14435bf52b74b5eadb69bab884b12a5",
              "IPY_MODEL_d44580b507fd4b50aa15b27b5c479bce",
              "IPY_MODEL_25f77985f6844534ad385ed529665674"
            ],
            "layout": "IPY_MODEL_78c3a9ee04b247fdb3b58d979c12e926"
          }
        },
        "8b60c5cc81ac42fd8588eedb507b6550": {
          "model_module": "@jupyter-widgets/base",
          "model_module_version": "1.2.0",
          "model_name": "LayoutModel",
          "state": {
            "_model_module": "@jupyter-widgets/base",
            "_model_module_version": "1.2.0",
            "_model_name": "LayoutModel",
            "_view_count": null,
            "_view_module": "@jupyter-widgets/base",
            "_view_module_version": "1.2.0",
            "_view_name": "LayoutView",
            "align_content": null,
            "align_items": null,
            "align_self": null,
            "border": null,
            "bottom": null,
            "display": null,
            "flex": null,
            "flex_flow": null,
            "grid_area": null,
            "grid_auto_columns": null,
            "grid_auto_flow": null,
            "grid_auto_rows": null,
            "grid_column": null,
            "grid_gap": null,
            "grid_row": null,
            "grid_template_areas": null,
            "grid_template_columns": null,
            "grid_template_rows": null,
            "height": null,
            "justify_content": null,
            "justify_items": null,
            "left": null,
            "margin": null,
            "max_height": null,
            "max_width": null,
            "min_height": null,
            "min_width": null,
            "object_fit": null,
            "object_position": null,
            "order": null,
            "overflow": null,
            "overflow_x": null,
            "overflow_y": null,
            "padding": null,
            "right": null,
            "top": null,
            "visibility": null,
            "width": null
          }
        },
        "8e62d873662b410da944ea4649887965": {
          "model_module": "@jupyter-widgets/base",
          "model_module_version": "1.2.0",
          "model_name": "LayoutModel",
          "state": {
            "_model_module": "@jupyter-widgets/base",
            "_model_module_version": "1.2.0",
            "_model_name": "LayoutModel",
            "_view_count": null,
            "_view_module": "@jupyter-widgets/base",
            "_view_module_version": "1.2.0",
            "_view_name": "LayoutView",
            "align_content": null,
            "align_items": null,
            "align_self": null,
            "border": null,
            "bottom": null,
            "display": null,
            "flex": null,
            "flex_flow": null,
            "grid_area": null,
            "grid_auto_columns": null,
            "grid_auto_flow": null,
            "grid_auto_rows": null,
            "grid_column": null,
            "grid_gap": null,
            "grid_row": null,
            "grid_template_areas": null,
            "grid_template_columns": null,
            "grid_template_rows": null,
            "height": null,
            "justify_content": null,
            "justify_items": null,
            "left": null,
            "margin": null,
            "max_height": null,
            "max_width": null,
            "min_height": null,
            "min_width": null,
            "object_fit": null,
            "object_position": null,
            "order": null,
            "overflow": null,
            "overflow_x": null,
            "overflow_y": null,
            "padding": null,
            "right": null,
            "top": null,
            "visibility": null,
            "width": null
          }
        },
        "952fe08f8bb64efda579be0c5a2d3411": {
          "model_module": "@jupyter-widgets/controls",
          "model_module_version": "1.5.0",
          "model_name": "HTMLModel",
          "state": {
            "_dom_classes": [],
            "_model_module": "@jupyter-widgets/controls",
            "_model_module_version": "1.5.0",
            "_model_name": "HTMLModel",
            "_view_count": null,
            "_view_module": "@jupyter-widgets/controls",
            "_view_module_version": "1.5.0",
            "_view_name": "HTMLView",
            "description": "",
            "description_tooltip": null,
            "layout": "IPY_MODEL_a233cb2010fd4f4db4db5ba336510d5d",
            "placeholder": "​",
            "style": "IPY_MODEL_2542f4550d94471c9ad7572785dc47e3",
            "value": "merges.txt: 100%"
          }
        },
        "9c8e88c9fc5645ddb2c3dc18cb13a1c0": {
          "model_module": "@jupyter-widgets/base",
          "model_module_version": "1.2.0",
          "model_name": "LayoutModel",
          "state": {
            "_model_module": "@jupyter-widgets/base",
            "_model_module_version": "1.2.0",
            "_model_name": "LayoutModel",
            "_view_count": null,
            "_view_module": "@jupyter-widgets/base",
            "_view_module_version": "1.2.0",
            "_view_name": "LayoutView",
            "align_content": null,
            "align_items": null,
            "align_self": null,
            "border": null,
            "bottom": null,
            "display": null,
            "flex": null,
            "flex_flow": null,
            "grid_area": null,
            "grid_auto_columns": null,
            "grid_auto_flow": null,
            "grid_auto_rows": null,
            "grid_column": null,
            "grid_gap": null,
            "grid_row": null,
            "grid_template_areas": null,
            "grid_template_columns": null,
            "grid_template_rows": null,
            "height": null,
            "justify_content": null,
            "justify_items": null,
            "left": null,
            "margin": null,
            "max_height": null,
            "max_width": null,
            "min_height": null,
            "min_width": null,
            "object_fit": null,
            "object_position": null,
            "order": null,
            "overflow": null,
            "overflow_x": null,
            "overflow_y": null,
            "padding": null,
            "right": null,
            "top": null,
            "visibility": null,
            "width": null
          }
        },
        "a233cb2010fd4f4db4db5ba336510d5d": {
          "model_module": "@jupyter-widgets/base",
          "model_module_version": "1.2.0",
          "model_name": "LayoutModel",
          "state": {
            "_model_module": "@jupyter-widgets/base",
            "_model_module_version": "1.2.0",
            "_model_name": "LayoutModel",
            "_view_count": null,
            "_view_module": "@jupyter-widgets/base",
            "_view_module_version": "1.2.0",
            "_view_name": "LayoutView",
            "align_content": null,
            "align_items": null,
            "align_self": null,
            "border": null,
            "bottom": null,
            "display": null,
            "flex": null,
            "flex_flow": null,
            "grid_area": null,
            "grid_auto_columns": null,
            "grid_auto_flow": null,
            "grid_auto_rows": null,
            "grid_column": null,
            "grid_gap": null,
            "grid_row": null,
            "grid_template_areas": null,
            "grid_template_columns": null,
            "grid_template_rows": null,
            "height": null,
            "justify_content": null,
            "justify_items": null,
            "left": null,
            "margin": null,
            "max_height": null,
            "max_width": null,
            "min_height": null,
            "min_width": null,
            "object_fit": null,
            "object_position": null,
            "order": null,
            "overflow": null,
            "overflow_x": null,
            "overflow_y": null,
            "padding": null,
            "right": null,
            "top": null,
            "visibility": null,
            "width": null
          }
        },
        "a9df0409ddc94a7b8b2cf7c5cad9b3b5": {
          "model_module": "@jupyter-widgets/controls",
          "model_module_version": "1.5.0",
          "model_name": "DescriptionStyleModel",
          "state": {
            "_model_module": "@jupyter-widgets/controls",
            "_model_module_version": "1.5.0",
            "_model_name": "DescriptionStyleModel",
            "_view_count": null,
            "_view_module": "@jupyter-widgets/base",
            "_view_module_version": "1.2.0",
            "_view_name": "StyleView",
            "description_width": ""
          }
        },
        "aef807135150490d8f3eda117d37418b": {
          "model_module": "@jupyter-widgets/base",
          "model_module_version": "1.2.0",
          "model_name": "LayoutModel",
          "state": {
            "_model_module": "@jupyter-widgets/base",
            "_model_module_version": "1.2.0",
            "_model_name": "LayoutModel",
            "_view_count": null,
            "_view_module": "@jupyter-widgets/base",
            "_view_module_version": "1.2.0",
            "_view_name": "LayoutView",
            "align_content": null,
            "align_items": null,
            "align_self": null,
            "border": null,
            "bottom": null,
            "display": null,
            "flex": null,
            "flex_flow": null,
            "grid_area": null,
            "grid_auto_columns": null,
            "grid_auto_flow": null,
            "grid_auto_rows": null,
            "grid_column": null,
            "grid_gap": null,
            "grid_row": null,
            "grid_template_areas": null,
            "grid_template_columns": null,
            "grid_template_rows": null,
            "height": null,
            "justify_content": null,
            "justify_items": null,
            "left": null,
            "margin": null,
            "max_height": null,
            "max_width": null,
            "min_height": null,
            "min_width": null,
            "object_fit": null,
            "object_position": null,
            "order": null,
            "overflow": null,
            "overflow_x": null,
            "overflow_y": null,
            "padding": null,
            "right": null,
            "top": null,
            "visibility": null,
            "width": null
          }
        },
        "aff95851359d4711b4c33b8672d81569": {
          "model_module": "@jupyter-widgets/controls",
          "model_module_version": "1.5.0",
          "model_name": "HTMLModel",
          "state": {
            "_dom_classes": [],
            "_model_module": "@jupyter-widgets/controls",
            "_model_module_version": "1.5.0",
            "_model_name": "HTMLModel",
            "_view_count": null,
            "_view_module": "@jupyter-widgets/controls",
            "_view_module_version": "1.5.0",
            "_view_name": "HTMLView",
            "description": "",
            "description_tooltip": null,
            "layout": "IPY_MODEL_1b3f723ba8a844f8a7c23034fa1a52d5",
            "placeholder": "​",
            "style": "IPY_MODEL_fdf217d87c3e43e99a25306f6d8d35df",
            "value": "tokenizer.json: 100%"
          }
        },
        "b13e73a9234b47af8cd97d66cb80099e": {
          "model_module": "@jupyter-widgets/controls",
          "model_module_version": "1.5.0",
          "model_name": "ProgressStyleModel",
          "state": {
            "_model_module": "@jupyter-widgets/controls",
            "_model_module_version": "1.5.0",
            "_model_name": "ProgressStyleModel",
            "_view_count": null,
            "_view_module": "@jupyter-widgets/base",
            "_view_module_version": "1.2.0",
            "_view_name": "StyleView",
            "bar_color": null,
            "description_width": ""
          }
        },
        "b4941c61b6454d5bbe656eec0eab04ef": {
          "model_module": "@jupyter-widgets/controls",
          "model_module_version": "1.5.0",
          "model_name": "ProgressStyleModel",
          "state": {
            "_model_module": "@jupyter-widgets/controls",
            "_model_module_version": "1.5.0",
            "_model_name": "ProgressStyleModel",
            "_view_count": null,
            "_view_module": "@jupyter-widgets/base",
            "_view_module_version": "1.2.0",
            "_view_name": "StyleView",
            "bar_color": null,
            "description_width": ""
          }
        },
        "b55057d2661e4a738b8fb2efd4fa295d": {
          "model_module": "@jupyter-widgets/base",
          "model_module_version": "1.2.0",
          "model_name": "LayoutModel",
          "state": {
            "_model_module": "@jupyter-widgets/base",
            "_model_module_version": "1.2.0",
            "_model_name": "LayoutModel",
            "_view_count": null,
            "_view_module": "@jupyter-widgets/base",
            "_view_module_version": "1.2.0",
            "_view_name": "LayoutView",
            "align_content": null,
            "align_items": null,
            "align_self": null,
            "border": null,
            "bottom": null,
            "display": null,
            "flex": null,
            "flex_flow": null,
            "grid_area": null,
            "grid_auto_columns": null,
            "grid_auto_flow": null,
            "grid_auto_rows": null,
            "grid_column": null,
            "grid_gap": null,
            "grid_row": null,
            "grid_template_areas": null,
            "grid_template_columns": null,
            "grid_template_rows": null,
            "height": null,
            "justify_content": null,
            "justify_items": null,
            "left": null,
            "margin": null,
            "max_height": null,
            "max_width": null,
            "min_height": null,
            "min_width": null,
            "object_fit": null,
            "object_position": null,
            "order": null,
            "overflow": null,
            "overflow_x": null,
            "overflow_y": null,
            "padding": null,
            "right": null,
            "top": null,
            "visibility": null,
            "width": null
          }
        },
        "b78f10ac575f4d15a412b38f603d24be": {
          "model_module": "@jupyter-widgets/base",
          "model_module_version": "1.2.0",
          "model_name": "LayoutModel",
          "state": {
            "_model_module": "@jupyter-widgets/base",
            "_model_module_version": "1.2.0",
            "_model_name": "LayoutModel",
            "_view_count": null,
            "_view_module": "@jupyter-widgets/base",
            "_view_module_version": "1.2.0",
            "_view_name": "LayoutView",
            "align_content": null,
            "align_items": null,
            "align_self": null,
            "border": null,
            "bottom": null,
            "display": null,
            "flex": null,
            "flex_flow": null,
            "grid_area": null,
            "grid_auto_columns": null,
            "grid_auto_flow": null,
            "grid_auto_rows": null,
            "grid_column": null,
            "grid_gap": null,
            "grid_row": null,
            "grid_template_areas": null,
            "grid_template_columns": null,
            "grid_template_rows": null,
            "height": null,
            "justify_content": null,
            "justify_items": null,
            "left": null,
            "margin": null,
            "max_height": null,
            "max_width": null,
            "min_height": null,
            "min_width": null,
            "object_fit": null,
            "object_position": null,
            "order": null,
            "overflow": null,
            "overflow_x": null,
            "overflow_y": null,
            "padding": null,
            "right": null,
            "top": null,
            "visibility": null,
            "width": null
          }
        },
        "baac7418eafc404cae6d42467063164e": {
          "model_module": "@jupyter-widgets/controls",
          "model_module_version": "1.5.0",
          "model_name": "HBoxModel",
          "state": {
            "_dom_classes": [],
            "_model_module": "@jupyter-widgets/controls",
            "_model_module_version": "1.5.0",
            "_model_name": "HBoxModel",
            "_view_count": null,
            "_view_module": "@jupyter-widgets/controls",
            "_view_module_version": "1.5.0",
            "_view_name": "HBoxView",
            "box_style": "",
            "children": [
              "IPY_MODEL_53df2c0c5c3746dfae0b2c61a9f01eea",
              "IPY_MODEL_e8878409619848a4abe299c2c8e1b8e8",
              "IPY_MODEL_14f867e7672a48cf830fbcb3280f2f7c"
            ],
            "layout": "IPY_MODEL_b55057d2661e4a738b8fb2efd4fa295d"
          }
        },
        "bb2b0b4fb51643069e3a2a935bf88898": {
          "model_module": "@jupyter-widgets/controls",
          "model_module_version": "1.5.0",
          "model_name": "DescriptionStyleModel",
          "state": {
            "_model_module": "@jupyter-widgets/controls",
            "_model_module_version": "1.5.0",
            "_model_name": "DescriptionStyleModel",
            "_view_count": null,
            "_view_module": "@jupyter-widgets/base",
            "_view_module_version": "1.2.0",
            "_view_name": "StyleView",
            "description_width": ""
          }
        },
        "c92a6f5fcc1d4f25962680bf82bff380": {
          "model_module": "@jupyter-widgets/base",
          "model_module_version": "1.2.0",
          "model_name": "LayoutModel",
          "state": {
            "_model_module": "@jupyter-widgets/base",
            "_model_module_version": "1.2.0",
            "_model_name": "LayoutModel",
            "_view_count": null,
            "_view_module": "@jupyter-widgets/base",
            "_view_module_version": "1.2.0",
            "_view_name": "LayoutView",
            "align_content": null,
            "align_items": null,
            "align_self": null,
            "border": null,
            "bottom": null,
            "display": null,
            "flex": null,
            "flex_flow": null,
            "grid_area": null,
            "grid_auto_columns": null,
            "grid_auto_flow": null,
            "grid_auto_rows": null,
            "grid_column": null,
            "grid_gap": null,
            "grid_row": null,
            "grid_template_areas": null,
            "grid_template_columns": null,
            "grid_template_rows": null,
            "height": null,
            "justify_content": null,
            "justify_items": null,
            "left": null,
            "margin": null,
            "max_height": null,
            "max_width": null,
            "min_height": null,
            "min_width": null,
            "object_fit": null,
            "object_position": null,
            "order": null,
            "overflow": null,
            "overflow_x": null,
            "overflow_y": null,
            "padding": null,
            "right": null,
            "top": null,
            "visibility": null,
            "width": null
          }
        },
        "ca9398577b3941fdabe1e239ec2ffeb8": {
          "model_module": "@jupyter-widgets/base",
          "model_module_version": "1.2.0",
          "model_name": "LayoutModel",
          "state": {
            "_model_module": "@jupyter-widgets/base",
            "_model_module_version": "1.2.0",
            "_model_name": "LayoutModel",
            "_view_count": null,
            "_view_module": "@jupyter-widgets/base",
            "_view_module_version": "1.2.0",
            "_view_name": "LayoutView",
            "align_content": null,
            "align_items": null,
            "align_self": null,
            "border": null,
            "bottom": null,
            "display": null,
            "flex": null,
            "flex_flow": null,
            "grid_area": null,
            "grid_auto_columns": null,
            "grid_auto_flow": null,
            "grid_auto_rows": null,
            "grid_column": null,
            "grid_gap": null,
            "grid_row": null,
            "grid_template_areas": null,
            "grid_template_columns": null,
            "grid_template_rows": null,
            "height": null,
            "justify_content": null,
            "justify_items": null,
            "left": null,
            "margin": null,
            "max_height": null,
            "max_width": null,
            "min_height": null,
            "min_width": null,
            "object_fit": null,
            "object_position": null,
            "order": null,
            "overflow": null,
            "overflow_x": null,
            "overflow_y": null,
            "padding": null,
            "right": null,
            "top": null,
            "visibility": null,
            "width": null
          }
        },
        "d44580b507fd4b50aa15b27b5c479bce": {
          "model_module": "@jupyter-widgets/controls",
          "model_module_version": "1.5.0",
          "model_name": "FloatProgressModel",
          "state": {
            "_dom_classes": [],
            "_model_module": "@jupyter-widgets/controls",
            "_model_module_version": "1.5.0",
            "_model_name": "FloatProgressModel",
            "_view_count": null,
            "_view_module": "@jupyter-widgets/controls",
            "_view_module_version": "1.5.0",
            "_view_name": "ProgressView",
            "bar_style": "success",
            "description": "",
            "description_tooltip": null,
            "layout": "IPY_MODEL_dda399ac037c44da9129f3902036fe08",
            "max": 898823,
            "min": 0,
            "orientation": "horizontal",
            "style": "IPY_MODEL_b13e73a9234b47af8cd97d66cb80099e",
            "value": 898823
          }
        },
        "dda399ac037c44da9129f3902036fe08": {
          "model_module": "@jupyter-widgets/base",
          "model_module_version": "1.2.0",
          "model_name": "LayoutModel",
          "state": {
            "_model_module": "@jupyter-widgets/base",
            "_model_module_version": "1.2.0",
            "_model_name": "LayoutModel",
            "_view_count": null,
            "_view_module": "@jupyter-widgets/base",
            "_view_module_version": "1.2.0",
            "_view_name": "LayoutView",
            "align_content": null,
            "align_items": null,
            "align_self": null,
            "border": null,
            "bottom": null,
            "display": null,
            "flex": null,
            "flex_flow": null,
            "grid_area": null,
            "grid_auto_columns": null,
            "grid_auto_flow": null,
            "grid_auto_rows": null,
            "grid_column": null,
            "grid_gap": null,
            "grid_row": null,
            "grid_template_areas": null,
            "grid_template_columns": null,
            "grid_template_rows": null,
            "height": null,
            "justify_content": null,
            "justify_items": null,
            "left": null,
            "margin": null,
            "max_height": null,
            "max_width": null,
            "min_height": null,
            "min_width": null,
            "object_fit": null,
            "object_position": null,
            "order": null,
            "overflow": null,
            "overflow_x": null,
            "overflow_y": null,
            "padding": null,
            "right": null,
            "top": null,
            "visibility": null,
            "width": null
          }
        },
        "deb3e93c8eaa44c5b5564c0df4fb9564": {
          "model_module": "@jupyter-widgets/controls",
          "model_module_version": "1.5.0",
          "model_name": "DescriptionStyleModel",
          "state": {
            "_model_module": "@jupyter-widgets/controls",
            "_model_module_version": "1.5.0",
            "_model_name": "DescriptionStyleModel",
            "_view_count": null,
            "_view_module": "@jupyter-widgets/base",
            "_view_module_version": "1.2.0",
            "_view_name": "StyleView",
            "description_width": ""
          }
        },
        "df0bfaaea48d47abb142e5f626c77db5": {
          "model_module": "@jupyter-widgets/controls",
          "model_module_version": "1.5.0",
          "model_name": "HTMLModel",
          "state": {
            "_dom_classes": [],
            "_model_module": "@jupyter-widgets/controls",
            "_model_module_version": "1.5.0",
            "_model_name": "HTMLModel",
            "_view_count": null,
            "_view_module": "@jupyter-widgets/controls",
            "_view_module_version": "1.5.0",
            "_view_name": "HTMLView",
            "description": "",
            "description_tooltip": null,
            "layout": "IPY_MODEL_62d91c3621704de78e4b945f7c9a3d7a",
            "placeholder": "​",
            "style": "IPY_MODEL_deb3e93c8eaa44c5b5564c0df4fb9564",
            "value": "generation_config.json: 100%"
          }
        },
        "e01e170d55be496ea2831206624b3d01": {
          "model_module": "@jupyter-widgets/controls",
          "model_module_version": "1.5.0",
          "model_name": "FloatProgressModel",
          "state": {
            "_dom_classes": [],
            "_model_module": "@jupyter-widgets/controls",
            "_model_module_version": "1.5.0",
            "_model_name": "FloatProgressModel",
            "_view_count": null,
            "_view_module": "@jupyter-widgets/controls",
            "_view_module_version": "1.5.0",
            "_view_name": "ProgressView",
            "bar_style": "success",
            "description": "",
            "description_tooltip": null,
            "layout": "IPY_MODEL_6eb889ca55784d69a8e6596a9fe4588f",
            "max": 1625222120,
            "min": 0,
            "orientation": "horizontal",
            "style": "IPY_MODEL_2d99dda1503f4fc78bc4db69a1acfc31",
            "value": 1625222120
          }
        },
        "e521bb2e0a4c4935b0681ccd3eb55690": {
          "model_module": "@jupyter-widgets/controls",
          "model_module_version": "1.5.0",
          "model_name": "HBoxModel",
          "state": {
            "_dom_classes": [],
            "_model_module": "@jupyter-widgets/controls",
            "_model_module_version": "1.5.0",
            "_model_name": "HBoxModel",
            "_view_count": null,
            "_view_module": "@jupyter-widgets/controls",
            "_view_module_version": "1.5.0",
            "_view_name": "HBoxView",
            "box_style": "",
            "children": [
              "IPY_MODEL_df0bfaaea48d47abb142e5f626c77db5",
              "IPY_MODEL_89b6c66be9d44a4a974c2615b6ce893f",
              "IPY_MODEL_58ba530536b141c0900d69ebb70b1019"
            ],
            "layout": "IPY_MODEL_62958aaa3a4b489393ba61dca2ccd220"
          }
        },
        "e70fedddc3ca4f50b390088d396936c7": {
          "model_module": "@jupyter-widgets/controls",
          "model_module_version": "1.5.0",
          "model_name": "HBoxModel",
          "state": {
            "_dom_classes": [],
            "_model_module": "@jupyter-widgets/controls",
            "_model_module_version": "1.5.0",
            "_model_name": "HBoxModel",
            "_view_count": null,
            "_view_module": "@jupyter-widgets/controls",
            "_view_module_version": "1.5.0",
            "_view_name": "HBoxView",
            "box_style": "",
            "children": [
              "IPY_MODEL_34eccc0273324437b55deb9cb65a8637",
              "IPY_MODEL_e01e170d55be496ea2831206624b3d01",
              "IPY_MODEL_749cee6d915846169913a511b9154fd8"
            ],
            "layout": "IPY_MODEL_49213565dc8c4420bd6984abc35f29ad"
          }
        },
        "e8878409619848a4abe299c2c8e1b8e8": {
          "model_module": "@jupyter-widgets/controls",
          "model_module_version": "1.5.0",
          "model_name": "FloatProgressModel",
          "state": {
            "_dom_classes": [],
            "_model_module": "@jupyter-widgets/controls",
            "_model_module_version": "1.5.0",
            "_model_name": "FloatProgressModel",
            "_view_count": null,
            "_view_module": "@jupyter-widgets/controls",
            "_view_module_version": "1.5.0",
            "_view_name": "ProgressView",
            "bar_style": "success",
            "description": "",
            "description_tooltip": null,
            "layout": "IPY_MODEL_b78f10ac575f4d15a412b38f603d24be",
            "max": 1585,
            "min": 0,
            "orientation": "horizontal",
            "style": "IPY_MODEL_b4941c61b6454d5bbe656eec0eab04ef",
            "value": 1585
          }
        },
        "e92927eee28c4256ae2dc266b109b92a": {
          "model_module": "@jupyter-widgets/controls",
          "model_module_version": "1.5.0",
          "model_name": "ProgressStyleModel",
          "state": {
            "_model_module": "@jupyter-widgets/controls",
            "_model_module_version": "1.5.0",
            "_model_name": "ProgressStyleModel",
            "_view_count": null,
            "_view_module": "@jupyter-widgets/base",
            "_view_module_version": "1.2.0",
            "_view_name": "StyleView",
            "bar_color": null,
            "description_width": ""
          }
        },
        "ea082a4f04b440cdbf881e12566d0358": {
          "model_module": "@jupyter-widgets/controls",
          "model_module_version": "1.5.0",
          "model_name": "DescriptionStyleModel",
          "state": {
            "_model_module": "@jupyter-widgets/controls",
            "_model_module_version": "1.5.0",
            "_model_name": "DescriptionStyleModel",
            "_view_count": null,
            "_view_module": "@jupyter-widgets/base",
            "_view_module_version": "1.2.0",
            "_view_name": "StyleView",
            "description_width": ""
          }
        },
        "ed2f340544214ca2bee4d8f131fcdb93": {
          "model_module": "@jupyter-widgets/base",
          "model_module_version": "1.2.0",
          "model_name": "LayoutModel",
          "state": {
            "_model_module": "@jupyter-widgets/base",
            "_model_module_version": "1.2.0",
            "_model_name": "LayoutModel",
            "_view_count": null,
            "_view_module": "@jupyter-widgets/base",
            "_view_module_version": "1.2.0",
            "_view_name": "LayoutView",
            "align_content": null,
            "align_items": null,
            "align_self": null,
            "border": null,
            "bottom": null,
            "display": null,
            "flex": null,
            "flex_flow": null,
            "grid_area": null,
            "grid_auto_columns": null,
            "grid_auto_flow": null,
            "grid_auto_rows": null,
            "grid_column": null,
            "grid_gap": null,
            "grid_row": null,
            "grid_template_areas": null,
            "grid_template_columns": null,
            "grid_template_rows": null,
            "height": null,
            "justify_content": null,
            "justify_items": null,
            "left": null,
            "margin": null,
            "max_height": null,
            "max_width": null,
            "min_height": null,
            "min_width": null,
            "object_fit": null,
            "object_position": null,
            "order": null,
            "overflow": null,
            "overflow_x": null,
            "overflow_y": null,
            "padding": null,
            "right": null,
            "top": null,
            "visibility": null,
            "width": null
          }
        },
        "f14435bf52b74b5eadb69bab884b12a5": {
          "model_module": "@jupyter-widgets/controls",
          "model_module_version": "1.5.0",
          "model_name": "HTMLModel",
          "state": {
            "_dom_classes": [],
            "_model_module": "@jupyter-widgets/controls",
            "_model_module_version": "1.5.0",
            "_model_name": "HTMLModel",
            "_view_count": null,
            "_view_module": "@jupyter-widgets/controls",
            "_view_module_version": "1.5.0",
            "_view_name": "HTMLView",
            "description": "",
            "description_tooltip": null,
            "layout": "IPY_MODEL_c92a6f5fcc1d4f25962680bf82bff380",
            "placeholder": "​",
            "style": "IPY_MODEL_346f28fa99444a59b91ab66b0268f8d0",
            "value": "vocab.json: 100%"
          }
        },
        "f36baaa8b48c4c569a47daebf5e2e799": {
          "model_module": "@jupyter-widgets/controls",
          "model_module_version": "1.5.0",
          "model_name": "HBoxModel",
          "state": {
            "_dom_classes": [],
            "_model_module": "@jupyter-widgets/controls",
            "_model_module_version": "1.5.0",
            "_model_name": "HBoxModel",
            "_view_count": null,
            "_view_module": "@jupyter-widgets/controls",
            "_view_module_version": "1.5.0",
            "_view_name": "HBoxView",
            "box_style": "",
            "children": [
              "IPY_MODEL_aff95851359d4711b4c33b8672d81569",
              "IPY_MODEL_636bb0e837b442aa956c7a48e7dae157",
              "IPY_MODEL_2d5ea04c08984f5995d3c89fdadcd68a"
            ],
            "layout": "IPY_MODEL_8e62d873662b410da944ea4649887965"
          }
        },
        "f45004a065af489f9064b332929dc960": {
          "model_module": "@jupyter-widgets/base",
          "model_module_version": "1.2.0",
          "model_name": "LayoutModel",
          "state": {
            "_model_module": "@jupyter-widgets/base",
            "_model_module_version": "1.2.0",
            "_model_name": "LayoutModel",
            "_view_count": null,
            "_view_module": "@jupyter-widgets/base",
            "_view_module_version": "1.2.0",
            "_view_name": "LayoutView",
            "align_content": null,
            "align_items": null,
            "align_self": null,
            "border": null,
            "bottom": null,
            "display": null,
            "flex": null,
            "flex_flow": null,
            "grid_area": null,
            "grid_auto_columns": null,
            "grid_auto_flow": null,
            "grid_auto_rows": null,
            "grid_column": null,
            "grid_gap": null,
            "grid_row": null,
            "grid_template_areas": null,
            "grid_template_columns": null,
            "grid_template_rows": null,
            "height": null,
            "justify_content": null,
            "justify_items": null,
            "left": null,
            "margin": null,
            "max_height": null,
            "max_width": null,
            "min_height": null,
            "min_width": null,
            "object_fit": null,
            "object_position": null,
            "order": null,
            "overflow": null,
            "overflow_x": null,
            "overflow_y": null,
            "padding": null,
            "right": null,
            "top": null,
            "visibility": null,
            "width": null
          }
        },
        "fdf217d87c3e43e99a25306f6d8d35df": {
          "model_module": "@jupyter-widgets/controls",
          "model_module_version": "1.5.0",
          "model_name": "DescriptionStyleModel",
          "state": {
            "_model_module": "@jupyter-widgets/controls",
            "_model_module_version": "1.5.0",
            "_model_name": "DescriptionStyleModel",
            "_view_count": null,
            "_view_module": "@jupyter-widgets/base",
            "_view_module_version": "1.2.0",
            "_view_name": "StyleView",
            "description_width": ""
          }
        }
      }
    }
  },
  "nbformat": 4,
  "nbformat_minor": 5
}
