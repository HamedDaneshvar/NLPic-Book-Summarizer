{
 "cells": [
  {
   "cell_type": "markdown",
   "id": "6b22deea-4b31-4c54-9df5-5e32da028007",
   "metadata": {},
   "source": [
    "# Step 1: Data Preprocessing and EDA"
   ]
  },
  {
   "cell_type": "code",
   "execution_count": 1,
   "id": "1b8fe963-07d9-4f12-bba0-e3bb9d7504f6",
   "metadata": {},
   "outputs": [],
   "source": [
    "# Import libraries\n",
    "import re\n",
    "import json\n",
    "import string\n",
    "from tqdm import tqdm\n",
    "from collections import Counter\n",
    "import pandas as pd\n",
    "import numpy as np\n",
    "import matplotlib.pyplot as plt\n",
    "from nltk.corpus import stopwords"
   ]
  },
  {
   "cell_type": "markdown",
   "id": "d6d5e8df-6a83-49ee-b0d7-4c3717ccb78d",
   "metadata": {},
   "source": [
    "## Load dataset"
   ]
  },
  {
   "cell_type": "code",
   "execution_count": 2,
   "id": "47a010e4-8a9c-4b47-a4a9-aea5dcbb0624",
   "metadata": {},
   "outputs": [],
   "source": [
    "# header for dataset\n",
    "header = ['Wikipedia article ID', 'Freebase ID', 'Book title', 'Author',\n",
    "          'Publication date', 'Book genres (Freebase ID:name tuples)',\n",
    "          'Plot summary']\n",
    "\n",
    "# Load dataset from text file\n",
    "data = pd.read_csv('booksummaries.txt', sep='\\t', header=None,\n",
    "                   names=header, encoding='utf-8')"
   ]
  },
  {
   "cell_type": "code",
   "execution_count": 3,
   "id": "9743faea-f696-427c-93e8-700c17ea30cc",
   "metadata": {},
   "outputs": [
    {
     "data": {
      "text/html": [
       "<div>\n",
       "<style scoped>\n",
       "    .dataframe tbody tr th:only-of-type {\n",
       "        vertical-align: middle;\n",
       "    }\n",
       "\n",
       "    .dataframe tbody tr th {\n",
       "        vertical-align: top;\n",
       "    }\n",
       "\n",
       "    .dataframe thead th {\n",
       "        text-align: right;\n",
       "    }\n",
       "</style>\n",
       "<table border=\"1\" class=\"dataframe\">\n",
       "  <thead>\n",
       "    <tr style=\"text-align: right;\">\n",
       "      <th></th>\n",
       "      <th>Wikipedia article ID</th>\n",
       "      <th>Freebase ID</th>\n",
       "      <th>Book title</th>\n",
       "      <th>Author</th>\n",
       "      <th>Publication date</th>\n",
       "      <th>Book genres (Freebase ID:name tuples)</th>\n",
       "      <th>Plot summary</th>\n",
       "    </tr>\n",
       "  </thead>\n",
       "  <tbody>\n",
       "    <tr>\n",
       "      <th>0</th>\n",
       "      <td>620</td>\n",
       "      <td>/m/0hhy</td>\n",
       "      <td>Animal Farm</td>\n",
       "      <td>George Orwell</td>\n",
       "      <td>1945-08-17</td>\n",
       "      <td>{\"/m/016lj8\": \"Roman \\u00e0 clef\", \"/m/06nbt\":...</td>\n",
       "      <td>Old Major, the old boar on the Manor Farm, ca...</td>\n",
       "    </tr>\n",
       "    <tr>\n",
       "      <th>1</th>\n",
       "      <td>843</td>\n",
       "      <td>/m/0k36</td>\n",
       "      <td>A Clockwork Orange</td>\n",
       "      <td>Anthony Burgess</td>\n",
       "      <td>1962</td>\n",
       "      <td>{\"/m/06n90\": \"Science Fiction\", \"/m/0l67h\": \"N...</td>\n",
       "      <td>Alex, a teenager living in near-future Englan...</td>\n",
       "    </tr>\n",
       "    <tr>\n",
       "      <th>2</th>\n",
       "      <td>986</td>\n",
       "      <td>/m/0ldx</td>\n",
       "      <td>The Plague</td>\n",
       "      <td>Albert Camus</td>\n",
       "      <td>1947</td>\n",
       "      <td>{\"/m/02m4t\": \"Existentialism\", \"/m/02xlf\": \"Fi...</td>\n",
       "      <td>The text of The Plague is divided into five p...</td>\n",
       "    </tr>\n",
       "    <tr>\n",
       "      <th>3</th>\n",
       "      <td>1756</td>\n",
       "      <td>/m/0sww</td>\n",
       "      <td>An Enquiry Concerning Human Understanding</td>\n",
       "      <td>David Hume</td>\n",
       "      <td>NaN</td>\n",
       "      <td>NaN</td>\n",
       "      <td>The argument of the Enquiry proceeds by a ser...</td>\n",
       "    </tr>\n",
       "    <tr>\n",
       "      <th>4</th>\n",
       "      <td>2080</td>\n",
       "      <td>/m/0wkt</td>\n",
       "      <td>A Fire Upon the Deep</td>\n",
       "      <td>Vernor Vinge</td>\n",
       "      <td>NaN</td>\n",
       "      <td>{\"/m/03lrw\": \"Hard science fiction\", \"/m/06n90...</td>\n",
       "      <td>The novel posits that space around the Milky ...</td>\n",
       "    </tr>\n",
       "  </tbody>\n",
       "</table>\n",
       "</div>"
      ],
      "text/plain": [
       "   Wikipedia article ID Freebase ID  \\\n",
       "0                   620     /m/0hhy   \n",
       "1                   843     /m/0k36   \n",
       "2                   986     /m/0ldx   \n",
       "3                  1756     /m/0sww   \n",
       "4                  2080     /m/0wkt   \n",
       "\n",
       "                                  Book title           Author  \\\n",
       "0                                Animal Farm    George Orwell   \n",
       "1                         A Clockwork Orange  Anthony Burgess   \n",
       "2                                 The Plague     Albert Camus   \n",
       "3  An Enquiry Concerning Human Understanding       David Hume   \n",
       "4                       A Fire Upon the Deep     Vernor Vinge   \n",
       "\n",
       "  Publication date              Book genres (Freebase ID:name tuples)  \\\n",
       "0       1945-08-17  {\"/m/016lj8\": \"Roman \\u00e0 clef\", \"/m/06nbt\":...   \n",
       "1             1962  {\"/m/06n90\": \"Science Fiction\", \"/m/0l67h\": \"N...   \n",
       "2             1947  {\"/m/02m4t\": \"Existentialism\", \"/m/02xlf\": \"Fi...   \n",
       "3              NaN                                                NaN   \n",
       "4              NaN  {\"/m/03lrw\": \"Hard science fiction\", \"/m/06n90...   \n",
       "\n",
       "                                        Plot summary  \n",
       "0   Old Major, the old boar on the Manor Farm, ca...  \n",
       "1   Alex, a teenager living in near-future Englan...  \n",
       "2   The text of The Plague is divided into five p...  \n",
       "3   The argument of the Enquiry proceeds by a ser...  \n",
       "4   The novel posits that space around the Milky ...  "
      ]
     },
     "execution_count": 3,
     "metadata": {},
     "output_type": "execute_result"
    }
   ],
   "source": [
    "# Display sample of data\n",
    "data.head()"
   ]
  },
  {
   "cell_type": "code",
   "execution_count": 4,
   "id": "167af01c-2597-4df3-9d58-937cd1fea5cb",
   "metadata": {},
   "outputs": [
    {
     "name": "stdout",
     "output_type": "stream",
     "text": [
      "Shape of dataset: (16559, 7)\n"
     ]
    }
   ],
   "source": [
    "# Display shape of data\n",
    "print(f\"Shape of dataset: {data.shape}\")"
   ]
  },
  {
   "cell_type": "markdown",
   "id": "0704074c",
   "metadata": {},
   "source": [
    "## Preprocess Section"
   ]
  },
  {
   "cell_type": "code",
   "execution_count": 5,
   "id": "406eea7d-def3-4ff8-8b9d-19bce70594b2",
   "metadata": {},
   "outputs": [],
   "source": [
    "# # Drop \"Freebase ID\" column cuase that values are unique and useless\n",
    "data = data.drop(\"Wikipedia article ID\", axis=1)\n",
    "data = data.drop(\"Freebase ID\", axis=1)\n",
    "\n",
    "# Add \"Index\" column by reset it\n",
    "data = data.reset_index()\n",
    "data.rename(columns={'index': 'Index'}, inplace=True)"
   ]
  },
  {
   "cell_type": "code",
   "execution_count": 6,
   "id": "9b85b5e0-293f-439d-9c66-e729f963e2b8",
   "metadata": {},
   "outputs": [
    {
     "name": "stderr",
     "output_type": "stream",
     "text": [
      "100%|█████████████████████████████████████████████████████████████████████████| 16559/16559 [00:01<00:00, 15254.45it/s]\n"
     ]
    }
   ],
   "source": [
    "# convert all genres values into tuple\n",
    "for i in tqdm(range(len(data))):\n",
    "    try:\n",
    "        genres_dict = json.loads(data.loc[i, 'Book genres (Freebase ID:name tuples)'])\n",
    "        if isinstance(genres_dict, dict):\n",
    "            data.at[i, 'Book genres (Freebase ID:name tuples)'] = tuple(genres_dict.values())\n",
    "        else:\n",
    "            data.at[i, 'Book genres (Freebase ID:name tuples)'] = np.nan\n",
    "    except (TypeError, json.JSONDecodeError):  # Handle NaN values and JSON decoding errors\n",
    "        continue\n",
    "\n",
    "data.rename(columns={'Book genres (Freebase ID:name tuples)': 'Book genres'}, inplace=True)"
   ]
  },
  {
   "cell_type": "code",
   "execution_count": 7,
   "id": "9bd2aef2-83a1-4561-85ef-1b9119a66d51",
   "metadata": {},
   "outputs": [],
   "source": [
    "def extract_year(pub_date):\n",
    "    \"\"\"\n",
    "    Convert publication date to just the year\n",
    "    (if it's in YYYY-MM-DD format)\n",
    "    \"\"\"\n",
    "    if isinstance(pub_date, str) and '-' in pub_date:\n",
    "        return pd.to_datetime(pub_date, errors='coerce').year\n",
    "    return int(pub_date) if isinstance(pub_date, str) and pub_date.isdigit()\\\n",
    "        else np.nan\n",
    "\n",
    "data['Publication year'] = data['Publication date'].apply(extract_year)"
   ]
  },
  {
   "cell_type": "code",
   "execution_count": 8,
   "id": "91db9148-70be-4e04-b09b-69cd2b76661a",
   "metadata": {},
   "outputs": [
    {
     "name": "stdout",
     "output_type": "stream",
     "text": [
      "Number of duplicate rows: 8\n"
     ]
    }
   ],
   "source": [
    "# Remove duplicate rows\n",
    "# Check for duplicates based on a unique identifier or key columns\n",
    "duplicates = data.duplicated(subset=['Book title', 'Author'], keep='first')\n",
    "print(f\"Number of duplicate rows: {duplicates.sum()}\")\n",
    "\n",
    "# # Drop duplicates\n",
    "data = data.drop_duplicates(subset=['Book title', 'Author'], keep='first')"
   ]
  },
  {
   "cell_type": "code",
   "execution_count": 9,
   "id": "438fa69a-60cf-4f6e-8438-3f80ffb63050",
   "metadata": {},
   "outputs": [],
   "source": [
    "# text cleaning\n",
    "# if get an error for this line, you must use `nltk.download()`\n",
    "# command and download stopwords\n",
    "stop_words = set(stopwords.words('english'))\n",
    "\n",
    "def clean_text(text):\n",
    "    # Convert to lowercase\n",
    "    text = text.lower()\n",
    "    # Remove punctuation\n",
    "    text = text.translate(str.maketrans('', '', string.punctuation))\n",
    "    # Remove numbers\n",
    "    text = re.sub(r'\\d+', '', text)\n",
    "    # Remove extra whitespace\n",
    "    text = re.sub(r'\\s+', ' ', text)\n",
    "    # Remove special characters\n",
    "    text = re.sub(r'[^\\w\\s]', '', text)\n",
    "    # Remove stop words\n",
    "    text = ' '.join([word for word in text.split() if word not in stop_words])\n",
    "    # Remove extra  before and after whitespace\n",
    "    text = text.strip()\n",
    "    return text\n",
    "\n",
    "data['Cleaned Summary'] = data['Plot summary'].apply(clean_text)"
   ]
  },
  {
   "cell_type": "code",
   "execution_count": 10,
   "id": "c00c405c-beca-4349-9d38-50fae7d05067",
   "metadata": {},
   "outputs": [
    {
     "name": "stdout",
     "output_type": "stream",
     "text": [
      "Number of outliers in Summary Length: 953\n"
     ]
    }
   ],
   "source": [
    "# summary length\n",
    "data['Summary Length'] = data['Cleaned Summary']\\\n",
    "    .apply(lambda x: len(x.split()))\n",
    "\n",
    "# Detect outliers in Summary_Length\n",
    "Q1 = data['Summary Length'].quantile(0.25)\n",
    "Q3 = data['Summary Length'].quantile(0.75)\n",
    "IQR = Q3 - Q1\n",
    "lower_bound = Q1 - 1.5 * IQR\n",
    "upper_bound = Q3 + 1.5 * IQR\n",
    "\n",
    "outliers = data[(data['Summary Length'] < lower_bound) |\n",
    "                (data['Summary Length'] > upper_bound)]\n",
    "print(f\"Number of outliers in Summary Length: {outliers.shape[0]}\")\n",
    "\n",
    "# Remove outliers\n",
    "data = data[(data['Summary Length'] >= lower_bound) &\n",
    "            (data['Summary Length'] <= upper_bound)]"
   ]
  },
  {
   "cell_type": "code",
   "execution_count": 12,
   "id": "b727b28a-e270-4f60-b269-84acb2f60e30",
   "metadata": {},
   "outputs": [],
   "source": [
    "# Fill Author missing values with 'Unknown' because\n",
    "# We cannot put anyone's book under the name of another author\n",
    "data['Author'].fillna('Unknown', inplace=True)"
   ]
  },
  {
   "cell_type": "code",
   "execution_count": 13,
   "id": "da9756b6-261f-4b57-ac36-f89b0926ea97",
   "metadata": {},
   "outputs": [
    {
     "name": "stderr",
     "output_type": "stream",
     "text": [
      "100%|█████████████████████████████████████████████████████████████████████████████| 4553/4553 [00:13<00:00, 341.27it/s]\n"
     ]
    }
   ],
   "source": [
    "# Fill missing values book generes based of other author's book\n",
    "# this section of code is not good and fix just 2 rows:)))\n",
    "\n",
    "\n",
    "def fill_missing_genres(df, num_modes):\n",
    "    for author, group in tqdm(df.groupby('Author')):\n",
    "        if author != 'Unknown':\n",
    "            genres = [genre for genres in group['Book genres'] if\n",
    "                      isinstance(genres, tuple) for genre in genres]\n",
    "            if genres:\n",
    "                mode_genres = [genre for genre, _ in Counter(genres)\n",
    "                               .most_common(num_modes)]\n",
    "                # We do this because normaly can't assign tuple\n",
    "                # and we get an error\n",
    "                if len(df.loc[(df['Author'] == author) &\n",
    "                       (df['Book genres'].isnull()), 'Book genres']) > 0:\n",
    "                    for i in data.loc[(data['Author'] == 'Aaron Allston') &\n",
    "                                      (data['Book genres'].isnull()),\n",
    "                                      'Index'].values:\n",
    "                        df.at[i, 'Book genres'] = tuple(mode_genres)\n",
    "\n",
    "    return df\n",
    "\n",
    "\n",
    "# Fill missing genres based on author with the 5 most common genres\n",
    "data = fill_missing_genres(data, 5)"
   ]
  },
  {
   "cell_type": "code",
   "execution_count": 14,
   "id": "c498202d-13ec-4930-bb8b-434c134769c3",
   "metadata": {},
   "outputs": [
    {
     "data": {
      "image/png": "[encoded data removed]",
      "text/plain": [
       "<Figure size 432x288 with 1 Axes>"
      ]
     },
     "metadata": {
      "needs_background": "light"
     },
     "output_type": "display_data"
    }
   ],
   "source": [
    "# Plot a histogram to find out median is better for 'Publication year' or mode\n",
    "median = data['Publication year'].median()\n",
    "mode = data['Publication year'].mode()[0]\n",
    "mean = int(data['Publication year'].mean())\n",
    "\n",
    "plt.hist(data['Publication year'], bins=10, color='skyblue', edgecolor='black')\n",
    "plt.xlabel('Values')\n",
    "plt.ylabel('Frequency')\n",
    "plt.title('Histogram of Data')\n",
    "\n",
    "# Add markers for median and mode\n",
    "plt.axvline(median, color='r', linestyle='dashed',\n",
    "            linewidth=1, label=f'Median: {median}')\n",
    "plt.axvline(mode, color='g', linestyle='dashed',\n",
    "            linewidth=1, label=f'Mode: {mode}')\n",
    "plt.axhline(mean, color='b', linestyle='dashed',\n",
    "            linewidth=1, label=f'Mean: {mean}')\n",
    "plt.xlim(1800, data['Publication year'].max())\n",
    "\n",
    "plt.legend()\n",
    "plt.show()"
   ]
  },
  {
   "cell_type": "code",
   "execution_count": 15,
   "id": "698387fc-3789-43d9-8c54-abb71cacd716",
   "metadata": {},
   "outputs": [
    {
     "data": {
      "image/png": "[encoded data removed]",
      "text/plain": [
       "<Figure size 720x432 with 1 Axes>"
      ]
     },
     "metadata": {
      "needs_background": "light"
     },
     "output_type": "display_data"
    }
   ],
   "source": [
    "# Calculate the frequency of each value\n",
    "value_counts = data['Publication year'].value_counts()\n",
    "\n",
    "# Get the top 10 most frequent values\n",
    "top_values = value_counts.head(10)\n",
    "\n",
    "# Plot a bar plot for the top 10 most frequent values\n",
    "plt.figure(figsize=(10, 6))\n",
    "top_values.plot(kind='bar', color='skyblue')\n",
    "plt.xlabel('Values')\n",
    "plt.ylabel('Frequency')\n",
    "plt.title('Top 10 Most Frequent Values')\n",
    "plt.xticks(rotation=45)\n",
    "plt.show()"
   ]
  },
  {
   "cell_type": "code",
   "execution_count": 16,
   "id": "b52ebd20-b685-4e68-92e5-26bbe602f744",
   "metadata": {},
   "outputs": [],
   "source": [
    "# fill Publication Year and Publication date missing value\n",
    "# with mode of data based on Top 10 values plot\n",
    "mean_year = int(data['Publication year'].mode()[0])\n",
    "data['Publication year'].fillna(mean_year, inplace=True)\n",
    "data['Publication date'].fillna(mean_year, inplace=True)"
   ]
  },
  {
   "cell_type": "code",
   "execution_count": 17,
   "id": "f2913723-2028-41df-a163-583c8f832981",
   "metadata": {},
   "outputs": [],
   "source": [
    "# We can use \"Title-Based\" method or Pre-Trained NLP Model\n",
    "# for Genre Prediction but in this step ignore this method\n",
    "# and just set this missing value genre with \"Unknown\" value\n",
    "data['Book genres'].fillna(\"Unknown\", inplace=True)"
   ]
  },
  {
   "cell_type": "code",
   "execution_count": 18,
   "id": "33383136-9ef5-4c32-8dae-4f1cace6d271",
   "metadata": {},
   "outputs": [
    {
     "name": "stdout",
     "output_type": "stream",
     "text": [
      "Index               0\n",
      "Book title          0\n",
      "Author              0\n",
      "Publication date    0\n",
      "Book genres         0\n",
      "Plot summary        0\n",
      "Publication year    0\n",
      "Cleaned Summary     0\n",
      "Summary Length      0\n",
      "dtype: int64\n"
     ]
    }
   ],
   "source": [
    "# Check the Nan value of all columns\n",
    "print(data.isna().sum())"
   ]
  },
  {
   "cell_type": "markdown",
   "id": "9e03d044-a82f-47e6-b45d-645ce00ce471",
   "metadata": {},
   "source": [
    "## EDA section"
   ]
  }
 ],
 "metadata": {
  "kernelspec": {
   "display_name": "Python 3",
   "language": "python",
   "name": "python3"
  },
  "language_info": {
   "codemirror_mode": {
    "name": "ipython",
    "version": 3
   },
   "file_extension": ".py",
   "mimetype": "text/x-python",
   "name": "python",
   "nbconvert_exporter": "python",
   "pygments_lexer": "ipython3",
   "version": "3.9.1"
  }
 },
 "nbformat": 4,
 "nbformat_minor": 5
}
